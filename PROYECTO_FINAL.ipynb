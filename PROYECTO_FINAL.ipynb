{
  "cells": [
    {
      "cell_type": "markdown",
      "source": [
        "PILAR ARIAS, ÁLVARO GARCÍA CID, YEDRA MARTÍN, AMAYA SARASA\n",
        "\n",
        "<GRUPO 7>"
      ],
      "metadata": {
        "id": "-N8Vmt0WI0A2"
      },
      "id": "-N8Vmt0WI0A2"
    },
    {
      "cell_type": "markdown",
      "source": [
        "#INTRODUCCIÓN"
      ],
      "metadata": {
        "id": "dB3u7gbrKxAG"
      },
      "id": "dB3u7gbrKxAG"
    },
    {
      "cell_type": "markdown",
      "source": [
        "En este proyecto se va a proceder a realizar un proyecto de creación de una red neuronal que nos permita solucionar un problema de regresión.\n",
        "\n",
        "Para tomar el tema sobre el cual va a tratar este proyecto se ha decidido buscar un tema que en la actualidad pueda resultar útil. Por ello, debido al auge de la tecnología en nuestro día a día se ha considerado que un buen problema sería realizar una predicción acerca de la duración de la batería de un móvil, en función de diversos datos."
      ],
      "metadata": {
        "id": "3imp8nVbJBtq"
      },
      "id": "3imp8nVbJBtq"
    },
    {
      "cell_type": "markdown",
      "source": [
        "Se importa keras"
      ],
      "metadata": {
        "id": "bDT0rPR_LG-l"
      },
      "id": "bDT0rPR_LG-l"
    },
    {
      "cell_type": "code",
      "execution_count": null,
      "id": "5567306c",
      "metadata": {
        "colab": {
          "base_uri": "https://localhost:8080/",
          "height": 36
        },
        "id": "5567306c",
        "outputId": "30e916f4-8d5e-46a5-aaf5-4262874d0a2d"
      },
      "outputs": [
        {
          "output_type": "execute_result",
          "data": {
            "text/plain": [
              "'2.9.0'"
            ],
            "application/vnd.google.colaboratory.intrinsic+json": {
              "type": "string"
            }
          },
          "metadata": {},
          "execution_count": 1
        }
      ],
      "source": [
        "import keras\n",
        "keras.__version__"
      ]
    },
    {
      "cell_type": "markdown",
      "source": [
        "# Prediciendo la duración de la batería de un movil\n",
        "Vamos a predecir la duración de la batería de un teléfono movil dados algunos datos como los píxeles de la cámara, si tiene o no conexión wifi, la cantidad de cores del procesador, etc. \n",
        "\n",
        "El conjunto de datos tiene un total de 2000 datos, que dividiremos entre 1750 de entrenamiento (de los cuales 500 serán para validación) y 250 de test. Las 21 carácaterísticas en los datos de entrada (por ejemplo, si tiene o no v) es una característica que tiene una escala diferente. Por ejemplo, algunos valores son proporciones, que toman valores entre 0 y 1, otros toman valores entre 1 y 12, otros entre 0 y 100 ...\n",
        "\n"
      ],
      "metadata": {
        "id": "VxtiL4ISC1UK"
      },
      "id": "VxtiL4ISC1UK"
    },
    {
      "cell_type": "code",
      "source": [
        "import pandas as pd\n",
        "datos=pd.read_csv('train.csv',encoding='latin-1')\n",
        "datos.head()"
      ],
      "metadata": {
        "id": "Zg6ggG0rFVQb",
        "outputId": "646636c3-8e6d-49ba-cc95-e086480069b8",
        "colab": {
          "base_uri": "https://localhost:8080/",
          "height": 235
        }
      },
      "id": "Zg6ggG0rFVQb",
      "execution_count": 44,
      "outputs": [
        {
          "output_type": "execute_result",
          "data": {
            "text/plain": [
              "   battery_power  blue  clock_speed  dual_sim  fc  four_g  int_memory  m_dep  \\\n",
              "0            842     0          2.2         0   1       0           7    0.6   \n",
              "1           1021     1          0.5         1   0       1          53    0.7   \n",
              "2            563     1          0.5         1   2       1          41    0.9   \n",
              "3            615     1          2.5         0   0       0          10    0.8   \n",
              "4           1821     1          1.2         0  13       1          44    0.6   \n",
              "\n",
              "   mobile_wt  n_cores  ...  px_height  px_width   ram  sc_h  sc_w  talk_time  \\\n",
              "0        188        2  ...         20       756  2549     9     7         19   \n",
              "1        136        3  ...        905      1988  2631    17     3          7   \n",
              "2        145        5  ...       1263      1716  2603    11     2          9   \n",
              "3        131        6  ...       1216      1786  2769    16     8         11   \n",
              "4        141        2  ...       1208      1212  1411     8     2         15   \n",
              "\n",
              "   three_g  touch_screen  wifi  price_range  \n",
              "0        0             0     1            1  \n",
              "1        1             1     0            2  \n",
              "2        1             1     0            2  \n",
              "3        1             0     0            2  \n",
              "4        1             1     0            1  \n",
              "\n",
              "[5 rows x 21 columns]"
            ],
            "text/html": [
              "\n",
              "  <div id=\"df-f8851b86-43d1-4195-a0ac-42b4313423ff\">\n",
              "    <div class=\"colab-df-container\">\n",
              "      <div>\n",
              "<style scoped>\n",
              "    .dataframe tbody tr th:only-of-type {\n",
              "        vertical-align: middle;\n",
              "    }\n",
              "\n",
              "    .dataframe tbody tr th {\n",
              "        vertical-align: top;\n",
              "    }\n",
              "\n",
              "    .dataframe thead th {\n",
              "        text-align: right;\n",
              "    }\n",
              "</style>\n",
              "<table border=\"1\" class=\"dataframe\">\n",
              "  <thead>\n",
              "    <tr style=\"text-align: right;\">\n",
              "      <th></th>\n",
              "      <th>battery_power</th>\n",
              "      <th>blue</th>\n",
              "      <th>clock_speed</th>\n",
              "      <th>dual_sim</th>\n",
              "      <th>fc</th>\n",
              "      <th>four_g</th>\n",
              "      <th>int_memory</th>\n",
              "      <th>m_dep</th>\n",
              "      <th>mobile_wt</th>\n",
              "      <th>n_cores</th>\n",
              "      <th>...</th>\n",
              "      <th>px_height</th>\n",
              "      <th>px_width</th>\n",
              "      <th>ram</th>\n",
              "      <th>sc_h</th>\n",
              "      <th>sc_w</th>\n",
              "      <th>talk_time</th>\n",
              "      <th>three_g</th>\n",
              "      <th>touch_screen</th>\n",
              "      <th>wifi</th>\n",
              "      <th>price_range</th>\n",
              "    </tr>\n",
              "  </thead>\n",
              "  <tbody>\n",
              "    <tr>\n",
              "      <th>0</th>\n",
              "      <td>842</td>\n",
              "      <td>0</td>\n",
              "      <td>2.2</td>\n",
              "      <td>0</td>\n",
              "      <td>1</td>\n",
              "      <td>0</td>\n",
              "      <td>7</td>\n",
              "      <td>0.6</td>\n",
              "      <td>188</td>\n",
              "      <td>2</td>\n",
              "      <td>...</td>\n",
              "      <td>20</td>\n",
              "      <td>756</td>\n",
              "      <td>2549</td>\n",
              "      <td>9</td>\n",
              "      <td>7</td>\n",
              "      <td>19</td>\n",
              "      <td>0</td>\n",
              "      <td>0</td>\n",
              "      <td>1</td>\n",
              "      <td>1</td>\n",
              "    </tr>\n",
              "    <tr>\n",
              "      <th>1</th>\n",
              "      <td>1021</td>\n",
              "      <td>1</td>\n",
              "      <td>0.5</td>\n",
              "      <td>1</td>\n",
              "      <td>0</td>\n",
              "      <td>1</td>\n",
              "      <td>53</td>\n",
              "      <td>0.7</td>\n",
              "      <td>136</td>\n",
              "      <td>3</td>\n",
              "      <td>...</td>\n",
              "      <td>905</td>\n",
              "      <td>1988</td>\n",
              "      <td>2631</td>\n",
              "      <td>17</td>\n",
              "      <td>3</td>\n",
              "      <td>7</td>\n",
              "      <td>1</td>\n",
              "      <td>1</td>\n",
              "      <td>0</td>\n",
              "      <td>2</td>\n",
              "    </tr>\n",
              "    <tr>\n",
              "      <th>2</th>\n",
              "      <td>563</td>\n",
              "      <td>1</td>\n",
              "      <td>0.5</td>\n",
              "      <td>1</td>\n",
              "      <td>2</td>\n",
              "      <td>1</td>\n",
              "      <td>41</td>\n",
              "      <td>0.9</td>\n",
              "      <td>145</td>\n",
              "      <td>5</td>\n",
              "      <td>...</td>\n",
              "      <td>1263</td>\n",
              "      <td>1716</td>\n",
              "      <td>2603</td>\n",
              "      <td>11</td>\n",
              "      <td>2</td>\n",
              "      <td>9</td>\n",
              "      <td>1</td>\n",
              "      <td>1</td>\n",
              "      <td>0</td>\n",
              "      <td>2</td>\n",
              "    </tr>\n",
              "    <tr>\n",
              "      <th>3</th>\n",
              "      <td>615</td>\n",
              "      <td>1</td>\n",
              "      <td>2.5</td>\n",
              "      <td>0</td>\n",
              "      <td>0</td>\n",
              "      <td>0</td>\n",
              "      <td>10</td>\n",
              "      <td>0.8</td>\n",
              "      <td>131</td>\n",
              "      <td>6</td>\n",
              "      <td>...</td>\n",
              "      <td>1216</td>\n",
              "      <td>1786</td>\n",
              "      <td>2769</td>\n",
              "      <td>16</td>\n",
              "      <td>8</td>\n",
              "      <td>11</td>\n",
              "      <td>1</td>\n",
              "      <td>0</td>\n",
              "      <td>0</td>\n",
              "      <td>2</td>\n",
              "    </tr>\n",
              "    <tr>\n",
              "      <th>4</th>\n",
              "      <td>1821</td>\n",
              "      <td>1</td>\n",
              "      <td>1.2</td>\n",
              "      <td>0</td>\n",
              "      <td>13</td>\n",
              "      <td>1</td>\n",
              "      <td>44</td>\n",
              "      <td>0.6</td>\n",
              "      <td>141</td>\n",
              "      <td>2</td>\n",
              "      <td>...</td>\n",
              "      <td>1208</td>\n",
              "      <td>1212</td>\n",
              "      <td>1411</td>\n",
              "      <td>8</td>\n",
              "      <td>2</td>\n",
              "      <td>15</td>\n",
              "      <td>1</td>\n",
              "      <td>1</td>\n",
              "      <td>0</td>\n",
              "      <td>1</td>\n",
              "    </tr>\n",
              "  </tbody>\n",
              "</table>\n",
              "<p>5 rows × 21 columns</p>\n",
              "</div>\n",
              "      <button class=\"colab-df-convert\" onclick=\"convertToInteractive('df-f8851b86-43d1-4195-a0ac-42b4313423ff')\"\n",
              "              title=\"Convert this dataframe to an interactive table.\"\n",
              "              style=\"display:none;\">\n",
              "        \n",
              "  <svg xmlns=\"http://www.w3.org/2000/svg\" height=\"24px\"viewBox=\"0 0 24 24\"\n",
              "       width=\"24px\">\n",
              "    <path d=\"M0 0h24v24H0V0z\" fill=\"none\"/>\n",
              "    <path d=\"M18.56 5.44l.94 2.06.94-2.06 2.06-.94-2.06-.94-.94-2.06-.94 2.06-2.06.94zm-11 1L8.5 8.5l.94-2.06 2.06-.94-2.06-.94L8.5 2.5l-.94 2.06-2.06.94zm10 10l.94 2.06.94-2.06 2.06-.94-2.06-.94-.94-2.06-.94 2.06-2.06.94z\"/><path d=\"M17.41 7.96l-1.37-1.37c-.4-.4-.92-.59-1.43-.59-.52 0-1.04.2-1.43.59L10.3 9.45l-7.72 7.72c-.78.78-.78 2.05 0 2.83L4 21.41c.39.39.9.59 1.41.59.51 0 1.02-.2 1.41-.59l7.78-7.78 2.81-2.81c.8-.78.8-2.07 0-2.86zM5.41 20L4 18.59l7.72-7.72 1.47 1.35L5.41 20z\"/>\n",
              "  </svg>\n",
              "      </button>\n",
              "      \n",
              "  <style>\n",
              "    .colab-df-container {\n",
              "      display:flex;\n",
              "      flex-wrap:wrap;\n",
              "      gap: 12px;\n",
              "    }\n",
              "\n",
              "    .colab-df-convert {\n",
              "      background-color: #E8F0FE;\n",
              "      border: none;\n",
              "      border-radius: 50%;\n",
              "      cursor: pointer;\n",
              "      display: none;\n",
              "      fill: #1967D2;\n",
              "      height: 32px;\n",
              "      padding: 0 0 0 0;\n",
              "      width: 32px;\n",
              "    }\n",
              "\n",
              "    .colab-df-convert:hover {\n",
              "      background-color: #E2EBFA;\n",
              "      box-shadow: 0px 1px 2px rgba(60, 64, 67, 0.3), 0px 1px 3px 1px rgba(60, 64, 67, 0.15);\n",
              "      fill: #174EA6;\n",
              "    }\n",
              "\n",
              "    [theme=dark] .colab-df-convert {\n",
              "      background-color: #3B4455;\n",
              "      fill: #D2E3FC;\n",
              "    }\n",
              "\n",
              "    [theme=dark] .colab-df-convert:hover {\n",
              "      background-color: #434B5C;\n",
              "      box-shadow: 0px 1px 3px 1px rgba(0, 0, 0, 0.15);\n",
              "      filter: drop-shadow(0px 1px 2px rgba(0, 0, 0, 0.3));\n",
              "      fill: #FFFFFF;\n",
              "    }\n",
              "  </style>\n",
              "\n",
              "      <script>\n",
              "        const buttonEl =\n",
              "          document.querySelector('#df-f8851b86-43d1-4195-a0ac-42b4313423ff button.colab-df-convert');\n",
              "        buttonEl.style.display =\n",
              "          google.colab.kernel.accessAllowed ? 'block' : 'none';\n",
              "\n",
              "        async function convertToInteractive(key) {\n",
              "          const element = document.querySelector('#df-f8851b86-43d1-4195-a0ac-42b4313423ff');\n",
              "          const dataTable =\n",
              "            await google.colab.kernel.invokeFunction('convertToInteractive',\n",
              "                                                     [key], {});\n",
              "          if (!dataTable) return;\n",
              "\n",
              "          const docLinkHtml = 'Like what you see? Visit the ' +\n",
              "            '<a target=\"_blank\" href=https://colab.research.google.com/notebooks/data_table.ipynb>data table notebook</a>'\n",
              "            + ' to learn more about interactive tables.';\n",
              "          element.innerHTML = '';\n",
              "          dataTable['output_type'] = 'display_data';\n",
              "          await google.colab.output.renderOutput(dataTable, element);\n",
              "          const docLink = document.createElement('div');\n",
              "          docLink.innerHTML = docLinkHtml;\n",
              "          element.appendChild(docLink);\n",
              "        }\n",
              "      </script>\n",
              "    </div>\n",
              "  </div>\n",
              "  "
            ]
          },
          "metadata": {},
          "execution_count": 44
        }
      ]
    },
    {
      "cell_type": "markdown",
      "source": [
        "Comprobamos que se han importado correctamente, los 2000 datos con 21 características. "
      ],
      "metadata": {
        "id": "ZhYrtySvJEGQ"
      },
      "id": "ZhYrtySvJEGQ"
    },
    {
      "cell_type": "code",
      "source": [
        "datos.shape"
      ],
      "metadata": {
        "colab": {
          "base_uri": "https://localhost:8080/"
        },
        "id": "8sS4GX92G6J8",
        "outputId": "ff564854-c1cf-4f44-981d-26abd4a5f720"
      },
      "id": "8sS4GX92G6J8",
      "execution_count": 45,
      "outputs": [
        {
          "output_type": "execute_result",
          "data": {
            "text/plain": [
              "(2000, 21)"
            ]
          },
          "metadata": {},
          "execution_count": 45
        }
      ]
    },
    {
      "cell_type": "markdown",
      "source": [
        "Separamos los datos en entrenamiento y test y sus correspondientes soluciones, que serán la característica 17 (talk_time) que según explicaba la página donde hemos tomado la base, es el tiempo que dura el móvil desde su última carga. \n"
      ],
      "metadata": {
        "id": "DSpyZcdxLscV"
      },
      "id": "DSpyZcdxLscV"
    },
    {
      "cell_type": "code",
      "source": [
        "labels=datos.talk_time\n",
        "labels.shape\n"
      ],
      "metadata": {
        "colab": {
          "base_uri": "https://localhost:8080/"
        },
        "id": "ywGEcHJ5ML-g",
        "outputId": "e0d19731-42c6-44c4-80a7-00e2cdc0336c"
      },
      "id": "ywGEcHJ5ML-g",
      "execution_count": 46,
      "outputs": [
        {
          "output_type": "execute_result",
          "data": {
            "text/plain": [
              "(2000,)"
            ]
          },
          "metadata": {},
          "execution_count": 46
        }
      ]
    },
    {
      "cell_type": "code",
      "source": [
        "datos=datos.drop(['talk_time'],axis=1)"
      ],
      "metadata": {
        "id": "dfR2rNJ-M-tu"
      },
      "id": "dfR2rNJ-M-tu",
      "execution_count": 47,
      "outputs": []
    },
    {
      "cell_type": "code",
      "source": [
        "datos.shape"
      ],
      "metadata": {
        "id": "NIMEjd5AFToE",
        "outputId": "464753dd-67b6-4848-e7ad-37d5946e4604",
        "colab": {
          "base_uri": "https://localhost:8080/"
        }
      },
      "id": "NIMEjd5AFToE",
      "execution_count": 48,
      "outputs": [
        {
          "output_type": "execute_result",
          "data": {
            "text/plain": [
              "(2000, 20)"
            ]
          },
          "metadata": {},
          "execution_count": 48
        }
      ]
    },
    {
      "cell_type": "code",
      "source": [
        "train_datos=datos[:1750]\n",
        "test_datos=datos[1751:]\n",
        "\n",
        "train_labels=labels[:1750]\n",
        "test_labels=labels[1751:]"
      ],
      "metadata": {
        "id": "GD_gBGXimN1C"
      },
      "id": "GD_gBGXimN1C",
      "execution_count": 49,
      "outputs": []
    },
    {
      "cell_type": "code",
      "source": [
        "train_datos"
      ],
      "metadata": {
        "id": "Yb6DWgpsHn6V",
        "outputId": "434847f9-e4d2-4dab-d324-73111900b7d7",
        "colab": {
          "base_uri": "https://localhost:8080/",
          "height": 488
        }
      },
      "id": "Yb6DWgpsHn6V",
      "execution_count": 57,
      "outputs": [
        {
          "output_type": "execute_result",
          "data": {
            "text/plain": [
              "      battery_power      blue  clock_speed  dual_sim        fc    four_g  \\\n",
              "0         -0.916707 -0.971548     0.824814 -1.019330 -0.766188 -1.048910   \n",
              "1         -0.508090  1.028697    -1.248020  0.980476 -0.994569  0.952826   \n",
              "2         -1.553603  1.028697    -1.248020  0.980476 -0.537806  0.952826   \n",
              "3         -1.434898  1.028697     1.190608 -1.019330 -0.994569 -1.048910   \n",
              "4          1.318135  1.028697    -0.394500 -1.019330  1.974391  0.952826   \n",
              "...             ...       ...          ...       ...       ...       ...   \n",
              "1745      -0.724954  1.028697    -0.882226 -1.019330  0.375720  0.952826   \n",
              "1746       0.039778 -0.971548    -1.248020 -1.019330 -0.309424  0.952826   \n",
              "1747      -1.428050 -0.971548    -0.516432 -1.019330  1.517628  0.952826   \n",
              "1748      -0.702126  1.028697     0.946745 -1.019330  0.147339  0.952826   \n",
              "1749       0.551121  1.028697    -0.760295  0.980476 -0.994569  0.952826   \n",
              "\n",
              "      int_memory     m_dep  mobile_wt   n_cores        pc  px_height  \\\n",
              "0      -1.393075  0.344853   1.329859 -1.089541 -1.300605  -1.411109   \n",
              "1       1.149321  0.692087  -0.141099 -0.655115 -0.642927   0.576946   \n",
              "2       0.486087  1.386555   0.113490  0.213738 -0.642927   1.381154   \n",
              "3      -1.227267  1.039321  -0.282537  0.648164 -0.149669   1.275574   \n",
              "4       0.651896  0.344853   0.000339 -1.089541  0.672428   1.257603   \n",
              "...          ...       ...        ...       ...       ...        ...   \n",
              "1745    1.480938  1.039321   0.566092  1.082591  0.672428  -1.267340   \n",
              "1746    1.094052 -0.696849  -1.555481 -1.089541 -0.149669  -0.096971   \n",
              "1747    0.707165 -1.044083   1.329859 -0.655115  1.658945   1.183472   \n",
              "1748    1.370399 -1.044083  -0.339112 -1.089541 -0.642927   0.019841   \n",
              "1749   -0.232416  1.039321   0.481229  0.213738 -1.465024  -0.622626   \n",
              "\n",
              "      px_width       ram      sc_h      sc_w   three_g  touch_screen  \\\n",
              "0    -1.156859  0.381544 -0.797901  0.272778 -1.795887     -1.005443   \n",
              "1     1.709056  0.456812  1.101540 -0.640395  0.556510      0.994018   \n",
              "2     1.076321  0.431111 -0.323041 -0.868689  0.556510      0.994018   \n",
              "3     1.239157  0.583482  0.864110  0.501071  0.556510     -1.005443   \n",
              "4    -0.096099 -0.663023 -1.035331 -0.868689  0.556510      0.994018   \n",
              "...        ...       ...       ...       ...       ...           ...   \n",
              "1745 -1.070789 -1.723195  1.338970  0.272778  0.556510     -1.005443   \n",
              "1746  0.408693 -0.705247 -0.797901 -0.640395  0.556510     -1.005443   \n",
              "1747  0.773911  0.188786  1.576400 -0.868689  0.556510      0.994018   \n",
              "1748 -0.733486 -0.077404 -0.085610  0.501071  0.556510      0.994018   \n",
              "1749 -0.535756  1.016730  0.389250  1.185951  0.556510      0.994018   \n",
              "\n",
              "          wifi  price_range  \n",
              "0     0.982721    -0.463261  \n",
              "1    -1.017002     0.435527  \n",
              "2    -1.017002     0.435527  \n",
              "3    -1.017002     0.435527  \n",
              "4    -1.017002    -0.463261  \n",
              "...        ...          ...  \n",
              "1745  0.982721    -1.362050  \n",
              "1746  0.982721    -0.463261  \n",
              "1747 -1.017002     0.435527  \n",
              "1748 -1.017002    -0.463261  \n",
              "1749 -1.017002     1.334316  \n",
              "\n",
              "[1750 rows x 20 columns]"
            ],
            "text/html": [
              "\n",
              "  <div id=\"df-0252ec29-de91-4f3e-ab06-28ae2a36d5de\">\n",
              "    <div class=\"colab-df-container\">\n",
              "      <div>\n",
              "<style scoped>\n",
              "    .dataframe tbody tr th:only-of-type {\n",
              "        vertical-align: middle;\n",
              "    }\n",
              "\n",
              "    .dataframe tbody tr th {\n",
              "        vertical-align: top;\n",
              "    }\n",
              "\n",
              "    .dataframe thead th {\n",
              "        text-align: right;\n",
              "    }\n",
              "</style>\n",
              "<table border=\"1\" class=\"dataframe\">\n",
              "  <thead>\n",
              "    <tr style=\"text-align: right;\">\n",
              "      <th></th>\n",
              "      <th>battery_power</th>\n",
              "      <th>blue</th>\n",
              "      <th>clock_speed</th>\n",
              "      <th>dual_sim</th>\n",
              "      <th>fc</th>\n",
              "      <th>four_g</th>\n",
              "      <th>int_memory</th>\n",
              "      <th>m_dep</th>\n",
              "      <th>mobile_wt</th>\n",
              "      <th>n_cores</th>\n",
              "      <th>pc</th>\n",
              "      <th>px_height</th>\n",
              "      <th>px_width</th>\n",
              "      <th>ram</th>\n",
              "      <th>sc_h</th>\n",
              "      <th>sc_w</th>\n",
              "      <th>three_g</th>\n",
              "      <th>touch_screen</th>\n",
              "      <th>wifi</th>\n",
              "      <th>price_range</th>\n",
              "    </tr>\n",
              "  </thead>\n",
              "  <tbody>\n",
              "    <tr>\n",
              "      <th>0</th>\n",
              "      <td>-0.916707</td>\n",
              "      <td>-0.971548</td>\n",
              "      <td>0.824814</td>\n",
              "      <td>-1.019330</td>\n",
              "      <td>-0.766188</td>\n",
              "      <td>-1.048910</td>\n",
              "      <td>-1.393075</td>\n",
              "      <td>0.344853</td>\n",
              "      <td>1.329859</td>\n",
              "      <td>-1.089541</td>\n",
              "      <td>-1.300605</td>\n",
              "      <td>-1.411109</td>\n",
              "      <td>-1.156859</td>\n",
              "      <td>0.381544</td>\n",
              "      <td>-0.797901</td>\n",
              "      <td>0.272778</td>\n",
              "      <td>-1.795887</td>\n",
              "      <td>-1.005443</td>\n",
              "      <td>0.982721</td>\n",
              "      <td>-0.463261</td>\n",
              "    </tr>\n",
              "    <tr>\n",
              "      <th>1</th>\n",
              "      <td>-0.508090</td>\n",
              "      <td>1.028697</td>\n",
              "      <td>-1.248020</td>\n",
              "      <td>0.980476</td>\n",
              "      <td>-0.994569</td>\n",
              "      <td>0.952826</td>\n",
              "      <td>1.149321</td>\n",
              "      <td>0.692087</td>\n",
              "      <td>-0.141099</td>\n",
              "      <td>-0.655115</td>\n",
              "      <td>-0.642927</td>\n",
              "      <td>0.576946</td>\n",
              "      <td>1.709056</td>\n",
              "      <td>0.456812</td>\n",
              "      <td>1.101540</td>\n",
              "      <td>-0.640395</td>\n",
              "      <td>0.556510</td>\n",
              "      <td>0.994018</td>\n",
              "      <td>-1.017002</td>\n",
              "      <td>0.435527</td>\n",
              "    </tr>\n",
              "    <tr>\n",
              "      <th>2</th>\n",
              "      <td>-1.553603</td>\n",
              "      <td>1.028697</td>\n",
              "      <td>-1.248020</td>\n",
              "      <td>0.980476</td>\n",
              "      <td>-0.537806</td>\n",
              "      <td>0.952826</td>\n",
              "      <td>0.486087</td>\n",
              "      <td>1.386555</td>\n",
              "      <td>0.113490</td>\n",
              "      <td>0.213738</td>\n",
              "      <td>-0.642927</td>\n",
              "      <td>1.381154</td>\n",
              "      <td>1.076321</td>\n",
              "      <td>0.431111</td>\n",
              "      <td>-0.323041</td>\n",
              "      <td>-0.868689</td>\n",
              "      <td>0.556510</td>\n",
              "      <td>0.994018</td>\n",
              "      <td>-1.017002</td>\n",
              "      <td>0.435527</td>\n",
              "    </tr>\n",
              "    <tr>\n",
              "      <th>3</th>\n",
              "      <td>-1.434898</td>\n",
              "      <td>1.028697</td>\n",
              "      <td>1.190608</td>\n",
              "      <td>-1.019330</td>\n",
              "      <td>-0.994569</td>\n",
              "      <td>-1.048910</td>\n",
              "      <td>-1.227267</td>\n",
              "      <td>1.039321</td>\n",
              "      <td>-0.282537</td>\n",
              "      <td>0.648164</td>\n",
              "      <td>-0.149669</td>\n",
              "      <td>1.275574</td>\n",
              "      <td>1.239157</td>\n",
              "      <td>0.583482</td>\n",
              "      <td>0.864110</td>\n",
              "      <td>0.501071</td>\n",
              "      <td>0.556510</td>\n",
              "      <td>-1.005443</td>\n",
              "      <td>-1.017002</td>\n",
              "      <td>0.435527</td>\n",
              "    </tr>\n",
              "    <tr>\n",
              "      <th>4</th>\n",
              "      <td>1.318135</td>\n",
              "      <td>1.028697</td>\n",
              "      <td>-0.394500</td>\n",
              "      <td>-1.019330</td>\n",
              "      <td>1.974391</td>\n",
              "      <td>0.952826</td>\n",
              "      <td>0.651896</td>\n",
              "      <td>0.344853</td>\n",
              "      <td>0.000339</td>\n",
              "      <td>-1.089541</td>\n",
              "      <td>0.672428</td>\n",
              "      <td>1.257603</td>\n",
              "      <td>-0.096099</td>\n",
              "      <td>-0.663023</td>\n",
              "      <td>-1.035331</td>\n",
              "      <td>-0.868689</td>\n",
              "      <td>0.556510</td>\n",
              "      <td>0.994018</td>\n",
              "      <td>-1.017002</td>\n",
              "      <td>-0.463261</td>\n",
              "    </tr>\n",
              "    <tr>\n",
              "      <th>...</th>\n",
              "      <td>...</td>\n",
              "      <td>...</td>\n",
              "      <td>...</td>\n",
              "      <td>...</td>\n",
              "      <td>...</td>\n",
              "      <td>...</td>\n",
              "      <td>...</td>\n",
              "      <td>...</td>\n",
              "      <td>...</td>\n",
              "      <td>...</td>\n",
              "      <td>...</td>\n",
              "      <td>...</td>\n",
              "      <td>...</td>\n",
              "      <td>...</td>\n",
              "      <td>...</td>\n",
              "      <td>...</td>\n",
              "      <td>...</td>\n",
              "      <td>...</td>\n",
              "      <td>...</td>\n",
              "      <td>...</td>\n",
              "    </tr>\n",
              "    <tr>\n",
              "      <th>1745</th>\n",
              "      <td>-0.724954</td>\n",
              "      <td>1.028697</td>\n",
              "      <td>-0.882226</td>\n",
              "      <td>-1.019330</td>\n",
              "      <td>0.375720</td>\n",
              "      <td>0.952826</td>\n",
              "      <td>1.480938</td>\n",
              "      <td>1.039321</td>\n",
              "      <td>0.566092</td>\n",
              "      <td>1.082591</td>\n",
              "      <td>0.672428</td>\n",
              "      <td>-1.267340</td>\n",
              "      <td>-1.070789</td>\n",
              "      <td>-1.723195</td>\n",
              "      <td>1.338970</td>\n",
              "      <td>0.272778</td>\n",
              "      <td>0.556510</td>\n",
              "      <td>-1.005443</td>\n",
              "      <td>0.982721</td>\n",
              "      <td>-1.362050</td>\n",
              "    </tr>\n",
              "    <tr>\n",
              "      <th>1746</th>\n",
              "      <td>0.039778</td>\n",
              "      <td>-0.971548</td>\n",
              "      <td>-1.248020</td>\n",
              "      <td>-1.019330</td>\n",
              "      <td>-0.309424</td>\n",
              "      <td>0.952826</td>\n",
              "      <td>1.094052</td>\n",
              "      <td>-0.696849</td>\n",
              "      <td>-1.555481</td>\n",
              "      <td>-1.089541</td>\n",
              "      <td>-0.149669</td>\n",
              "      <td>-0.096971</td>\n",
              "      <td>0.408693</td>\n",
              "      <td>-0.705247</td>\n",
              "      <td>-0.797901</td>\n",
              "      <td>-0.640395</td>\n",
              "      <td>0.556510</td>\n",
              "      <td>-1.005443</td>\n",
              "      <td>0.982721</td>\n",
              "      <td>-0.463261</td>\n",
              "    </tr>\n",
              "    <tr>\n",
              "      <th>1747</th>\n",
              "      <td>-1.428050</td>\n",
              "      <td>-0.971548</td>\n",
              "      <td>-0.516432</td>\n",
              "      <td>-1.019330</td>\n",
              "      <td>1.517628</td>\n",
              "      <td>0.952826</td>\n",
              "      <td>0.707165</td>\n",
              "      <td>-1.044083</td>\n",
              "      <td>1.329859</td>\n",
              "      <td>-0.655115</td>\n",
              "      <td>1.658945</td>\n",
              "      <td>1.183472</td>\n",
              "      <td>0.773911</td>\n",
              "      <td>0.188786</td>\n",
              "      <td>1.576400</td>\n",
              "      <td>-0.868689</td>\n",
              "      <td>0.556510</td>\n",
              "      <td>0.994018</td>\n",
              "      <td>-1.017002</td>\n",
              "      <td>0.435527</td>\n",
              "    </tr>\n",
              "    <tr>\n",
              "      <th>1748</th>\n",
              "      <td>-0.702126</td>\n",
              "      <td>1.028697</td>\n",
              "      <td>0.946745</td>\n",
              "      <td>-1.019330</td>\n",
              "      <td>0.147339</td>\n",
              "      <td>0.952826</td>\n",
              "      <td>1.370399</td>\n",
              "      <td>-1.044083</td>\n",
              "      <td>-0.339112</td>\n",
              "      <td>-1.089541</td>\n",
              "      <td>-0.642927</td>\n",
              "      <td>0.019841</td>\n",
              "      <td>-0.733486</td>\n",
              "      <td>-0.077404</td>\n",
              "      <td>-0.085610</td>\n",
              "      <td>0.501071</td>\n",
              "      <td>0.556510</td>\n",
              "      <td>0.994018</td>\n",
              "      <td>-1.017002</td>\n",
              "      <td>-0.463261</td>\n",
              "    </tr>\n",
              "    <tr>\n",
              "      <th>1749</th>\n",
              "      <td>0.551121</td>\n",
              "      <td>1.028697</td>\n",
              "      <td>-0.760295</td>\n",
              "      <td>0.980476</td>\n",
              "      <td>-0.994569</td>\n",
              "      <td>0.952826</td>\n",
              "      <td>-0.232416</td>\n",
              "      <td>1.039321</td>\n",
              "      <td>0.481229</td>\n",
              "      <td>0.213738</td>\n",
              "      <td>-1.465024</td>\n",
              "      <td>-0.622626</td>\n",
              "      <td>-0.535756</td>\n",
              "      <td>1.016730</td>\n",
              "      <td>0.389250</td>\n",
              "      <td>1.185951</td>\n",
              "      <td>0.556510</td>\n",
              "      <td>0.994018</td>\n",
              "      <td>-1.017002</td>\n",
              "      <td>1.334316</td>\n",
              "    </tr>\n",
              "  </tbody>\n",
              "</table>\n",
              "<p>1750 rows × 20 columns</p>\n",
              "</div>\n",
              "      <button class=\"colab-df-convert\" onclick=\"convertToInteractive('df-0252ec29-de91-4f3e-ab06-28ae2a36d5de')\"\n",
              "              title=\"Convert this dataframe to an interactive table.\"\n",
              "              style=\"display:none;\">\n",
              "        \n",
              "  <svg xmlns=\"http://www.w3.org/2000/svg\" height=\"24px\"viewBox=\"0 0 24 24\"\n",
              "       width=\"24px\">\n",
              "    <path d=\"M0 0h24v24H0V0z\" fill=\"none\"/>\n",
              "    <path d=\"M18.56 5.44l.94 2.06.94-2.06 2.06-.94-2.06-.94-.94-2.06-.94 2.06-2.06.94zm-11 1L8.5 8.5l.94-2.06 2.06-.94-2.06-.94L8.5 2.5l-.94 2.06-2.06.94zm10 10l.94 2.06.94-2.06 2.06-.94-2.06-.94-.94-2.06-.94 2.06-2.06.94z\"/><path d=\"M17.41 7.96l-1.37-1.37c-.4-.4-.92-.59-1.43-.59-.52 0-1.04.2-1.43.59L10.3 9.45l-7.72 7.72c-.78.78-.78 2.05 0 2.83L4 21.41c.39.39.9.59 1.41.59.51 0 1.02-.2 1.41-.59l7.78-7.78 2.81-2.81c.8-.78.8-2.07 0-2.86zM5.41 20L4 18.59l7.72-7.72 1.47 1.35L5.41 20z\"/>\n",
              "  </svg>\n",
              "      </button>\n",
              "      \n",
              "  <style>\n",
              "    .colab-df-container {\n",
              "      display:flex;\n",
              "      flex-wrap:wrap;\n",
              "      gap: 12px;\n",
              "    }\n",
              "\n",
              "    .colab-df-convert {\n",
              "      background-color: #E8F0FE;\n",
              "      border: none;\n",
              "      border-radius: 50%;\n",
              "      cursor: pointer;\n",
              "      display: none;\n",
              "      fill: #1967D2;\n",
              "      height: 32px;\n",
              "      padding: 0 0 0 0;\n",
              "      width: 32px;\n",
              "    }\n",
              "\n",
              "    .colab-df-convert:hover {\n",
              "      background-color: #E2EBFA;\n",
              "      box-shadow: 0px 1px 2px rgba(60, 64, 67, 0.3), 0px 1px 3px 1px rgba(60, 64, 67, 0.15);\n",
              "      fill: #174EA6;\n",
              "    }\n",
              "\n",
              "    [theme=dark] .colab-df-convert {\n",
              "      background-color: #3B4455;\n",
              "      fill: #D2E3FC;\n",
              "    }\n",
              "\n",
              "    [theme=dark] .colab-df-convert:hover {\n",
              "      background-color: #434B5C;\n",
              "      box-shadow: 0px 1px 3px 1px rgba(0, 0, 0, 0.15);\n",
              "      filter: drop-shadow(0px 1px 2px rgba(0, 0, 0, 0.3));\n",
              "      fill: #FFFFFF;\n",
              "    }\n",
              "  </style>\n",
              "\n",
              "      <script>\n",
              "        const buttonEl =\n",
              "          document.querySelector('#df-0252ec29-de91-4f3e-ab06-28ae2a36d5de button.colab-df-convert');\n",
              "        buttonEl.style.display =\n",
              "          google.colab.kernel.accessAllowed ? 'block' : 'none';\n",
              "\n",
              "        async function convertToInteractive(key) {\n",
              "          const element = document.querySelector('#df-0252ec29-de91-4f3e-ab06-28ae2a36d5de');\n",
              "          const dataTable =\n",
              "            await google.colab.kernel.invokeFunction('convertToInteractive',\n",
              "                                                     [key], {});\n",
              "          if (!dataTable) return;\n",
              "\n",
              "          const docLinkHtml = 'Like what you see? Visit the ' +\n",
              "            '<a target=\"_blank\" href=https://colab.research.google.com/notebooks/data_table.ipynb>data table notebook</a>'\n",
              "            + ' to learn more about interactive tables.';\n",
              "          element.innerHTML = '';\n",
              "          dataTable['output_type'] = 'display_data';\n",
              "          await google.colab.output.renderOutput(dataTable, element);\n",
              "          const docLink = document.createElement('div');\n",
              "          docLink.innerHTML = docLinkHtml;\n",
              "          element.appendChild(docLink);\n",
              "        }\n",
              "      </script>\n",
              "    </div>\n",
              "  </div>\n",
              "  "
            ]
          },
          "metadata": {},
          "execution_count": 57
        }
      ]
    },
    {
      "cell_type": "code",
      "source": [
        "train_labels[0]"
      ],
      "metadata": {
        "id": "AXtciJzCG9Er",
        "outputId": "d8b926b6-36c8-41d9-bbe1-f4275bf04486",
        "colab": {
          "base_uri": "https://localhost:8080/"
        }
      },
      "id": "AXtciJzCG9Er",
      "execution_count": 51,
      "outputs": [
        {
          "output_type": "execute_result",
          "data": {
            "text/plain": [
              "19"
            ]
          },
          "metadata": {},
          "execution_count": 51
        }
      ]
    },
    {
      "cell_type": "code",
      "source": [
        "train_datos.shape"
      ],
      "metadata": {
        "id": "y77_ZG4PEOoM",
        "outputId": "6d5bb14e-8b23-4505-d793-6c01b7812adc",
        "colab": {
          "base_uri": "https://localhost:8080/"
        }
      },
      "id": "y77_ZG4PEOoM",
      "execution_count": 52,
      "outputs": [
        {
          "output_type": "execute_result",
          "data": {
            "text/plain": [
              "(1750, 20)"
            ]
          },
          "metadata": {},
          "execution_count": 52
        }
      ]
    },
    {
      "cell_type": "markdown",
      "source": [
        "Una vez tenemos los datos separados, vamos a normalizarlos, puesto que cada uno tienen rangos distintos. "
      ],
      "metadata": {
        "id": "qglTtMQPm_9X"
      },
      "id": "qglTtMQPm_9X"
    },
    {
      "cell_type": "code",
      "source": [
        "# Normalizamos basándonos en la característica\n",
        "##############################################\n",
        "# Calculamos la media del primer eje de los datos de entrenamiento\n",
        "mean = train_datos.mean(axis=0)\n",
        "print(\"##### Media de las 20 características de los datos de entrenamiento ##### \")\n",
        "print(mean)\n",
        "# A los datos de entrenamiento le restamos la media\n",
        "train_datos -= mean\n",
        "\n",
        "# Calculamos la desviación estandar del primer eje de los datos de entrenamiento\n",
        "std = train_datos.std(axis=0)\n",
        "print(\"##### Desviación estandar de las 20 características de los datos de entrenamiento ##### \")\n",
        "print(std)\n",
        "# A los datos de entrenamiento los dividimos por la desviación estándar\n",
        "train_datos /= std\n",
        "\n",
        "# ¡¡IMPORTANTE!!: USAMOS LA MEDIA Y LA DESVIACIÓN ESTANDAR DE LOS DATOS DE \n",
        "# ENTRENAMIENTO PARA NORMALIZAR EL SET DE DATOS DE LOS DATOS DE TEST \n",
        "test_datos -= mean\n",
        "test_datos /= std"
      ],
      "metadata": {
        "colab": {
          "base_uri": "https://localhost:8080/"
        },
        "id": "XZTxyeq8nT_A",
        "outputId": "7e5f82c7-cb2a-4853-89b5-5d8ca821487c"
      },
      "id": "XZTxyeq8nT_A",
      "execution_count": 58,
      "outputs": [
        {
          "output_type": "stream",
          "name": "stdout",
          "text": [
            "##### Media de las 20 características de los datos de entrenamiento ##### \n",
            "battery_power    3.248195e-17\n",
            "blue            -1.218073e-17\n",
            "clock_speed      6.496391e-17\n",
            "dual_sim         8.272748e-17\n",
            "fc              -8.120488e-18\n",
            "four_g          -6.090366e-17\n",
            "int_memory      -1.685001e-16\n",
            "m_dep           -1.827110e-17\n",
            "mobile_wt        1.624098e-17\n",
            "n_cores         -2.436147e-17\n",
            "pc              -1.177471e-16\n",
            "px_height        3.045183e-17\n",
            "px_width        -1.999670e-16\n",
            "ram              2.436147e-17\n",
            "sc_h            -1.258676e-16\n",
            "sc_w            -2.537653e-17\n",
            "three_g         -7.308440e-17\n",
            "touch_screen    -1.258676e-16\n",
            "wifi            -1.218073e-17\n",
            "price_range      4.872293e-17\n",
            "dtype: float64\n",
            "##### Desviación estandar de las 20 características de los datos de entrenamiento ##### \n",
            "battery_power    1.0\n",
            "blue             1.0\n",
            "clock_speed      1.0\n",
            "dual_sim         1.0\n",
            "fc               1.0\n",
            "four_g           1.0\n",
            "int_memory       1.0\n",
            "m_dep            1.0\n",
            "mobile_wt        1.0\n",
            "n_cores          1.0\n",
            "pc               1.0\n",
            "px_height        1.0\n",
            "px_width         1.0\n",
            "ram              1.0\n",
            "sc_h             1.0\n",
            "sc_w             1.0\n",
            "three_g          1.0\n",
            "touch_screen     1.0\n",
            "wifi             1.0\n",
            "price_range      1.0\n",
            "dtype: float64\n"
          ]
        }
      ]
    },
    {
      "cell_type": "markdown",
      "source": [
        "## CREAMOS LA RED\n",
        "\n",
        "Como tenemos una base de datos tan pequeña, vamos a crear una base de datos muy pequeña con únicamente dos capas ocultas. \n",
        " En general, cuantos menos datos de entrenamiento tengamos, peor será el sobreajuste y el uso una red pequeña es una forma de reducir el sobreajuste."
      ],
      "metadata": {
        "id": "7T0MfDsToeWB"
      },
      "id": "7T0MfDsToeWB"
    },
    {
      "cell_type": "code",
      "source": [
        "import tensorflow as tf\n",
        "from keras import models\n",
        "from keras import layers\n",
        "\n",
        "def build_model():\n",
        "    # Porque necesitaremos instanciar el mismo modelo \n",
        "    # múltiples veces, usamos una función para construirlo\n",
        "    model = models.Sequential()\n",
        "    model.add(layers.Dense(64, activation='relu',\n",
        "                           input_shape=(train_datos.shape[1],)))\n",
        "    model.add(layers.Dense(64, activation='relu'))\n",
        "    model.add(layers.Dense(1))\n",
        "    # MSE: Mean Squared Error\n",
        "    # MAE: Mean Absolute Error\n",
        "    model.compile(optimizer='rmsprop', loss='mse', \n",
        "                  metrics=[tf.keras.metrics.MeanAbsoluteError()]) # metrics = ['mae']\n",
        "    return model"
      ],
      "metadata": {
        "id": "i49WNYvoo2Rn"
      },
      "id": "i49WNYvoo2Rn",
      "execution_count": null,
      "outputs": []
    },
    {
      "cell_type": "markdown",
      "source": [
        "Con estos datos, computamos el problema con las primeras 3/4 partes de los datos de entrenamiento para entrenar y el último 1/4 de los datos para validación"
      ],
      "metadata": {
        "id": "LZDlPLgXpCOu"
      },
      "id": "LZDlPLgXpCOu"
    },
    {
      "cell_type": "code",
      "source": [
        "partial_train_datos = train_datos[:1500]\n",
        "partial_eval_train_datos = train_datos[1501:]\n",
        "partial_train_labels = train_labels[:1500]\n",
        "partial_eval_train_labels= train_labels[1501:]"
      ],
      "metadata": {
        "id": "jp5gh3Bbo5Gv"
      },
      "id": "jp5gh3Bbo5Gv",
      "execution_count": null,
      "outputs": []
    },
    {
      "cell_type": "code",
      "source": [
        "mymodel = build_model()"
      ],
      "metadata": {
        "id": "seYZCr1dpiPS"
      },
      "id": "seYZCr1dpiPS",
      "execution_count": null,
      "outputs": []
    },
    {
      "cell_type": "code",
      "source": [
        "history = mymodel.fit(partial_train_datos, partial_train_labels,\n",
        "            validation_data=(partial_eval_train_datos, partial_eval_train_labels),\n",
        "                        epochs=40, batch_size=1)"
      ],
      "metadata": {
        "colab": {
          "base_uri": "https://localhost:8080/"
        },
        "id": "eI5UG6nVprSf",
        "outputId": "95915cae-0de2-4b0c-bf25-8b19cf4c4920"
      },
      "id": "eI5UG6nVprSf",
      "execution_count": null,
      "outputs": [
        {
          "output_type": "stream",
          "name": "stdout",
          "text": [
            "Epoch 1/40\n",
            "1500/1500 [==============================] - 4s 2ms/step - loss: 38.0918 - mean_absolute_error: 5.1954 - val_loss: 34.9870 - val_mean_absolute_error: 5.0493\n",
            "Epoch 2/40\n",
            "1500/1500 [==============================] - 3s 2ms/step - loss: 30.9963 - mean_absolute_error: 4.7509 - val_loss: 34.9648 - val_mean_absolute_error: 5.0742\n",
            "Epoch 3/40\n",
            "1500/1500 [==============================] - 3s 2ms/step - loss: 30.1800 - mean_absolute_error: 4.6537 - val_loss: 35.4249 - val_mean_absolute_error: 5.1196\n",
            "Epoch 4/40\n",
            "1500/1500 [==============================] - 3s 2ms/step - loss: 29.2421 - mean_absolute_error: 4.5983 - val_loss: 35.8415 - val_mean_absolute_error: 5.1262\n",
            "Epoch 5/40\n",
            "1500/1500 [==============================] - 4s 3ms/step - loss: 28.8500 - mean_absolute_error: 4.5645 - val_loss: 35.6420 - val_mean_absolute_error: 5.1726\n",
            "Epoch 6/40\n",
            "1500/1500 [==============================] - 4s 2ms/step - loss: 28.2886 - mean_absolute_error: 4.5133 - val_loss: 36.0715 - val_mean_absolute_error: 5.1568\n",
            "Epoch 7/40\n",
            "1500/1500 [==============================] - 3s 2ms/step - loss: 28.0600 - mean_absolute_error: 4.4801 - val_loss: 35.4905 - val_mean_absolute_error: 5.1754\n",
            "Epoch 8/40\n",
            "1500/1500 [==============================] - 3s 2ms/step - loss: 27.4214 - mean_absolute_error: 4.3951 - val_loss: 37.0064 - val_mean_absolute_error: 5.2235\n",
            "Epoch 9/40\n",
            "1500/1500 [==============================] - 3s 2ms/step - loss: 27.1893 - mean_absolute_error: 4.3857 - val_loss: 35.8047 - val_mean_absolute_error: 5.1735\n",
            "Epoch 10/40\n",
            "1500/1500 [==============================] - 3s 2ms/step - loss: 26.1682 - mean_absolute_error: 4.3058 - val_loss: 35.8905 - val_mean_absolute_error: 5.1374\n",
            "Epoch 11/40\n",
            "1500/1500 [==============================] - 3s 2ms/step - loss: 25.7356 - mean_absolute_error: 4.2078 - val_loss: 37.0369 - val_mean_absolute_error: 5.2162\n",
            "Epoch 12/40\n",
            "1500/1500 [==============================] - 3s 2ms/step - loss: 25.0021 - mean_absolute_error: 4.1623 - val_loss: 36.6943 - val_mean_absolute_error: 5.2322\n",
            "Epoch 13/40\n",
            "1500/1500 [==============================] - 3s 2ms/step - loss: 24.6543 - mean_absolute_error: 4.1085 - val_loss: 37.0105 - val_mean_absolute_error: 5.2513\n",
            "Epoch 14/40\n",
            "1500/1500 [==============================] - 3s 2ms/step - loss: 24.0145 - mean_absolute_error: 4.0258 - val_loss: 37.0981 - val_mean_absolute_error: 5.2169\n",
            "Epoch 15/40\n",
            "1500/1500 [==============================] - 3s 2ms/step - loss: 22.9758 - mean_absolute_error: 3.9281 - val_loss: 36.9775 - val_mean_absolute_error: 5.2150\n",
            "Epoch 16/40\n",
            "1500/1500 [==============================] - 3s 2ms/step - loss: 22.6047 - mean_absolute_error: 3.8919 - val_loss: 39.4738 - val_mean_absolute_error: 5.3377\n",
            "Epoch 17/40\n",
            "1500/1500 [==============================] - 3s 2ms/step - loss: 21.5730 - mean_absolute_error: 3.7668 - val_loss: 38.6485 - val_mean_absolute_error: 5.2754\n",
            "Epoch 18/40\n",
            "1500/1500 [==============================] - 3s 2ms/step - loss: 20.6045 - mean_absolute_error: 3.6547 - val_loss: 40.6368 - val_mean_absolute_error: 5.3828\n",
            "Epoch 19/40\n",
            "1500/1500 [==============================] - 3s 2ms/step - loss: 20.1231 - mean_absolute_error: 3.6247 - val_loss: 40.6979 - val_mean_absolute_error: 5.3812\n",
            "Epoch 20/40\n",
            "1500/1500 [==============================] - 3s 2ms/step - loss: 19.4444 - mean_absolute_error: 3.5130 - val_loss: 40.1189 - val_mean_absolute_error: 5.3724\n",
            "Epoch 21/40\n",
            "1500/1500 [==============================] - 3s 2ms/step - loss: 19.1459 - mean_absolute_error: 3.4764 - val_loss: 38.8798 - val_mean_absolute_error: 5.3014\n",
            "Epoch 22/40\n",
            "1500/1500 [==============================] - 3s 2ms/step - loss: 18.3535 - mean_absolute_error: 3.3901 - val_loss: 40.4495 - val_mean_absolute_error: 5.3503\n",
            "Epoch 23/40\n",
            "1500/1500 [==============================] - 3s 2ms/step - loss: 17.9617 - mean_absolute_error: 3.3245 - val_loss: 41.1453 - val_mean_absolute_error: 5.4047\n",
            "Epoch 24/40\n",
            "1500/1500 [==============================] - 3s 2ms/step - loss: 17.0619 - mean_absolute_error: 3.2534 - val_loss: 43.6390 - val_mean_absolute_error: 5.5547\n",
            "Epoch 25/40\n",
            "1500/1500 [==============================] - 3s 2ms/step - loss: 16.5572 - mean_absolute_error: 3.2057 - val_loss: 42.0065 - val_mean_absolute_error: 5.4340\n",
            "Epoch 26/40\n",
            "1500/1500 [==============================] - 3s 2ms/step - loss: 15.9945 - mean_absolute_error: 3.1527 - val_loss: 45.4285 - val_mean_absolute_error: 5.7035\n",
            "Epoch 27/40\n",
            "1500/1500 [==============================] - 3s 2ms/step - loss: 15.4698 - mean_absolute_error: 3.1005 - val_loss: 45.0091 - val_mean_absolute_error: 5.6232\n",
            "Epoch 28/40\n",
            "1500/1500 [==============================] - 3s 2ms/step - loss: 14.8114 - mean_absolute_error: 3.0565 - val_loss: 43.8315 - val_mean_absolute_error: 5.5856\n",
            "Epoch 29/40\n",
            "1500/1500 [==============================] - 3s 2ms/step - loss: 14.3063 - mean_absolute_error: 2.9583 - val_loss: 45.2218 - val_mean_absolute_error: 5.5456\n",
            "Epoch 30/40\n",
            "1500/1500 [==============================] - 3s 2ms/step - loss: 13.6390 - mean_absolute_error: 2.8980 - val_loss: 44.0039 - val_mean_absolute_error: 5.6007\n",
            "Epoch 31/40\n",
            "1500/1500 [==============================] - 3s 2ms/step - loss: 13.4534 - mean_absolute_error: 2.8491 - val_loss: 46.4025 - val_mean_absolute_error: 5.6657\n",
            "Epoch 32/40\n",
            "1500/1500 [==============================] - 3s 2ms/step - loss: 12.9656 - mean_absolute_error: 2.7989 - val_loss: 45.8390 - val_mean_absolute_error: 5.6343\n",
            "Epoch 33/40\n",
            "1500/1500 [==============================] - 3s 2ms/step - loss: 12.8460 - mean_absolute_error: 2.7590 - val_loss: 44.3891 - val_mean_absolute_error: 5.4671\n",
            "Epoch 34/40\n",
            "1500/1500 [==============================] - 3s 2ms/step - loss: 12.6457 - mean_absolute_error: 2.7434 - val_loss: 46.1401 - val_mean_absolute_error: 5.7159\n",
            "Epoch 35/40\n",
            "1500/1500 [==============================] - 3s 2ms/step - loss: 12.0293 - mean_absolute_error: 2.6913 - val_loss: 44.8605 - val_mean_absolute_error: 5.5964\n",
            "Epoch 36/40\n",
            "1500/1500 [==============================] - 3s 2ms/step - loss: 11.4276 - mean_absolute_error: 2.6094 - val_loss: 48.6190 - val_mean_absolute_error: 5.7705\n",
            "Epoch 37/40\n",
            "1500/1500 [==============================] - 3s 2ms/step - loss: 10.9859 - mean_absolute_error: 2.5552 - val_loss: 47.2862 - val_mean_absolute_error: 5.7273\n",
            "Epoch 38/40\n",
            "1500/1500 [==============================] - 3s 2ms/step - loss: 10.6362 - mean_absolute_error: 2.4937 - val_loss: 48.4293 - val_mean_absolute_error: 5.7964\n",
            "Epoch 39/40\n",
            "1500/1500 [==============================] - 3s 2ms/step - loss: 10.5140 - mean_absolute_error: 2.4516 - val_loss: 47.2392 - val_mean_absolute_error: 5.6670\n",
            "Epoch 40/40\n",
            "1500/1500 [==============================] - 3s 2ms/step - loss: 10.3902 - mean_absolute_error: 2.4655 - val_loss: 50.7583 - val_mean_absolute_error: 5.9443\n"
          ]
        }
      ]
    },
    {
      "cell_type": "code",
      "source": [
        "mae_history = history.history['val_mean_absolute_error']"
      ],
      "metadata": {
        "id": "iGJBKsErp6hB"
      },
      "id": "iGJBKsErp6hB",
      "execution_count": null,
      "outputs": []
    },
    {
      "cell_type": "code",
      "source": [
        "mse_history = history.history['val_loss']"
      ],
      "metadata": {
        "id": "0NM0QWErp98u"
      },
      "id": "0NM0QWErp98u",
      "execution_count": null,
      "outputs": []
    },
    {
      "cell_type": "markdown",
      "source": [
        "Confrontamos en una gráfica las épocas frente a la pérdida pérdida (MSE)"
      ],
      "metadata": {
        "id": "W0kHJ443qE6p"
      },
      "id": "W0kHJ443qE6p"
    },
    {
      "cell_type": "code",
      "source": [
        "import matplotlib.pyplot as plt\n",
        "\n",
        "plt.plot(range(1, len(mse_history) + 1), mse_history)\n",
        "plt.xlabel('Epochs')\n",
        "plt.ylabel('Validación MSE')\n",
        "plt.show()"
      ],
      "metadata": {
        "id": "sNPBLN62qETp",
        "outputId": "51956e23-2a50-48cc-925f-d96f4435a91d",
        "colab": {
          "base_uri": "https://localhost:8080/",
          "height": 279
        }
      },
      "id": "sNPBLN62qETp",
      "execution_count": null,
      "outputs": [
        {
          "output_type": "display_data",
          "data": {
            "text/plain": [
              "<Figure size 432x288 with 1 Axes>"
            ],
            "image/png": "[encoded data removed]"
          },
          "metadata": {
            "needs_background": "light"
          }
        }
      ]
    },
    {
      "cell_type": "code",
      "source": [
        "import matplotlib.pyplot as plt\n",
        "\n",
        "loss = history.history['loss']\n",
        "val_loss = history.history['val_loss']\n",
        "\n",
        "epochs = range(1, len(loss) + 1)\n",
        "\n",
        "plt.plot(epochs, loss, 'bo', label='Pérdida del entreno')\n",
        "plt.plot(epochs, val_loss, 'b', label='Pérdida de la validación')\n",
        "plt.title('Perdidas del entreno y la validación')\n",
        "plt.xlabel('Épocas')\n",
        "plt.ylabel('Pérdida')\n",
        "plt.legend()\n",
        "\n",
        "plt.show()"
      ],
      "metadata": {
        "id": "iysI43zEqVQb",
        "outputId": "ad88b847-8502-40de-fc1d-f2a1fec7c684",
        "colab": {
          "base_uri": "https://localhost:8080/",
          "height": 297
        }
      },
      "id": "iysI43zEqVQb",
      "execution_count": null,
      "outputs": [
        {
          "output_type": "display_data",
          "data": {
            "text/plain": [
              "<Figure size 432x288 with 1 Axes>"
            ],
            "image/png": "[encoded data removed]"
          },
          "metadata": {
            "needs_background": "light"
          }
        }
      ]
    },
    {
      "cell_type": "markdown",
      "source": [
        "Confrontamos en una gráfica las épocas contra la métrica de error absoluto medio (MAE)"
      ],
      "metadata": {
        "id": "BZnSo8GiqXi7"
      },
      "id": "BZnSo8GiqXi7"
    },
    {
      "cell_type": "code",
      "source": [
        " import matplotlib.pyplot as plt\n",
        "\n",
        "plt.plot(range(1, len(mae_history) + 1), mae_history)\n",
        "plt.xlabel('Epochs')\n",
        "plt.ylabel('Validación MAE')\n",
        "plt.show()"
      ],
      "metadata": {
        "id": "d7OI2-P4qXy9",
        "outputId": "09d07779-8885-4650-8900-250939855655",
        "colab": {
          "base_uri": "https://localhost:8080/",
          "height": 279
        }
      },
      "id": "d7OI2-P4qXy9",
      "execution_count": null,
      "outputs": [
        {
          "output_type": "display_data",
          "data": {
            "text/plain": [
              "<Figure size 432x288 with 1 Axes>"
            ],
            "image/png": "[encoded data removed]"
          },
          "metadata": {
            "needs_background": "light"
          }
        }
      ]
    },
    {
      "cell_type": "code",
      "source": [
        "import matplotlib.pyplot as plt\n",
        "\n",
        "loss = history.history['mean_absolute_error']\n",
        "val_loss = history.history['val_mean_absolute_error']\n",
        "\n",
        "epochs = range(1, len(loss) + 1)\n",
        "\n",
        "plt.plot(epochs, loss, 'bo', label='Pérdida del entreno')\n",
        "plt.plot(epochs, val_loss, 'b', label='Pérdida de la validación')\n",
        "plt.title('Perdidas del entreno y la validación')\n",
        "plt.xlabel('Épocas')\n",
        "plt.ylabel('Pérdida')\n",
        "plt.legend()\n",
        "\n",
        "plt.show()"
      ],
      "metadata": {
        "id": "g0K_QQ4hqfJB",
        "outputId": "04bea9f0-e7c6-4301-e716-c9c6826236d4",
        "colab": {
          "base_uri": "https://localhost:8080/",
          "height": 297
        }
      },
      "id": "g0K_QQ4hqfJB",
      "execution_count": null,
      "outputs": [
        {
          "output_type": "display_data",
          "data": {
            "text/plain": [
              "<Figure size 432x288 with 1 Axes>"
            ],
            "image/png": "[encoded data removed]"
          },
          "metadata": {
            "needs_background": "light"
          }
        }
      ]
    },
    {
      "cell_type": "code",
      "source": [],
      "metadata": {
        "id": "DqhZ_1YMqiIO"
      },
      "id": "DqhZ_1YMqiIO",
      "execution_count": null,
      "outputs": []
    }
  ],
  "metadata": {
    "kernelspec": {
      "display_name": "Python 3 (ipykernel)",
      "language": "python",
      "name": "python3"
    },
    "language_info": {
      "codemirror_mode": {
        "name": "ipython",
        "version": 3
      },
      "file_extension": ".py",
      "mimetype": "text/x-python",
      "name": "python",
      "nbconvert_exporter": "python",
      "pygments_lexer": "ipython3",
      "version": "3.8.8"
    },
    "colab": {
      "provenance": []
    }
  },
  "nbformat": 4,
  "nbformat_minor": 5
}