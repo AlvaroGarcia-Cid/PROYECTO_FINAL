{
  "cells": [
    {
      "cell_type": "markdown",
      "source": [
        "PILAR ARIAS, ÁLVARO GARCÍA CID, YEDRA MARTÍN, AMAYA SARASA\n",
        "\n",
        "<GRUPO 7>"
      ],
      "metadata": {
        "id": "-N8Vmt0WI0A2"
      },
      "id": "-N8Vmt0WI0A2"
    },
    {
      "cell_type": "markdown",
      "source": [
        "#INTRODUCCIÓN"
      ],
      "metadata": {
        "id": "dB3u7gbrKxAG"
      },
      "id": "dB3u7gbrKxAG"
    },
    {
      "cell_type": "markdown",
      "source": [
        "En este proyecto se va a proceder a realizar un proyecto de creación de una red neuronal que nos permita solucionar un problema de regresión.\n",
        "\n",
        "Para tomar el tema sobre el cual va a tratar este proyecto se ha decidido buscar un tema que en la actualidad pueda resultar útil. Por ello, debido al auge de la tecnología en nuestro día a día se ha considerado que un buen problema sería realizar una predicción acerca de la duración de la batería de un móvil, en función de diversos datos."
      ],
      "metadata": {
        "id": "3imp8nVbJBtq"
      },
      "id": "3imp8nVbJBtq"
    },
    {
      "cell_type": "markdown",
      "source": [
        "Se importa keras"
      ],
      "metadata": {
        "id": "bDT0rPR_LG-l"
      },
      "id": "bDT0rPR_LG-l"
    },
    {
      "cell_type": "code",
      "execution_count": 22,
      "id": "5567306c",
      "metadata": {
        "colab": {
          "base_uri": "https://localhost:8080/",
          "height": 36
        },
        "id": "5567306c",
        "outputId": "289a1d8b-c6d1-4e28-c1f4-5ce4d63c461e"
      },
      "outputs": [
        {
          "output_type": "execute_result",
          "data": {
            "text/plain": [
              "'2.9.0'"
            ],
            "application/vnd.google.colaboratory.intrinsic+json": {
              "type": "string"
            }
          },
          "metadata": {},
          "execution_count": 22
        }
      ],
      "source": [
        "import keras\n",
        "keras.__version__"
      ]
    },
    {
      "cell_type": "markdown",
      "source": [
        "# Prediciendo la duración de la batería de un movil\n",
        "Vamos a predecir la duración de la batería de un teléfono movil dados algunos datos como los píxeles de la cámara, si tiene o no conexión wifi, la cantidad de cores del procesador, etc. \n",
        "\n",
        "El conjunto de datos tiene un total de 2000 datos, que dividiremos entre 1750 de entrenamiento (de los cuales 500 serán para validación) y 250 de test. Las 21 carácaterísticas en los datos de entrada (por ejemplo, si tiene o no v) es una característica que tiene una escala diferente. Por ejemplo, algunos valores son proporciones, que toman valores entre 0 y 1, otros toman valores entre 1 y 12, otros entre 0 y 100 ...\n",
        "\n"
      ],
      "metadata": {
        "id": "VxtiL4ISC1UK"
      },
      "id": "VxtiL4ISC1UK"
    },
    {
      "cell_type": "code",
      "source": [
        "import pandas as pd\n",
        "datos=pd.read_csv('weatherHistory.csv.zip',encoding='latin-1')\n",
        "datos.head()"
      ],
      "metadata": {
        "id": "Zg6ggG0rFVQb",
        "outputId": "a40d545e-ed31-49d6-dc77-c280fd33d1a6",
        "colab": {
          "base_uri": "https://localhost:8080/",
          "height": 565
        }
      },
      "id": "Zg6ggG0rFVQb",
      "execution_count": 23,
      "outputs": [
        {
          "output_type": "execute_result",
          "data": {
            "text/plain": [
              "                  Formatted Date        Summary Precip Type  Temperature (C)  \\\n",
              "0  2006-04-01 00:00:00.000 +0200  Partly Cloudy        rain         9.472222   \n",
              "1  2006-04-01 01:00:00.000 +0200  Partly Cloudy        rain         9.355556   \n",
              "2  2006-04-01 02:00:00.000 +0200  Mostly Cloudy        rain         9.377778   \n",
              "3  2006-04-01 03:00:00.000 +0200  Partly Cloudy        rain         8.288889   \n",
              "4  2006-04-01 04:00:00.000 +0200  Mostly Cloudy        rain         8.755556   \n",
              "\n",
              "   Apparent Temperature (C)  Humidity  Wind Speed (km/h)  \\\n",
              "0                  7.388889      0.89            14.1197   \n",
              "1                  7.227778      0.86            14.2646   \n",
              "2                  9.377778      0.89             3.9284   \n",
              "3                  5.944444      0.83            14.1036   \n",
              "4                  6.977778      0.83            11.0446   \n",
              "\n",
              "   Wind Bearing (degrees)  Visibility (km)  Loud Cover  Pressure (millibars)  \\\n",
              "0                   251.0          15.8263         0.0               1015.13   \n",
              "1                   259.0          15.8263         0.0               1015.63   \n",
              "2                   204.0          14.9569         0.0               1015.94   \n",
              "3                   269.0          15.8263         0.0               1016.41   \n",
              "4                   259.0          15.8263         0.0               1016.51   \n",
              "\n",
              "                       Daily Summary  \n",
              "0  Partly cloudy throughout the day.  \n",
              "1  Partly cloudy throughout the day.  \n",
              "2  Partly cloudy throughout the day.  \n",
              "3  Partly cloudy throughout the day.  \n",
              "4  Partly cloudy throughout the day.  "
            ],
            "text/html": [
              "\n",
              "  <div id=\"df-9149e525-9482-4da5-a706-eecb8630becc\">\n",
              "    <div class=\"colab-df-container\">\n",
              "      <div>\n",
              "<style scoped>\n",
              "    .dataframe tbody tr th:only-of-type {\n",
              "        vertical-align: middle;\n",
              "    }\n",
              "\n",
              "    .dataframe tbody tr th {\n",
              "        vertical-align: top;\n",
              "    }\n",
              "\n",
              "    .dataframe thead th {\n",
              "        text-align: right;\n",
              "    }\n",
              "</style>\n",
              "<table border=\"1\" class=\"dataframe\">\n",
              "  <thead>\n",
              "    <tr style=\"text-align: right;\">\n",
              "      <th></th>\n",
              "      <th>Formatted Date</th>\n",
              "      <th>Summary</th>\n",
              "      <th>Precip Type</th>\n",
              "      <th>Temperature (C)</th>\n",
              "      <th>Apparent Temperature (C)</th>\n",
              "      <th>Humidity</th>\n",
              "      <th>Wind Speed (km/h)</th>\n",
              "      <th>Wind Bearing (degrees)</th>\n",
              "      <th>Visibility (km)</th>\n",
              "      <th>Loud Cover</th>\n",
              "      <th>Pressure (millibars)</th>\n",
              "      <th>Daily Summary</th>\n",
              "    </tr>\n",
              "  </thead>\n",
              "  <tbody>\n",
              "    <tr>\n",
              "      <th>0</th>\n",
              "      <td>2006-04-01 00:00:00.000 +0200</td>\n",
              "      <td>Partly Cloudy</td>\n",
              "      <td>rain</td>\n",
              "      <td>9.472222</td>\n",
              "      <td>7.388889</td>\n",
              "      <td>0.89</td>\n",
              "      <td>14.1197</td>\n",
              "      <td>251.0</td>\n",
              "      <td>15.8263</td>\n",
              "      <td>0.0</td>\n",
              "      <td>1015.13</td>\n",
              "      <td>Partly cloudy throughout the day.</td>\n",
              "    </tr>\n",
              "    <tr>\n",
              "      <th>1</th>\n",
              "      <td>2006-04-01 01:00:00.000 +0200</td>\n",
              "      <td>Partly Cloudy</td>\n",
              "      <td>rain</td>\n",
              "      <td>9.355556</td>\n",
              "      <td>7.227778</td>\n",
              "      <td>0.86</td>\n",
              "      <td>14.2646</td>\n",
              "      <td>259.0</td>\n",
              "      <td>15.8263</td>\n",
              "      <td>0.0</td>\n",
              "      <td>1015.63</td>\n",
              "      <td>Partly cloudy throughout the day.</td>\n",
              "    </tr>\n",
              "    <tr>\n",
              "      <th>2</th>\n",
              "      <td>2006-04-01 02:00:00.000 +0200</td>\n",
              "      <td>Mostly Cloudy</td>\n",
              "      <td>rain</td>\n",
              "      <td>9.377778</td>\n",
              "      <td>9.377778</td>\n",
              "      <td>0.89</td>\n",
              "      <td>3.9284</td>\n",
              "      <td>204.0</td>\n",
              "      <td>14.9569</td>\n",
              "      <td>0.0</td>\n",
              "      <td>1015.94</td>\n",
              "      <td>Partly cloudy throughout the day.</td>\n",
              "    </tr>\n",
              "    <tr>\n",
              "      <th>3</th>\n",
              "      <td>2006-04-01 03:00:00.000 +0200</td>\n",
              "      <td>Partly Cloudy</td>\n",
              "      <td>rain</td>\n",
              "      <td>8.288889</td>\n",
              "      <td>5.944444</td>\n",
              "      <td>0.83</td>\n",
              "      <td>14.1036</td>\n",
              "      <td>269.0</td>\n",
              "      <td>15.8263</td>\n",
              "      <td>0.0</td>\n",
              "      <td>1016.41</td>\n",
              "      <td>Partly cloudy throughout the day.</td>\n",
              "    </tr>\n",
              "    <tr>\n",
              "      <th>4</th>\n",
              "      <td>2006-04-01 04:00:00.000 +0200</td>\n",
              "      <td>Mostly Cloudy</td>\n",
              "      <td>rain</td>\n",
              "      <td>8.755556</td>\n",
              "      <td>6.977778</td>\n",
              "      <td>0.83</td>\n",
              "      <td>11.0446</td>\n",
              "      <td>259.0</td>\n",
              "      <td>15.8263</td>\n",
              "      <td>0.0</td>\n",
              "      <td>1016.51</td>\n",
              "      <td>Partly cloudy throughout the day.</td>\n",
              "    </tr>\n",
              "  </tbody>\n",
              "</table>\n",
              "</div>\n",
              "      <button class=\"colab-df-convert\" onclick=\"convertToInteractive('df-9149e525-9482-4da5-a706-eecb8630becc')\"\n",
              "              title=\"Convert this dataframe to an interactive table.\"\n",
              "              style=\"display:none;\">\n",
              "        \n",
              "  <svg xmlns=\"http://www.w3.org/2000/svg\" height=\"24px\"viewBox=\"0 0 24 24\"\n",
              "       width=\"24px\">\n",
              "    <path d=\"M0 0h24v24H0V0z\" fill=\"none\"/>\n",
              "    <path d=\"M18.56 5.44l.94 2.06.94-2.06 2.06-.94-2.06-.94-.94-2.06-.94 2.06-2.06.94zm-11 1L8.5 8.5l.94-2.06 2.06-.94-2.06-.94L8.5 2.5l-.94 2.06-2.06.94zm10 10l.94 2.06.94-2.06 2.06-.94-2.06-.94-.94-2.06-.94 2.06-2.06.94z\"/><path d=\"M17.41 7.96l-1.37-1.37c-.4-.4-.92-.59-1.43-.59-.52 0-1.04.2-1.43.59L10.3 9.45l-7.72 7.72c-.78.78-.78 2.05 0 2.83L4 21.41c.39.39.9.59 1.41.59.51 0 1.02-.2 1.41-.59l7.78-7.78 2.81-2.81c.8-.78.8-2.07 0-2.86zM5.41 20L4 18.59l7.72-7.72 1.47 1.35L5.41 20z\"/>\n",
              "  </svg>\n",
              "      </button>\n",
              "      \n",
              "  <style>\n",
              "    .colab-df-container {\n",
              "      display:flex;\n",
              "      flex-wrap:wrap;\n",
              "      gap: 12px;\n",
              "    }\n",
              "\n",
              "    .colab-df-convert {\n",
              "      background-color: #E8F0FE;\n",
              "      border: none;\n",
              "      border-radius: 50%;\n",
              "      cursor: pointer;\n",
              "      display: none;\n",
              "      fill: #1967D2;\n",
              "      height: 32px;\n",
              "      padding: 0 0 0 0;\n",
              "      width: 32px;\n",
              "    }\n",
              "\n",
              "    .colab-df-convert:hover {\n",
              "      background-color: #E2EBFA;\n",
              "      box-shadow: 0px 1px 2px rgba(60, 64, 67, 0.3), 0px 1px 3px 1px rgba(60, 64, 67, 0.15);\n",
              "      fill: #174EA6;\n",
              "    }\n",
              "\n",
              "    [theme=dark] .colab-df-convert {\n",
              "      background-color: #3B4455;\n",
              "      fill: #D2E3FC;\n",
              "    }\n",
              "\n",
              "    [theme=dark] .colab-df-convert:hover {\n",
              "      background-color: #434B5C;\n",
              "      box-shadow: 0px 1px 3px 1px rgba(0, 0, 0, 0.15);\n",
              "      filter: drop-shadow(0px 1px 2px rgba(0, 0, 0, 0.3));\n",
              "      fill: #FFFFFF;\n",
              "    }\n",
              "  </style>\n",
              "\n",
              "      <script>\n",
              "        const buttonEl =\n",
              "          document.querySelector('#df-9149e525-9482-4da5-a706-eecb8630becc button.colab-df-convert');\n",
              "        buttonEl.style.display =\n",
              "          google.colab.kernel.accessAllowed ? 'block' : 'none';\n",
              "\n",
              "        async function convertToInteractive(key) {\n",
              "          const element = document.querySelector('#df-9149e525-9482-4da5-a706-eecb8630becc');\n",
              "          const dataTable =\n",
              "            await google.colab.kernel.invokeFunction('convertToInteractive',\n",
              "                                                     [key], {});\n",
              "          if (!dataTable) return;\n",
              "\n",
              "          const docLinkHtml = 'Like what you see? Visit the ' +\n",
              "            '<a target=\"_blank\" href=https://colab.research.google.com/notebooks/data_table.ipynb>data table notebook</a>'\n",
              "            + ' to learn more about interactive tables.';\n",
              "          element.innerHTML = '';\n",
              "          dataTable['output_type'] = 'display_data';\n",
              "          await google.colab.output.renderOutput(dataTable, element);\n",
              "          const docLink = document.createElement('div');\n",
              "          docLink.innerHTML = docLinkHtml;\n",
              "          element.appendChild(docLink);\n",
              "        }\n",
              "      </script>\n",
              "    </div>\n",
              "  </div>\n",
              "  "
            ]
          },
          "metadata": {},
          "execution_count": 23
        }
      ]
    },
    {
      "cell_type": "markdown",
      "source": [
        "Comprobamos que se han importado correctamente, los 2000 datos con 21 características. "
      ],
      "metadata": {
        "id": "ZhYrtySvJEGQ"
      },
      "id": "ZhYrtySvJEGQ"
    },
    {
      "cell_type": "code",
      "source": [
        "datos.shape"
      ],
      "metadata": {
        "colab": {
          "base_uri": "https://localhost:8080/"
        },
        "id": "8sS4GX92G6J8",
        "outputId": "ce1a003e-d783-4fe8-d9bf-d39bb0dc6566"
      },
      "id": "8sS4GX92G6J8",
      "execution_count": 24,
      "outputs": [
        {
          "output_type": "execute_result",
          "data": {
            "text/plain": [
              "(96453, 12)"
            ]
          },
          "metadata": {},
          "execution_count": 24
        }
      ]
    },
    {
      "cell_type": "code",
      "source": [
        "datos.dtypes"
      ],
      "metadata": {
        "id": "1bAlhE4d8mVo",
        "outputId": "a3258606-e14e-4cfa-94a3-d89400c653b3",
        "colab": {
          "base_uri": "https://localhost:8080/"
        }
      },
      "id": "1bAlhE4d8mVo",
      "execution_count": 25,
      "outputs": [
        {
          "output_type": "execute_result",
          "data": {
            "text/plain": [
              "Formatted Date               object\n",
              "Summary                      object\n",
              "Precip Type                  object\n",
              "Temperature (C)             float64\n",
              "Apparent Temperature (C)    float64\n",
              "Humidity                    float64\n",
              "Wind Speed (km/h)           float64\n",
              "Wind Bearing (degrees)      float64\n",
              "Visibility (km)             float64\n",
              "Loud Cover                  float64\n",
              "Pressure (millibars)        float64\n",
              "Daily Summary                object\n",
              "dtype: object"
            ]
          },
          "metadata": {},
          "execution_count": 25
        }
      ]
    },
    {
      "cell_type": "code",
      "source": [
        "for c in datos.columns:\n",
        "    print(\"Missing values [{0}]:\".format(c), datos[c].isna().sum())\n",
        "print()\n",
        "\n",
        "# Valores únicos    \n",
        "for c in datos.columns:\n",
        "    print(\"Unique values [{0}]:\".format(c), datos[c].unique().size)"
      ],
      "metadata": {
        "id": "RjRvBy8m_XbR"
      },
      "id": "RjRvBy8m_XbR",
      "execution_count": null,
      "outputs": []
    },
    {
      "cell_type": "code",
      "source": [
        "datos=datos.dropna()"
      ],
      "metadata": {
        "id": "pywK9A1N6dDL"
      },
      "id": "pywK9A1N6dDL",
      "execution_count": 26,
      "outputs": []
    },
    {
      "cell_type": "code",
      "source": [
        "datos.shape"
      ],
      "metadata": {
        "id": "M5J56LwP_PPq"
      },
      "id": "M5J56LwP_PPq",
      "execution_count": null,
      "outputs": []
    },
    {
      "cell_type": "code",
      "source": [
        "datos['Summary'] = datos['Summary'].astype('category').cat.codes\n",
        "datos['Precip Type'] = datos['Precip Type'].astype('category').cat.codes"
      ],
      "metadata": {
        "id": "fcoQmcg26f6t"
      },
      "id": "fcoQmcg26f6t",
      "execution_count": 27,
      "outputs": []
    },
    {
      "cell_type": "code",
      "source": [
        "datos.columns = ['Fecha','Summary','LLuvia','Temperatura','T ambiente','Humedad', 'Vel_viento','Viraje viento','Visibilidad','loud cover','Presión','Datos']\n",
        "datos"
      ],
      "metadata": {
        "id": "IdKS-HNi79rp",
        "outputId": "313fb1d0-dce2-48d8-d187-5841f0583c8e",
        "colab": {
          "base_uri": "https://localhost:8080/",
          "height": 1000
        }
      },
      "id": "IdKS-HNi79rp",
      "execution_count": 28,
      "outputs": [
        {
          "output_type": "execute_result",
          "data": {
            "text/plain": [
              "                               Fecha  Summary  LLuvia  Temperatura  \\\n",
              "0      2006-04-01 00:00:00.000 +0200       19       0     9.472222   \n",
              "1      2006-04-01 01:00:00.000 +0200       19       0     9.355556   \n",
              "2      2006-04-01 02:00:00.000 +0200       17       0     9.377778   \n",
              "3      2006-04-01 03:00:00.000 +0200       19       0     8.288889   \n",
              "4      2006-04-01 04:00:00.000 +0200       17       0     8.755556   \n",
              "...                              ...      ...     ...          ...   \n",
              "96448  2016-09-09 19:00:00.000 +0200       19       0    26.016667   \n",
              "96449  2016-09-09 20:00:00.000 +0200       19       0    24.583333   \n",
              "96450  2016-09-09 21:00:00.000 +0200       19       0    22.038889   \n",
              "96451  2016-09-09 22:00:00.000 +0200       19       0    21.522222   \n",
              "96452  2016-09-09 23:00:00.000 +0200       19       0    20.438889   \n",
              "\n",
              "       T ambiente  Humedad  Vel_viento  Viraje viento  Visibilidad  \\\n",
              "0        7.388889     0.89     14.1197          251.0      15.8263   \n",
              "1        7.227778     0.86     14.2646          259.0      15.8263   \n",
              "2        9.377778     0.89      3.9284          204.0      14.9569   \n",
              "3        5.944444     0.83     14.1036          269.0      15.8263   \n",
              "4        6.977778     0.83     11.0446          259.0      15.8263   \n",
              "...           ...      ...         ...            ...          ...   \n",
              "96448   26.016667     0.43     10.9963           31.0      16.1000   \n",
              "96449   24.583333     0.48     10.0947           20.0      15.5526   \n",
              "96450   22.038889     0.56      8.9838           30.0      16.1000   \n",
              "96451   21.522222     0.60     10.5294           20.0      16.1000   \n",
              "96452   20.438889     0.61      5.8765           39.0      15.5204   \n",
              "\n",
              "       loud cover  Presión                                   Datos  \n",
              "0             0.0  1015.13       Partly cloudy throughout the day.  \n",
              "1             0.0  1015.63       Partly cloudy throughout the day.  \n",
              "2             0.0  1015.94       Partly cloudy throughout the day.  \n",
              "3             0.0  1016.41       Partly cloudy throughout the day.  \n",
              "4             0.0  1016.51       Partly cloudy throughout the day.  \n",
              "...           ...      ...                                     ...  \n",
              "96448         0.0  1014.36  Partly cloudy starting in the morning.  \n",
              "96449         0.0  1015.16  Partly cloudy starting in the morning.  \n",
              "96450         0.0  1015.66  Partly cloudy starting in the morning.  \n",
              "96451         0.0  1015.95  Partly cloudy starting in the morning.  \n",
              "96452         0.0  1016.16  Partly cloudy starting in the morning.  \n",
              "\n",
              "[95936 rows x 12 columns]"
            ],
            "text/html": [
              "\n",
              "  <div id=\"df-77d8ac17-3d3e-4dba-9a5a-6f4e269965a7\">\n",
              "    <div class=\"colab-df-container\">\n",
              "      <div>\n",
              "<style scoped>\n",
              "    .dataframe tbody tr th:only-of-type {\n",
              "        vertical-align: middle;\n",
              "    }\n",
              "\n",
              "    .dataframe tbody tr th {\n",
              "        vertical-align: top;\n",
              "    }\n",
              "\n",
              "    .dataframe thead th {\n",
              "        text-align: right;\n",
              "    }\n",
              "</style>\n",
              "<table border=\"1\" class=\"dataframe\">\n",
              "  <thead>\n",
              "    <tr style=\"text-align: right;\">\n",
              "      <th></th>\n",
              "      <th>Fecha</th>\n",
              "      <th>Summary</th>\n",
              "      <th>LLuvia</th>\n",
              "      <th>Temperatura</th>\n",
              "      <th>T ambiente</th>\n",
              "      <th>Humedad</th>\n",
              "      <th>Vel_viento</th>\n",
              "      <th>Viraje viento</th>\n",
              "      <th>Visibilidad</th>\n",
              "      <th>loud cover</th>\n",
              "      <th>Presión</th>\n",
              "      <th>Datos</th>\n",
              "    </tr>\n",
              "  </thead>\n",
              "  <tbody>\n",
              "    <tr>\n",
              "      <th>0</th>\n",
              "      <td>2006-04-01 00:00:00.000 +0200</td>\n",
              "      <td>19</td>\n",
              "      <td>0</td>\n",
              "      <td>9.472222</td>\n",
              "      <td>7.388889</td>\n",
              "      <td>0.89</td>\n",
              "      <td>14.1197</td>\n",
              "      <td>251.0</td>\n",
              "      <td>15.8263</td>\n",
              "      <td>0.0</td>\n",
              "      <td>1015.13</td>\n",
              "      <td>Partly cloudy throughout the day.</td>\n",
              "    </tr>\n",
              "    <tr>\n",
              "      <th>1</th>\n",
              "      <td>2006-04-01 01:00:00.000 +0200</td>\n",
              "      <td>19</td>\n",
              "      <td>0</td>\n",
              "      <td>9.355556</td>\n",
              "      <td>7.227778</td>\n",
              "      <td>0.86</td>\n",
              "      <td>14.2646</td>\n",
              "      <td>259.0</td>\n",
              "      <td>15.8263</td>\n",
              "      <td>0.0</td>\n",
              "      <td>1015.63</td>\n",
              "      <td>Partly cloudy throughout the day.</td>\n",
              "    </tr>\n",
              "    <tr>\n",
              "      <th>2</th>\n",
              "      <td>2006-04-01 02:00:00.000 +0200</td>\n",
              "      <td>17</td>\n",
              "      <td>0</td>\n",
              "      <td>9.377778</td>\n",
              "      <td>9.377778</td>\n",
              "      <td>0.89</td>\n",
              "      <td>3.9284</td>\n",
              "      <td>204.0</td>\n",
              "      <td>14.9569</td>\n",
              "      <td>0.0</td>\n",
              "      <td>1015.94</td>\n",
              "      <td>Partly cloudy throughout the day.</td>\n",
              "    </tr>\n",
              "    <tr>\n",
              "      <th>3</th>\n",
              "      <td>2006-04-01 03:00:00.000 +0200</td>\n",
              "      <td>19</td>\n",
              "      <td>0</td>\n",
              "      <td>8.288889</td>\n",
              "      <td>5.944444</td>\n",
              "      <td>0.83</td>\n",
              "      <td>14.1036</td>\n",
              "      <td>269.0</td>\n",
              "      <td>15.8263</td>\n",
              "      <td>0.0</td>\n",
              "      <td>1016.41</td>\n",
              "      <td>Partly cloudy throughout the day.</td>\n",
              "    </tr>\n",
              "    <tr>\n",
              "      <th>4</th>\n",
              "      <td>2006-04-01 04:00:00.000 +0200</td>\n",
              "      <td>17</td>\n",
              "      <td>0</td>\n",
              "      <td>8.755556</td>\n",
              "      <td>6.977778</td>\n",
              "      <td>0.83</td>\n",
              "      <td>11.0446</td>\n",
              "      <td>259.0</td>\n",
              "      <td>15.8263</td>\n",
              "      <td>0.0</td>\n",
              "      <td>1016.51</td>\n",
              "      <td>Partly cloudy throughout the day.</td>\n",
              "    </tr>\n",
              "    <tr>\n",
              "      <th>...</th>\n",
              "      <td>...</td>\n",
              "      <td>...</td>\n",
              "      <td>...</td>\n",
              "      <td>...</td>\n",
              "      <td>...</td>\n",
              "      <td>...</td>\n",
              "      <td>...</td>\n",
              "      <td>...</td>\n",
              "      <td>...</td>\n",
              "      <td>...</td>\n",
              "      <td>...</td>\n",
              "      <td>...</td>\n",
              "    </tr>\n",
              "    <tr>\n",
              "      <th>96448</th>\n",
              "      <td>2016-09-09 19:00:00.000 +0200</td>\n",
              "      <td>19</td>\n",
              "      <td>0</td>\n",
              "      <td>26.016667</td>\n",
              "      <td>26.016667</td>\n",
              "      <td>0.43</td>\n",
              "      <td>10.9963</td>\n",
              "      <td>31.0</td>\n",
              "      <td>16.1000</td>\n",
              "      <td>0.0</td>\n",
              "      <td>1014.36</td>\n",
              "      <td>Partly cloudy starting in the morning.</td>\n",
              "    </tr>\n",
              "    <tr>\n",
              "      <th>96449</th>\n",
              "      <td>2016-09-09 20:00:00.000 +0200</td>\n",
              "      <td>19</td>\n",
              "      <td>0</td>\n",
              "      <td>24.583333</td>\n",
              "      <td>24.583333</td>\n",
              "      <td>0.48</td>\n",
              "      <td>10.0947</td>\n",
              "      <td>20.0</td>\n",
              "      <td>15.5526</td>\n",
              "      <td>0.0</td>\n",
              "      <td>1015.16</td>\n",
              "      <td>Partly cloudy starting in the morning.</td>\n",
              "    </tr>\n",
              "    <tr>\n",
              "      <th>96450</th>\n",
              "      <td>2016-09-09 21:00:00.000 +0200</td>\n",
              "      <td>19</td>\n",
              "      <td>0</td>\n",
              "      <td>22.038889</td>\n",
              "      <td>22.038889</td>\n",
              "      <td>0.56</td>\n",
              "      <td>8.9838</td>\n",
              "      <td>30.0</td>\n",
              "      <td>16.1000</td>\n",
              "      <td>0.0</td>\n",
              "      <td>1015.66</td>\n",
              "      <td>Partly cloudy starting in the morning.</td>\n",
              "    </tr>\n",
              "    <tr>\n",
              "      <th>96451</th>\n",
              "      <td>2016-09-09 22:00:00.000 +0200</td>\n",
              "      <td>19</td>\n",
              "      <td>0</td>\n",
              "      <td>21.522222</td>\n",
              "      <td>21.522222</td>\n",
              "      <td>0.60</td>\n",
              "      <td>10.5294</td>\n",
              "      <td>20.0</td>\n",
              "      <td>16.1000</td>\n",
              "      <td>0.0</td>\n",
              "      <td>1015.95</td>\n",
              "      <td>Partly cloudy starting in the morning.</td>\n",
              "    </tr>\n",
              "    <tr>\n",
              "      <th>96452</th>\n",
              "      <td>2016-09-09 23:00:00.000 +0200</td>\n",
              "      <td>19</td>\n",
              "      <td>0</td>\n",
              "      <td>20.438889</td>\n",
              "      <td>20.438889</td>\n",
              "      <td>0.61</td>\n",
              "      <td>5.8765</td>\n",
              "      <td>39.0</td>\n",
              "      <td>15.5204</td>\n",
              "      <td>0.0</td>\n",
              "      <td>1016.16</td>\n",
              "      <td>Partly cloudy starting in the morning.</td>\n",
              "    </tr>\n",
              "  </tbody>\n",
              "</table>\n",
              "<p>95936 rows × 12 columns</p>\n",
              "</div>\n",
              "      <button class=\"colab-df-convert\" onclick=\"convertToInteractive('df-77d8ac17-3d3e-4dba-9a5a-6f4e269965a7')\"\n",
              "              title=\"Convert this dataframe to an interactive table.\"\n",
              "              style=\"display:none;\">\n",
              "        \n",
              "  <svg xmlns=\"http://www.w3.org/2000/svg\" height=\"24px\"viewBox=\"0 0 24 24\"\n",
              "       width=\"24px\">\n",
              "    <path d=\"M0 0h24v24H0V0z\" fill=\"none\"/>\n",
              "    <path d=\"M18.56 5.44l.94 2.06.94-2.06 2.06-.94-2.06-.94-.94-2.06-.94 2.06-2.06.94zm-11 1L8.5 8.5l.94-2.06 2.06-.94-2.06-.94L8.5 2.5l-.94 2.06-2.06.94zm10 10l.94 2.06.94-2.06 2.06-.94-2.06-.94-.94-2.06-.94 2.06-2.06.94z\"/><path d=\"M17.41 7.96l-1.37-1.37c-.4-.4-.92-.59-1.43-.59-.52 0-1.04.2-1.43.59L10.3 9.45l-7.72 7.72c-.78.78-.78 2.05 0 2.83L4 21.41c.39.39.9.59 1.41.59.51 0 1.02-.2 1.41-.59l7.78-7.78 2.81-2.81c.8-.78.8-2.07 0-2.86zM5.41 20L4 18.59l7.72-7.72 1.47 1.35L5.41 20z\"/>\n",
              "  </svg>\n",
              "      </button>\n",
              "      \n",
              "  <style>\n",
              "    .colab-df-container {\n",
              "      display:flex;\n",
              "      flex-wrap:wrap;\n",
              "      gap: 12px;\n",
              "    }\n",
              "\n",
              "    .colab-df-convert {\n",
              "      background-color: #E8F0FE;\n",
              "      border: none;\n",
              "      border-radius: 50%;\n",
              "      cursor: pointer;\n",
              "      display: none;\n",
              "      fill: #1967D2;\n",
              "      height: 32px;\n",
              "      padding: 0 0 0 0;\n",
              "      width: 32px;\n",
              "    }\n",
              "\n",
              "    .colab-df-convert:hover {\n",
              "      background-color: #E2EBFA;\n",
              "      box-shadow: 0px 1px 2px rgba(60, 64, 67, 0.3), 0px 1px 3px 1px rgba(60, 64, 67, 0.15);\n",
              "      fill: #174EA6;\n",
              "    }\n",
              "\n",
              "    [theme=dark] .colab-df-convert {\n",
              "      background-color: #3B4455;\n",
              "      fill: #D2E3FC;\n",
              "    }\n",
              "\n",
              "    [theme=dark] .colab-df-convert:hover {\n",
              "      background-color: #434B5C;\n",
              "      box-shadow: 0px 1px 3px 1px rgba(0, 0, 0, 0.15);\n",
              "      filter: drop-shadow(0px 1px 2px rgba(0, 0, 0, 0.3));\n",
              "      fill: #FFFFFF;\n",
              "    }\n",
              "  </style>\n",
              "\n",
              "      <script>\n",
              "        const buttonEl =\n",
              "          document.querySelector('#df-77d8ac17-3d3e-4dba-9a5a-6f4e269965a7 button.colab-df-convert');\n",
              "        buttonEl.style.display =\n",
              "          google.colab.kernel.accessAllowed ? 'block' : 'none';\n",
              "\n",
              "        async function convertToInteractive(key) {\n",
              "          const element = document.querySelector('#df-77d8ac17-3d3e-4dba-9a5a-6f4e269965a7');\n",
              "          const dataTable =\n",
              "            await google.colab.kernel.invokeFunction('convertToInteractive',\n",
              "                                                     [key], {});\n",
              "          if (!dataTable) return;\n",
              "\n",
              "          const docLinkHtml = 'Like what you see? Visit the ' +\n",
              "            '<a target=\"_blank\" href=https://colab.research.google.com/notebooks/data_table.ipynb>data table notebook</a>'\n",
              "            + ' to learn more about interactive tables.';\n",
              "          element.innerHTML = '';\n",
              "          dataTable['output_type'] = 'display_data';\n",
              "          await google.colab.output.renderOutput(dataTable, element);\n",
              "          const docLink = document.createElement('div');\n",
              "          docLink.innerHTML = docLinkHtml;\n",
              "          element.appendChild(docLink);\n",
              "        }\n",
              "      </script>\n",
              "    </div>\n",
              "  </div>\n",
              "  "
            ]
          },
          "metadata": {},
          "execution_count": 28
        }
      ]
    },
    {
      "cell_type": "code",
      "source": [
        "datos.loc[2]"
      ],
      "metadata": {
        "colab": {
          "base_uri": "https://localhost:8080/"
        },
        "id": "oKoxaw8AjofP",
        "outputId": "e46e2012-28da-4b9a-cf4c-a5deefc7b17f"
      },
      "id": "oKoxaw8AjofP",
      "execution_count": 30,
      "outputs": [
        {
          "output_type": "execute_result",
          "data": {
            "text/plain": [
              "Fecha                2006-04-01 02:00:00.000 +0200\n",
              "Summary                                         17\n",
              "LLuvia                                           0\n",
              "Temperatura                               9.377778\n",
              "T ambiente                                9.377778\n",
              "Humedad                                       0.89\n",
              "Vel_viento                                  3.9284\n",
              "Viraje viento                                204.0\n",
              "Visibilidad                                14.9569\n",
              "loud cover                                     0.0\n",
              "Presión                                    1015.94\n",
              "Datos            Partly cloudy throughout the day.\n",
              "Name: 2, dtype: object"
            ]
          },
          "metadata": {},
          "execution_count": 30
        }
      ]
    },
    {
      "cell_type": "markdown",
      "source": [
        "Separamos los datos en entrenamiento y test y sus correspondientes soluciones, que serán la característica 17 (talk_time) que según explicaba la página donde hemos tomado la base, es el tiempo que dura el móvil desde su última carga. \n"
      ],
      "metadata": {
        "id": "DSpyZcdxLscV"
      },
      "id": "DSpyZcdxLscV"
    },
    {
      "cell_type": "code",
      "source": [
        "labels=datos.Temperatura\n",
        "labels.shape\n"
      ],
      "metadata": {
        "colab": {
          "base_uri": "https://localhost:8080/"
        },
        "id": "ywGEcHJ5ML-g",
        "outputId": "8940ecab-b941-45d9-da58-5a7c6bda36cf"
      },
      "id": "ywGEcHJ5ML-g",
      "execution_count": 31,
      "outputs": [
        {
          "output_type": "execute_result",
          "data": {
            "text/plain": [
              "(95936,)"
            ]
          },
          "metadata": {},
          "execution_count": 31
        }
      ]
    },
    {
      "cell_type": "code",
      "source": [
        "datos=datos.drop(['Fecha'],axis=1)\n",
        "datos=datos.drop(['Datos'],axis=1)\n",
        "datos=datos.drop(['loud cover'],axis=1)\n",
        "datos=datos.drop(['Temperatura'],axis=1)"
      ],
      "metadata": {
        "id": "dfR2rNJ-M-tu"
      },
      "id": "dfR2rNJ-M-tu",
      "execution_count": 32,
      "outputs": []
    },
    {
      "cell_type": "code",
      "source": [
        "datos.shape"
      ],
      "metadata": {
        "id": "NIMEjd5AFToE",
        "outputId": "2fc54ba1-3f92-43fb-cfd7-d1b60e2150df",
        "colab": {
          "base_uri": "https://localhost:8080/"
        }
      },
      "id": "NIMEjd5AFToE",
      "execution_count": 33,
      "outputs": [
        {
          "output_type": "execute_result",
          "data": {
            "text/plain": [
              "(95936, 8)"
            ]
          },
          "metadata": {},
          "execution_count": 33
        }
      ]
    },
    {
      "cell_type": "code",
      "source": [
        "datos"
      ],
      "metadata": {
        "id": "V-UfhJK1BH_4",
        "outputId": "53042db2-fb48-4b1e-ae11-19d7c7ec511b",
        "colab": {
          "base_uri": "https://localhost:8080/",
          "height": 424
        }
      },
      "id": "V-UfhJK1BH_4",
      "execution_count": 34,
      "outputs": [
        {
          "output_type": "execute_result",
          "data": {
            "text/plain": [
              "       Summary  LLuvia  T ambiente  Humedad  Vel_viento  Viraje viento  \\\n",
              "0           19       0    7.388889     0.89     14.1197          251.0   \n",
              "1           19       0    7.227778     0.86     14.2646          259.0   \n",
              "2           17       0    9.377778     0.89      3.9284          204.0   \n",
              "3           19       0    5.944444     0.83     14.1036          269.0   \n",
              "4           17       0    6.977778     0.83     11.0446          259.0   \n",
              "...        ...     ...         ...      ...         ...            ...   \n",
              "96448       19       0   26.016667     0.43     10.9963           31.0   \n",
              "96449       19       0   24.583333     0.48     10.0947           20.0   \n",
              "96450       19       0   22.038889     0.56      8.9838           30.0   \n",
              "96451       19       0   21.522222     0.60     10.5294           20.0   \n",
              "96452       19       0   20.438889     0.61      5.8765           39.0   \n",
              "\n",
              "       Visibilidad  Presión  \n",
              "0          15.8263  1015.13  \n",
              "1          15.8263  1015.63  \n",
              "2          14.9569  1015.94  \n",
              "3          15.8263  1016.41  \n",
              "4          15.8263  1016.51  \n",
              "...            ...      ...  \n",
              "96448      16.1000  1014.36  \n",
              "96449      15.5526  1015.16  \n",
              "96450      16.1000  1015.66  \n",
              "96451      16.1000  1015.95  \n",
              "96452      15.5204  1016.16  \n",
              "\n",
              "[95936 rows x 8 columns]"
            ],
            "text/html": [
              "\n",
              "  <div id=\"df-90de0f15-679a-489c-ac27-7368bbf78b3e\">\n",
              "    <div class=\"colab-df-container\">\n",
              "      <div>\n",
              "<style scoped>\n",
              "    .dataframe tbody tr th:only-of-type {\n",
              "        vertical-align: middle;\n",
              "    }\n",
              "\n",
              "    .dataframe tbody tr th {\n",
              "        vertical-align: top;\n",
              "    }\n",
              "\n",
              "    .dataframe thead th {\n",
              "        text-align: right;\n",
              "    }\n",
              "</style>\n",
              "<table border=\"1\" class=\"dataframe\">\n",
              "  <thead>\n",
              "    <tr style=\"text-align: right;\">\n",
              "      <th></th>\n",
              "      <th>Summary</th>\n",
              "      <th>LLuvia</th>\n",
              "      <th>T ambiente</th>\n",
              "      <th>Humedad</th>\n",
              "      <th>Vel_viento</th>\n",
              "      <th>Viraje viento</th>\n",
              "      <th>Visibilidad</th>\n",
              "      <th>Presión</th>\n",
              "    </tr>\n",
              "  </thead>\n",
              "  <tbody>\n",
              "    <tr>\n",
              "      <th>0</th>\n",
              "      <td>19</td>\n",
              "      <td>0</td>\n",
              "      <td>7.388889</td>\n",
              "      <td>0.89</td>\n",
              "      <td>14.1197</td>\n",
              "      <td>251.0</td>\n",
              "      <td>15.8263</td>\n",
              "      <td>1015.13</td>\n",
              "    </tr>\n",
              "    <tr>\n",
              "      <th>1</th>\n",
              "      <td>19</td>\n",
              "      <td>0</td>\n",
              "      <td>7.227778</td>\n",
              "      <td>0.86</td>\n",
              "      <td>14.2646</td>\n",
              "      <td>259.0</td>\n",
              "      <td>15.8263</td>\n",
              "      <td>1015.63</td>\n",
              "    </tr>\n",
              "    <tr>\n",
              "      <th>2</th>\n",
              "      <td>17</td>\n",
              "      <td>0</td>\n",
              "      <td>9.377778</td>\n",
              "      <td>0.89</td>\n",
              "      <td>3.9284</td>\n",
              "      <td>204.0</td>\n",
              "      <td>14.9569</td>\n",
              "      <td>1015.94</td>\n",
              "    </tr>\n",
              "    <tr>\n",
              "      <th>3</th>\n",
              "      <td>19</td>\n",
              "      <td>0</td>\n",
              "      <td>5.944444</td>\n",
              "      <td>0.83</td>\n",
              "      <td>14.1036</td>\n",
              "      <td>269.0</td>\n",
              "      <td>15.8263</td>\n",
              "      <td>1016.41</td>\n",
              "    </tr>\n",
              "    <tr>\n",
              "      <th>4</th>\n",
              "      <td>17</td>\n",
              "      <td>0</td>\n",
              "      <td>6.977778</td>\n",
              "      <td>0.83</td>\n",
              "      <td>11.0446</td>\n",
              "      <td>259.0</td>\n",
              "      <td>15.8263</td>\n",
              "      <td>1016.51</td>\n",
              "    </tr>\n",
              "    <tr>\n",
              "      <th>...</th>\n",
              "      <td>...</td>\n",
              "      <td>...</td>\n",
              "      <td>...</td>\n",
              "      <td>...</td>\n",
              "      <td>...</td>\n",
              "      <td>...</td>\n",
              "      <td>...</td>\n",
              "      <td>...</td>\n",
              "    </tr>\n",
              "    <tr>\n",
              "      <th>96448</th>\n",
              "      <td>19</td>\n",
              "      <td>0</td>\n",
              "      <td>26.016667</td>\n",
              "      <td>0.43</td>\n",
              "      <td>10.9963</td>\n",
              "      <td>31.0</td>\n",
              "      <td>16.1000</td>\n",
              "      <td>1014.36</td>\n",
              "    </tr>\n",
              "    <tr>\n",
              "      <th>96449</th>\n",
              "      <td>19</td>\n",
              "      <td>0</td>\n",
              "      <td>24.583333</td>\n",
              "      <td>0.48</td>\n",
              "      <td>10.0947</td>\n",
              "      <td>20.0</td>\n",
              "      <td>15.5526</td>\n",
              "      <td>1015.16</td>\n",
              "    </tr>\n",
              "    <tr>\n",
              "      <th>96450</th>\n",
              "      <td>19</td>\n",
              "      <td>0</td>\n",
              "      <td>22.038889</td>\n",
              "      <td>0.56</td>\n",
              "      <td>8.9838</td>\n",
              "      <td>30.0</td>\n",
              "      <td>16.1000</td>\n",
              "      <td>1015.66</td>\n",
              "    </tr>\n",
              "    <tr>\n",
              "      <th>96451</th>\n",
              "      <td>19</td>\n",
              "      <td>0</td>\n",
              "      <td>21.522222</td>\n",
              "      <td>0.60</td>\n",
              "      <td>10.5294</td>\n",
              "      <td>20.0</td>\n",
              "      <td>16.1000</td>\n",
              "      <td>1015.95</td>\n",
              "    </tr>\n",
              "    <tr>\n",
              "      <th>96452</th>\n",
              "      <td>19</td>\n",
              "      <td>0</td>\n",
              "      <td>20.438889</td>\n",
              "      <td>0.61</td>\n",
              "      <td>5.8765</td>\n",
              "      <td>39.0</td>\n",
              "      <td>15.5204</td>\n",
              "      <td>1016.16</td>\n",
              "    </tr>\n",
              "  </tbody>\n",
              "</table>\n",
              "<p>95936 rows × 8 columns</p>\n",
              "</div>\n",
              "      <button class=\"colab-df-convert\" onclick=\"convertToInteractive('df-90de0f15-679a-489c-ac27-7368bbf78b3e')\"\n",
              "              title=\"Convert this dataframe to an interactive table.\"\n",
              "              style=\"display:none;\">\n",
              "        \n",
              "  <svg xmlns=\"http://www.w3.org/2000/svg\" height=\"24px\"viewBox=\"0 0 24 24\"\n",
              "       width=\"24px\">\n",
              "    <path d=\"M0 0h24v24H0V0z\" fill=\"none\"/>\n",
              "    <path d=\"M18.56 5.44l.94 2.06.94-2.06 2.06-.94-2.06-.94-.94-2.06-.94 2.06-2.06.94zm-11 1L8.5 8.5l.94-2.06 2.06-.94-2.06-.94L8.5 2.5l-.94 2.06-2.06.94zm10 10l.94 2.06.94-2.06 2.06-.94-2.06-.94-.94-2.06-.94 2.06-2.06.94z\"/><path d=\"M17.41 7.96l-1.37-1.37c-.4-.4-.92-.59-1.43-.59-.52 0-1.04.2-1.43.59L10.3 9.45l-7.72 7.72c-.78.78-.78 2.05 0 2.83L4 21.41c.39.39.9.59 1.41.59.51 0 1.02-.2 1.41-.59l7.78-7.78 2.81-2.81c.8-.78.8-2.07 0-2.86zM5.41 20L4 18.59l7.72-7.72 1.47 1.35L5.41 20z\"/>\n",
              "  </svg>\n",
              "      </button>\n",
              "      \n",
              "  <style>\n",
              "    .colab-df-container {\n",
              "      display:flex;\n",
              "      flex-wrap:wrap;\n",
              "      gap: 12px;\n",
              "    }\n",
              "\n",
              "    .colab-df-convert {\n",
              "      background-color: #E8F0FE;\n",
              "      border: none;\n",
              "      border-radius: 50%;\n",
              "      cursor: pointer;\n",
              "      display: none;\n",
              "      fill: #1967D2;\n",
              "      height: 32px;\n",
              "      padding: 0 0 0 0;\n",
              "      width: 32px;\n",
              "    }\n",
              "\n",
              "    .colab-df-convert:hover {\n",
              "      background-color: #E2EBFA;\n",
              "      box-shadow: 0px 1px 2px rgba(60, 64, 67, 0.3), 0px 1px 3px 1px rgba(60, 64, 67, 0.15);\n",
              "      fill: #174EA6;\n",
              "    }\n",
              "\n",
              "    [theme=dark] .colab-df-convert {\n",
              "      background-color: #3B4455;\n",
              "      fill: #D2E3FC;\n",
              "    }\n",
              "\n",
              "    [theme=dark] .colab-df-convert:hover {\n",
              "      background-color: #434B5C;\n",
              "      box-shadow: 0px 1px 3px 1px rgba(0, 0, 0, 0.15);\n",
              "      filter: drop-shadow(0px 1px 2px rgba(0, 0, 0, 0.3));\n",
              "      fill: #FFFFFF;\n",
              "    }\n",
              "  </style>\n",
              "\n",
              "      <script>\n",
              "        const buttonEl =\n",
              "          document.querySelector('#df-90de0f15-679a-489c-ac27-7368bbf78b3e button.colab-df-convert');\n",
              "        buttonEl.style.display =\n",
              "          google.colab.kernel.accessAllowed ? 'block' : 'none';\n",
              "\n",
              "        async function convertToInteractive(key) {\n",
              "          const element = document.querySelector('#df-90de0f15-679a-489c-ac27-7368bbf78b3e');\n",
              "          const dataTable =\n",
              "            await google.colab.kernel.invokeFunction('convertToInteractive',\n",
              "                                                     [key], {});\n",
              "          if (!dataTable) return;\n",
              "\n",
              "          const docLinkHtml = 'Like what you see? Visit the ' +\n",
              "            '<a target=\"_blank\" href=https://colab.research.google.com/notebooks/data_table.ipynb>data table notebook</a>'\n",
              "            + ' to learn more about interactive tables.';\n",
              "          element.innerHTML = '';\n",
              "          dataTable['output_type'] = 'display_data';\n",
              "          await google.colab.output.renderOutput(dataTable, element);\n",
              "          const docLink = document.createElement('div');\n",
              "          docLink.innerHTML = docLinkHtml;\n",
              "          element.appendChild(docLink);\n",
              "        }\n",
              "      </script>\n",
              "    </div>\n",
              "  </div>\n",
              "  "
            ]
          },
          "metadata": {},
          "execution_count": 34
        }
      ]
    },
    {
      "cell_type": "code",
      "source": [
        "train_datos=datos[:70000]\n",
        "test_datos=datos[70001:]\n",
        "\n",
        "train_labels=labels[:70000]\n",
        "test_labels=labels[70001:]"
      ],
      "metadata": {
        "id": "GD_gBGXimN1C"
      },
      "id": "GD_gBGXimN1C",
      "execution_count": 36,
      "outputs": []
    },
    {
      "cell_type": "code",
      "source": [
        "train_labels[0]"
      ],
      "metadata": {
        "id": "AXtciJzCG9Er",
        "outputId": "08fd1452-cc6b-4277-de82-4824e89a47ae",
        "colab": {
          "base_uri": "https://localhost:8080/"
        }
      },
      "id": "AXtciJzCG9Er",
      "execution_count": 37,
      "outputs": [
        {
          "output_type": "execute_result",
          "data": {
            "text/plain": [
              "9.47222222222222"
            ]
          },
          "metadata": {},
          "execution_count": 37
        }
      ]
    },
    {
      "cell_type": "code",
      "source": [
        "train_datos.shape"
      ],
      "metadata": {
        "id": "y77_ZG4PEOoM",
        "outputId": "cf1d47f2-8800-4047-dd67-0adc6e38e01e",
        "colab": {
          "base_uri": "https://localhost:8080/"
        }
      },
      "id": "y77_ZG4PEOoM",
      "execution_count": 38,
      "outputs": [
        {
          "output_type": "execute_result",
          "data": {
            "text/plain": [
              "(70000, 8)"
            ]
          },
          "metadata": {},
          "execution_count": 38
        }
      ]
    },
    {
      "cell_type": "code",
      "source": [
        "test_datos"
      ],
      "metadata": {
        "colab": {
          "base_uri": "https://localhost:8080/",
          "height": 424
        },
        "id": "czGpBewmejE8",
        "outputId": "b2e80ec8-0437-4b07-cc3e-f53db55e402d"
      },
      "id": "czGpBewmejE8",
      "execution_count": 39,
      "outputs": [
        {
          "output_type": "execute_result",
          "data": {
            "text/plain": [
              "       Summary  LLuvia  T ambiente  Humedad  Vel_viento  Viraje viento  \\\n",
              "70144       18       0   17.016667     0.87      4.6529           25.0   \n",
              "70145       17       0   16.955556     0.88      7.1323          333.0   \n",
              "70146       17       0   16.966667     0.87     12.1716          348.0   \n",
              "70147       17       0   15.927778     0.93      9.3380          339.0   \n",
              "70148       17       0   15.916667     0.89     10.4650          339.0   \n",
              "...        ...     ...         ...      ...         ...            ...   \n",
              "96448       19       0   26.016667     0.43     10.9963           31.0   \n",
              "96449       19       0   24.583333     0.48     10.0947           20.0   \n",
              "96450       19       0   22.038889     0.56      8.9838           30.0   \n",
              "96451       19       0   21.522222     0.60     10.5294           20.0   \n",
              "96452       19       0   20.438889     0.61      5.8765           39.0   \n",
              "\n",
              "       Visibilidad  Presión  \n",
              "70144       9.9015  1017.76  \n",
              "70145       9.7888  1018.12  \n",
              "70146      14.8120  1018.23  \n",
              "70147       8.9677  1018.57  \n",
              "70148       8.3076  1018.88  \n",
              "...            ...      ...  \n",
              "96448      16.1000  1014.36  \n",
              "96449      15.5526  1015.16  \n",
              "96450      16.1000  1015.66  \n",
              "96451      16.1000  1015.95  \n",
              "96452      15.5204  1016.16  \n",
              "\n",
              "[25935 rows x 8 columns]"
            ],
            "text/html": [
              "\n",
              "  <div id=\"df-25ceb263-0271-4cc7-93e4-f1c5b1ec4d7c\">\n",
              "    <div class=\"colab-df-container\">\n",
              "      <div>\n",
              "<style scoped>\n",
              "    .dataframe tbody tr th:only-of-type {\n",
              "        vertical-align: middle;\n",
              "    }\n",
              "\n",
              "    .dataframe tbody tr th {\n",
              "        vertical-align: top;\n",
              "    }\n",
              "\n",
              "    .dataframe thead th {\n",
              "        text-align: right;\n",
              "    }\n",
              "</style>\n",
              "<table border=\"1\" class=\"dataframe\">\n",
              "  <thead>\n",
              "    <tr style=\"text-align: right;\">\n",
              "      <th></th>\n",
              "      <th>Summary</th>\n",
              "      <th>LLuvia</th>\n",
              "      <th>T ambiente</th>\n",
              "      <th>Humedad</th>\n",
              "      <th>Vel_viento</th>\n",
              "      <th>Viraje viento</th>\n",
              "      <th>Visibilidad</th>\n",
              "      <th>Presión</th>\n",
              "    </tr>\n",
              "  </thead>\n",
              "  <tbody>\n",
              "    <tr>\n",
              "      <th>70144</th>\n",
              "      <td>18</td>\n",
              "      <td>0</td>\n",
              "      <td>17.016667</td>\n",
              "      <td>0.87</td>\n",
              "      <td>4.6529</td>\n",
              "      <td>25.0</td>\n",
              "      <td>9.9015</td>\n",
              "      <td>1017.76</td>\n",
              "    </tr>\n",
              "    <tr>\n",
              "      <th>70145</th>\n",
              "      <td>17</td>\n",
              "      <td>0</td>\n",
              "      <td>16.955556</td>\n",
              "      <td>0.88</td>\n",
              "      <td>7.1323</td>\n",
              "      <td>333.0</td>\n",
              "      <td>9.7888</td>\n",
              "      <td>1018.12</td>\n",
              "    </tr>\n",
              "    <tr>\n",
              "      <th>70146</th>\n",
              "      <td>17</td>\n",
              "      <td>0</td>\n",
              "      <td>16.966667</td>\n",
              "      <td>0.87</td>\n",
              "      <td>12.1716</td>\n",
              "      <td>348.0</td>\n",
              "      <td>14.8120</td>\n",
              "      <td>1018.23</td>\n",
              "    </tr>\n",
              "    <tr>\n",
              "      <th>70147</th>\n",
              "      <td>17</td>\n",
              "      <td>0</td>\n",
              "      <td>15.927778</td>\n",
              "      <td>0.93</td>\n",
              "      <td>9.3380</td>\n",
              "      <td>339.0</td>\n",
              "      <td>8.9677</td>\n",
              "      <td>1018.57</td>\n",
              "    </tr>\n",
              "    <tr>\n",
              "      <th>70148</th>\n",
              "      <td>17</td>\n",
              "      <td>0</td>\n",
              "      <td>15.916667</td>\n",
              "      <td>0.89</td>\n",
              "      <td>10.4650</td>\n",
              "      <td>339.0</td>\n",
              "      <td>8.3076</td>\n",
              "      <td>1018.88</td>\n",
              "    </tr>\n",
              "    <tr>\n",
              "      <th>...</th>\n",
              "      <td>...</td>\n",
              "      <td>...</td>\n",
              "      <td>...</td>\n",
              "      <td>...</td>\n",
              "      <td>...</td>\n",
              "      <td>...</td>\n",
              "      <td>...</td>\n",
              "      <td>...</td>\n",
              "    </tr>\n",
              "    <tr>\n",
              "      <th>96448</th>\n",
              "      <td>19</td>\n",
              "      <td>0</td>\n",
              "      <td>26.016667</td>\n",
              "      <td>0.43</td>\n",
              "      <td>10.9963</td>\n",
              "      <td>31.0</td>\n",
              "      <td>16.1000</td>\n",
              "      <td>1014.36</td>\n",
              "    </tr>\n",
              "    <tr>\n",
              "      <th>96449</th>\n",
              "      <td>19</td>\n",
              "      <td>0</td>\n",
              "      <td>24.583333</td>\n",
              "      <td>0.48</td>\n",
              "      <td>10.0947</td>\n",
              "      <td>20.0</td>\n",
              "      <td>15.5526</td>\n",
              "      <td>1015.16</td>\n",
              "    </tr>\n",
              "    <tr>\n",
              "      <th>96450</th>\n",
              "      <td>19</td>\n",
              "      <td>0</td>\n",
              "      <td>22.038889</td>\n",
              "      <td>0.56</td>\n",
              "      <td>8.9838</td>\n",
              "      <td>30.0</td>\n",
              "      <td>16.1000</td>\n",
              "      <td>1015.66</td>\n",
              "    </tr>\n",
              "    <tr>\n",
              "      <th>96451</th>\n",
              "      <td>19</td>\n",
              "      <td>0</td>\n",
              "      <td>21.522222</td>\n",
              "      <td>0.60</td>\n",
              "      <td>10.5294</td>\n",
              "      <td>20.0</td>\n",
              "      <td>16.1000</td>\n",
              "      <td>1015.95</td>\n",
              "    </tr>\n",
              "    <tr>\n",
              "      <th>96452</th>\n",
              "      <td>19</td>\n",
              "      <td>0</td>\n",
              "      <td>20.438889</td>\n",
              "      <td>0.61</td>\n",
              "      <td>5.8765</td>\n",
              "      <td>39.0</td>\n",
              "      <td>15.5204</td>\n",
              "      <td>1016.16</td>\n",
              "    </tr>\n",
              "  </tbody>\n",
              "</table>\n",
              "<p>25935 rows × 8 columns</p>\n",
              "</div>\n",
              "      <button class=\"colab-df-convert\" onclick=\"convertToInteractive('df-25ceb263-0271-4cc7-93e4-f1c5b1ec4d7c')\"\n",
              "              title=\"Convert this dataframe to an interactive table.\"\n",
              "              style=\"display:none;\">\n",
              "        \n",
              "  <svg xmlns=\"http://www.w3.org/2000/svg\" height=\"24px\"viewBox=\"0 0 24 24\"\n",
              "       width=\"24px\">\n",
              "    <path d=\"M0 0h24v24H0V0z\" fill=\"none\"/>\n",
              "    <path d=\"M18.56 5.44l.94 2.06.94-2.06 2.06-.94-2.06-.94-.94-2.06-.94 2.06-2.06.94zm-11 1L8.5 8.5l.94-2.06 2.06-.94-2.06-.94L8.5 2.5l-.94 2.06-2.06.94zm10 10l.94 2.06.94-2.06 2.06-.94-2.06-.94-.94-2.06-.94 2.06-2.06.94z\"/><path d=\"M17.41 7.96l-1.37-1.37c-.4-.4-.92-.59-1.43-.59-.52 0-1.04.2-1.43.59L10.3 9.45l-7.72 7.72c-.78.78-.78 2.05 0 2.83L4 21.41c.39.39.9.59 1.41.59.51 0 1.02-.2 1.41-.59l7.78-7.78 2.81-2.81c.8-.78.8-2.07 0-2.86zM5.41 20L4 18.59l7.72-7.72 1.47 1.35L5.41 20z\"/>\n",
              "  </svg>\n",
              "      </button>\n",
              "      \n",
              "  <style>\n",
              "    .colab-df-container {\n",
              "      display:flex;\n",
              "      flex-wrap:wrap;\n",
              "      gap: 12px;\n",
              "    }\n",
              "\n",
              "    .colab-df-convert {\n",
              "      background-color: #E8F0FE;\n",
              "      border: none;\n",
              "      border-radius: 50%;\n",
              "      cursor: pointer;\n",
              "      display: none;\n",
              "      fill: #1967D2;\n",
              "      height: 32px;\n",
              "      padding: 0 0 0 0;\n",
              "      width: 32px;\n",
              "    }\n",
              "\n",
              "    .colab-df-convert:hover {\n",
              "      background-color: #E2EBFA;\n",
              "      box-shadow: 0px 1px 2px rgba(60, 64, 67, 0.3), 0px 1px 3px 1px rgba(60, 64, 67, 0.15);\n",
              "      fill: #174EA6;\n",
              "    }\n",
              "\n",
              "    [theme=dark] .colab-df-convert {\n",
              "      background-color: #3B4455;\n",
              "      fill: #D2E3FC;\n",
              "    }\n",
              "\n",
              "    [theme=dark] .colab-df-convert:hover {\n",
              "      background-color: #434B5C;\n",
              "      box-shadow: 0px 1px 3px 1px rgba(0, 0, 0, 0.15);\n",
              "      filter: drop-shadow(0px 1px 2px rgba(0, 0, 0, 0.3));\n",
              "      fill: #FFFFFF;\n",
              "    }\n",
              "  </style>\n",
              "\n",
              "      <script>\n",
              "        const buttonEl =\n",
              "          document.querySelector('#df-25ceb263-0271-4cc7-93e4-f1c5b1ec4d7c button.colab-df-convert');\n",
              "        buttonEl.style.display =\n",
              "          google.colab.kernel.accessAllowed ? 'block' : 'none';\n",
              "\n",
              "        async function convertToInteractive(key) {\n",
              "          const element = document.querySelector('#df-25ceb263-0271-4cc7-93e4-f1c5b1ec4d7c');\n",
              "          const dataTable =\n",
              "            await google.colab.kernel.invokeFunction('convertToInteractive',\n",
              "                                                     [key], {});\n",
              "          if (!dataTable) return;\n",
              "\n",
              "          const docLinkHtml = 'Like what you see? Visit the ' +\n",
              "            '<a target=\"_blank\" href=https://colab.research.google.com/notebooks/data_table.ipynb>data table notebook</a>'\n",
              "            + ' to learn more about interactive tables.';\n",
              "          element.innerHTML = '';\n",
              "          dataTable['output_type'] = 'display_data';\n",
              "          await google.colab.output.renderOutput(dataTable, element);\n",
              "          const docLink = document.createElement('div');\n",
              "          docLink.innerHTML = docLinkHtml;\n",
              "          element.appendChild(docLink);\n",
              "        }\n",
              "      </script>\n",
              "    </div>\n",
              "  </div>\n",
              "  "
            ]
          },
          "metadata": {},
          "execution_count": 39
        }
      ]
    },
    {
      "cell_type": "markdown",
      "source": [
        "Una vez tenemos los datos separados, vamos a normalizarlos, puesto que cada uno tienen rangos distintos. "
      ],
      "metadata": {
        "id": "qglTtMQPm_9X"
      },
      "id": "qglTtMQPm_9X"
    },
    {
      "cell_type": "code",
      "source": [
        "# Normalizamos basándonos en la característica\n",
        "##############################################\n",
        "# Calculamos la media del primer eje de los datos de entrenamiento\n",
        "mean = train_datos.mean(axis=0)\n",
        "print(\"##### Media de las 14 características de los datos de entrenamiento ##### \")\n",
        "print(mean)\n",
        "# A los datos de entrenamiento le restamos la media\n",
        "train_datos -= mean\n",
        "\n",
        "# Calculamos la desviación estandar del primer eje de los datos de entrenamiento\n",
        "std = train_datos.std(axis=0)\n",
        "print(\"##### Desviación estandar de las 14 características de los datos de entrenamiento ##### \")\n",
        "print(std)\n",
        "# A los datos de entrenamiento los dividimos por la desviación estándar\n",
        "train_datos /= std\n",
        "\n",
        "# ¡¡IMPORTANTE!!: USAMOS LA MEDIA Y LA DESVIACIÓN ESTANDAR DE LOS DATOS DE \n",
        "# ENTRENAMIENTO PARA NORMALIZAR EL SET DE DATOS DE LOS DATOS DE TEST \n",
        "test_datos -= mean\n",
        "test_datos /= std"
      ],
      "metadata": {
        "colab": {
          "base_uri": "https://localhost:8080/"
        },
        "id": "XZTxyeq8nT_A",
        "outputId": "2f8bce87-c061-477b-a278-e8e90de3700f"
      },
      "id": "XZTxyeq8nT_A",
      "execution_count": 40,
      "outputs": [
        {
          "output_type": "stream",
          "name": "stdout",
          "text": [
            "##### Media de las 14 características de los datos de entrenamiento ##### \n",
            "Summary            15.874143\n",
            "LLuvia              0.127229\n",
            "T ambiente         10.693272\n",
            "Humedad             0.730353\n",
            "Vel_viento         10.868822\n",
            "Viraje viento     189.321371\n",
            "Visibilidad        10.039112\n",
            "Presión          1003.466910\n",
            "dtype: float64\n",
            "##### Desviación estandar de las 14 características de los datos de entrenamiento ##### \n",
            "Summary            4.509865\n",
            "LLuvia             0.333231\n",
            "T ambiente        10.956204\n",
            "Humedad            0.197574\n",
            "Vel_viento         7.013348\n",
            "Viraje viento    107.766729\n",
            "Visibilidad        3.918958\n",
            "Presión          115.945929\n",
            "dtype: float64\n"
          ]
        }
      ]
    },
    {
      "cell_type": "code",
      "source": [
        "train_datos.shape[1]"
      ],
      "metadata": {
        "colab": {
          "base_uri": "https://localhost:8080/"
        },
        "id": "2RQzzHWekB7w",
        "outputId": "0b28d7f8-aea5-45a8-c899-d13bff94a717"
      },
      "id": "2RQzzHWekB7w",
      "execution_count": 41,
      "outputs": [
        {
          "output_type": "execute_result",
          "data": {
            "text/plain": [
              "8"
            ]
          },
          "metadata": {},
          "execution_count": 41
        }
      ]
    },
    {
      "cell_type": "markdown",
      "source": [
        "## CREAMOS LA RED\n",
        "\n",
        "Como tenemos una base de datos tan pequeña, vamos a crear una base de datos muy pequeña con únicamente dos capas ocultas. \n",
        " En general, cuantos menos datos de entrenamiento tengamos, peor será el sobreajuste y el uso una red pequeña es una forma de reducir el sobreajuste."
      ],
      "metadata": {
        "id": "7T0MfDsToeWB"
      },
      "id": "7T0MfDsToeWB"
    },
    {
      "cell_type": "code",
      "source": [
        "import tensorflow as tf\n",
        "from keras import models\n",
        "from keras import layers\n",
        "\n",
        "def build_model():\n",
        "    # Porque necesitaremos instanciar el mismo modelo \n",
        "    # múltiples veces, usamos una función para construirlo\n",
        "    model = models.Sequential()\n",
        "    model.add(layers.Dense(128, activation='relu',\n",
        "                           input_shape=(train_datos.shape[1],)))\n",
        "    model.add(layers.Dense(128, activation='relu'))\n",
        "    model.add(layers.Dense(1))\n",
        "    # MSE: Mean Squared Error\n",
        "    # MAE: Mean Absolute Error\n",
        "    model.compile(optimizer='rmsprop', loss='mse', \n",
        "                  metrics=[tf.keras.metrics.MeanAbsoluteError()]) # metrics = ['mae']\n",
        "    return model"
      ],
      "metadata": {
        "id": "i49WNYvoo2Rn"
      },
      "id": "i49WNYvoo2Rn",
      "execution_count": 42,
      "outputs": []
    },
    {
      "cell_type": "markdown",
      "source": [
        "Con estos datos, computamos el problema con las primeras 3/4 partes de los datos de entrenamiento para entrenar y el último 1/4 de los datos para validación"
      ],
      "metadata": {
        "id": "LZDlPLgXpCOu"
      },
      "id": "LZDlPLgXpCOu"
    },
    {
      "cell_type": "code",
      "source": [
        "partial_train_datos = train_datos[:50000]\n",
        "partial_eval_train_datos = train_datos[50001:]\n",
        "partial_train_labels = train_labels[:50000]\n",
        "partial_eval_train_labels= train_labels[50001:]"
      ],
      "metadata": {
        "id": "jp5gh3Bbo5Gv"
      },
      "id": "jp5gh3Bbo5Gv",
      "execution_count": 43,
      "outputs": []
    },
    {
      "cell_type": "code",
      "source": [
        "mymodel = build_model()"
      ],
      "metadata": {
        "id": "seYZCr1dpiPS"
      },
      "id": "seYZCr1dpiPS",
      "execution_count": 44,
      "outputs": []
    },
    {
      "cell_type": "code",
      "source": [
        "history = mymodel.fit(partial_train_datos, partial_train_labels,\n",
        "            validation_data=(partial_eval_train_datos, partial_eval_train_labels),\n",
        "                        epochs=100, batch_size=128)"
      ],
      "metadata": {
        "colab": {
          "base_uri": "https://localhost:8080/"
        },
        "id": "eI5UG6nVprSf",
        "outputId": "499c3439-7e2a-4c0c-e299-935ac0abca0d"
      },
      "id": "eI5UG6nVprSf",
      "execution_count": 45,
      "outputs": [
        {
          "output_type": "stream",
          "name": "stdout",
          "text": [
            "Epoch 1/100\n",
            "391/391 [==============================] - 2s 4ms/step - loss: 16.1833 - mean_absolute_error: 1.8940 - val_loss: 0.5295 - val_mean_absolute_error: 0.5014\n",
            "Epoch 2/100\n",
            "391/391 [==============================] - 1s 4ms/step - loss: 0.3618 - mean_absolute_error: 0.4679 - val_loss: 0.2267 - val_mean_absolute_error: 0.3482\n",
            "Epoch 3/100\n",
            "391/391 [==============================] - 1s 4ms/step - loss: 0.2588 - mean_absolute_error: 0.3925 - val_loss: 0.2961 - val_mean_absolute_error: 0.4235\n",
            "Epoch 4/100\n",
            "391/391 [==============================] - 1s 4ms/step - loss: 0.2210 - mean_absolute_error: 0.3546 - val_loss: 0.2554 - val_mean_absolute_error: 0.4043\n",
            "Epoch 5/100\n",
            "391/391 [==============================] - 1s 4ms/step - loss: 0.2026 - mean_absolute_error: 0.3459 - val_loss: 0.1484 - val_mean_absolute_error: 0.2625\n",
            "Epoch 6/100\n",
            "391/391 [==============================] - 1s 4ms/step - loss: 0.1897 - mean_absolute_error: 0.3351 - val_loss: 0.1928 - val_mean_absolute_error: 0.3192\n",
            "Epoch 7/100\n",
            "391/391 [==============================] - 1s 4ms/step - loss: 0.1750 - mean_absolute_error: 0.3149 - val_loss: 0.2036 - val_mean_absolute_error: 0.3604\n",
            "Epoch 8/100\n",
            "391/391 [==============================] - 1s 4ms/step - loss: 0.1717 - mean_absolute_error: 0.3152 - val_loss: 0.1312 - val_mean_absolute_error: 0.2434\n",
            "Epoch 9/100\n",
            "391/391 [==============================] - 1s 4ms/step - loss: 0.1623 - mean_absolute_error: 0.3074 - val_loss: 0.2833 - val_mean_absolute_error: 0.4239\n",
            "Epoch 10/100\n",
            "391/391 [==============================] - 1s 4ms/step - loss: 0.1549 - mean_absolute_error: 0.2960 - val_loss: 0.0911 - val_mean_absolute_error: 0.1813\n",
            "Epoch 11/100\n",
            "391/391 [==============================] - 1s 4ms/step - loss: 0.1513 - mean_absolute_error: 0.2966 - val_loss: 0.1249 - val_mean_absolute_error: 0.2237\n",
            "Epoch 12/100\n",
            "391/391 [==============================] - 1s 4ms/step - loss: 0.1447 - mean_absolute_error: 0.2876 - val_loss: 0.0946 - val_mean_absolute_error: 0.2044\n",
            "Epoch 13/100\n",
            "391/391 [==============================] - 1s 4ms/step - loss: 0.1414 - mean_absolute_error: 0.2823 - val_loss: 0.1424 - val_mean_absolute_error: 0.2805\n",
            "Epoch 14/100\n",
            "391/391 [==============================] - 1s 4ms/step - loss: 0.1327 - mean_absolute_error: 0.2757 - val_loss: 0.1362 - val_mean_absolute_error: 0.2862\n",
            "Epoch 15/100\n",
            "391/391 [==============================] - 2s 4ms/step - loss: 0.1281 - mean_absolute_error: 0.2695 - val_loss: 0.0979 - val_mean_absolute_error: 0.2298\n",
            "Epoch 16/100\n",
            "391/391 [==============================] - 1s 4ms/step - loss: 0.1231 - mean_absolute_error: 0.2631 - val_loss: 0.1422 - val_mean_absolute_error: 0.2770\n",
            "Epoch 17/100\n",
            "391/391 [==============================] - 1s 4ms/step - loss: 0.1194 - mean_absolute_error: 0.2624 - val_loss: 0.2869 - val_mean_absolute_error: 0.4558\n",
            "Epoch 18/100\n",
            "391/391 [==============================] - 1s 4ms/step - loss: 0.1156 - mean_absolute_error: 0.2615 - val_loss: 0.1051 - val_mean_absolute_error: 0.2513\n",
            "Epoch 19/100\n",
            "391/391 [==============================] - 1s 4ms/step - loss: 0.1086 - mean_absolute_error: 0.2453 - val_loss: 0.0681 - val_mean_absolute_error: 0.1761\n",
            "Epoch 20/100\n",
            "391/391 [==============================] - 1s 4ms/step - loss: 0.1075 - mean_absolute_error: 0.2491 - val_loss: 0.0647 - val_mean_absolute_error: 0.1531\n",
            "Epoch 21/100\n",
            "391/391 [==============================] - 1s 4ms/step - loss: 0.1021 - mean_absolute_error: 0.2433 - val_loss: 0.0797 - val_mean_absolute_error: 0.2086\n",
            "Epoch 22/100\n",
            "391/391 [==============================] - 1s 4ms/step - loss: 0.0980 - mean_absolute_error: 0.2431 - val_loss: 0.1076 - val_mean_absolute_error: 0.2551\n",
            "Epoch 23/100\n",
            "391/391 [==============================] - 1s 4ms/step - loss: 0.0940 - mean_absolute_error: 0.2398 - val_loss: 0.0626 - val_mean_absolute_error: 0.1716\n",
            "Epoch 24/100\n",
            "391/391 [==============================] - 1s 4ms/step - loss: 0.0893 - mean_absolute_error: 0.2220 - val_loss: 0.0623 - val_mean_absolute_error: 0.1755\n",
            "Epoch 25/100\n",
            "391/391 [==============================] - 1s 4ms/step - loss: 0.0876 - mean_absolute_error: 0.2322 - val_loss: 0.0787 - val_mean_absolute_error: 0.2070\n",
            "Epoch 26/100\n",
            "391/391 [==============================] - 1s 4ms/step - loss: 0.0837 - mean_absolute_error: 0.2238 - val_loss: 0.1024 - val_mean_absolute_error: 0.2424\n",
            "Epoch 27/100\n",
            "391/391 [==============================] - 1s 4ms/step - loss: 0.0818 - mean_absolute_error: 0.2171 - val_loss: 0.0935 - val_mean_absolute_error: 0.2346\n",
            "Epoch 28/100\n",
            "391/391 [==============================] - 2s 4ms/step - loss: 0.0773 - mean_absolute_error: 0.2128 - val_loss: 0.0447 - val_mean_absolute_error: 0.1238\n",
            "Epoch 29/100\n",
            "391/391 [==============================] - 1s 3ms/step - loss: 0.0760 - mean_absolute_error: 0.2112 - val_loss: 0.0972 - val_mean_absolute_error: 0.2496\n",
            "Epoch 30/100\n",
            "391/391 [==============================] - 1s 4ms/step - loss: 0.0731 - mean_absolute_error: 0.2110 - val_loss: 0.1333 - val_mean_absolute_error: 0.3006\n",
            "Epoch 31/100\n",
            "391/391 [==============================] - 1s 4ms/step - loss: 0.0717 - mean_absolute_error: 0.2038 - val_loss: 0.0477 - val_mean_absolute_error: 0.1440\n",
            "Epoch 32/100\n",
            "391/391 [==============================] - 1s 4ms/step - loss: 0.0693 - mean_absolute_error: 0.2017 - val_loss: 0.0435 - val_mean_absolute_error: 0.1342\n",
            "Epoch 33/100\n",
            "391/391 [==============================] - 1s 4ms/step - loss: 0.0677 - mean_absolute_error: 0.1996 - val_loss: 0.1535 - val_mean_absolute_error: 0.3216\n",
            "Epoch 34/100\n",
            "391/391 [==============================] - 1s 3ms/step - loss: 0.0662 - mean_absolute_error: 0.1968 - val_loss: 0.0746 - val_mean_absolute_error: 0.2018\n",
            "Epoch 35/100\n",
            "391/391 [==============================] - 3s 6ms/step - loss: 0.0650 - mean_absolute_error: 0.1945 - val_loss: 0.0469 - val_mean_absolute_error: 0.1467\n",
            "Epoch 36/100\n",
            "391/391 [==============================] - 2s 4ms/step - loss: 0.0639 - mean_absolute_error: 0.1946 - val_loss: 0.0644 - val_mean_absolute_error: 0.1423\n",
            "Epoch 37/100\n",
            "391/391 [==============================] - 2s 4ms/step - loss: 0.0626 - mean_absolute_error: 0.1897 - val_loss: 0.0363 - val_mean_absolute_error: 0.1106\n",
            "Epoch 38/100\n",
            "391/391 [==============================] - 1s 4ms/step - loss: 0.0613 - mean_absolute_error: 0.1897 - val_loss: 0.0887 - val_mean_absolute_error: 0.2208\n",
            "Epoch 39/100\n",
            "391/391 [==============================] - 1s 4ms/step - loss: 0.0605 - mean_absolute_error: 0.1861 - val_loss: 0.0826 - val_mean_absolute_error: 0.2276\n",
            "Epoch 40/100\n",
            "391/391 [==============================] - 1s 4ms/step - loss: 0.0582 - mean_absolute_error: 0.1771 - val_loss: 0.0930 - val_mean_absolute_error: 0.2373\n",
            "Epoch 41/100\n",
            "391/391 [==============================] - 1s 4ms/step - loss: 0.0578 - mean_absolute_error: 0.1817 - val_loss: 0.0913 - val_mean_absolute_error: 0.2314\n",
            "Epoch 42/100\n",
            "391/391 [==============================] - 1s 4ms/step - loss: 0.0563 - mean_absolute_error: 0.1765 - val_loss: 0.0322 - val_mean_absolute_error: 0.1098\n",
            "Epoch 43/100\n",
            "391/391 [==============================] - 1s 3ms/step - loss: 0.0551 - mean_absolute_error: 0.1724 - val_loss: 0.0557 - val_mean_absolute_error: 0.1653\n",
            "Epoch 44/100\n",
            "391/391 [==============================] - 1s 4ms/step - loss: 0.0554 - mean_absolute_error: 0.1792 - val_loss: 0.0699 - val_mean_absolute_error: 0.1784\n",
            "Epoch 45/100\n",
            "391/391 [==============================] - 2s 5ms/step - loss: 0.0544 - mean_absolute_error: 0.1763 - val_loss: 0.0448 - val_mean_absolute_error: 0.1342\n",
            "Epoch 46/100\n",
            "391/391 [==============================] - 2s 5ms/step - loss: 0.0526 - mean_absolute_error: 0.1718 - val_loss: 0.0627 - val_mean_absolute_error: 0.1813\n",
            "Epoch 47/100\n",
            "391/391 [==============================] - 1s 4ms/step - loss: 0.0519 - mean_absolute_error: 0.1678 - val_loss: 0.0549 - val_mean_absolute_error: 0.1753\n",
            "Epoch 48/100\n",
            "391/391 [==============================] - 1s 4ms/step - loss: 0.0517 - mean_absolute_error: 0.1674 - val_loss: 0.0886 - val_mean_absolute_error: 0.2036\n",
            "Epoch 49/100\n",
            "391/391 [==============================] - 1s 3ms/step - loss: 0.0498 - mean_absolute_error: 0.1629 - val_loss: 0.0952 - val_mean_absolute_error: 0.2290\n",
            "Epoch 50/100\n",
            "391/391 [==============================] - 1s 4ms/step - loss: 0.0508 - mean_absolute_error: 0.1678 - val_loss: 0.0327 - val_mean_absolute_error: 0.1033\n",
            "Epoch 51/100\n",
            "391/391 [==============================] - 1s 4ms/step - loss: 0.0493 - mean_absolute_error: 0.1587 - val_loss: 0.0521 - val_mean_absolute_error: 0.1416\n",
            "Epoch 52/100\n",
            "391/391 [==============================] - 1s 4ms/step - loss: 0.0486 - mean_absolute_error: 0.1636 - val_loss: 0.0334 - val_mean_absolute_error: 0.1130\n",
            "Epoch 53/100\n",
            "391/391 [==============================] - 1s 4ms/step - loss: 0.0485 - mean_absolute_error: 0.1636 - val_loss: 0.0447 - val_mean_absolute_error: 0.1219\n",
            "Epoch 54/100\n",
            "391/391 [==============================] - 1s 4ms/step - loss: 0.0476 - mean_absolute_error: 0.1560 - val_loss: 0.1528 - val_mean_absolute_error: 0.3125\n",
            "Epoch 55/100\n",
            "391/391 [==============================] - 1s 4ms/step - loss: 0.0467 - mean_absolute_error: 0.1555 - val_loss: 0.0753 - val_mean_absolute_error: 0.1979\n",
            "Epoch 56/100\n",
            "391/391 [==============================] - 1s 4ms/step - loss: 0.0456 - mean_absolute_error: 0.1571 - val_loss: 0.1595 - val_mean_absolute_error: 0.3130\n",
            "Epoch 57/100\n",
            "391/391 [==============================] - 1s 3ms/step - loss: 0.0457 - mean_absolute_error: 0.1543 - val_loss: 0.0363 - val_mean_absolute_error: 0.1143\n",
            "Epoch 58/100\n",
            "391/391 [==============================] - 1s 4ms/step - loss: 0.0454 - mean_absolute_error: 0.1553 - val_loss: 0.0278 - val_mean_absolute_error: 0.0785\n",
            "Epoch 59/100\n",
            "391/391 [==============================] - 1s 4ms/step - loss: 0.0447 - mean_absolute_error: 0.1501 - val_loss: 0.0316 - val_mean_absolute_error: 0.0992\n",
            "Epoch 60/100\n",
            "391/391 [==============================] - 1s 4ms/step - loss: 0.0442 - mean_absolute_error: 0.1514 - val_loss: 0.0785 - val_mean_absolute_error: 0.2100\n",
            "Epoch 61/100\n",
            "391/391 [==============================] - 1s 4ms/step - loss: 0.0442 - mean_absolute_error: 0.1548 - val_loss: 0.0851 - val_mean_absolute_error: 0.2372\n",
            "Epoch 62/100\n",
            "391/391 [==============================] - 1s 4ms/step - loss: 0.0426 - mean_absolute_error: 0.1468 - val_loss: 0.0570 - val_mean_absolute_error: 0.1589\n",
            "Epoch 63/100\n",
            "391/391 [==============================] - 1s 4ms/step - loss: 0.0428 - mean_absolute_error: 0.1465 - val_loss: 0.1278 - val_mean_absolute_error: 0.2850\n",
            "Epoch 64/100\n",
            "391/391 [==============================] - 1s 4ms/step - loss: 0.0412 - mean_absolute_error: 0.1427 - val_loss: 0.0838 - val_mean_absolute_error: 0.2218\n",
            "Epoch 65/100\n",
            "391/391 [==============================] - 1s 4ms/step - loss: 0.0415 - mean_absolute_error: 0.1477 - val_loss: 0.0294 - val_mean_absolute_error: 0.0776\n",
            "Epoch 66/100\n",
            "391/391 [==============================] - 1s 4ms/step - loss: 0.0408 - mean_absolute_error: 0.1461 - val_loss: 0.0353 - val_mean_absolute_error: 0.1146\n",
            "Epoch 67/100\n",
            "391/391 [==============================] - 1s 4ms/step - loss: 0.0404 - mean_absolute_error: 0.1456 - val_loss: 0.0478 - val_mean_absolute_error: 0.1465\n",
            "Epoch 68/100\n",
            "391/391 [==============================] - 1s 4ms/step - loss: 0.0406 - mean_absolute_error: 0.1451 - val_loss: 0.0283 - val_mean_absolute_error: 0.1044\n",
            "Epoch 69/100\n",
            "391/391 [==============================] - 1s 4ms/step - loss: 0.0401 - mean_absolute_error: 0.1437 - val_loss: 0.0295 - val_mean_absolute_error: 0.0915\n",
            "Epoch 70/100\n",
            "391/391 [==============================] - 1s 4ms/step - loss: 0.0389 - mean_absolute_error: 0.1413 - val_loss: 0.0504 - val_mean_absolute_error: 0.1359\n",
            "Epoch 71/100\n",
            "391/391 [==============================] - 1s 4ms/step - loss: 0.0387 - mean_absolute_error: 0.1409 - val_loss: 0.0577 - val_mean_absolute_error: 0.1971\n",
            "Epoch 72/100\n",
            "391/391 [==============================] - 1s 4ms/step - loss: 0.0384 - mean_absolute_error: 0.1415 - val_loss: 0.0518 - val_mean_absolute_error: 0.1609\n",
            "Epoch 73/100\n",
            "391/391 [==============================] - 1s 4ms/step - loss: 0.0385 - mean_absolute_error: 0.1382 - val_loss: 0.0862 - val_mean_absolute_error: 0.2195\n",
            "Epoch 74/100\n",
            "391/391 [==============================] - 1s 3ms/step - loss: 0.0383 - mean_absolute_error: 0.1369 - val_loss: 0.0224 - val_mean_absolute_error: 0.0686\n",
            "Epoch 75/100\n",
            "391/391 [==============================] - 1s 4ms/step - loss: 0.0378 - mean_absolute_error: 0.1378 - val_loss: 0.0638 - val_mean_absolute_error: 0.1658\n",
            "Epoch 76/100\n",
            "391/391 [==============================] - 1s 4ms/step - loss: 0.0376 - mean_absolute_error: 0.1398 - val_loss: 0.0903 - val_mean_absolute_error: 0.2386\n",
            "Epoch 77/100\n",
            "391/391 [==============================] - 1s 4ms/step - loss: 0.0371 - mean_absolute_error: 0.1395 - val_loss: 0.0279 - val_mean_absolute_error: 0.0805\n",
            "Epoch 78/100\n",
            "391/391 [==============================] - 1s 4ms/step - loss: 0.0361 - mean_absolute_error: 0.1320 - val_loss: 0.0632 - val_mean_absolute_error: 0.1826\n",
            "Epoch 79/100\n",
            "391/391 [==============================] - 1s 4ms/step - loss: 0.0360 - mean_absolute_error: 0.1360 - val_loss: 0.0328 - val_mean_absolute_error: 0.0959\n",
            "Epoch 80/100\n",
            "391/391 [==============================] - 1s 4ms/step - loss: 0.0356 - mean_absolute_error: 0.1330 - val_loss: 0.0486 - val_mean_absolute_error: 0.1647\n",
            "Epoch 81/100\n",
            "391/391 [==============================] - 1s 4ms/step - loss: 0.0358 - mean_absolute_error: 0.1364 - val_loss: 0.0423 - val_mean_absolute_error: 0.1424\n",
            "Epoch 82/100\n",
            "391/391 [==============================] - 1s 4ms/step - loss: 0.0356 - mean_absolute_error: 0.1332 - val_loss: 0.0568 - val_mean_absolute_error: 0.1750\n",
            "Epoch 83/100\n",
            "391/391 [==============================] - 1s 4ms/step - loss: 0.0354 - mean_absolute_error: 0.1311 - val_loss: 0.0586 - val_mean_absolute_error: 0.1885\n",
            "Epoch 84/100\n",
            "391/391 [==============================] - 2s 4ms/step - loss: 0.0346 - mean_absolute_error: 0.1296 - val_loss: 0.0675 - val_mean_absolute_error: 0.1851\n",
            "Epoch 85/100\n",
            "391/391 [==============================] - 1s 4ms/step - loss: 0.0349 - mean_absolute_error: 0.1350 - val_loss: 0.0403 - val_mean_absolute_error: 0.1356\n",
            "Epoch 86/100\n",
            "391/391 [==============================] - 1s 4ms/step - loss: 0.0343 - mean_absolute_error: 0.1278 - val_loss: 0.0665 - val_mean_absolute_error: 0.2080\n",
            "Epoch 87/100\n",
            "391/391 [==============================] - 1s 4ms/step - loss: 0.0342 - mean_absolute_error: 0.1299 - val_loss: 0.0611 - val_mean_absolute_error: 0.1847\n",
            "Epoch 88/100\n",
            "391/391 [==============================] - 1s 4ms/step - loss: 0.0342 - mean_absolute_error: 0.1355 - val_loss: 0.0742 - val_mean_absolute_error: 0.2028\n",
            "Epoch 89/100\n",
            "391/391 [==============================] - 2s 4ms/step - loss: 0.0340 - mean_absolute_error: 0.1339 - val_loss: 0.0288 - val_mean_absolute_error: 0.1007\n",
            "Epoch 90/100\n",
            "391/391 [==============================] - 2s 4ms/step - loss: 0.0329 - mean_absolute_error: 0.1252 - val_loss: 0.0271 - val_mean_absolute_error: 0.0801\n",
            "Epoch 91/100\n",
            "391/391 [==============================] - 1s 4ms/step - loss: 0.0335 - mean_absolute_error: 0.1302 - val_loss: 0.0712 - val_mean_absolute_error: 0.1938\n",
            "Epoch 92/100\n",
            "391/391 [==============================] - 1s 4ms/step - loss: 0.0329 - mean_absolute_error: 0.1309 - val_loss: 0.0739 - val_mean_absolute_error: 0.2134\n",
            "Epoch 93/100\n",
            "391/391 [==============================] - 1s 4ms/step - loss: 0.0332 - mean_absolute_error: 0.1309 - val_loss: 0.0563 - val_mean_absolute_error: 0.1781\n",
            "Epoch 94/100\n",
            "391/391 [==============================] - 1s 4ms/step - loss: 0.0322 - mean_absolute_error: 0.1260 - val_loss: 0.0489 - val_mean_absolute_error: 0.1621\n",
            "Epoch 95/100\n",
            "391/391 [==============================] - 1s 4ms/step - loss: 0.0328 - mean_absolute_error: 0.1236 - val_loss: 0.0268 - val_mean_absolute_error: 0.0778\n",
            "Epoch 96/100\n",
            "391/391 [==============================] - 1s 4ms/step - loss: 0.0320 - mean_absolute_error: 0.1238 - val_loss: 0.1174 - val_mean_absolute_error: 0.2568\n",
            "Epoch 97/100\n",
            "391/391 [==============================] - 2s 4ms/step - loss: 0.0315 - mean_absolute_error: 0.1187 - val_loss: 0.0187 - val_mean_absolute_error: 0.0720\n",
            "Epoch 98/100\n",
            "391/391 [==============================] - 1s 4ms/step - loss: 0.0323 - mean_absolute_error: 0.1304 - val_loss: 0.0384 - val_mean_absolute_error: 0.1077\n",
            "Epoch 99/100\n",
            "391/391 [==============================] - 1s 4ms/step - loss: 0.0314 - mean_absolute_error: 0.1208 - val_loss: 0.0300 - val_mean_absolute_error: 0.1007\n",
            "Epoch 100/100\n",
            "391/391 [==============================] - 1s 4ms/step - loss: 0.0304 - mean_absolute_error: 0.1192 - val_loss: 0.0960 - val_mean_absolute_error: 0.2369\n"
          ]
        }
      ]
    },
    {
      "cell_type": "code",
      "source": [
        "mae_history = history.history['val_mean_absolute_error']"
      ],
      "metadata": {
        "id": "iGJBKsErp6hB"
      },
      "id": "iGJBKsErp6hB",
      "execution_count": 46,
      "outputs": []
    },
    {
      "cell_type": "code",
      "source": [
        "mse_history = history.history['val_loss']"
      ],
      "metadata": {
        "id": "0NM0QWErp98u"
      },
      "id": "0NM0QWErp98u",
      "execution_count": 47,
      "outputs": []
    },
    {
      "cell_type": "markdown",
      "source": [
        "Confrontamos en una gráfica las épocas frente a la pérdida pérdida (MSE)"
      ],
      "metadata": {
        "id": "W0kHJ443qE6p"
      },
      "id": "W0kHJ443qE6p"
    },
    {
      "cell_type": "code",
      "source": [
        "import matplotlib.pyplot as plt\n",
        "\n",
        "plt.plot(range(1, len(mse_history) + 1), mse_history)\n",
        "plt.xlabel('Epochs')\n",
        "plt.ylabel('Validación MSE')\n",
        "plt.show()"
      ],
      "metadata": {
        "id": "sNPBLN62qETp",
        "outputId": "7f5f01e7-a0ad-4b51-882e-8851f075d325",
        "colab": {
          "base_uri": "https://localhost:8080/",
          "height": 279
        }
      },
      "id": "sNPBLN62qETp",
      "execution_count": 48,
      "outputs": [
        {
          "output_type": "display_data",
          "data": {
            "text/plain": [
              "<Figure size 432x288 with 1 Axes>"
            ],
            "image/png": "[encoded data removed]"
          },
          "metadata": {
            "needs_background": "light"
          }
        }
      ]
    },
    {
      "cell_type": "code",
      "source": [
        "import matplotlib.pyplot as plt\n",
        "\n",
        "loss = history.history['loss']\n",
        "val_loss = history.history['val_loss']\n",
        "\n",
        "epochs = range(1, len(loss) + 1)\n",
        "\n",
        "plt.plot(epochs, loss, 'bo', label='Pérdida del entreno')\n",
        "plt.plot(epochs, val_loss, 'b', label='Pérdida de la validación')\n",
        "plt.title('Perdidas del entreno y la validación')\n",
        "plt.xlabel('Épocas')\n",
        "plt.ylabel('Pérdida')\n",
        "plt.legend()\n",
        "\n",
        "plt.show()"
      ],
      "metadata": {
        "id": "iysI43zEqVQb",
        "outputId": "eb03bbd6-573c-4b0a-d2e5-1011d0d26cb1",
        "colab": {
          "base_uri": "https://localhost:8080/",
          "height": 297
        }
      },
      "id": "iysI43zEqVQb",
      "execution_count": 49,
      "outputs": [
        {
          "output_type": "display_data",
          "data": {
            "text/plain": [
              "<Figure size 432x288 with 1 Axes>"
            ],
            "image/png": "[encoded data removed]"
          },
          "metadata": {
            "needs_background": "light"
          }
        }
      ]
    },
    {
      "cell_type": "markdown",
      "source": [
        "Confrontamos en una gráfica las épocas contra la métrica de error absoluto medio (MAE)"
      ],
      "metadata": {
        "id": "BZnSo8GiqXi7"
      },
      "id": "BZnSo8GiqXi7"
    },
    {
      "cell_type": "code",
      "source": [
        " import matplotlib.pyplot as plt\n",
        "\n",
        "plt.plot(range(1, len(mae_history) + 1), mae_history)\n",
        "plt.xlabel('Epochs')\n",
        "plt.ylabel('Validación MAE')\n",
        "plt.show()"
      ],
      "metadata": {
        "id": "d7OI2-P4qXy9",
        "outputId": "73351c35-6957-46c5-832c-5a5b58f40414",
        "colab": {
          "base_uri": "https://localhost:8080/",
          "height": 279
        }
      },
      "id": "d7OI2-P4qXy9",
      "execution_count": 50,
      "outputs": [
        {
          "output_type": "display_data",
          "data": {
            "text/plain": [
              "<Figure size 432x288 with 1 Axes>"
            ],
            "image/png": "[encoded data removed]"
          },
          "metadata": {
            "needs_background": "light"
          }
        }
      ]
    },
    {
      "cell_type": "code",
      "source": [
        "import matplotlib.pyplot as plt\n",
        "\n",
        "loss = history.history['mean_absolute_error']\n",
        "val_loss = history.history['val_mean_absolute_error']\n",
        "\n",
        "epochs = range(1, len(loss) + 1)\n",
        "\n",
        "plt.plot(epochs, loss, 'bo', label='Pérdida del entreno')\n",
        "plt.plot(epochs, val_loss, 'b', label='Pérdida de la validación')\n",
        "plt.title('Perdidas del entreno y la validación')\n",
        "plt.xlabel('Épocas')\n",
        "plt.ylabel('Pérdida')\n",
        "plt.legend()\n",
        "\n",
        "plt.show()"
      ],
      "metadata": {
        "id": "g0K_QQ4hqfJB",
        "outputId": "7fb4daab-0f08-4421-daf8-72c96ceeb285",
        "colab": {
          "base_uri": "https://localhost:8080/",
          "height": 297
        }
      },
      "id": "g0K_QQ4hqfJB",
      "execution_count": 51,
      "outputs": [
        {
          "output_type": "display_data",
          "data": {
            "text/plain": [
              "<Figure size 432x288 with 1 Axes>"
            ],
            "image/png": "[encoded data removed]"
          },
          "metadata": {
            "needs_background": "light"
          }
        }
      ]
    },
    {
      "cell_type": "code",
      "source": [
        "mymodel2 = build_model()"
      ],
      "metadata": {
        "id": "GubxwyNGEYuP"
      },
      "id": "GubxwyNGEYuP",
      "execution_count": 54,
      "outputs": []
    },
    {
      "cell_type": "code",
      "source": [
        "history = mymodel2.fit(partial_train_datos, partial_train_labels,\n",
        "            validation_data=(partial_eval_train_datos, partial_eval_train_labels),\n",
        "                        epochs=20, batch_size=128)"
      ],
      "metadata": {
        "id": "DqhZ_1YMqiIO",
        "colab": {
          "base_uri": "https://localhost:8080/"
        },
        "outputId": "ed3e9ebe-4e85-476d-c153-06174fbde1a8"
      },
      "id": "DqhZ_1YMqiIO",
      "execution_count": 55,
      "outputs": [
        {
          "output_type": "stream",
          "name": "stdout",
          "text": [
            "Epoch 1/20\n",
            "391/391 [==============================] - 2s 4ms/step - loss: 13.7280 - mean_absolute_error: 1.7220 - val_loss: 1.1713 - val_mean_absolute_error: 0.8660\n",
            "Epoch 2/20\n",
            "391/391 [==============================] - 1s 4ms/step - loss: 0.3671 - mean_absolute_error: 0.4675 - val_loss: 0.2217 - val_mean_absolute_error: 0.3257\n",
            "Epoch 3/20\n",
            "391/391 [==============================] - 1s 4ms/step - loss: 0.2755 - mean_absolute_error: 0.4103 - val_loss: 0.2587 - val_mean_absolute_error: 0.3803\n",
            "Epoch 4/20\n",
            "391/391 [==============================] - 1s 3ms/step - loss: 0.2392 - mean_absolute_error: 0.3738 - val_loss: 0.2353 - val_mean_absolute_error: 0.3668\n",
            "Epoch 5/20\n",
            "391/391 [==============================] - 1s 4ms/step - loss: 0.2152 - mean_absolute_error: 0.3557 - val_loss: 0.2552 - val_mean_absolute_error: 0.3877\n",
            "Epoch 6/20\n",
            "391/391 [==============================] - 1s 3ms/step - loss: 0.2010 - mean_absolute_error: 0.3408 - val_loss: 0.3099 - val_mean_absolute_error: 0.4783\n",
            "Epoch 7/20\n",
            "391/391 [==============================] - 1s 4ms/step - loss: 0.1882 - mean_absolute_error: 0.3254 - val_loss: 0.1185 - val_mean_absolute_error: 0.2271\n",
            "Epoch 8/20\n",
            "391/391 [==============================] - 1s 3ms/step - loss: 0.1815 - mean_absolute_error: 0.3262 - val_loss: 0.1561 - val_mean_absolute_error: 0.2935\n",
            "Epoch 9/20\n",
            "391/391 [==============================] - 1s 3ms/step - loss: 0.1719 - mean_absolute_error: 0.3174 - val_loss: 0.1273 - val_mean_absolute_error: 0.2464\n",
            "Epoch 10/20\n",
            "391/391 [==============================] - 1s 4ms/step - loss: 0.1653 - mean_absolute_error: 0.3096 - val_loss: 0.2702 - val_mean_absolute_error: 0.4031\n",
            "Epoch 11/20\n",
            "391/391 [==============================] - 1s 4ms/step - loss: 0.1578 - mean_absolute_error: 0.3013 - val_loss: 0.2232 - val_mean_absolute_error: 0.3667\n",
            "Epoch 12/20\n",
            "391/391 [==============================] - 1s 3ms/step - loss: 0.1502 - mean_absolute_error: 0.2930 - val_loss: 0.2988 - val_mean_absolute_error: 0.4354\n",
            "Epoch 13/20\n",
            "391/391 [==============================] - 3s 7ms/step - loss: 0.1440 - mean_absolute_error: 0.2890 - val_loss: 0.1042 - val_mean_absolute_error: 0.2192\n",
            "Epoch 14/20\n",
            "391/391 [==============================] - 2s 6ms/step - loss: 0.1352 - mean_absolute_error: 0.2819 - val_loss: 0.1121 - val_mean_absolute_error: 0.2304\n",
            "Epoch 15/20\n",
            "391/391 [==============================] - 1s 4ms/step - loss: 0.1273 - mean_absolute_error: 0.2789 - val_loss: 0.0776 - val_mean_absolute_error: 0.1871\n",
            "Epoch 16/20\n",
            "391/391 [==============================] - 1s 4ms/step - loss: 0.1198 - mean_absolute_error: 0.2668 - val_loss: 0.1454 - val_mean_absolute_error: 0.2868\n",
            "Epoch 17/20\n",
            "391/391 [==============================] - 1s 4ms/step - loss: 0.1145 - mean_absolute_error: 0.2628 - val_loss: 0.1005 - val_mean_absolute_error: 0.2223\n",
            "Epoch 18/20\n",
            "391/391 [==============================] - 1s 3ms/step - loss: 0.1107 - mean_absolute_error: 0.2597 - val_loss: 0.1115 - val_mean_absolute_error: 0.2250\n",
            "Epoch 19/20\n",
            "391/391 [==============================] - 1s 4ms/step - loss: 0.1030 - mean_absolute_error: 0.2499 - val_loss: 0.1216 - val_mean_absolute_error: 0.2756\n",
            "Epoch 20/20\n",
            "391/391 [==============================] - 1s 4ms/step - loss: 0.1014 - mean_absolute_error: 0.2486 - val_loss: 0.0622 - val_mean_absolute_error: 0.1552\n"
          ]
        }
      ]
    },
    {
      "cell_type": "code",
      "source": [
        "mae_history = history.history['val_mean_absolute_error']\n",
        "mse_history = history.history['val_loss']"
      ],
      "metadata": {
        "id": "OzahxAlHD0e0"
      },
      "id": "OzahxAlHD0e0",
      "execution_count": 56,
      "outputs": []
    },
    {
      "cell_type": "code",
      "source": [
        "import matplotlib.pyplot as plt\n",
        "\n",
        "plt.plot(range(1, len(mse_history) + 1), mse_history)\n",
        "plt.xlabel('Epochs')\n",
        "plt.ylabel('Validación MSE')\n",
        "plt.show()"
      ],
      "metadata": {
        "id": "xnUNGmilD1ZI",
        "outputId": "6458cdb1-330a-4430-8b97-a2378d8089e5",
        "colab": {
          "base_uri": "https://localhost:8080/",
          "height": 279
        }
      },
      "id": "xnUNGmilD1ZI",
      "execution_count": 57,
      "outputs": [
        {
          "output_type": "display_data",
          "data": {
            "text/plain": [
              "<Figure size 432x288 with 1 Axes>"
            ],
            "image/png": "[encoded data removed]"
          },
          "metadata": {
            "needs_background": "light"
          }
        }
      ]
    },
    {
      "cell_type": "code",
      "source": [
        "import matplotlib.pyplot as plt\n",
        "\n",
        "loss = history.history['loss']\n",
        "val_loss = history.history['val_loss']\n",
        "\n",
        "epochs = range(1, len(loss) + 1)\n",
        "\n",
        "plt.plot(epochs, loss, 'bo', label='Pérdida del entreno')\n",
        "plt.plot(epochs, val_loss, 'b', label='Pérdida de la validación')\n",
        "plt.title('Perdidas del entreno y la validación')\n",
        "plt.xlabel('Épocas')\n",
        "plt.ylabel('Pérdida')\n",
        "plt.legend()\n",
        "\n",
        "plt.show()"
      ],
      "metadata": {
        "id": "roWq86OeD1Nv",
        "outputId": "da8e0355-b19b-4be9-b693-929701383127",
        "colab": {
          "base_uri": "https://localhost:8080/",
          "height": 297
        }
      },
      "id": "roWq86OeD1Nv",
      "execution_count": 58,
      "outputs": [
        {
          "output_type": "display_data",
          "data": {
            "text/plain": [
              "<Figure size 432x288 with 1 Axes>"
            ],
            "image/png": "[encoded data removed]"
          },
          "metadata": {
            "needs_background": "light"
          }
        }
      ]
    },
    {
      "cell_type": "code",
      "source": [
        "import matplotlib.pyplot as plt\n",
        "\n",
        "plt.plot(range(1, len(mae_history) + 1), mae_history)\n",
        "plt.xlabel('Epochs')\n",
        "plt.ylabel('Validación MAE')\n",
        "plt.show()"
      ],
      "metadata": {
        "id": "92roMX5PD0yo",
        "outputId": "8958496a-6c5a-4744-d225-e797cf6addd9",
        "colab": {
          "base_uri": "https://localhost:8080/",
          "height": 283
        }
      },
      "id": "92roMX5PD0yo",
      "execution_count": 59,
      "outputs": [
        {
          "output_type": "display_data",
          "data": {
            "text/plain": [
              "<Figure size 432x288 with 1 Axes>"
            ],
            "image/png": "[encoded data removed]"
          },
          "metadata": {
            "needs_background": "light"
          }
        }
      ]
    },
    {
      "cell_type": "code",
      "source": [
        "import matplotlib.pyplot as plt\n",
        "\n",
        "loss = history.history['mean_absolute_error']\n",
        "val_loss = history.history['val_mean_absolute_error']\n",
        "\n",
        "epochs = range(1, len(loss) + 1)\n",
        "\n",
        "plt.plot(epochs, loss, 'bo', label='Pérdida del entreno')\n",
        "plt.plot(epochs, val_loss, 'b', label='Pérdida de la validación')\n",
        "plt.title('Perdidas del entreno y la validación')\n",
        "plt.xlabel('Épocas')\n",
        "plt.ylabel('Pérdida')\n",
        "plt.legend()\n",
        "\n",
        "plt.show()"
      ],
      "metadata": {
        "id": "KrS5-O-ZEEW1",
        "outputId": "39790410-d0f5-4100-831a-6a3e3a5d30ac",
        "colab": {
          "base_uri": "https://localhost:8080/",
          "height": 297
        }
      },
      "id": "KrS5-O-ZEEW1",
      "execution_count": 60,
      "outputs": [
        {
          "output_type": "display_data",
          "data": {
            "text/plain": [
              "<Figure size 432x288 with 1 Axes>"
            ],
            "image/png": "[encoded data removed]"
          },
          "metadata": {
            "needs_background": "light"
          }
        }
      ]
    },
    {
      "cell_type": "code",
      "source": [
        "import numpy as np\n",
        "\n",
        "# k= 4 particiones\n",
        "k = 4\n",
        "num_val_samples = len(partial_train_datos) // k # 404//4=101\n",
        "print(\"num_val_samples\", num_val_samples)\n",
        "num_epochs = 30\n",
        "all_scores = []\n",
        "for i in range(k):\n",
        "    print('processing fold #', i)\n",
        "    # Preparamos la validación de los datos: datos de la partición #k\n",
        "    print(\"Uso para validar el siguiente rango de datos de entrenamiento -> [\",(i * num_val_samples),\":\",((i + 1) * num_val_samples),\"]\")\n",
        "    val_data = partial_train_datos[i * num_val_samples: (i + 1) * num_val_samples]\n",
        "    val_targets = partial_train_labels[i * num_val_samples: (i + 1) * num_val_samples]\n",
        "\n",
        "    # Preparamos los datos de entrenamiento: Datos de las demás particiones\n",
        "    print(\"Uso para entrenar el siguiente rango de datos de entrenamiento -> [0:\",(i * num_val_samples),\"]U[\",(i + 1) * num_val_samples,\":\",len(partial_train_datos),\"]\")\n",
        "    partial_train_data = np.concatenate(\n",
        "        [partial_train_datos[:i * num_val_samples],\n",
        "         partial_train_datos[(i + 1) * num_val_samples:]],\n",
        "        axis=0)\n",
        "    partial_train_targets = np.concatenate(\n",
        "        [partial_train_labels[:i * num_val_samples],\n",
        "         partial_train_labels[(i + 1) * num_val_samples:]],\n",
        "        axis=0)\n",
        "\n",
        "    # Construcción del modelo Keras (ya compilado)\n",
        "    model = build_model()\n",
        "    # Entrenando el modelo (en modo silencioso, verbose=0)\n",
        "    model.fit(partial_train_data, partial_train_targets,\n",
        "              epochs=num_epochs, batch_size=128, verbose=0)\n",
        "    # Evalua el modelo sobre los datos de validación\n",
        "    val_mse, val_mae = model.evaluate(val_data, val_targets, verbose=0)\n",
        "    all_scores.append(val_mae)"
      ],
      "metadata": {
        "id": "EHP6j4iyFl0o",
        "outputId": "eff66c82-7953-43d0-c508-7b54f40d9e60",
        "colab": {
          "base_uri": "https://localhost:8080/"
        }
      },
      "id": "EHP6j4iyFl0o",
      "execution_count": 62,
      "outputs": [
        {
          "output_type": "stream",
          "name": "stdout",
          "text": [
            "num_val_samples 12500\n",
            "processing fold # 0\n",
            "Uso para validar el siguiente rango de datos de entrenamiento -> [ 0 : 12500 ]\n",
            "Uso para entrenar el siguiente rango de datos de entrenamiento -> [0: 0 ]U[ 12500 : 50000 ]\n",
            "processing fold # 1\n",
            "Uso para validar el siguiente rango de datos de entrenamiento -> [ 12500 : 25000 ]\n",
            "Uso para entrenar el siguiente rango de datos de entrenamiento -> [0: 12500 ]U[ 25000 : 50000 ]\n",
            "processing fold # 2\n",
            "Uso para validar el siguiente rango de datos de entrenamiento -> [ 25000 : 37500 ]\n",
            "Uso para entrenar el siguiente rango de datos de entrenamiento -> [0: 25000 ]U[ 37500 : 50000 ]\n",
            "processing fold # 3\n",
            "Uso para validar el siguiente rango de datos de entrenamiento -> [ 37500 : 50000 ]\n",
            "Uso para entrenar el siguiente rango de datos de entrenamiento -> [0: 37500 ]U[ 50000 : 50000 ]\n"
          ]
        }
      ]
    },
    {
      "cell_type": "code",
      "source": [
        "all_scores"
      ],
      "metadata": {
        "id": "endubuNzFvZx",
        "outputId": "35276ce7-b133-414a-de1b-e88d446fb072",
        "colab": {
          "base_uri": "https://localhost:8080/"
        }
      },
      "id": "endubuNzFvZx",
      "execution_count": 63,
      "outputs": [
        {
          "output_type": "execute_result",
          "data": {
            "text/plain": [
              "[0.22232098877429962,\n",
              " 0.24478867650032043,\n",
              " 0.16810421645641327,\n",
              " 0.3730873465538025]"
            ]
          },
          "metadata": {},
          "execution_count": 63
        }
      ]
    },
    {
      "cell_type": "code",
      "source": [
        "np.mean(all_scores)"
      ],
      "metadata": {
        "id": "g3pAnq6aFvYF",
        "outputId": "89b818eb-1fa1-4149-b0f8-a8d390e5b9c3",
        "colab": {
          "base_uri": "https://localhost:8080/"
        }
      },
      "id": "g3pAnq6aFvYF",
      "execution_count": 64,
      "outputs": [
        {
          "output_type": "execute_result",
          "data": {
            "text/plain": [
              "0.25207530707120895"
            ]
          },
          "metadata": {},
          "execution_count": 64
        }
      ]
    },
    {
      "cell_type": "code",
      "source": [
        "from keras import backend as K\n",
        "\n",
        "# Some memory clean-up\n",
        "K.clear_session()"
      ],
      "metadata": {
        "id": "uk1hA2cbFvU7"
      },
      "id": "uk1hA2cbFvU7",
      "execution_count": 65,
      "outputs": []
    },
    {
      "cell_type": "code",
      "source": [
        "num_epochs = 60\n",
        "all_mae_histories = []\n",
        "for i in range(k):\n",
        "    print('processing fold #', i)\n",
        "    # Preparamos la validación de los datos: datos de la partición # k\n",
        "    print(\"Uso para validar el siguiente rango de datos de entrenamiento -> [\",(i * num_val_samples),\":\",((i + 1) * num_val_samples),\"]\")\n",
        "    val_data = partial_train_datos[i * num_val_samples: (i + 1) * num_val_samples]\n",
        "    val_targets = partial_train_labels[i * num_val_samples: (i + 1) * num_val_samples]\n",
        "\n",
        "    # Preparamos los datos de entrenamiento: Datos de todas la demás particiones\n",
        "    print(\"Uso para entrenar el siguiente rango de datos de entrenamiento -> [0:\",(i * num_val_samples),\"]U[\",(i + 1) * num_val_samples,\":\",len(partial_train_datos),\"]\")\n",
        "    partial_train_data = np.concatenate(\n",
        "        [partial_train_datos[:i * num_val_samples],\n",
        "         partial_train_datos[(i + 1) * num_val_samples:]],\n",
        "        axis=0)\n",
        "    partial_train_targets = np.concatenate(\n",
        "        [partial_train_labels[:i * num_val_samples],\n",
        "         partial_train_labels[(i + 1) * num_val_samples:]],\n",
        "        axis=0)\n",
        "\n",
        "    # Construcción del modelo Keras (ya compilado)\n",
        "    model = build_model()\n",
        "    # Entrenando el modelo (en modo silencioso, verbose=0)\n",
        "    history = model.fit(partial_train_data, partial_train_targets,\n",
        "                        validation_data=(val_data, val_targets),\n",
        "                        epochs=num_epochs, batch_size=128, verbose=0)\n",
        "    mae_history = history.history['val_mean_absolute_error']\n",
        "    all_mae_histories.append(mae_history)"
      ],
      "metadata": {
        "id": "aJlIOP07FvTT",
        "outputId": "18d0611c-4d75-4723-f976-e13a56f6a28d",
        "colab": {
          "base_uri": "https://localhost:8080/"
        }
      },
      "id": "aJlIOP07FvTT",
      "execution_count": 67,
      "outputs": [
        {
          "output_type": "stream",
          "name": "stdout",
          "text": [
            "processing fold # 0\n",
            "Uso para validar el siguiente rango de datos de entrenamiento -> [ 0 : 12500 ]\n",
            "Uso para entrenar el siguiente rango de datos de entrenamiento -> [0: 0 ]U[ 12500 : 50000 ]\n",
            "processing fold # 1\n",
            "Uso para validar el siguiente rango de datos de entrenamiento -> [ 12500 : 25000 ]\n",
            "Uso para entrenar el siguiente rango de datos de entrenamiento -> [0: 12500 ]U[ 25000 : 50000 ]\n",
            "processing fold # 2\n",
            "Uso para validar el siguiente rango de datos de entrenamiento -> [ 25000 : 37500 ]\n",
            "Uso para entrenar el siguiente rango de datos de entrenamiento -> [0: 25000 ]U[ 37500 : 50000 ]\n",
            "processing fold # 3\n",
            "Uso para validar el siguiente rango de datos de entrenamiento -> [ 37500 : 50000 ]\n",
            "Uso para entrenar el siguiente rango de datos de entrenamiento -> [0: 37500 ]U[ 50000 : 50000 ]\n"
          ]
        }
      ]
    },
    {
      "cell_type": "code",
      "source": [
        "average_mae_history = [\n",
        "    np.mean([x[i] for x in all_mae_histories]) for i in range(num_epochs)]"
      ],
      "metadata": {
        "id": "AxgQSQKyFu6w"
      },
      "id": "AxgQSQKyFu6w",
      "execution_count": 68,
      "outputs": []
    },
    {
      "cell_type": "code",
      "source": [
        "import matplotlib.pyplot as plt\n",
        "\n",
        "plt.plot(range(1, len(average_mae_history) + 1), average_mae_history)\n",
        "plt.xlabel('Epochs')\n",
        "plt.ylabel('Validación MAE')\n",
        "plt.show()"
      ],
      "metadata": {
        "id": "A5aVTkV1F9qh",
        "outputId": "0280065d-1ce8-4af6-d280-1f615b3d246d",
        "colab": {
          "base_uri": "https://localhost:8080/",
          "height": 279
        }
      },
      "id": "A5aVTkV1F9qh",
      "execution_count": 69,
      "outputs": [
        {
          "output_type": "display_data",
          "data": {
            "text/plain": [
              "<Figure size 432x288 with 1 Axes>"
            ],
            "image/png": "[encoded data removed]"
          },
          "metadata": {
            "needs_background": "light"
          }
        }
      ]
    },
    {
      "cell_type": "code",
      "source": [
        "def smooth_curve(points, factor=0.9):\n",
        "  smoothed_points = []\n",
        "  for point in points:\n",
        "    if smoothed_points:\n",
        "      previous = smoothed_points[-1]\n",
        "      smoothed_points.append(previous * factor + point * (1 - factor))\n",
        "    else:\n",
        "      smoothed_points.append(point)\n",
        "  return smoothed_points\n",
        "\n",
        "smooth_mae_history = smooth_curve(average_mae_history[10:])\n",
        "\n",
        "plt.plot(range(1, len(smooth_mae_history) + 1), smooth_mae_history)\n",
        "plt.xlabel('Repeticiones')\n",
        "plt.ylabel('MAE de validación')\n",
        "plt.show()"
      ],
      "metadata": {
        "id": "O2b5E7LMGBwT",
        "outputId": "e3c2f479-b725-4da3-84bc-eb60c24d707a",
        "colab": {
          "base_uri": "https://localhost:8080/",
          "height": 279
        }
      },
      "id": "O2b5E7LMGBwT",
      "execution_count": 70,
      "outputs": [
        {
          "output_type": "display_data",
          "data": {
            "text/plain": [
              "<Figure size 432x288 with 1 Axes>"
            ],
            "image/png": "[encoded data removed]"
          },
          "metadata": {
            "needs_background": "light"
          }
        }
      ]
    },
    {
      "cell_type": "code",
      "source": [
        "# Obtenemos un modelo compilado nuevo\n",
        "model = build_model()\n",
        "# Lo entrenamos en todos los datos.\n",
        "model.fit(train_datos, train_labels,\n",
        "          epochs=20, batch_size=128, verbose=0)\n",
        "test_mse_score, test_mae_score = model.evaluate(test_datos, test_labels )"
      ],
      "metadata": {
        "id": "BHMLgKEXGFgN",
        "outputId": "16dc3482-2e1e-4970-8662-634d8dd37fa0",
        "colab": {
          "base_uri": "https://localhost:8080/"
        }
      },
      "id": "BHMLgKEXGFgN",
      "execution_count": 73,
      "outputs": [
        {
          "output_type": "stream",
          "name": "stdout",
          "text": [
            "811/811 [==============================] - 1s 2ms/step - loss: 0.0920 - mean_absolute_error: 0.2431\n"
          ]
        }
      ]
    },
    {
      "cell_type": "code",
      "source": [
        "test_mae_score"
      ],
      "metadata": {
        "id": "0aK6YiEAGHt8",
        "outputId": "5d894ec7-31c1-4328-82d0-c9ea6bf06a51",
        "colab": {
          "base_uri": "https://localhost:8080/"
        }
      },
      "id": "0aK6YiEAGHt8",
      "execution_count": 74,
      "outputs": [
        {
          "output_type": "execute_result",
          "data": {
            "text/plain": [
              "0.24309805035591125"
            ]
          },
          "metadata": {},
          "execution_count": 74
        }
      ]
    }
  ],
  "metadata": {
    "kernelspec": {
      "display_name": "Python 3 (ipykernel)",
      "language": "python",
      "name": "python3"
    },
    "language_info": {
      "codemirror_mode": {
        "name": "ipython",
        "version": 3
      },
      "file_extension": ".py",
      "mimetype": "text/x-python",
      "name": "python",
      "nbconvert_exporter": "python",
      "pygments_lexer": "ipython3",
      "version": "3.8.8"
    },
    "colab": {
      "provenance": []
    }
  },
  "nbformat": 4,
  "nbformat_minor": 5
}