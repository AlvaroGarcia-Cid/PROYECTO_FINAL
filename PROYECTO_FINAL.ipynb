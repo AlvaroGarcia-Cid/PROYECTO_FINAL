{
  "cells": [
    {
      "cell_type": "markdown",
      "source": [
        "PILAR ARIAS, ÁLVARO GARCÍA CID, YEDRA MARTÍN, AMAYA SARASA\n",
        "\n",
        "<GRUPO 7>"
      ],
      "metadata": {
        "id": "-N8Vmt0WI0A2"
      },
      "id": "-N8Vmt0WI0A2"
    },
    {
      "cell_type": "markdown",
      "source": [
        "#INTRODUCCIÓN"
      ],
      "metadata": {
        "id": "dB3u7gbrKxAG"
      },
      "id": "dB3u7gbrKxAG"
    },
    {
      "cell_type": "markdown",
      "source": [
        "En este trabajo se va a proceder a realizar un proyecto de creación de una red neuronal que nos permita solucionar un problema de regresión.\n",
        "\n",
        "Para tomar el tema sobre el cual va a tratar este proyecto se ha decidido buscar un tema que pueda ser útil en nuestro día a día, por eso hemos decidido que una buena opción es realizar predicciones de temperatura en un lugar concreto.\n",
        "\n",
        "A continuación se procederá a realizar la resolución de este proyecto: "
      ],
      "metadata": {
        "id": "3imp8nVbJBtq"
      },
      "id": "3imp8nVbJBtq"
    },
    {
      "cell_type": "markdown",
      "source": [
        "Se importa keras"
      ],
      "metadata": {
        "id": "bDT0rPR_LG-l"
      },
      "id": "bDT0rPR_LG-l"
    },
    {
      "cell_type": "code",
      "execution_count": 1,
      "id": "5567306c",
      "metadata": {
        "colab": {
          "base_uri": "https://localhost:8080/",
          "height": 36
        },
        "id": "5567306c",
        "outputId": "863bbc9e-3f2d-44ca-e633-eacac1c0e6f9"
      },
      "outputs": [
        {
          "output_type": "execute_result",
          "data": {
            "text/plain": [
              "'2.9.0'"
            ],
            "application/vnd.google.colaboratory.intrinsic+json": {
              "type": "string"
            }
          },
          "metadata": {},
          "execution_count": 1
        }
      ],
      "source": [
        "import keras\n",
        "keras.__version__"
      ]
    },
    {
      "cell_type": "markdown",
      "source": [
        "# Descarga y tratado de datos\n",
        "Para comenzar el desarrollo del proyecto es necesario cargar la base de datos que se va a utilizar en este. La base de datos empleada en este proyecto ha sido extraída de kaggle y consta de los siguientes datos:\n",
        "\n",
        "Se trata de una base de datos con un registro de 96453 registros de los cuales se han cogido 12 características que son las siguientes:\n",
        "- **Formatted date**: Fecha\n",
        "- **Summary**: Resumen del clima de ese momento\n",
        "- **Precip Type**: Tipo de precipitación\n",
        "- **Temperature**: Temperatura en grados centígrados\n",
        "- **Apparent Temperature**: Sensación térmica en grados centígrados\n",
        "- **Humidity**: Humedad\n",
        "- **Wind speed**: Velocidad del viento\n",
        "- **Wind Bearing**: Dirección del viento\n",
        "- **Visibility**: Rango de visibilidad\n",
        "- **Loud cover**: Nubosidad\n",
        "- **Pressure**: Presión atmosférica\n",
        "- **Daily summary**: Resumen diario\n",
        "\n",
        "Se va a mostrar una tabla como ejemplo de muestra de estos datos:\n",
        "\n"
      ],
      "metadata": {
        "id": "VxtiL4ISC1UK"
      },
      "id": "VxtiL4ISC1UK"
    },
    {
      "cell_type": "code",
      "source": [
        "import pandas as pd\n",
        "datos=pd.read_csv('weatherHistory.csv',encoding='latin-1')\n",
        "datos.head()"
      ],
      "metadata": {
        "id": "Zg6ggG0rFVQb",
        "outputId": "ff686fd4-8106-4672-b12b-46e00eac8438",
        "colab": {
          "base_uri": "https://localhost:8080/",
          "height": 354
        }
      },
      "id": "Zg6ggG0rFVQb",
      "execution_count": 2,
      "outputs": [
        {
          "output_type": "execute_result",
          "data": {
            "text/plain": [
              "                  Formatted Date        Summary Precip Type  Temperature (C)  \\\n",
              "0  2006-04-01 00:00:00.000 +0200  Partly Cloudy        rain         9.472222   \n",
              "1  2006-04-01 01:00:00.000 +0200  Partly Cloudy        rain         9.355556   \n",
              "2  2006-04-01 02:00:00.000 +0200  Mostly Cloudy        rain         9.377778   \n",
              "3  2006-04-01 03:00:00.000 +0200  Partly Cloudy        rain         8.288889   \n",
              "4  2006-04-01 04:00:00.000 +0200  Mostly Cloudy        rain         8.755556   \n",
              "\n",
              "   Apparent Temperature (C)  Humidity  Wind Speed (km/h)  \\\n",
              "0                  7.388889      0.89            14.1197   \n",
              "1                  7.227778      0.86            14.2646   \n",
              "2                  9.377778      0.89             3.9284   \n",
              "3                  5.944444      0.83            14.1036   \n",
              "4                  6.977778      0.83            11.0446   \n",
              "\n",
              "   Wind Bearing (degrees)  Visibility (km)  Loud Cover  Pressure (millibars)  \\\n",
              "0                   251.0          15.8263         0.0               1015.13   \n",
              "1                   259.0          15.8263         0.0               1015.63   \n",
              "2                   204.0          14.9569         0.0               1015.94   \n",
              "3                   269.0          15.8263         0.0               1016.41   \n",
              "4                   259.0          15.8263         0.0               1016.51   \n",
              "\n",
              "                       Daily Summary  \n",
              "0  Partly cloudy throughout the day.  \n",
              "1  Partly cloudy throughout the day.  \n",
              "2  Partly cloudy throughout the day.  \n",
              "3  Partly cloudy throughout the day.  \n",
              "4  Partly cloudy throughout the day.  "
            ],
            "text/html": [
              "\n",
              "  <div id=\"df-a28f4b56-76ac-47b5-ad63-7c6be0b6dcdb\">\n",
              "    <div class=\"colab-df-container\">\n",
              "      <div>\n",
              "<style scoped>\n",
              "    .dataframe tbody tr th:only-of-type {\n",
              "        vertical-align: middle;\n",
              "    }\n",
              "\n",
              "    .dataframe tbody tr th {\n",
              "        vertical-align: top;\n",
              "    }\n",
              "\n",
              "    .dataframe thead th {\n",
              "        text-align: right;\n",
              "    }\n",
              "</style>\n",
              "<table border=\"1\" class=\"dataframe\">\n",
              "  <thead>\n",
              "    <tr style=\"text-align: right;\">\n",
              "      <th></th>\n",
              "      <th>Formatted Date</th>\n",
              "      <th>Summary</th>\n",
              "      <th>Precip Type</th>\n",
              "      <th>Temperature (C)</th>\n",
              "      <th>Apparent Temperature (C)</th>\n",
              "      <th>Humidity</th>\n",
              "      <th>Wind Speed (km/h)</th>\n",
              "      <th>Wind Bearing (degrees)</th>\n",
              "      <th>Visibility (km)</th>\n",
              "      <th>Loud Cover</th>\n",
              "      <th>Pressure (millibars)</th>\n",
              "      <th>Daily Summary</th>\n",
              "    </tr>\n",
              "  </thead>\n",
              "  <tbody>\n",
              "    <tr>\n",
              "      <th>0</th>\n",
              "      <td>2006-04-01 00:00:00.000 +0200</td>\n",
              "      <td>Partly Cloudy</td>\n",
              "      <td>rain</td>\n",
              "      <td>9.472222</td>\n",
              "      <td>7.388889</td>\n",
              "      <td>0.89</td>\n",
              "      <td>14.1197</td>\n",
              "      <td>251.0</td>\n",
              "      <td>15.8263</td>\n",
              "      <td>0.0</td>\n",
              "      <td>1015.13</td>\n",
              "      <td>Partly cloudy throughout the day.</td>\n",
              "    </tr>\n",
              "    <tr>\n",
              "      <th>1</th>\n",
              "      <td>2006-04-01 01:00:00.000 +0200</td>\n",
              "      <td>Partly Cloudy</td>\n",
              "      <td>rain</td>\n",
              "      <td>9.355556</td>\n",
              "      <td>7.227778</td>\n",
              "      <td>0.86</td>\n",
              "      <td>14.2646</td>\n",
              "      <td>259.0</td>\n",
              "      <td>15.8263</td>\n",
              "      <td>0.0</td>\n",
              "      <td>1015.63</td>\n",
              "      <td>Partly cloudy throughout the day.</td>\n",
              "    </tr>\n",
              "    <tr>\n",
              "      <th>2</th>\n",
              "      <td>2006-04-01 02:00:00.000 +0200</td>\n",
              "      <td>Mostly Cloudy</td>\n",
              "      <td>rain</td>\n",
              "      <td>9.377778</td>\n",
              "      <td>9.377778</td>\n",
              "      <td>0.89</td>\n",
              "      <td>3.9284</td>\n",
              "      <td>204.0</td>\n",
              "      <td>14.9569</td>\n",
              "      <td>0.0</td>\n",
              "      <td>1015.94</td>\n",
              "      <td>Partly cloudy throughout the day.</td>\n",
              "    </tr>\n",
              "    <tr>\n",
              "      <th>3</th>\n",
              "      <td>2006-04-01 03:00:00.000 +0200</td>\n",
              "      <td>Partly Cloudy</td>\n",
              "      <td>rain</td>\n",
              "      <td>8.288889</td>\n",
              "      <td>5.944444</td>\n",
              "      <td>0.83</td>\n",
              "      <td>14.1036</td>\n",
              "      <td>269.0</td>\n",
              "      <td>15.8263</td>\n",
              "      <td>0.0</td>\n",
              "      <td>1016.41</td>\n",
              "      <td>Partly cloudy throughout the day.</td>\n",
              "    </tr>\n",
              "    <tr>\n",
              "      <th>4</th>\n",
              "      <td>2006-04-01 04:00:00.000 +0200</td>\n",
              "      <td>Mostly Cloudy</td>\n",
              "      <td>rain</td>\n",
              "      <td>8.755556</td>\n",
              "      <td>6.977778</td>\n",
              "      <td>0.83</td>\n",
              "      <td>11.0446</td>\n",
              "      <td>259.0</td>\n",
              "      <td>15.8263</td>\n",
              "      <td>0.0</td>\n",
              "      <td>1016.51</td>\n",
              "      <td>Partly cloudy throughout the day.</td>\n",
              "    </tr>\n",
              "  </tbody>\n",
              "</table>\n",
              "</div>\n",
              "      <button class=\"colab-df-convert\" onclick=\"convertToInteractive('df-a28f4b56-76ac-47b5-ad63-7c6be0b6dcdb')\"\n",
              "              title=\"Convert this dataframe to an interactive table.\"\n",
              "              style=\"display:none;\">\n",
              "        \n",
              "  <svg xmlns=\"http://www.w3.org/2000/svg\" height=\"24px\"viewBox=\"0 0 24 24\"\n",
              "       width=\"24px\">\n",
              "    <path d=\"M0 0h24v24H0V0z\" fill=\"none\"/>\n",
              "    <path d=\"M18.56 5.44l.94 2.06.94-2.06 2.06-.94-2.06-.94-.94-2.06-.94 2.06-2.06.94zm-11 1L8.5 8.5l.94-2.06 2.06-.94-2.06-.94L8.5 2.5l-.94 2.06-2.06.94zm10 10l.94 2.06.94-2.06 2.06-.94-2.06-.94-.94-2.06-.94 2.06-2.06.94z\"/><path d=\"M17.41 7.96l-1.37-1.37c-.4-.4-.92-.59-1.43-.59-.52 0-1.04.2-1.43.59L10.3 9.45l-7.72 7.72c-.78.78-.78 2.05 0 2.83L4 21.41c.39.39.9.59 1.41.59.51 0 1.02-.2 1.41-.59l7.78-7.78 2.81-2.81c.8-.78.8-2.07 0-2.86zM5.41 20L4 18.59l7.72-7.72 1.47 1.35L5.41 20z\"/>\n",
              "  </svg>\n",
              "      </button>\n",
              "      \n",
              "  <style>\n",
              "    .colab-df-container {\n",
              "      display:flex;\n",
              "      flex-wrap:wrap;\n",
              "      gap: 12px;\n",
              "    }\n",
              "\n",
              "    .colab-df-convert {\n",
              "      background-color: #E8F0FE;\n",
              "      border: none;\n",
              "      border-radius: 50%;\n",
              "      cursor: pointer;\n",
              "      display: none;\n",
              "      fill: #1967D2;\n",
              "      height: 32px;\n",
              "      padding: 0 0 0 0;\n",
              "      width: 32px;\n",
              "    }\n",
              "\n",
              "    .colab-df-convert:hover {\n",
              "      background-color: #E2EBFA;\n",
              "      box-shadow: 0px 1px 2px rgba(60, 64, 67, 0.3), 0px 1px 3px 1px rgba(60, 64, 67, 0.15);\n",
              "      fill: #174EA6;\n",
              "    }\n",
              "\n",
              "    [theme=dark] .colab-df-convert {\n",
              "      background-color: #3B4455;\n",
              "      fill: #D2E3FC;\n",
              "    }\n",
              "\n",
              "    [theme=dark] .colab-df-convert:hover {\n",
              "      background-color: #434B5C;\n",
              "      box-shadow: 0px 1px 3px 1px rgba(0, 0, 0, 0.15);\n",
              "      filter: drop-shadow(0px 1px 2px rgba(0, 0, 0, 0.3));\n",
              "      fill: #FFFFFF;\n",
              "    }\n",
              "  </style>\n",
              "\n",
              "      <script>\n",
              "        const buttonEl =\n",
              "          document.querySelector('#df-a28f4b56-76ac-47b5-ad63-7c6be0b6dcdb button.colab-df-convert');\n",
              "        buttonEl.style.display =\n",
              "          google.colab.kernel.accessAllowed ? 'block' : 'none';\n",
              "\n",
              "        async function convertToInteractive(key) {\n",
              "          const element = document.querySelector('#df-a28f4b56-76ac-47b5-ad63-7c6be0b6dcdb');\n",
              "          const dataTable =\n",
              "            await google.colab.kernel.invokeFunction('convertToInteractive',\n",
              "                                                     [key], {});\n",
              "          if (!dataTable) return;\n",
              "\n",
              "          const docLinkHtml = 'Like what you see? Visit the ' +\n",
              "            '<a target=\"_blank\" href=https://colab.research.google.com/notebooks/data_table.ipynb>data table notebook</a>'\n",
              "            + ' to learn more about interactive tables.';\n",
              "          element.innerHTML = '';\n",
              "          dataTable['output_type'] = 'display_data';\n",
              "          await google.colab.output.renderOutput(dataTable, element);\n",
              "          const docLink = document.createElement('div');\n",
              "          docLink.innerHTML = docLinkHtml;\n",
              "          element.appendChild(docLink);\n",
              "        }\n",
              "      </script>\n",
              "    </div>\n",
              "  </div>\n",
              "  "
            ]
          },
          "metadata": {},
          "execution_count": 2
        }
      ]
    },
    {
      "cell_type": "markdown",
      "source": [
        "Se comprueba que se han importado correctamente todos los datos"
      ],
      "metadata": {
        "id": "ZhYrtySvJEGQ"
      },
      "id": "ZhYrtySvJEGQ"
    },
    {
      "cell_type": "code",
      "source": [
        "datos.shape"
      ],
      "metadata": {
        "colab": {
          "base_uri": "https://localhost:8080/"
        },
        "id": "8sS4GX92G6J8",
        "outputId": "7b98ce9d-d612-4297-b658-1a4db5aafcd3"
      },
      "id": "8sS4GX92G6J8",
      "execution_count": 3,
      "outputs": [
        {
          "output_type": "execute_result",
          "data": {
            "text/plain": [
              "(96453, 12)"
            ]
          },
          "metadata": {},
          "execution_count": 3
        }
      ]
    },
    {
      "cell_type": "markdown",
      "source": [
        "Se comprueba el tipo de dato que se da en cada una de las características"
      ],
      "metadata": {
        "id": "RYHJ98mUKTMb"
      },
      "id": "RYHJ98mUKTMb"
    },
    {
      "cell_type": "code",
      "source": [
        "datos.dtypes"
      ],
      "metadata": {
        "id": "1bAlhE4d8mVo",
        "outputId": "0482dd19-8332-4c0b-c605-ccbbb5c7409c",
        "colab": {
          "base_uri": "https://localhost:8080/"
        }
      },
      "id": "1bAlhE4d8mVo",
      "execution_count": 4,
      "outputs": [
        {
          "output_type": "execute_result",
          "data": {
            "text/plain": [
              "Formatted Date               object\n",
              "Summary                      object\n",
              "Precip Type                  object\n",
              "Temperature (C)             float64\n",
              "Apparent Temperature (C)    float64\n",
              "Humidity                    float64\n",
              "Wind Speed (km/h)           float64\n",
              "Wind Bearing (degrees)      float64\n",
              "Visibility (km)             float64\n",
              "Loud Cover                  float64\n",
              "Pressure (millibars)        float64\n",
              "Daily Summary                object\n",
              "dtype: object"
            ]
          },
          "metadata": {},
          "execution_count": 4
        }
      ]
    },
    {
      "cell_type": "markdown",
      "source": [
        "Se procede a comprobar si existen datos que tenga valores nulos, con el fin de saber si se han de eliminar alguno de estos registros para el correcto funcionamiento de la red.\n",
        "\n",
        "Además se comprueba, si existen columnas con un valor único que serían irrelevantes para el desarrollo de la red"
      ],
      "metadata": {
        "id": "HdIOhtlkKe61"
      },
      "id": "HdIOhtlkKe61"
    },
    {
      "cell_type": "code",
      "source": [
        "for c in datos.columns:\n",
        "    print(\"Missing values [{0}]:\".format(c), datos[c].isna().sum())\n",
        "print() \n",
        "for c in datos.columns:\n",
        "    print(\"Unique values [{0}]:\".format(c), datos[c].unique().size)"
      ],
      "metadata": {
        "colab": {
          "base_uri": "https://localhost:8080/"
        },
        "id": "RjRvBy8m_XbR",
        "outputId": "47b65c55-2b04-4a20-c69e-37fae9241763"
      },
      "id": "RjRvBy8m_XbR",
      "execution_count": 5,
      "outputs": [
        {
          "output_type": "stream",
          "name": "stdout",
          "text": [
            "Missing values [Formatted Date]: 0\n",
            "Missing values [Summary]: 0\n",
            "Missing values [Precip Type]: 517\n",
            "Missing values [Temperature (C)]: 0\n",
            "Missing values [Apparent Temperature (C)]: 0\n",
            "Missing values [Humidity]: 0\n",
            "Missing values [Wind Speed (km/h)]: 0\n",
            "Missing values [Wind Bearing (degrees)]: 0\n",
            "Missing values [Visibility (km)]: 0\n",
            "Missing values [Loud Cover]: 0\n",
            "Missing values [Pressure (millibars)]: 0\n",
            "Missing values [Daily Summary]: 0\n",
            "\n",
            "Unique values [Formatted Date]: 96429\n",
            "Unique values [Summary]: 27\n",
            "Unique values [Precip Type]: 3\n",
            "Unique values [Temperature (C)]: 7574\n",
            "Unique values [Apparent Temperature (C)]: 8984\n",
            "Unique values [Humidity]: 90\n",
            "Unique values [Wind Speed (km/h)]: 2484\n",
            "Unique values [Wind Bearing (degrees)]: 360\n",
            "Unique values [Visibility (km)]: 949\n",
            "Unique values [Loud Cover]: 1\n",
            "Unique values [Pressure (millibars)]: 4979\n",
            "Unique values [Daily Summary]: 214\n"
          ]
        }
      ]
    },
    {
      "cell_type": "markdown",
      "source": [
        "Dado que se ha obtenido que existen 517 registros con valores nulos es necesario eliminarlos de la base de datos"
      ],
      "metadata": {
        "id": "g0yilykUK2qB"
      },
      "id": "g0yilykUK2qB"
    },
    {
      "cell_type": "code",
      "source": [
        "datos=datos.dropna()"
      ],
      "metadata": {
        "id": "pywK9A1N6dDL"
      },
      "id": "pywK9A1N6dDL",
      "execution_count": 6,
      "outputs": []
    },
    {
      "cell_type": "markdown",
      "source": [
        "Se vuelve a comprobar el número de registros con el fin de saber si ya han sido eliminadas esas filas que contenían valores nulos"
      ],
      "metadata": {
        "id": "_8BvNyKDLC0J"
      },
      "id": "_8BvNyKDLC0J"
    },
    {
      "cell_type": "code",
      "source": [
        "datos.shape"
      ],
      "metadata": {
        "colab": {
          "base_uri": "https://localhost:8080/"
        },
        "id": "M5J56LwP_PPq",
        "outputId": "23f05688-ce6a-4678-823b-ba21742fdd63"
      },
      "id": "M5J56LwP_PPq",
      "execution_count": 7,
      "outputs": [
        {
          "output_type": "execute_result",
          "data": {
            "text/plain": [
              "(95936, 12)"
            ]
          },
          "metadata": {},
          "execution_count": 7
        }
      ]
    },
    {
      "cell_type": "markdown",
      "source": [
        "Una vez se han eliminado los registros nulos, se deben categorizar aquellas características que no son registros numéricos, por ello se categorizan las características 'Summary' y 'Tipo de precipitación'"
      ],
      "metadata": {
        "id": "hBI606XYLXl8"
      },
      "id": "hBI606XYLXl8"
    },
    {
      "cell_type": "code",
      "source": [
        "datos['Summary'] = datos['Summary'].astype('category').cat.codes\n",
        "datos['Precip Type'] = datos['Precip Type'].astype('category').cat.codes"
      ],
      "metadata": {
        "id": "fcoQmcg26f6t",
        "colab": {
          "base_uri": "https://localhost:8080/"
        },
        "outputId": "bfe0bc77-0dcc-46d8-9df3-a51aaf8e09ec"
      },
      "id": "fcoQmcg26f6t",
      "execution_count": 8,
      "outputs": [
        {
          "output_type": "stream",
          "name": "stderr",
          "text": [
            "<ipython-input-8-32c981bdee10>:1: SettingWithCopyWarning: \n",
            "A value is trying to be set on a copy of a slice from a DataFrame.\n",
            "Try using .loc[row_indexer,col_indexer] = value instead\n",
            "\n",
            "See the caveats in the documentation: https://pandas.pydata.org/pandas-docs/stable/user_guide/indexing.html#returning-a-view-versus-a-copy\n",
            "  datos['Summary'] = datos['Summary'].astype('category').cat.codes\n",
            "<ipython-input-8-32c981bdee10>:2: SettingWithCopyWarning: \n",
            "A value is trying to be set on a copy of a slice from a DataFrame.\n",
            "Try using .loc[row_indexer,col_indexer] = value instead\n",
            "\n",
            "See the caveats in the documentation: https://pandas.pydata.org/pandas-docs/stable/user_guide/indexing.html#returning-a-view-versus-a-copy\n",
            "  datos['Precip Type'] = datos['Precip Type'].astype('category').cat.codes\n"
          ]
        }
      ]
    },
    {
      "cell_type": "markdown",
      "source": [
        "Se cambian los nombres de las columnas con el fin de facilitar el trabajo"
      ],
      "metadata": {
        "id": "3HUq9aPfL9YL"
      },
      "id": "3HUq9aPfL9YL"
    },
    {
      "cell_type": "code",
      "source": [
        "datos.columns = ['Fecha','Summary','LLuvia','Temperatura','T ambiente','Humedad', 'Vel_viento','Viraje viento','Visibilidad','loud cover','Presión','Datos']\n",
        "datos"
      ],
      "metadata": {
        "id": "IdKS-HNi79rp",
        "outputId": "c7b682bd-e0a1-4714-e215-1c036487b128",
        "colab": {
          "base_uri": "https://localhost:8080/",
          "height": 424
        }
      },
      "id": "IdKS-HNi79rp",
      "execution_count": 9,
      "outputs": [
        {
          "output_type": "execute_result",
          "data": {
            "text/plain": [
              "                               Fecha  Summary  LLuvia  Temperatura  \\\n",
              "0      2006-04-01 00:00:00.000 +0200       19       0     9.472222   \n",
              "1      2006-04-01 01:00:00.000 +0200       19       0     9.355556   \n",
              "2      2006-04-01 02:00:00.000 +0200       17       0     9.377778   \n",
              "3      2006-04-01 03:00:00.000 +0200       19       0     8.288889   \n",
              "4      2006-04-01 04:00:00.000 +0200       17       0     8.755556   \n",
              "...                              ...      ...     ...          ...   \n",
              "96448  2016-09-09 19:00:00.000 +0200       19       0    26.016667   \n",
              "96449  2016-09-09 20:00:00.000 +0200       19       0    24.583333   \n",
              "96450  2016-09-09 21:00:00.000 +0200       19       0    22.038889   \n",
              "96451  2016-09-09 22:00:00.000 +0200       19       0    21.522222   \n",
              "96452  2016-09-09 23:00:00.000 +0200       19       0    20.438889   \n",
              "\n",
              "       T ambiente  Humedad  Vel_viento  Viraje viento  Visibilidad  \\\n",
              "0        7.388889     0.89     14.1197          251.0      15.8263   \n",
              "1        7.227778     0.86     14.2646          259.0      15.8263   \n",
              "2        9.377778     0.89      3.9284          204.0      14.9569   \n",
              "3        5.944444     0.83     14.1036          269.0      15.8263   \n",
              "4        6.977778     0.83     11.0446          259.0      15.8263   \n",
              "...           ...      ...         ...            ...          ...   \n",
              "96448   26.016667     0.43     10.9963           31.0      16.1000   \n",
              "96449   24.583333     0.48     10.0947           20.0      15.5526   \n",
              "96450   22.038889     0.56      8.9838           30.0      16.1000   \n",
              "96451   21.522222     0.60     10.5294           20.0      16.1000   \n",
              "96452   20.438889     0.61      5.8765           39.0      15.5204   \n",
              "\n",
              "       loud cover  Presión                                   Datos  \n",
              "0             0.0  1015.13       Partly cloudy throughout the day.  \n",
              "1             0.0  1015.63       Partly cloudy throughout the day.  \n",
              "2             0.0  1015.94       Partly cloudy throughout the day.  \n",
              "3             0.0  1016.41       Partly cloudy throughout the day.  \n",
              "4             0.0  1016.51       Partly cloudy throughout the day.  \n",
              "...           ...      ...                                     ...  \n",
              "96448         0.0  1014.36  Partly cloudy starting in the morning.  \n",
              "96449         0.0  1015.16  Partly cloudy starting in the morning.  \n",
              "96450         0.0  1015.66  Partly cloudy starting in the morning.  \n",
              "96451         0.0  1015.95  Partly cloudy starting in the morning.  \n",
              "96452         0.0  1016.16  Partly cloudy starting in the morning.  \n",
              "\n",
              "[95936 rows x 12 columns]"
            ],
            "text/html": [
              "\n",
              "  <div id=\"df-b826e286-d48a-4c00-abe1-400319d6577c\">\n",
              "    <div class=\"colab-df-container\">\n",
              "      <div>\n",
              "<style scoped>\n",
              "    .dataframe tbody tr th:only-of-type {\n",
              "        vertical-align: middle;\n",
              "    }\n",
              "\n",
              "    .dataframe tbody tr th {\n",
              "        vertical-align: top;\n",
              "    }\n",
              "\n",
              "    .dataframe thead th {\n",
              "        text-align: right;\n",
              "    }\n",
              "</style>\n",
              "<table border=\"1\" class=\"dataframe\">\n",
              "  <thead>\n",
              "    <tr style=\"text-align: right;\">\n",
              "      <th></th>\n",
              "      <th>Fecha</th>\n",
              "      <th>Summary</th>\n",
              "      <th>LLuvia</th>\n",
              "      <th>Temperatura</th>\n",
              "      <th>T ambiente</th>\n",
              "      <th>Humedad</th>\n",
              "      <th>Vel_viento</th>\n",
              "      <th>Viraje viento</th>\n",
              "      <th>Visibilidad</th>\n",
              "      <th>loud cover</th>\n",
              "      <th>Presión</th>\n",
              "      <th>Datos</th>\n",
              "    </tr>\n",
              "  </thead>\n",
              "  <tbody>\n",
              "    <tr>\n",
              "      <th>0</th>\n",
              "      <td>2006-04-01 00:00:00.000 +0200</td>\n",
              "      <td>19</td>\n",
              "      <td>0</td>\n",
              "      <td>9.472222</td>\n",
              "      <td>7.388889</td>\n",
              "      <td>0.89</td>\n",
              "      <td>14.1197</td>\n",
              "      <td>251.0</td>\n",
              "      <td>15.8263</td>\n",
              "      <td>0.0</td>\n",
              "      <td>1015.13</td>\n",
              "      <td>Partly cloudy throughout the day.</td>\n",
              "    </tr>\n",
              "    <tr>\n",
              "      <th>1</th>\n",
              "      <td>2006-04-01 01:00:00.000 +0200</td>\n",
              "      <td>19</td>\n",
              "      <td>0</td>\n",
              "      <td>9.355556</td>\n",
              "      <td>7.227778</td>\n",
              "      <td>0.86</td>\n",
              "      <td>14.2646</td>\n",
              "      <td>259.0</td>\n",
              "      <td>15.8263</td>\n",
              "      <td>0.0</td>\n",
              "      <td>1015.63</td>\n",
              "      <td>Partly cloudy throughout the day.</td>\n",
              "    </tr>\n",
              "    <tr>\n",
              "      <th>2</th>\n",
              "      <td>2006-04-01 02:00:00.000 +0200</td>\n",
              "      <td>17</td>\n",
              "      <td>0</td>\n",
              "      <td>9.377778</td>\n",
              "      <td>9.377778</td>\n",
              "      <td>0.89</td>\n",
              "      <td>3.9284</td>\n",
              "      <td>204.0</td>\n",
              "      <td>14.9569</td>\n",
              "      <td>0.0</td>\n",
              "      <td>1015.94</td>\n",
              "      <td>Partly cloudy throughout the day.</td>\n",
              "    </tr>\n",
              "    <tr>\n",
              "      <th>3</th>\n",
              "      <td>2006-04-01 03:00:00.000 +0200</td>\n",
              "      <td>19</td>\n",
              "      <td>0</td>\n",
              "      <td>8.288889</td>\n",
              "      <td>5.944444</td>\n",
              "      <td>0.83</td>\n",
              "      <td>14.1036</td>\n",
              "      <td>269.0</td>\n",
              "      <td>15.8263</td>\n",
              "      <td>0.0</td>\n",
              "      <td>1016.41</td>\n",
              "      <td>Partly cloudy throughout the day.</td>\n",
              "    </tr>\n",
              "    <tr>\n",
              "      <th>4</th>\n",
              "      <td>2006-04-01 04:00:00.000 +0200</td>\n",
              "      <td>17</td>\n",
              "      <td>0</td>\n",
              "      <td>8.755556</td>\n",
              "      <td>6.977778</td>\n",
              "      <td>0.83</td>\n",
              "      <td>11.0446</td>\n",
              "      <td>259.0</td>\n",
              "      <td>15.8263</td>\n",
              "      <td>0.0</td>\n",
              "      <td>1016.51</td>\n",
              "      <td>Partly cloudy throughout the day.</td>\n",
              "    </tr>\n",
              "    <tr>\n",
              "      <th>...</th>\n",
              "      <td>...</td>\n",
              "      <td>...</td>\n",
              "      <td>...</td>\n",
              "      <td>...</td>\n",
              "      <td>...</td>\n",
              "      <td>...</td>\n",
              "      <td>...</td>\n",
              "      <td>...</td>\n",
              "      <td>...</td>\n",
              "      <td>...</td>\n",
              "      <td>...</td>\n",
              "      <td>...</td>\n",
              "    </tr>\n",
              "    <tr>\n",
              "      <th>96448</th>\n",
              "      <td>2016-09-09 19:00:00.000 +0200</td>\n",
              "      <td>19</td>\n",
              "      <td>0</td>\n",
              "      <td>26.016667</td>\n",
              "      <td>26.016667</td>\n",
              "      <td>0.43</td>\n",
              "      <td>10.9963</td>\n",
              "      <td>31.0</td>\n",
              "      <td>16.1000</td>\n",
              "      <td>0.0</td>\n",
              "      <td>1014.36</td>\n",
              "      <td>Partly cloudy starting in the morning.</td>\n",
              "    </tr>\n",
              "    <tr>\n",
              "      <th>96449</th>\n",
              "      <td>2016-09-09 20:00:00.000 +0200</td>\n",
              "      <td>19</td>\n",
              "      <td>0</td>\n",
              "      <td>24.583333</td>\n",
              "      <td>24.583333</td>\n",
              "      <td>0.48</td>\n",
              "      <td>10.0947</td>\n",
              "      <td>20.0</td>\n",
              "      <td>15.5526</td>\n",
              "      <td>0.0</td>\n",
              "      <td>1015.16</td>\n",
              "      <td>Partly cloudy starting in the morning.</td>\n",
              "    </tr>\n",
              "    <tr>\n",
              "      <th>96450</th>\n",
              "      <td>2016-09-09 21:00:00.000 +0200</td>\n",
              "      <td>19</td>\n",
              "      <td>0</td>\n",
              "      <td>22.038889</td>\n",
              "      <td>22.038889</td>\n",
              "      <td>0.56</td>\n",
              "      <td>8.9838</td>\n",
              "      <td>30.0</td>\n",
              "      <td>16.1000</td>\n",
              "      <td>0.0</td>\n",
              "      <td>1015.66</td>\n",
              "      <td>Partly cloudy starting in the morning.</td>\n",
              "    </tr>\n",
              "    <tr>\n",
              "      <th>96451</th>\n",
              "      <td>2016-09-09 22:00:00.000 +0200</td>\n",
              "      <td>19</td>\n",
              "      <td>0</td>\n",
              "      <td>21.522222</td>\n",
              "      <td>21.522222</td>\n",
              "      <td>0.60</td>\n",
              "      <td>10.5294</td>\n",
              "      <td>20.0</td>\n",
              "      <td>16.1000</td>\n",
              "      <td>0.0</td>\n",
              "      <td>1015.95</td>\n",
              "      <td>Partly cloudy starting in the morning.</td>\n",
              "    </tr>\n",
              "    <tr>\n",
              "      <th>96452</th>\n",
              "      <td>2016-09-09 23:00:00.000 +0200</td>\n",
              "      <td>19</td>\n",
              "      <td>0</td>\n",
              "      <td>20.438889</td>\n",
              "      <td>20.438889</td>\n",
              "      <td>0.61</td>\n",
              "      <td>5.8765</td>\n",
              "      <td>39.0</td>\n",
              "      <td>15.5204</td>\n",
              "      <td>0.0</td>\n",
              "      <td>1016.16</td>\n",
              "      <td>Partly cloudy starting in the morning.</td>\n",
              "    </tr>\n",
              "  </tbody>\n",
              "</table>\n",
              "<p>95936 rows × 12 columns</p>\n",
              "</div>\n",
              "      <button class=\"colab-df-convert\" onclick=\"convertToInteractive('df-b826e286-d48a-4c00-abe1-400319d6577c')\"\n",
              "              title=\"Convert this dataframe to an interactive table.\"\n",
              "              style=\"display:none;\">\n",
              "        \n",
              "  <svg xmlns=\"http://www.w3.org/2000/svg\" height=\"24px\"viewBox=\"0 0 24 24\"\n",
              "       width=\"24px\">\n",
              "    <path d=\"M0 0h24v24H0V0z\" fill=\"none\"/>\n",
              "    <path d=\"M18.56 5.44l.94 2.06.94-2.06 2.06-.94-2.06-.94-.94-2.06-.94 2.06-2.06.94zm-11 1L8.5 8.5l.94-2.06 2.06-.94-2.06-.94L8.5 2.5l-.94 2.06-2.06.94zm10 10l.94 2.06.94-2.06 2.06-.94-2.06-.94-.94-2.06-.94 2.06-2.06.94z\"/><path d=\"M17.41 7.96l-1.37-1.37c-.4-.4-.92-.59-1.43-.59-.52 0-1.04.2-1.43.59L10.3 9.45l-7.72 7.72c-.78.78-.78 2.05 0 2.83L4 21.41c.39.39.9.59 1.41.59.51 0 1.02-.2 1.41-.59l7.78-7.78 2.81-2.81c.8-.78.8-2.07 0-2.86zM5.41 20L4 18.59l7.72-7.72 1.47 1.35L5.41 20z\"/>\n",
              "  </svg>\n",
              "      </button>\n",
              "      \n",
              "  <style>\n",
              "    .colab-df-container {\n",
              "      display:flex;\n",
              "      flex-wrap:wrap;\n",
              "      gap: 12px;\n",
              "    }\n",
              "\n",
              "    .colab-df-convert {\n",
              "      background-color: #E8F0FE;\n",
              "      border: none;\n",
              "      border-radius: 50%;\n",
              "      cursor: pointer;\n",
              "      display: none;\n",
              "      fill: #1967D2;\n",
              "      height: 32px;\n",
              "      padding: 0 0 0 0;\n",
              "      width: 32px;\n",
              "    }\n",
              "\n",
              "    .colab-df-convert:hover {\n",
              "      background-color: #E2EBFA;\n",
              "      box-shadow: 0px 1px 2px rgba(60, 64, 67, 0.3), 0px 1px 3px 1px rgba(60, 64, 67, 0.15);\n",
              "      fill: #174EA6;\n",
              "    }\n",
              "\n",
              "    [theme=dark] .colab-df-convert {\n",
              "      background-color: #3B4455;\n",
              "      fill: #D2E3FC;\n",
              "    }\n",
              "\n",
              "    [theme=dark] .colab-df-convert:hover {\n",
              "      background-color: #434B5C;\n",
              "      box-shadow: 0px 1px 3px 1px rgba(0, 0, 0, 0.15);\n",
              "      filter: drop-shadow(0px 1px 2px rgba(0, 0, 0, 0.3));\n",
              "      fill: #FFFFFF;\n",
              "    }\n",
              "  </style>\n",
              "\n",
              "      <script>\n",
              "        const buttonEl =\n",
              "          document.querySelector('#df-b826e286-d48a-4c00-abe1-400319d6577c button.colab-df-convert');\n",
              "        buttonEl.style.display =\n",
              "          google.colab.kernel.accessAllowed ? 'block' : 'none';\n",
              "\n",
              "        async function convertToInteractive(key) {\n",
              "          const element = document.querySelector('#df-b826e286-d48a-4c00-abe1-400319d6577c');\n",
              "          const dataTable =\n",
              "            await google.colab.kernel.invokeFunction('convertToInteractive',\n",
              "                                                     [key], {});\n",
              "          if (!dataTable) return;\n",
              "\n",
              "          const docLinkHtml = 'Like what you see? Visit the ' +\n",
              "            '<a target=\"_blank\" href=https://colab.research.google.com/notebooks/data_table.ipynb>data table notebook</a>'\n",
              "            + ' to learn more about interactive tables.';\n",
              "          element.innerHTML = '';\n",
              "          dataTable['output_type'] = 'display_data';\n",
              "          await google.colab.output.renderOutput(dataTable, element);\n",
              "          const docLink = document.createElement('div');\n",
              "          docLink.innerHTML = docLinkHtml;\n",
              "          element.appendChild(docLink);\n",
              "        }\n",
              "      </script>\n",
              "    </div>\n",
              "  </div>\n",
              "  "
            ]
          },
          "metadata": {},
          "execution_count": 9
        }
      ]
    },
    {
      "cell_type": "markdown",
      "source": [
        "Se muestra uno de los registros para ver que cumple las modificaciones que se han aplicado a la base de datos inicial"
      ],
      "metadata": {
        "id": "2z2IhV3AMHQx"
      },
      "id": "2z2IhV3AMHQx"
    },
    {
      "cell_type": "code",
      "source": [
        "datos.loc[2]"
      ],
      "metadata": {
        "colab": {
          "base_uri": "https://localhost:8080/"
        },
        "id": "oKoxaw8AjofP",
        "outputId": "01c99063-48b9-4858-d443-02efea92ad09"
      },
      "id": "oKoxaw8AjofP",
      "execution_count": 10,
      "outputs": [
        {
          "output_type": "execute_result",
          "data": {
            "text/plain": [
              "Fecha                2006-04-01 02:00:00.000 +0200\n",
              "Summary                                         17\n",
              "LLuvia                                           0\n",
              "Temperatura                               9.377778\n",
              "T ambiente                                9.377778\n",
              "Humedad                                       0.89\n",
              "Vel_viento                                  3.9284\n",
              "Viraje viento                                204.0\n",
              "Visibilidad                                14.9569\n",
              "loud cover                                     0.0\n",
              "Presión                                    1015.94\n",
              "Datos            Partly cloudy throughout the day.\n",
              "Name: 2, dtype: object"
            ]
          },
          "metadata": {},
          "execution_count": 10
        }
      ]
    },
    {
      "cell_type": "markdown",
      "source": [
        "Una vez realizado este proceso, se deben formar las etiquetas para cada uno de los registros, al tratarse de un proyecto de aprendizaje supervisado, se debe seleccionar como etiquetas la columna de la base de datos 'Temperatura' correspondiente a cada uno de los registros.\n",
        "\n",
        "Se comprueba el tamaño de estas etiquetas y se verifica que hay una para cada una de los registros de entrada.\n"
      ],
      "metadata": {
        "id": "DSpyZcdxLscV"
      },
      "id": "DSpyZcdxLscV"
    },
    {
      "cell_type": "code",
      "source": [
        "labels=datos.Temperatura\n",
        "labels.shape\n"
      ],
      "metadata": {
        "colab": {
          "base_uri": "https://localhost:8080/"
        },
        "id": "ywGEcHJ5ML-g",
        "outputId": "50a76ab7-1921-493c-9cb8-7501df22caf0"
      },
      "id": "ywGEcHJ5ML-g",
      "execution_count": 11,
      "outputs": [
        {
          "output_type": "execute_result",
          "data": {
            "text/plain": [
              "(95936,)"
            ]
          },
          "metadata": {},
          "execution_count": 11
        }
      ]
    },
    {
      "cell_type": "markdown",
      "source": [
        "Teniendo las etiquetas y la base de datos preparada, se deben eliminar las columnas de esta base de datos que no van a ser utilizadas como entrada para la red neuronal y además se tiene que eliminar la columna que contiene los valores de temperatura, ya que han pasado a ser las etiquetas.\n",
        "\n",
        "Las columnas eliminadas han sido:\n",
        "\n",
        "- **Fecha**: Debido a que no aporta información relevante respecto al resto de características\n",
        "- **Datos**: Existe la columna summary en la cual se dan datos idénticos\n",
        "- **Loud Cover**: Debido a que tiene un valor único y por tanto. no aporta valores característicos para los distintos registros.\n",
        "- **Temperatura**: Debido a que pasan a ser las etiquetas"
      ],
      "metadata": {
        "id": "UB3p45haM7bd"
      },
      "id": "UB3p45haM7bd"
    },
    {
      "cell_type": "code",
      "source": [
        "datos=datos.drop(['Fecha'],axis=1)\n",
        "datos=datos.drop(['Datos'],axis=1)\n",
        "datos=datos.drop(['loud cover'],axis=1)\n",
        "datos=datos.drop(['Temperatura'],axis=1)"
      ],
      "metadata": {
        "id": "dfR2rNJ-M-tu"
      },
      "id": "dfR2rNJ-M-tu",
      "execution_count": 12,
      "outputs": []
    },
    {
      "cell_type": "markdown",
      "source": [
        "Se comprueba de nuevo el tamaño de los datos "
      ],
      "metadata": {
        "id": "8FemmvFrOq-k"
      },
      "id": "8FemmvFrOq-k"
    },
    {
      "cell_type": "code",
      "source": [
        "datos.shape"
      ],
      "metadata": {
        "id": "NIMEjd5AFToE",
        "outputId": "cd7ba9d3-5584-4068-a8f6-e5781f94f92f",
        "colab": {
          "base_uri": "https://localhost:8080/"
        }
      },
      "id": "NIMEjd5AFToE",
      "execution_count": 13,
      "outputs": [
        {
          "output_type": "execute_result",
          "data": {
            "text/plain": [
              "(95936, 8)"
            ]
          },
          "metadata": {},
          "execution_count": 13
        }
      ]
    },
    {
      "cell_type": "markdown",
      "source": [
        "Al disponer de una sola base de datos se deben separar estos datos entre los de entrenamiento y los de test. Se van a emplear 70000 datos para entrenamiento y unos 26000 datos para test.\n",
        "\n",
        "Al igual que los datos se deben separar las etiquetas entre test y entrenamiento."
      ],
      "metadata": {
        "id": "JCnt5y9gO2AE"
      },
      "id": "JCnt5y9gO2AE"
    },
    {
      "cell_type": "code",
      "source": [
        "train_datos=datos[:70000]\n",
        "test_datos=datos[70001:]\n",
        "\n",
        "train_labels=labels[:70000]\n",
        "test_labels=labels[70001:]"
      ],
      "metadata": {
        "id": "GD_gBGXimN1C"
      },
      "id": "GD_gBGXimN1C",
      "execution_count": 14,
      "outputs": []
    },
    {
      "cell_type": "markdown",
      "source": [
        "se comprueba el tamaño de los datos de test y entrenamiento para verificar que se ha realizado correctamente la división"
      ],
      "metadata": {
        "id": "8u-9WpcJPOv9"
      },
      "id": "8u-9WpcJPOv9"
    },
    {
      "cell_type": "code",
      "source": [
        "train_datos.shape\n",
        "test_datos.shape"
      ],
      "metadata": {
        "id": "y77_ZG4PEOoM",
        "outputId": "7044ee67-c682-4e1a-eabc-c9ab10ea90ae",
        "colab": {
          "base_uri": "https://localhost:8080/"
        }
      },
      "id": "y77_ZG4PEOoM",
      "execution_count": 15,
      "outputs": [
        {
          "output_type": "execute_result",
          "data": {
            "text/plain": [
              "(25935, 8)"
            ]
          },
          "metadata": {},
          "execution_count": 15
        }
      ]
    },
    {
      "cell_type": "markdown",
      "source": [
        "Una vez se tienen los datos separados, se normalizan las características, puesto que cada una tienen rangos distintos.\n",
        "\n",
        "Al tratarse de un problema de regresión, estos datos se normalizan empleando la media y la desviación estándar de cada una de las características.\n",
        "\n",
        "También es muy importante tener en cuenta que se deben normalizar los datos de test con la media y la desviación de los datos de entrenamiento con el fin de no contaminar esos datos."
      ],
      "metadata": {
        "id": "qglTtMQPm_9X"
      },
      "id": "qglTtMQPm_9X"
    },
    {
      "cell_type": "code",
      "source": [
        "mean = train_datos.mean(axis=0)\n",
        "print(\"##### Media de las 8 características de los datos de entrenamiento ##### \")\n",
        "print(mean)\n",
        "train_datos -= mean\n",
        "std = train_datos.std(axis=0)\n",
        "print(\"##### Desviación estandar de las 8 características de los datos de entrenamiento ##### \")\n",
        "print(std)\n",
        "train_datos /= std\n",
        "test_datos -= mean\n",
        "test_datos /= std"
      ],
      "metadata": {
        "colab": {
          "base_uri": "https://localhost:8080/"
        },
        "id": "XZTxyeq8nT_A",
        "outputId": "a813206f-7def-42b0-b854-4553f09de3f0"
      },
      "id": "XZTxyeq8nT_A",
      "execution_count": 16,
      "outputs": [
        {
          "output_type": "stream",
          "name": "stdout",
          "text": [
            "##### Media de las 8 características de los datos de entrenamiento ##### \n",
            "Summary            15.874143\n",
            "LLuvia              0.127229\n",
            "T ambiente         10.693272\n",
            "Humedad             0.730353\n",
            "Vel_viento         10.868822\n",
            "Viraje viento     189.321371\n",
            "Visibilidad        10.039112\n",
            "Presión          1003.466910\n",
            "dtype: float64\n",
            "##### Desviación estandar de las 8 características de los datos de entrenamiento ##### \n",
            "Summary            4.509865\n",
            "LLuvia             0.333231\n",
            "T ambiente        10.956204\n",
            "Humedad            0.197574\n",
            "Vel_viento         7.013348\n",
            "Viraje viento    107.766729\n",
            "Visibilidad        3.918958\n",
            "Presión          115.945929\n",
            "dtype: float64\n"
          ]
        }
      ]
    },
    {
      "cell_type": "markdown",
      "source": [
        "# CREACIÓN DE LA RED"
      ],
      "metadata": {
        "id": "7T0MfDsToeWB"
      },
      "id": "7T0MfDsToeWB"
    },
    {
      "cell_type": "markdown",
      "source": [
        "Se procede a crear la red neuronal con la cual se van a realizar las predicciones de temperatura. \n",
        "\n",
        "Como ya se ha dicho anteriormente se trata de un modelo de regresión que está formado por 3 capas, las dos primeras densas con 128 neuronas, ya que el conjunto de datos utilizados para entrenamiento es suficientemente grande, con función de activación de tipo Relu, ya que está función de activación devuelve valores positivos (max(0,s)).\n",
        "\n",
        "En la última capa se haya una sola neurona y sin función de activación, es decir, en salida abierta, ya que se quiere que la salida sea un único valor numérico.\n",
        "\n",
        "En cuanto al optimizador se usa rmsprop y en cuanto a la pérdida y la métrica se usan el error medio absoluto y el error medio cuadrático que es el usado en problemas de regresión."
      ],
      "metadata": {
        "id": "f6cY7F5zSddK"
      },
      "id": "f6cY7F5zSddK"
    },
    {
      "cell_type": "code",
      "source": [
        "import tensorflow as tf\n",
        "from keras import models\n",
        "from keras import layers\n",
        "\n",
        "def build_model():\n",
        "    # Porque necesitaremos instanciar el mismo modelo \n",
        "    # múltiples veces, usamos una función para construirlo\n",
        "    model = models.Sequential()\n",
        "    model.add(layers.Dense(128, activation='relu',\n",
        "                           input_shape=(train_datos.shape[1],)))\n",
        "    model.add(layers.Dense(128, activation='relu'))\n",
        "    model.add(layers.Dense(1))\n",
        "    # MSE: Mean Squared Error\n",
        "    # MAE: Mean Absolute Error\n",
        "    model.compile(optimizer='rmsprop', loss='mse', \n",
        "                  metrics=[tf.keras.metrics.MeanAbsoluteError()]) # metrics = ['mae']\n",
        "    return model"
      ],
      "metadata": {
        "id": "i49WNYvoo2Rn"
      },
      "id": "i49WNYvoo2Rn",
      "execution_count": 17,
      "outputs": []
    },
    {
      "cell_type": "markdown",
      "source": [
        "Para poder entrenar la red se deben separar los datos de entrenamiento en datos de entrenamiento y datos de validación. Se usaran 50000 datos para entrenamiento y 20000 para validación."
      ],
      "metadata": {
        "id": "LZDlPLgXpCOu"
      },
      "id": "LZDlPLgXpCOu"
    },
    {
      "cell_type": "code",
      "source": [
        "partial_train_datos = train_datos[:50000]\n",
        "partial_eval_train_datos = train_datos[50001:]\n",
        "partial_train_labels = train_labels[:50000]\n",
        "partial_eval_train_labels= train_labels[50001:]"
      ],
      "metadata": {
        "id": "jp5gh3Bbo5Gv"
      },
      "id": "jp5gh3Bbo5Gv",
      "execution_count": 18,
      "outputs": []
    },
    {
      "cell_type": "markdown",
      "source": [
        "Se procede a crear el modelo"
      ],
      "metadata": {
        "id": "cOuozPEnU0ea"
      },
      "id": "cOuozPEnU0ea"
    },
    {
      "cell_type": "code",
      "source": [
        "mymodel = build_model()"
      ],
      "metadata": {
        "id": "seYZCr1dpiPS"
      },
      "id": "seYZCr1dpiPS",
      "execution_count": 19,
      "outputs": []
    },
    {
      "cell_type": "markdown",
      "source": [
        "Una vez creado el modelo que se ha diseñado anteriormente, se va a entrenar este modelo. Con el fin de conocer el número de épocas correctas para entrenar este modelo, se entrenará el modelo con 100 épocas para saber cuando se produce sobre entrenamiento.\n",
        "\n",
        "El tamaño de los lotes escogido es 128 ya que se cuenta con 50000 datos de entrenamiento, es decir, los pesos se modificarán cada vez que pasen por la red 128 datos de entrenamiento en cada época."
      ],
      "metadata": {
        "id": "ePUNip3mU5zQ"
      },
      "id": "ePUNip3mU5zQ"
    },
    {
      "cell_type": "code",
      "source": [
        "history = mymodel.fit(partial_train_datos, partial_train_labels,\n",
        "            validation_data=(partial_eval_train_datos, partial_eval_train_labels),\n",
        "                        epochs=100, batch_size=128)"
      ],
      "metadata": {
        "colab": {
          "base_uri": "https://localhost:8080/"
        },
        "id": "eI5UG6nVprSf",
        "outputId": "39e1eb1f-be8f-47ef-84cc-1e8cd2d2c5f3"
      },
      "id": "eI5UG6nVprSf",
      "execution_count": 20,
      "outputs": [
        {
          "output_type": "stream",
          "name": "stdout",
          "text": [
            "Epoch 1/100\n",
            "391/391 [==============================] - 5s 9ms/step - loss: 12.9034 - mean_absolute_error: 1.6785 - val_loss: 0.6366 - val_mean_absolute_error: 0.5767\n",
            "Epoch 2/100\n",
            "391/391 [==============================] - 3s 8ms/step - loss: 0.3498 - mean_absolute_error: 0.4558 - val_loss: 0.5279 - val_mean_absolute_error: 0.5785\n",
            "Epoch 3/100\n",
            "391/391 [==============================] - 3s 8ms/step - loss: 0.2602 - mean_absolute_error: 0.3927 - val_loss: 0.3442 - val_mean_absolute_error: 0.4417\n",
            "Epoch 4/100\n",
            "391/391 [==============================] - 3s 7ms/step - loss: 0.2297 - mean_absolute_error: 0.3661 - val_loss: 0.3070 - val_mean_absolute_error: 0.4217\n",
            "Epoch 5/100\n",
            "391/391 [==============================] - 2s 5ms/step - loss: 0.2091 - mean_absolute_error: 0.3460 - val_loss: 0.2173 - val_mean_absolute_error: 0.3401\n",
            "Epoch 6/100\n",
            "391/391 [==============================] - 2s 4ms/step - loss: 0.1964 - mean_absolute_error: 0.3347 - val_loss: 0.3567 - val_mean_absolute_error: 0.4952\n",
            "Epoch 7/100\n",
            "391/391 [==============================] - 2s 5ms/step - loss: 0.1856 - mean_absolute_error: 0.3308 - val_loss: 0.2086 - val_mean_absolute_error: 0.3617\n",
            "Epoch 8/100\n",
            "391/391 [==============================] - 2s 5ms/step - loss: 0.1752 - mean_absolute_error: 0.3145 - val_loss: 0.1814 - val_mean_absolute_error: 0.3116\n",
            "Epoch 9/100\n",
            "391/391 [==============================] - 2s 6ms/step - loss: 0.1692 - mean_absolute_error: 0.3134 - val_loss: 0.2140 - val_mean_absolute_error: 0.3652\n",
            "Epoch 10/100\n",
            "391/391 [==============================] - 2s 4ms/step - loss: 0.1602 - mean_absolute_error: 0.3039 - val_loss: 0.0994 - val_mean_absolute_error: 0.1960\n",
            "Epoch 11/100\n",
            "391/391 [==============================] - 2s 4ms/step - loss: 0.1528 - mean_absolute_error: 0.2962 - val_loss: 0.3461 - val_mean_absolute_error: 0.4782\n",
            "Epoch 12/100\n",
            "391/391 [==============================] - 2s 4ms/step - loss: 0.1448 - mean_absolute_error: 0.2846 - val_loss: 0.1916 - val_mean_absolute_error: 0.3546\n",
            "Epoch 13/100\n",
            "391/391 [==============================] - 2s 4ms/step - loss: 0.1421 - mean_absolute_error: 0.2844 - val_loss: 0.0912 - val_mean_absolute_error: 0.1752\n",
            "Epoch 14/100\n",
            "391/391 [==============================] - 2s 4ms/step - loss: 0.1359 - mean_absolute_error: 0.2759 - val_loss: 0.0786 - val_mean_absolute_error: 0.1596\n",
            "Epoch 15/100\n",
            "391/391 [==============================] - 2s 5ms/step - loss: 0.1297 - mean_absolute_error: 0.2717 - val_loss: 0.1941 - val_mean_absolute_error: 0.3651\n",
            "Epoch 16/100\n",
            "391/391 [==============================] - 2s 6ms/step - loss: 0.1278 - mean_absolute_error: 0.2667 - val_loss: 0.1662 - val_mean_absolute_error: 0.3392\n",
            "Epoch 17/100\n",
            "391/391 [==============================] - 2s 5ms/step - loss: 0.1223 - mean_absolute_error: 0.2679 - val_loss: 0.0904 - val_mean_absolute_error: 0.2263\n",
            "Epoch 18/100\n",
            "391/391 [==============================] - 2s 5ms/step - loss: 0.1191 - mean_absolute_error: 0.2617 - val_loss: 0.0732 - val_mean_absolute_error: 0.1671\n",
            "Epoch 19/100\n",
            "391/391 [==============================] - 2s 4ms/step - loss: 0.1165 - mean_absolute_error: 0.2608 - val_loss: 0.0792 - val_mean_absolute_error: 0.1871\n",
            "Epoch 20/100\n",
            "391/391 [==============================] - 2s 4ms/step - loss: 0.1134 - mean_absolute_error: 0.2575 - val_loss: 0.2186 - val_mean_absolute_error: 0.3730\n",
            "Epoch 21/100\n",
            "391/391 [==============================] - 2s 5ms/step - loss: 0.1102 - mean_absolute_error: 0.2546 - val_loss: 0.1043 - val_mean_absolute_error: 0.2411\n",
            "Epoch 22/100\n",
            "391/391 [==============================] - 2s 6ms/step - loss: 0.1083 - mean_absolute_error: 0.2500 - val_loss: 0.0881 - val_mean_absolute_error: 0.2071\n",
            "Epoch 23/100\n",
            "391/391 [==============================] - 3s 8ms/step - loss: 0.1026 - mean_absolute_error: 0.2381 - val_loss: 0.2573 - val_mean_absolute_error: 0.4278\n",
            "Epoch 24/100\n",
            "391/391 [==============================] - 2s 5ms/step - loss: 0.1041 - mean_absolute_error: 0.2457 - val_loss: 0.0643 - val_mean_absolute_error: 0.1567\n",
            "Epoch 25/100\n",
            "391/391 [==============================] - 2s 5ms/step - loss: 0.0981 - mean_absolute_error: 0.2346 - val_loss: 0.0614 - val_mean_absolute_error: 0.1598\n",
            "Epoch 26/100\n",
            "391/391 [==============================] - 2s 4ms/step - loss: 0.0990 - mean_absolute_error: 0.2356 - val_loss: 0.0731 - val_mean_absolute_error: 0.1954\n",
            "Epoch 27/100\n",
            "391/391 [==============================] - 2s 4ms/step - loss: 0.0965 - mean_absolute_error: 0.2350 - val_loss: 0.0936 - val_mean_absolute_error: 0.2508\n",
            "Epoch 28/100\n",
            "391/391 [==============================] - 2s 6ms/step - loss: 0.0949 - mean_absolute_error: 0.2323 - val_loss: 0.1413 - val_mean_absolute_error: 0.3255\n",
            "Epoch 29/100\n",
            "391/391 [==============================] - 2s 6ms/step - loss: 0.0924 - mean_absolute_error: 0.2316 - val_loss: 0.0684 - val_mean_absolute_error: 0.1757\n",
            "Epoch 30/100\n",
            "391/391 [==============================] - 2s 5ms/step - loss: 0.0913 - mean_absolute_error: 0.2304 - val_loss: 0.1561 - val_mean_absolute_error: 0.3319\n",
            "Epoch 31/100\n",
            "391/391 [==============================] - 3s 7ms/step - loss: 0.0889 - mean_absolute_error: 0.2231 - val_loss: 0.0602 - val_mean_absolute_error: 0.1691\n",
            "Epoch 32/100\n",
            "391/391 [==============================] - 3s 8ms/step - loss: 0.0864 - mean_absolute_error: 0.2135 - val_loss: 0.0853 - val_mean_absolute_error: 0.2334\n",
            "Epoch 33/100\n",
            "391/391 [==============================] - 3s 8ms/step - loss: 0.0875 - mean_absolute_error: 0.2262 - val_loss: 0.1199 - val_mean_absolute_error: 0.2795\n",
            "Epoch 34/100\n",
            "391/391 [==============================] - 3s 7ms/step - loss: 0.0845 - mean_absolute_error: 0.2169 - val_loss: 0.0545 - val_mean_absolute_error: 0.1450\n",
            "Epoch 35/100\n",
            "391/391 [==============================] - 2s 6ms/step - loss: 0.0828 - mean_absolute_error: 0.2130 - val_loss: 0.2334 - val_mean_absolute_error: 0.4190\n",
            "Epoch 36/100\n",
            "391/391 [==============================] - 2s 5ms/step - loss: 0.0808 - mean_absolute_error: 0.2109 - val_loss: 0.0414 - val_mean_absolute_error: 0.1203\n",
            "Epoch 37/100\n",
            "391/391 [==============================] - 3s 7ms/step - loss: 0.0803 - mean_absolute_error: 0.2138 - val_loss: 0.0604 - val_mean_absolute_error: 0.1774\n",
            "Epoch 38/100\n",
            "391/391 [==============================] - 3s 7ms/step - loss: 0.0789 - mean_absolute_error: 0.2094 - val_loss: 0.0574 - val_mean_absolute_error: 0.1709\n",
            "Epoch 39/100\n",
            "391/391 [==============================] - 2s 6ms/step - loss: 0.0784 - mean_absolute_error: 0.2111 - val_loss: 0.0420 - val_mean_absolute_error: 0.1070\n",
            "Epoch 40/100\n",
            "391/391 [==============================] - 2s 5ms/step - loss: 0.0761 - mean_absolute_error: 0.2020 - val_loss: 0.0545 - val_mean_absolute_error: 0.1567\n",
            "Epoch 41/100\n",
            "391/391 [==============================] - 2s 5ms/step - loss: 0.0740 - mean_absolute_error: 0.2104 - val_loss: 0.2410 - val_mean_absolute_error: 0.4042\n",
            "Epoch 42/100\n",
            "391/391 [==============================] - 2s 4ms/step - loss: 0.0725 - mean_absolute_error: 0.2037 - val_loss: 0.0973 - val_mean_absolute_error: 0.2344\n",
            "Epoch 43/100\n",
            "391/391 [==============================] - 2s 4ms/step - loss: 0.0693 - mean_absolute_error: 0.2017 - val_loss: 0.0899 - val_mean_absolute_error: 0.2378\n",
            "Epoch 44/100\n",
            "391/391 [==============================] - 2s 5ms/step - loss: 0.0681 - mean_absolute_error: 0.1975 - val_loss: 0.0354 - val_mean_absolute_error: 0.1097\n",
            "Epoch 45/100\n",
            "391/391 [==============================] - 2s 6ms/step - loss: 0.0661 - mean_absolute_error: 0.1980 - val_loss: 0.0807 - val_mean_absolute_error: 0.2235\n",
            "Epoch 46/100\n",
            "391/391 [==============================] - 2s 4ms/step - loss: 0.0653 - mean_absolute_error: 0.1974 - val_loss: 0.0642 - val_mean_absolute_error: 0.2013\n",
            "Epoch 47/100\n",
            "391/391 [==============================] - 1s 4ms/step - loss: 0.0647 - mean_absolute_error: 0.1909 - val_loss: 0.0331 - val_mean_absolute_error: 0.1120\n",
            "Epoch 48/100\n",
            "391/391 [==============================] - 2s 4ms/step - loss: 0.0623 - mean_absolute_error: 0.1882 - val_loss: 0.0398 - val_mean_absolute_error: 0.1376\n",
            "Epoch 49/100\n",
            "391/391 [==============================] - 1s 4ms/step - loss: 0.0608 - mean_absolute_error: 0.1855 - val_loss: 0.0689 - val_mean_absolute_error: 0.2099\n",
            "Epoch 50/100\n",
            "391/391 [==============================] - 2s 4ms/step - loss: 0.0599 - mean_absolute_error: 0.1867 - val_loss: 0.0406 - val_mean_absolute_error: 0.1342\n",
            "Epoch 51/100\n",
            "391/391 [==============================] - 2s 6ms/step - loss: 0.0588 - mean_absolute_error: 0.1799 - val_loss: 0.1328 - val_mean_absolute_error: 0.2873\n",
            "Epoch 52/100\n",
            "391/391 [==============================] - 2s 5ms/step - loss: 0.0575 - mean_absolute_error: 0.1783 - val_loss: 0.0585 - val_mean_absolute_error: 0.1931\n",
            "Epoch 53/100\n",
            "391/391 [==============================] - 2s 4ms/step - loss: 0.0565 - mean_absolute_error: 0.1753 - val_loss: 0.0949 - val_mean_absolute_error: 0.2486\n",
            "Epoch 54/100\n",
            "391/391 [==============================] - 1s 4ms/step - loss: 0.0557 - mean_absolute_error: 0.1759 - val_loss: 0.0293 - val_mean_absolute_error: 0.1060\n",
            "Epoch 55/100\n",
            "391/391 [==============================] - 2s 4ms/step - loss: 0.0552 - mean_absolute_error: 0.1774 - val_loss: 0.0457 - val_mean_absolute_error: 0.1526\n",
            "Epoch 56/100\n",
            "391/391 [==============================] - 2s 4ms/step - loss: 0.0547 - mean_absolute_error: 0.1732 - val_loss: 0.0392 - val_mean_absolute_error: 0.1373\n",
            "Epoch 57/100\n",
            "391/391 [==============================] - 2s 4ms/step - loss: 0.0537 - mean_absolute_error: 0.1735 - val_loss: 0.0938 - val_mean_absolute_error: 0.2342\n",
            "Epoch 58/100\n",
            "391/391 [==============================] - 2s 5ms/step - loss: 0.0545 - mean_absolute_error: 0.1731 - val_loss: 0.0531 - val_mean_absolute_error: 0.1601\n",
            "Epoch 59/100\n",
            "391/391 [==============================] - 2s 4ms/step - loss: 0.0520 - mean_absolute_error: 0.1680 - val_loss: 0.0603 - val_mean_absolute_error: 0.1674\n",
            "Epoch 60/100\n",
            "391/391 [==============================] - 2s 5ms/step - loss: 0.0522 - mean_absolute_error: 0.1711 - val_loss: 0.0406 - val_mean_absolute_error: 0.1094\n",
            "Epoch 61/100\n",
            "391/391 [==============================] - 2s 5ms/step - loss: 0.0513 - mean_absolute_error: 0.1695 - val_loss: 0.0925 - val_mean_absolute_error: 0.2311\n",
            "Epoch 62/100\n",
            "391/391 [==============================] - 2s 5ms/step - loss: 0.0516 - mean_absolute_error: 0.1704 - val_loss: 0.0345 - val_mean_absolute_error: 0.1078\n",
            "Epoch 63/100\n",
            "391/391 [==============================] - 2s 4ms/step - loss: 0.0500 - mean_absolute_error: 0.1635 - val_loss: 0.0222 - val_mean_absolute_error: 0.0620\n",
            "Epoch 64/100\n",
            "391/391 [==============================] - 2s 5ms/step - loss: 0.0493 - mean_absolute_error: 0.1639 - val_loss: 0.0677 - val_mean_absolute_error: 0.1845\n",
            "Epoch 65/100\n",
            "391/391 [==============================] - 2s 4ms/step - loss: 0.0478 - mean_absolute_error: 0.1549 - val_loss: 0.0271 - val_mean_absolute_error: 0.0944\n",
            "Epoch 66/100\n",
            "391/391 [==============================] - 2s 4ms/step - loss: 0.0477 - mean_absolute_error: 0.1602 - val_loss: 0.0368 - val_mean_absolute_error: 0.1158\n",
            "Epoch 67/100\n",
            "391/391 [==============================] - 2s 4ms/step - loss: 0.0476 - mean_absolute_error: 0.1584 - val_loss: 0.2141 - val_mean_absolute_error: 0.3642\n",
            "Epoch 68/100\n",
            "391/391 [==============================] - 2s 4ms/step - loss: 0.0472 - mean_absolute_error: 0.1585 - val_loss: 0.0549 - val_mean_absolute_error: 0.1799\n",
            "Epoch 69/100\n",
            "391/391 [==============================] - 2s 5ms/step - loss: 0.0459 - mean_absolute_error: 0.1569 - val_loss: 0.0359 - val_mean_absolute_error: 0.0883\n",
            "Epoch 70/100\n",
            "391/391 [==============================] - 2s 6ms/step - loss: 0.0459 - mean_absolute_error: 0.1539 - val_loss: 0.1229 - val_mean_absolute_error: 0.2678\n",
            "Epoch 71/100\n",
            "391/391 [==============================] - 1s 4ms/step - loss: 0.0455 - mean_absolute_error: 0.1582 - val_loss: 0.0393 - val_mean_absolute_error: 0.1325\n",
            "Epoch 72/100\n",
            "391/391 [==============================] - 2s 4ms/step - loss: 0.0453 - mean_absolute_error: 0.1506 - val_loss: 0.0290 - val_mean_absolute_error: 0.1049\n",
            "Epoch 73/100\n",
            "391/391 [==============================] - 2s 5ms/step - loss: 0.0444 - mean_absolute_error: 0.1467 - val_loss: 0.0334 - val_mean_absolute_error: 0.1101\n",
            "Epoch 74/100\n",
            "391/391 [==============================] - 2s 4ms/step - loss: 0.0447 - mean_absolute_error: 0.1528 - val_loss: 0.0363 - val_mean_absolute_error: 0.1169\n",
            "Epoch 75/100\n",
            "391/391 [==============================] - 2s 6ms/step - loss: 0.0438 - mean_absolute_error: 0.1532 - val_loss: 0.0398 - val_mean_absolute_error: 0.1151\n",
            "Epoch 76/100\n",
            "391/391 [==============================] - 1s 4ms/step - loss: 0.0440 - mean_absolute_error: 0.1540 - val_loss: 0.0785 - val_mean_absolute_error: 0.2255\n",
            "Epoch 77/100\n",
            "391/391 [==============================] - 2s 4ms/step - loss: 0.0432 - mean_absolute_error: 0.1508 - val_loss: 0.0444 - val_mean_absolute_error: 0.1340\n",
            "Epoch 78/100\n",
            "391/391 [==============================] - 2s 5ms/step - loss: 0.0432 - mean_absolute_error: 0.1521 - val_loss: 0.0284 - val_mean_absolute_error: 0.0989\n",
            "Epoch 79/100\n",
            "391/391 [==============================] - 2s 6ms/step - loss: 0.0427 - mean_absolute_error: 0.1526 - val_loss: 0.0318 - val_mean_absolute_error: 0.1190\n",
            "Epoch 80/100\n",
            "391/391 [==============================] - 2s 4ms/step - loss: 0.0419 - mean_absolute_error: 0.1457 - val_loss: 0.1070 - val_mean_absolute_error: 0.2456\n",
            "Epoch 81/100\n",
            "391/391 [==============================] - 2s 4ms/step - loss: 0.0425 - mean_absolute_error: 0.1474 - val_loss: 0.0507 - val_mean_absolute_error: 0.1750\n",
            "Epoch 82/100\n",
            "391/391 [==============================] - 2s 4ms/step - loss: 0.0422 - mean_absolute_error: 0.1463 - val_loss: 0.0867 - val_mean_absolute_error: 0.1625\n",
            "Epoch 83/100\n",
            "391/391 [==============================] - 2s 4ms/step - loss: 0.0413 - mean_absolute_error: 0.1481 - val_loss: 0.1749 - val_mean_absolute_error: 0.3244\n",
            "Epoch 84/100\n",
            "391/391 [==============================] - 2s 4ms/step - loss: 0.0410 - mean_absolute_error: 0.1483 - val_loss: 0.0288 - val_mean_absolute_error: 0.0827\n",
            "Epoch 85/100\n",
            "391/391 [==============================] - 2s 4ms/step - loss: 0.0412 - mean_absolute_error: 0.1460 - val_loss: 0.0443 - val_mean_absolute_error: 0.1342\n",
            "Epoch 86/100\n",
            "391/391 [==============================] - 2s 5ms/step - loss: 0.0399 - mean_absolute_error: 0.1386 - val_loss: 0.0554 - val_mean_absolute_error: 0.1635\n",
            "Epoch 87/100\n",
            "391/391 [==============================] - 3s 7ms/step - loss: 0.0397 - mean_absolute_error: 0.1421 - val_loss: 0.0996 - val_mean_absolute_error: 0.2622\n",
            "Epoch 88/100\n",
            "391/391 [==============================] - 2s 4ms/step - loss: 0.0399 - mean_absolute_error: 0.1400 - val_loss: 0.0478 - val_mean_absolute_error: 0.1568\n",
            "Epoch 89/100\n",
            "391/391 [==============================] - 2s 5ms/step - loss: 0.0399 - mean_absolute_error: 0.1403 - val_loss: 0.0529 - val_mean_absolute_error: 0.1785\n",
            "Epoch 90/100\n",
            "391/391 [==============================] - 2s 6ms/step - loss: 0.0387 - mean_absolute_error: 0.1391 - val_loss: 0.0301 - val_mean_absolute_error: 0.0852\n",
            "Epoch 91/100\n",
            "391/391 [==============================] - 2s 4ms/step - loss: 0.0387 - mean_absolute_error: 0.1391 - val_loss: 0.0241 - val_mean_absolute_error: 0.0712\n",
            "Epoch 92/100\n",
            "391/391 [==============================] - 2s 5ms/step - loss: 0.0385 - mean_absolute_error: 0.1371 - val_loss: 0.0482 - val_mean_absolute_error: 0.1608\n",
            "Epoch 93/100\n",
            "391/391 [==============================] - 2s 6ms/step - loss: 0.0380 - mean_absolute_error: 0.1350 - val_loss: 0.0306 - val_mean_absolute_error: 0.0707\n",
            "Epoch 94/100\n",
            "391/391 [==============================] - 2s 4ms/step - loss: 0.0386 - mean_absolute_error: 0.1355 - val_loss: 0.0343 - val_mean_absolute_error: 0.1091\n",
            "Epoch 95/100\n",
            "391/391 [==============================] - 2s 5ms/step - loss: 0.0376 - mean_absolute_error: 0.1369 - val_loss: 0.0265 - val_mean_absolute_error: 0.0935\n",
            "Epoch 96/100\n",
            "391/391 [==============================] - 2s 5ms/step - loss: 0.0371 - mean_absolute_error: 0.1326 - val_loss: 0.0436 - val_mean_absolute_error: 0.1374\n",
            "Epoch 97/100\n",
            "391/391 [==============================] - 2s 5ms/step - loss: 0.0368 - mean_absolute_error: 0.1361 - val_loss: 0.0256 - val_mean_absolute_error: 0.0940\n",
            "Epoch 98/100\n",
            "391/391 [==============================] - 2s 6ms/step - loss: 0.0366 - mean_absolute_error: 0.1356 - val_loss: 0.0227 - val_mean_absolute_error: 0.0759\n",
            "Epoch 99/100\n",
            "391/391 [==============================] - 2s 4ms/step - loss: 0.0365 - mean_absolute_error: 0.1390 - val_loss: 0.0337 - val_mean_absolute_error: 0.1149\n",
            "Epoch 100/100\n",
            "391/391 [==============================] - 2s 4ms/step - loss: 0.0360 - mean_absolute_error: 0.1330 - val_loss: 0.0248 - val_mean_absolute_error: 0.0876\n"
          ]
        }
      ]
    },
    {
      "cell_type": "markdown",
      "source": [
        "Se guardan los valores de error medio absoluto y pérdida en la validación para poder graficarlos."
      ],
      "metadata": {
        "id": "xPHl2BSxVnHG"
      },
      "id": "xPHl2BSxVnHG"
    },
    {
      "cell_type": "code",
      "source": [
        "mae_history = history.history['val_mean_absolute_error']"
      ],
      "metadata": {
        "id": "iGJBKsErp6hB"
      },
      "id": "iGJBKsErp6hB",
      "execution_count": 21,
      "outputs": []
    },
    {
      "cell_type": "code",
      "source": [
        "mse_history = history.history['val_loss']"
      ],
      "metadata": {
        "id": "0NM0QWErp98u"
      },
      "id": "0NM0QWErp98u",
      "execution_count": 22,
      "outputs": []
    },
    {
      "cell_type": "markdown",
      "source": [
        "Se confrontan en una gráfica las épocas frente a la pérdida pérdida (MSE)"
      ],
      "metadata": {
        "id": "W0kHJ443qE6p"
      },
      "id": "W0kHJ443qE6p"
    },
    {
      "cell_type": "code",
      "source": [
        "import matplotlib.pyplot as plt\n",
        "\n",
        "plt.plot(range(1, len(mse_history) + 1), mse_history)\n",
        "plt.xlabel('Epochs')\n",
        "plt.ylabel('Validación MSE')\n",
        "plt.show()"
      ],
      "metadata": {
        "id": "sNPBLN62qETp",
        "outputId": "e823c511-8c74-41f7-b4eb-60fd4001ea3c",
        "colab": {
          "base_uri": "https://localhost:8080/",
          "height": 279
        }
      },
      "id": "sNPBLN62qETp",
      "execution_count": 23,
      "outputs": [
        {
          "output_type": "display_data",
          "data": {
            "text/plain": [
              "<Figure size 432x288 with 1 Axes>"
            ],
            "image/png": "[encoded data removed]"
          },
          "metadata": {
            "needs_background": "light"
          }
        }
      ]
    },
    {
      "cell_type": "markdown",
      "source": [
        "Se realiza una gráfica para comparar las pérdidas de entreno y validación"
      ],
      "metadata": {
        "id": "sQoDMTkuV46l"
      },
      "id": "sQoDMTkuV46l"
    },
    {
      "cell_type": "code",
      "source": [
        "import matplotlib.pyplot as plt\n",
        "\n",
        "loss = history.history['loss']\n",
        "val_loss = history.history['val_loss']\n",
        "\n",
        "epochs = range(1, len(loss) + 1)\n",
        "\n",
        "plt.plot(epochs, loss, 'bo', label='Pérdida del entreno')\n",
        "plt.plot(epochs, val_loss, 'b', label='Pérdida de la validación')\n",
        "plt.title('Perdidas del entreno y la validación')\n",
        "plt.xlabel('Épocas')\n",
        "plt.ylabel('Pérdida')\n",
        "plt.legend()\n",
        "\n",
        "plt.show()"
      ],
      "metadata": {
        "id": "iysI43zEqVQb",
        "outputId": "65f7887a-4d5f-4534-8884-96515784da44",
        "colab": {
          "base_uri": "https://localhost:8080/",
          "height": 297
        }
      },
      "id": "iysI43zEqVQb",
      "execution_count": 24,
      "outputs": [
        {
          "output_type": "display_data",
          "data": {
            "text/plain": [
              "<Figure size 432x288 with 1 Axes>"
            ],
            "image/png": "[encoded data removed]"
          },
          "metadata": {
            "needs_background": "light"
          }
        }
      ]
    },
    {
      "cell_type": "markdown",
      "source": [
        "Se confrontan en una gráfica las épocas contra la métrica de error absoluto medio (MAE)"
      ],
      "metadata": {
        "id": "BZnSo8GiqXi7"
      },
      "id": "BZnSo8GiqXi7"
    },
    {
      "cell_type": "code",
      "source": [
        " import matplotlib.pyplot as plt\n",
        "\n",
        "plt.plot(range(1, len(mae_history) + 1), mae_history)\n",
        "plt.xlabel('Epochs')\n",
        "plt.ylabel('Validación MAE')\n",
        "plt.show()"
      ],
      "metadata": {
        "id": "d7OI2-P4qXy9",
        "outputId": "65278821-cb4e-4ba0-81e7-d086eff2a628",
        "colab": {
          "base_uri": "https://localhost:8080/",
          "height": 282
        }
      },
      "id": "d7OI2-P4qXy9",
      "execution_count": 25,
      "outputs": [
        {
          "output_type": "display_data",
          "data": {
            "text/plain": [
              "<Figure size 432x288 with 1 Axes>"
            ],
            "image/png": "[encoded data removed]"
          },
          "metadata": {
            "needs_background": "light"
          }
        }
      ]
    },
    {
      "cell_type": "markdown",
      "source": [
        "Por último se realiza una gráfica para comparar el mae de entreno y validación"
      ],
      "metadata": {
        "id": "Oz3wOl_cWLGq"
      },
      "id": "Oz3wOl_cWLGq"
    },
    {
      "cell_type": "code",
      "source": [
        "import matplotlib.pyplot as plt\n",
        "\n",
        "loss = history.history['mean_absolute_error']\n",
        "val_loss = history.history['val_mean_absolute_error']\n",
        "\n",
        "epochs = range(1, len(loss) + 1)\n",
        "\n",
        "plt.plot(epochs, loss, 'bo', label='Métrica del entreno')\n",
        "plt.plot(epochs, val_loss, 'b', label='Métrica de la validación')\n",
        "plt.title('Métricas del entreno y la validación')\n",
        "plt.xlabel('Épocas')\n",
        "plt.ylabel('Métrica')\n",
        "plt.legend()\n",
        "\n",
        "plt.show()"
      ],
      "metadata": {
        "id": "g0K_QQ4hqfJB",
        "outputId": "03491607-b52d-442f-87ca-598f81d1a751",
        "colab": {
          "base_uri": "https://localhost:8080/",
          "height": 297
        }
      },
      "id": "g0K_QQ4hqfJB",
      "execution_count": 26,
      "outputs": [
        {
          "output_type": "display_data",
          "data": {
            "text/plain": [
              "<Figure size 432x288 with 1 Axes>"
            ],
            "image/png": "[encoded data removed]"
          },
          "metadata": {
            "needs_background": "light"
          }
        }
      ]
    },
    {
      "cell_type": "markdown",
      "source": [
        "Tras haber obtenido las diversas gráficas correspondientes a la métirca y la validación, se puede observar que a partir de la época 20 se produce sobre entrenamiento. A pesar de que las gráficas no son del todo claras al tener picos, pero este punto es el apropiado para que la red no se sobre entrene es decir, obtenga la mejor predicción posible sin necesidad de un elevado coste computacional.\n",
        "\n",
        "Para comprobar que esto es correcto se realiza una nueva red con el mismo modelo pero entrenada con tan solo 20 épocas."
      ],
      "metadata": {
        "id": "qhSEkaVnXSuS"
      },
      "id": "qhSEkaVnXSuS"
    },
    {
      "cell_type": "code",
      "source": [
        "mymodel2 = build_model()"
      ],
      "metadata": {
        "id": "GubxwyNGEYuP"
      },
      "id": "GubxwyNGEYuP",
      "execution_count": 27,
      "outputs": []
    },
    {
      "cell_type": "code",
      "source": [
        "history = mymodel2.fit(partial_train_datos, partial_train_labels,\n",
        "            validation_data=(partial_eval_train_datos, partial_eval_train_labels),\n",
        "                        epochs=20, batch_size=128)"
      ],
      "metadata": {
        "id": "DqhZ_1YMqiIO",
        "colab": {
          "base_uri": "https://localhost:8080/"
        },
        "outputId": "9dab8ee4-0c51-432a-8b53-326edfe982d5"
      },
      "id": "DqhZ_1YMqiIO",
      "execution_count": 28,
      "outputs": [
        {
          "output_type": "stream",
          "name": "stdout",
          "text": [
            "Epoch 1/20\n",
            "391/391 [==============================] - 3s 6ms/step - loss: 11.6175 - mean_absolute_error: 1.6064 - val_loss: 0.5220 - val_mean_absolute_error: 0.5145\n",
            "Epoch 2/20\n",
            "391/391 [==============================] - 2s 4ms/step - loss: 0.3864 - mean_absolute_error: 0.4820 - val_loss: 0.3941 - val_mean_absolute_error: 0.4805\n",
            "Epoch 3/20\n",
            "391/391 [==============================] - 2s 5ms/step - loss: 0.2833 - mean_absolute_error: 0.4064 - val_loss: 0.1860 - val_mean_absolute_error: 0.2961\n",
            "Epoch 4/20\n",
            "391/391 [==============================] - 2s 4ms/step - loss: 0.2423 - mean_absolute_error: 0.3718 - val_loss: 0.2232 - val_mean_absolute_error: 0.3602\n",
            "Epoch 5/20\n",
            "391/391 [==============================] - 2s 4ms/step - loss: 0.2220 - mean_absolute_error: 0.3524 - val_loss: 0.1889 - val_mean_absolute_error: 0.3096\n",
            "Epoch 6/20\n",
            "391/391 [==============================] - 2s 5ms/step - loss: 0.2079 - mean_absolute_error: 0.3463 - val_loss: 0.1705 - val_mean_absolute_error: 0.2795\n",
            "Epoch 7/20\n",
            "391/391 [==============================] - 2s 6ms/step - loss: 0.1943 - mean_absolute_error: 0.3337 - val_loss: 0.1395 - val_mean_absolute_error: 0.2247\n",
            "Epoch 8/20\n",
            "391/391 [==============================] - 2s 4ms/step - loss: 0.1831 - mean_absolute_error: 0.3245 - val_loss: 0.1491 - val_mean_absolute_error: 0.2475\n",
            "Epoch 9/20\n",
            "391/391 [==============================] - 2s 4ms/step - loss: 0.1742 - mean_absolute_error: 0.3171 - val_loss: 0.1768 - val_mean_absolute_error: 0.3140\n",
            "Epoch 10/20\n",
            "391/391 [==============================] - 2s 5ms/step - loss: 0.1641 - mean_absolute_error: 0.3047 - val_loss: 0.2216 - val_mean_absolute_error: 0.3752\n",
            "Epoch 11/20\n",
            "391/391 [==============================] - 2s 5ms/step - loss: 0.1557 - mean_absolute_error: 0.3002 - val_loss: 0.2070 - val_mean_absolute_error: 0.3349\n",
            "Epoch 12/20\n",
            "391/391 [==============================] - 2s 5ms/step - loss: 0.1473 - mean_absolute_error: 0.2872 - val_loss: 0.0990 - val_mean_absolute_error: 0.2040\n",
            "Epoch 13/20\n",
            "391/391 [==============================] - 1s 4ms/step - loss: 0.1401 - mean_absolute_error: 0.2882 - val_loss: 0.2161 - val_mean_absolute_error: 0.3606\n",
            "Epoch 14/20\n",
            "391/391 [==============================] - 1s 4ms/step - loss: 0.1334 - mean_absolute_error: 0.2744 - val_loss: 0.1513 - val_mean_absolute_error: 0.2368\n",
            "Epoch 15/20\n",
            "391/391 [==============================] - 1s 4ms/step - loss: 0.1284 - mean_absolute_error: 0.2745 - val_loss: 0.1815 - val_mean_absolute_error: 0.3515\n",
            "Epoch 16/20\n",
            "391/391 [==============================] - 2s 4ms/step - loss: 0.1210 - mean_absolute_error: 0.2677 - val_loss: 0.0721 - val_mean_absolute_error: 0.1788\n",
            "Epoch 17/20\n",
            "391/391 [==============================] - 2s 5ms/step - loss: 0.1154 - mean_absolute_error: 0.2596 - val_loss: 0.0905 - val_mean_absolute_error: 0.1866\n",
            "Epoch 18/20\n",
            "391/391 [==============================] - 2s 4ms/step - loss: 0.1103 - mean_absolute_error: 0.2537 - val_loss: 0.1638 - val_mean_absolute_error: 0.3067\n",
            "Epoch 19/20\n",
            "391/391 [==============================] - 2s 5ms/step - loss: 0.1054 - mean_absolute_error: 0.2474 - val_loss: 0.0827 - val_mean_absolute_error: 0.1887\n",
            "Epoch 20/20\n",
            "391/391 [==============================] - 2s 4ms/step - loss: 0.0994 - mean_absolute_error: 0.2389 - val_loss: 0.0749 - val_mean_absolute_error: 0.1953\n"
          ]
        }
      ]
    },
    {
      "cell_type": "markdown",
      "source": [
        "Se guardan de nuevo tanto la pérdida como la métrica de validación y se realizan las mismas gráficas que se han realizado con el modelo anterior."
      ],
      "metadata": {
        "id": "sJGH-H4tYmP_"
      },
      "id": "sJGH-H4tYmP_"
    },
    {
      "cell_type": "code",
      "source": [
        "mae_history = history.history['val_mean_absolute_error']\n",
        "mse_history = history.history['val_loss']"
      ],
      "metadata": {
        "id": "OzahxAlHD0e0"
      },
      "id": "OzahxAlHD0e0",
      "execution_count": 29,
      "outputs": []
    },
    {
      "cell_type": "code",
      "source": [
        "import matplotlib.pyplot as plt\n",
        "\n",
        "plt.plot(range(1, len(mse_history) + 1), mse_history)\n",
        "plt.xlabel('Epochs')\n",
        "plt.ylabel('Validación MSE')\n",
        "plt.show()"
      ],
      "metadata": {
        "id": "xnUNGmilD1ZI",
        "outputId": "09200b30-04f3-4a04-ad44-8b911d9a1ec2",
        "colab": {
          "base_uri": "https://localhost:8080/",
          "height": 279
        }
      },
      "id": "xnUNGmilD1ZI",
      "execution_count": 30,
      "outputs": [
        {
          "output_type": "display_data",
          "data": {
            "text/plain": [
              "<Figure size 432x288 with 1 Axes>"
            ],
            "image/png": "[encoded data removed]"
          },
          "metadata": {
            "needs_background": "light"
          }
        }
      ]
    },
    {
      "cell_type": "code",
      "source": [
        "import matplotlib.pyplot as plt\n",
        "\n",
        "loss = history.history['loss']\n",
        "val_loss = history.history['val_loss']\n",
        "\n",
        "epochs = range(1, len(loss) + 1)\n",
        "\n",
        "plt.plot(epochs, loss, 'bo', label='Pérdida del entreno')\n",
        "plt.plot(epochs, val_loss, 'b', label='Pérdida de la validación')\n",
        "plt.title('Perdidas del entreno y la validación')\n",
        "plt.xlabel('Épocas')\n",
        "plt.ylabel('Pérdida')\n",
        "plt.legend()\n",
        "\n",
        "plt.show()"
      ],
      "metadata": {
        "id": "roWq86OeD1Nv",
        "outputId": "a968062d-b65d-453b-a39c-08fc2ddfcdc7",
        "colab": {
          "base_uri": "https://localhost:8080/",
          "height": 297
        }
      },
      "id": "roWq86OeD1Nv",
      "execution_count": 31,
      "outputs": [
        {
          "output_type": "display_data",
          "data": {
            "text/plain": [
              "<Figure size 432x288 with 1 Axes>"
            ],
            "image/png": "[encoded data removed]"
          },
          "metadata": {
            "needs_background": "light"
          }
        }
      ]
    },
    {
      "cell_type": "code",
      "source": [
        "import matplotlib.pyplot as plt\n",
        "\n",
        "plt.plot(range(1, len(mae_history) + 1), mae_history)\n",
        "plt.xlabel('Epochs')\n",
        "plt.ylabel('Validación MAE')\n",
        "plt.show()"
      ],
      "metadata": {
        "id": "92roMX5PD0yo",
        "outputId": "7ced235c-91fb-4122-e209-b57448f005d4",
        "colab": {
          "base_uri": "https://localhost:8080/",
          "height": 279
        }
      },
      "id": "92roMX5PD0yo",
      "execution_count": 32,
      "outputs": [
        {
          "output_type": "display_data",
          "data": {
            "text/plain": [
              "<Figure size 432x288 with 1 Axes>"
            ],
            "image/png": "[encoded data removed]"
          },
          "metadata": {
            "needs_background": "light"
          }
        }
      ]
    },
    {
      "cell_type": "code",
      "source": [
        "import matplotlib.pyplot as plt\n",
        "\n",
        "loss = history.history['mean_absolute_error']\n",
        "val_loss = history.history['val_mean_absolute_error']\n",
        "\n",
        "epochs = range(1, len(loss) + 1)\n",
        "\n",
        "plt.plot(epochs, loss, 'bo', label='Pérdida del entreno')\n",
        "plt.plot(epochs, val_loss, 'b', label='Pérdida de la validación')\n",
        "plt.title('Perdidas del entreno y la validación')\n",
        "plt.xlabel('Épocas')\n",
        "plt.ylabel('Pérdida')\n",
        "plt.legend()\n",
        "\n",
        "plt.show()"
      ],
      "metadata": {
        "id": "KrS5-O-ZEEW1",
        "outputId": "d5adba37-1a2b-4bc5-d3ba-9e102bd77134",
        "colab": {
          "base_uri": "https://localhost:8080/",
          "height": 297
        }
      },
      "id": "KrS5-O-ZEEW1",
      "execution_count": 33,
      "outputs": [
        {
          "output_type": "display_data",
          "data": {
            "text/plain": [
              "<Figure size 432x288 with 1 Axes>"
            ],
            "image/png": "[encoded data removed]"
          },
          "metadata": {
            "needs_background": "light"
          }
        }
      ]
    },
    {
      "cell_type": "markdown",
      "source": [
        "Tras haber realizado este nuevo modelo se puede verificar que con 20 épocas no se produce sobre entrenamiento y que los valores de métrica que son aquellos que nos interesan son muy parecidos al terminar la época 20, que los obtenidos al terminar la época 100 en el modelo anterior.\n",
        "- Val_mean_absolute_error época 100 modelo 1: 0.08\n",
        "- Val_mean_absolute_error época 20 modelo 2: 0.19\n",
        "\n",
        "Como vemos la diferencia es casi insignificante"
      ],
      "metadata": {
        "id": "sFiFkyAHY2ft"
      },
      "id": "sFiFkyAHY2ft"
    },
    {
      "cell_type": "markdown",
      "source": [
        "Tras haber analizado el número de épocas correctas y haber concretado el modelo de red óptimo para la resolución de este problema, se ha decidido implementar el método k-folds que permitirá obtener una red con mejores valores de métrica que la obtenida. \n",
        "\n",
        "Este método consiste en dividir los datos de entrenamiento en 4 partes iguales durante 4 iteraciones empleando en cada una de las iteraciones distintas 1 parte como datos de validación y el resto como datos de entrenamiento con el fin de garantizar una mayor diviersidad de estos datos."
      ],
      "metadata": {
        "id": "3KojvmXJZisi"
      },
      "id": "3KojvmXJZisi"
    },
    {
      "cell_type": "code",
      "source": [
        "import numpy as np\n",
        "\n",
        "k = 4\n",
        "num_val_samples = len(train_datos) // k \n",
        "print(\"num_val_samples\", num_val_samples)\n",
        "num_epochs = 20\n",
        "all_scores = []\n",
        "for i in range(k):\n",
        "    print('processing fold #', i)\n",
        "    print(\"Uso para validar el siguiente rango de datos de entrenamiento -> [\",(i * num_val_samples),\":\",((i + 1) * num_val_samples),\"]\")\n",
        "    val_data = train_datos[i * num_val_samples: (i + 1) * num_val_samples]\n",
        "    val_targets = train_labels[i * num_val_samples: (i + 1) * num_val_samples]\n",
        "    print(\"Uso para entrenar el siguiente rango de datos de entrenamiento -> [0:\",(i * num_val_samples),\"]U[\",(i + 1) * num_val_samples,\":\",len(train_datos),\"]\")\n",
        "    partial_train_data = np.concatenate(\n",
        "        [train_datos[:i * num_val_samples],\n",
        "         train_datos[(i + 1) * num_val_samples:]],\n",
        "        axis=0)\n",
        "    partial_train_targets = np.concatenate(\n",
        "        [train_labels[:i * num_val_samples],\n",
        "         train_labels[(i + 1) * num_val_samples:]],\n",
        "        axis=0)\n",
        "    model = build_model()\n",
        "    model.fit(partial_train_data, partial_train_targets,\n",
        "              epochs=num_epochs, batch_size=128, verbose=0)\n",
        "    val_mse, val_mae = model.evaluate(val_data, val_targets, verbose=0)\n",
        "    all_scores.append(val_mae)"
      ],
      "metadata": {
        "id": "EHP6j4iyFl0o",
        "outputId": "ab5ab44a-f09d-405e-ab4b-ec228d40d029",
        "colab": {
          "base_uri": "https://localhost:8080/"
        }
      },
      "id": "EHP6j4iyFl0o",
      "execution_count": 34,
      "outputs": [
        {
          "output_type": "stream",
          "name": "stdout",
          "text": [
            "num_val_samples 17500\n",
            "processing fold # 0\n",
            "Uso para validar el siguiente rango de datos de entrenamiento -> [ 0 : 17500 ]\n",
            "Uso para entrenar el siguiente rango de datos de entrenamiento -> [0: 0 ]U[ 17500 : 70000 ]\n",
            "processing fold # 1\n",
            "Uso para validar el siguiente rango de datos de entrenamiento -> [ 17500 : 35000 ]\n",
            "Uso para entrenar el siguiente rango de datos de entrenamiento -> [0: 17500 ]U[ 35000 : 70000 ]\n",
            "processing fold # 2\n",
            "Uso para validar el siguiente rango de datos de entrenamiento -> [ 35000 : 52500 ]\n",
            "Uso para entrenar el siguiente rango de datos de entrenamiento -> [0: 35000 ]U[ 52500 : 70000 ]\n",
            "processing fold # 3\n",
            "Uso para validar el siguiente rango de datos de entrenamiento -> [ 52500 : 70000 ]\n",
            "Uso para entrenar el siguiente rango de datos de entrenamiento -> [0: 52500 ]U[ 70000 : 70000 ]\n"
          ]
        }
      ]
    },
    {
      "cell_type": "markdown",
      "source": [
        "Se muestran los diversos valores de error medio absoluto de validación obtenidos en cada una de las iteraciones"
      ],
      "metadata": {
        "id": "9t9mVgvuejZY"
      },
      "id": "9t9mVgvuejZY"
    },
    {
      "cell_type": "code",
      "source": [
        "all_scores"
      ],
      "metadata": {
        "id": "endubuNzFvZx",
        "outputId": "f0ba4479-b4b7-4713-c486-39372f57e313",
        "colab": {
          "base_uri": "https://localhost:8080/"
        }
      },
      "id": "endubuNzFvZx",
      "execution_count": 35,
      "outputs": [
        {
          "output_type": "execute_result",
          "data": {
            "text/plain": [
              "[0.4120800197124481,\n",
              " 0.17208325862884521,\n",
              " 0.13154372572898865,\n",
              " 0.12038782238960266]"
            ]
          },
          "metadata": {},
          "execution_count": 35
        }
      ]
    },
    {
      "cell_type": "markdown",
      "source": [
        "Se realiza la media de los datos obtenidos en el apartado anterior con el fin de conocer el verdadero error medio absoluto del nuevo modelo en el cual se emplean los k-folds."
      ],
      "metadata": {
        "id": "isGsLhF-e576"
      },
      "id": "isGsLhF-e576"
    },
    {
      "cell_type": "code",
      "source": [
        "np.mean(all_scores)"
      ],
      "metadata": {
        "id": "g3pAnq6aFvYF",
        "outputId": "22791645-74ee-43db-88b0-4d51be1824f8",
        "colab": {
          "base_uri": "https://localhost:8080/"
        }
      },
      "id": "g3pAnq6aFvYF",
      "execution_count": 36,
      "outputs": [
        {
          "output_type": "execute_result",
          "data": {
            "text/plain": [
              "0.20902370661497116"
            ]
          },
          "metadata": {},
          "execution_count": 36
        }
      ]
    },
    {
      "cell_type": "code",
      "source": [
        "from keras import backend as K\n",
        "K.clear_session()"
      ],
      "metadata": {
        "id": "uk1hA2cbFvU7"
      },
      "id": "uk1hA2cbFvU7",
      "execution_count": 37,
      "outputs": []
    },
    {
      "cell_type": "markdown",
      "source": [
        "A continuación, se vuelve a realizar el proceso de k-folds con un número de épocas mayor con el fin de ver cual es el número correctas de época de entrenamiento y además en este caso se guardan los valores de mae en cada una de las épocas para poder realizar una gráfica donde poder ver mejor el número de épocas a emplear."
      ],
      "metadata": {
        "id": "AKfAIk_giNF9"
      },
      "id": "AKfAIk_giNF9"
    },
    {
      "cell_type": "code",
      "source": [
        "num_epochs = 60\n",
        "all_mae_histories = []\n",
        "for i in range(k):\n",
        "    print('processing fold #', i)\n",
        "    print(\"Uso para validar el siguiente rango de datos de entrenamiento -> [\",(i * num_val_samples),\":\",((i + 1) * num_val_samples),\"]\")\n",
        "    val_data = train_datos[i * num_val_samples: (i + 1) * num_val_samples]\n",
        "    val_targets = train_labels[i * num_val_samples: (i + 1) * num_val_samples]\n",
        "    print(\"Uso para entrenar el siguiente rango de datos de entrenamiento -> [0:\",(i * num_val_samples),\"]U[\",(i + 1) * num_val_samples,\":\",len(train_datos),\"]\")\n",
        "    partial_train_data = np.concatenate(\n",
        "        [train_datos[:i * num_val_samples],\n",
        "         train_datos[(i + 1) * num_val_samples:]],\n",
        "        axis=0)\n",
        "    partial_train_targets = np.concatenate(\n",
        "        [train_labels[:i * num_val_samples],\n",
        "         train_labels[(i + 1) * num_val_samples:]],\n",
        "        axis=0)\n",
        "    model = build_model()\n",
        "    history = model.fit(partial_train_data, partial_train_targets,\n",
        "                        validation_data=(val_data, val_targets),\n",
        "                        epochs=num_epochs, batch_size=128, verbose=0)\n",
        "    mae_history = history.history['val_mean_absolute_error']\n",
        "    all_mae_histories.append(mae_history)"
      ],
      "metadata": {
        "id": "aJlIOP07FvTT",
        "outputId": "32108fae-5960-4bcf-e46d-1d144f796fe7",
        "colab": {
          "base_uri": "https://localhost:8080/"
        }
      },
      "id": "aJlIOP07FvTT",
      "execution_count": 38,
      "outputs": [
        {
          "output_type": "stream",
          "name": "stdout",
          "text": [
            "processing fold # 0\n",
            "Uso para validar el siguiente rango de datos de entrenamiento -> [ 0 : 17500 ]\n",
            "Uso para entrenar el siguiente rango de datos de entrenamiento -> [0: 0 ]U[ 17500 : 70000 ]\n",
            "processing fold # 1\n",
            "Uso para validar el siguiente rango de datos de entrenamiento -> [ 17500 : 35000 ]\n",
            "Uso para entrenar el siguiente rango de datos de entrenamiento -> [0: 17500 ]U[ 35000 : 70000 ]\n",
            "processing fold # 2\n",
            "Uso para validar el siguiente rango de datos de entrenamiento -> [ 35000 : 52500 ]\n",
            "Uso para entrenar el siguiente rango de datos de entrenamiento -> [0: 35000 ]U[ 52500 : 70000 ]\n",
            "processing fold # 3\n",
            "Uso para validar el siguiente rango de datos de entrenamiento -> [ 52500 : 70000 ]\n",
            "Uso para entrenar el siguiente rango de datos de entrenamiento -> [0: 52500 ]U[ 70000 : 70000 ]\n"
          ]
        }
      ]
    },
    {
      "cell_type": "markdown",
      "source": [
        "Se hace la media en cada una de las épocas usando los datos de mae de cada una de las 4 iteraciones realizadas durante el proceso de k-folds"
      ],
      "metadata": {
        "id": "dWwW_d2QixiB"
      },
      "id": "dWwW_d2QixiB"
    },
    {
      "cell_type": "code",
      "source": [
        "average_mae_history = [\n",
        "    np.mean([x[i] for x in all_mae_histories]) for i in range(num_epochs)]"
      ],
      "metadata": {
        "id": "AxgQSQKyFu6w"
      },
      "id": "AxgQSQKyFu6w",
      "execution_count": 39,
      "outputs": []
    },
    {
      "cell_type": "code",
      "source": [
        "import matplotlib.pyplot as plt\n",
        "\n",
        "plt.plot(range(1, len(average_mae_history) + 1), average_mae_history)\n",
        "plt.xlabel('Epochs')\n",
        "plt.ylabel('Validación MAE')\n",
        "plt.show()"
      ],
      "metadata": {
        "id": "A5aVTkV1F9qh",
        "outputId": "1d5e4698-0b71-4db3-8beb-3dd544610829",
        "colab": {
          "base_uri": "https://localhost:8080/",
          "height": 279
        }
      },
      "id": "A5aVTkV1F9qh",
      "execution_count": 40,
      "outputs": [
        {
          "output_type": "display_data",
          "data": {
            "text/plain": [
              "<Figure size 432x288 with 1 Axes>"
            ],
            "image/png": "[encoded data removed]"
          },
          "metadata": {
            "needs_background": "light"
          }
        }
      ]
    },
    {
      "cell_type": "code",
      "source": [
        "def smooth_curve(points, factor=0.9):\n",
        "  smoothed_points = []\n",
        "  for point in points:\n",
        "    if smoothed_points:\n",
        "      previous = smoothed_points[-1]\n",
        "      smoothed_points.append(previous * factor + point * (1 - factor))\n",
        "    else:\n",
        "      smoothed_points.append(point)\n",
        "  return smoothed_points\n",
        "\n",
        "smooth_mae_history = smooth_curve(average_mae_history[0:])\n",
        "\n",
        "plt.plot(range(1, len(smooth_mae_history) + 1), smooth_mae_history)\n",
        "plt.xlabel('Repeticiones')\n",
        "plt.ylabel('MAE de validación')\n",
        "plt.show()"
      ],
      "metadata": {
        "id": "O2b5E7LMGBwT",
        "outputId": "d1d89730-eb37-4731-e438-0f88a49a9490",
        "colab": {
          "base_uri": "https://localhost:8080/",
          "height": 279
        }
      },
      "id": "O2b5E7LMGBwT",
      "execution_count": 45,
      "outputs": [
        {
          "output_type": "display_data",
          "data": {
            "text/plain": [
              "<Figure size 432x288 with 1 Axes>"
            ],
            "image/png": "[encoded data removed]"
          },
          "metadata": {
            "needs_background": "light"
          }
        }
      ]
    },
    {
      "cell_type": "markdown",
      "source": [
        "Observando las dos gráficas obtenidas se puede ver que tal y como se ha dicho en los modelos sin usar k-folds un número correcto de épocas serían 20 ya que a partir de ahí la mejora del modelo es muy leve y supondría un coste computacional adicional innecesario."
      ],
      "metadata": {
        "id": "IR6KPp4Di7ku"
      },
      "id": "IR6KPp4Di7ku"
    },
    {
      "cell_type": "markdown",
      "source": [
        "Por último se realiza el modelo con los hiperparámetros que se han determinado como óptimos tras haber realizado los diversos estudios, con el fin de evaluar el rendimiento de este modelo sobre los datos de test."
      ],
      "metadata": {
        "id": "ip4MUsRtjQ-_"
      },
      "id": "ip4MUsRtjQ-_"
    },
    {
      "cell_type": "code",
      "source": [
        "model = build_model()\n",
        "model.fit(train_datos, train_labels,\n",
        "          epochs=20, batch_size=128, verbose=0)\n",
        "test_mse_score, test_mae_score = model.evaluate(test_datos, test_labels )"
      ],
      "metadata": {
        "id": "BHMLgKEXGFgN",
        "outputId": "203256ac-2eab-4e20-9fbe-909691b1ca83",
        "colab": {
          "base_uri": "https://localhost:8080/"
        }
      },
      "id": "BHMLgKEXGFgN",
      "execution_count": 46,
      "outputs": [
        {
          "output_type": "stream",
          "name": "stdout",
          "text": [
            "811/811 [==============================] - 1s 2ms/step - loss: 0.0911 - mean_absolute_error: 0.2596\n"
          ]
        }
      ]
    },
    {
      "cell_type": "markdown",
      "source": [
        "Ya que la métrica de este problema es el error medio absoluto, se muestra cual ha sido este error medio absoluto tras evaluar el modelo con los datos de test."
      ],
      "metadata": {
        "id": "nIr-ItuvkU4J"
      },
      "id": "nIr-ItuvkU4J"
    },
    {
      "cell_type": "code",
      "source": [
        "test_mae_score"
      ],
      "metadata": {
        "id": "0aK6YiEAGHt8",
        "outputId": "2efe5c06-b34e-4ad1-ebcc-436a4412b3df",
        "colab": {
          "base_uri": "https://localhost:8080/"
        }
      },
      "id": "0aK6YiEAGHt8",
      "execution_count": 47,
      "outputs": [
        {
          "output_type": "execute_result",
          "data": {
            "text/plain": [
              "0.25956493616104126"
            ]
          },
          "metadata": {},
          "execution_count": 47
        }
      ]
    },
    {
      "cell_type": "markdown",
      "source": [
        "# CONCLUSIONES Y TRABAJO A FUTURO"
      ],
      "metadata": {
        "id": "S5ixDocokkUU"
      },
      "id": "S5ixDocokkUU"
    },
    {
      "cell_type": "markdown",
      "source": [
        "Tras haber realizado los diversos estudios para realizar el modelo correcto para el proyecto que se pretendía resolver, se pueden sacar las siguientes conclusiones:\n",
        "\n",
        "Al tratarse de un modelo de regresión con tanta cantidad de datos no es necesario realizar un proceso de k-folds ya que no mejora los valores de métrica de validación que se han obtenido en los modelos en los cuales no se usa este método.\n",
        "\n",
        "Lo más importante en estos modelos de regresión es conocer cual es el número correcto de épocas que se emplean para entrenar el modelo, ya que, en muchas ocasiones el valor de error medio absoluto sigue disminuyendo, pero esa disminución es muy baja por lo cual no compensa entrenar el modelo de más para obtener resultados muy parecidos.\n",
        "\n",
        "En cuanto a la evaluación propia del tema del proyecto se ha de decir que se han obtenido resultados muy buenos ya que el modelo final realizado tras ser evaluado con los datos de test han dado un error medio absoluto de 0.259.\n",
        "\n",
        "Esto supone que las predicciones de temperatura que realiza el modelo son bastante exactas ya que los rangos de temepratura entre los cuales se encuentran los datos de este modelo son -21.8 y 39.9 lo que supone un rango de 62 grados centígrados, por tanto, el error medio absoluto corresponde a un 0.05% de ese rango.\n",
        "\n",
        "En cuanto a trabajo futuro que se podría realizar de este proyecto sería realizar una base de datos con registros pertenecientes a lugares diversos, para ello se debería incorporar una nueva característica a los datos de entrada que sería una especie de localizador que indicara categoricamente a donde pertenece ese registro, lo que nos permitiría en un mismo momento conocer la temperatura de varios lugares.\n",
        "\n",
        "Otra opción de trabajo a futuro podría ser introducir una característica que fuera la fecha con el fin de poder conseguir la temperatura mínima y máxima en un lugar en un día concreto y no solo la temperatura en ese instante."
      ],
      "metadata": {
        "id": "vW9vcxQZlHdE"
      },
      "id": "vW9vcxQZlHdE"
    }
  ],
  "metadata": {
    "kernelspec": {
      "display_name": "Python 3 (ipykernel)",
      "language": "python",
      "name": "python3"
    },
    "language_info": {
      "codemirror_mode": {
        "name": "ipython",
        "version": 3
      },
      "file_extension": ".py",
      "mimetype": "text/x-python",
      "name": "python",
      "nbconvert_exporter": "python",
      "pygments_lexer": "ipython3",
      "version": "3.8.8"
    },
    "colab": {
      "provenance": []
    }
  },
  "nbformat": 4,
  "nbformat_minor": 5
}