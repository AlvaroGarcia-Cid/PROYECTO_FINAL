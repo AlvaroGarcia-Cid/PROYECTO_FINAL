{
  "cells": [
    {
      "cell_type": "markdown",
      "source": [
        "PILAR ARIAS, ÁLVARO GARCÍA CID, YEDRA MARTÍN, AMAYA SARASA\n",
        "\n",
        "<GRUPO 7>"
      ],
      "metadata": {
        "id": "-N8Vmt0WI0A2"
      },
      "id": "-N8Vmt0WI0A2"
    },
    {
      "cell_type": "markdown",
      "source": [
        "#INTRODUCCIÓN"
      ],
      "metadata": {
        "id": "dB3u7gbrKxAG"
      },
      "id": "dB3u7gbrKxAG"
    },
    {
      "cell_type": "markdown",
      "source": [
        "En este proyecto se va a proceder a realizar un proyecto de creación de una red neuronal que nos permita solucionar un problema de regresión.\n",
        "\n",
        "Para tomar el tema sobre el cual va a tratar este proyecto se ha decidido buscar un tema que en la actualidad pueda resultar útil. Por ello, debido al auge de la tecnología en nuestro día a día se ha considerado que un buen problema sería realizar una predicción acerca de la duración de la batería de un móvil, en función de diversos datos."
      ],
      "metadata": {
        "id": "3imp8nVbJBtq"
      },
      "id": "3imp8nVbJBtq"
    },
    {
      "cell_type": "markdown",
      "source": [
        "Se importa keras"
      ],
      "metadata": {
        "id": "bDT0rPR_LG-l"
      },
      "id": "bDT0rPR_LG-l"
    },
    {
      "cell_type": "code",
      "execution_count": 51,
      "id": "5567306c",
      "metadata": {
        "colab": {
          "base_uri": "https://localhost:8080/",
          "height": 36
        },
        "id": "5567306c",
        "outputId": "c940bf47-ee98-4c13-e19d-059131015112"
      },
      "outputs": [
        {
          "output_type": "execute_result",
          "data": {
            "text/plain": [
              "'2.9.0'"
            ],
            "application/vnd.google.colaboratory.intrinsic+json": {
              "type": "string"
            }
          },
          "metadata": {},
          "execution_count": 51
        }
      ],
      "source": [
        "import keras\n",
        "keras.__version__"
      ]
    },
    {
      "cell_type": "markdown",
      "source": [
        "# Prediciendo la duración de la batería de un movil\n",
        "Vamos a predecir la duración de la batería de un teléfono movil dados algunos datos como los píxeles de la cámara, si tiene o no conexión wifi, la cantidad de cores del procesador, etc. \n",
        "\n",
        "El conjunto de datos tiene un total de 2000 datos, que dividiremos entre 1750 de entrenamiento (de los cuales 500 serán para validación) y 250 de test. Las 21 carácaterísticas en los datos de entrada (por ejemplo, si tiene o no v) es una característica que tiene una escala diferente. Por ejemplo, algunos valores son proporciones, que toman valores entre 0 y 1, otros toman valores entre 1 y 12, otros entre 0 y 100 ...\n",
        "\n"
      ],
      "metadata": {
        "id": "VxtiL4ISC1UK"
      },
      "id": "VxtiL4ISC1UK"
    },
    {
      "cell_type": "code",
      "source": [
        "import pandas as pd\n",
        "datos=pd.read_csv('car_price_prediction.csv.zip',encoding='latin-1')\n",
        "datos.head()"
      ],
      "metadata": {
        "id": "Zg6ggG0rFVQb",
        "outputId": "3fdd0a07-9b60-43a1-bed3-5f68000bf27c",
        "colab": {
          "base_uri": "https://localhost:8080/",
          "height": 354
        }
      },
      "id": "Zg6ggG0rFVQb",
      "execution_count": 52,
      "outputs": [
        {
          "output_type": "execute_result",
          "data": {
            "text/plain": [
              "         ID  Price  Levy Manufacturer    Model  Prod. year   Category  \\\n",
              "0  45654403  13328  1399        LEXUS   RX 450        2010       Jeep   \n",
              "1  44731507  16621  1018    CHEVROLET  Equinox        2011       Jeep   \n",
              "2  45774419   8467     -        HONDA      FIT        2006  Hatchback   \n",
              "3  45769185   3607   862         FORD   Escape        2011       Jeep   \n",
              "4  45809263  11726   446        HONDA      FIT        2014  Hatchback   \n",
              "\n",
              "  Leather interior Fuel type Engine volume    Mileage  Cylinders  \\\n",
              "0              Yes    Hybrid           3.5  186005 km        6.0   \n",
              "1               No    Petrol             3  192000 km        6.0   \n",
              "2               No    Petrol           1.3  200000 km        4.0   \n",
              "3              Yes    Hybrid           2.5  168966 km        4.0   \n",
              "4              Yes    Petrol           1.3   91901 km        4.0   \n",
              "\n",
              "  Gear box type Drive wheels   Doors             Wheel   Color  Airbags  \n",
              "0     Automatic          4x4  04-May        Left wheel  Silver       12  \n",
              "1     Tiptronic          4x4  04-May        Left wheel   Black        8  \n",
              "2      Variator        Front  04-May  Right-hand drive   Black        2  \n",
              "3     Automatic          4x4  04-May        Left wheel   White        0  \n",
              "4     Automatic        Front  04-May        Left wheel  Silver        4  "
            ],
            "text/html": [
              "\n",
              "  <div id=\"df-c71e0a5a-c074-4b72-83c9-ebb047fd82e2\">\n",
              "    <div class=\"colab-df-container\">\n",
              "      <div>\n",
              "<style scoped>\n",
              "    .dataframe tbody tr th:only-of-type {\n",
              "        vertical-align: middle;\n",
              "    }\n",
              "\n",
              "    .dataframe tbody tr th {\n",
              "        vertical-align: top;\n",
              "    }\n",
              "\n",
              "    .dataframe thead th {\n",
              "        text-align: right;\n",
              "    }\n",
              "</style>\n",
              "<table border=\"1\" class=\"dataframe\">\n",
              "  <thead>\n",
              "    <tr style=\"text-align: right;\">\n",
              "      <th></th>\n",
              "      <th>ID</th>\n",
              "      <th>Price</th>\n",
              "      <th>Levy</th>\n",
              "      <th>Manufacturer</th>\n",
              "      <th>Model</th>\n",
              "      <th>Prod. year</th>\n",
              "      <th>Category</th>\n",
              "      <th>Leather interior</th>\n",
              "      <th>Fuel type</th>\n",
              "      <th>Engine volume</th>\n",
              "      <th>Mileage</th>\n",
              "      <th>Cylinders</th>\n",
              "      <th>Gear box type</th>\n",
              "      <th>Drive wheels</th>\n",
              "      <th>Doors</th>\n",
              "      <th>Wheel</th>\n",
              "      <th>Color</th>\n",
              "      <th>Airbags</th>\n",
              "    </tr>\n",
              "  </thead>\n",
              "  <tbody>\n",
              "    <tr>\n",
              "      <th>0</th>\n",
              "      <td>45654403</td>\n",
              "      <td>13328</td>\n",
              "      <td>1399</td>\n",
              "      <td>LEXUS</td>\n",
              "      <td>RX 450</td>\n",
              "      <td>2010</td>\n",
              "      <td>Jeep</td>\n",
              "      <td>Yes</td>\n",
              "      <td>Hybrid</td>\n",
              "      <td>3.5</td>\n",
              "      <td>186005 km</td>\n",
              "      <td>6.0</td>\n",
              "      <td>Automatic</td>\n",
              "      <td>4x4</td>\n",
              "      <td>04-May</td>\n",
              "      <td>Left wheel</td>\n",
              "      <td>Silver</td>\n",
              "      <td>12</td>\n",
              "    </tr>\n",
              "    <tr>\n",
              "      <th>1</th>\n",
              "      <td>44731507</td>\n",
              "      <td>16621</td>\n",
              "      <td>1018</td>\n",
              "      <td>CHEVROLET</td>\n",
              "      <td>Equinox</td>\n",
              "      <td>2011</td>\n",
              "      <td>Jeep</td>\n",
              "      <td>No</td>\n",
              "      <td>Petrol</td>\n",
              "      <td>3</td>\n",
              "      <td>192000 km</td>\n",
              "      <td>6.0</td>\n",
              "      <td>Tiptronic</td>\n",
              "      <td>4x4</td>\n",
              "      <td>04-May</td>\n",
              "      <td>Left wheel</td>\n",
              "      <td>Black</td>\n",
              "      <td>8</td>\n",
              "    </tr>\n",
              "    <tr>\n",
              "      <th>2</th>\n",
              "      <td>45774419</td>\n",
              "      <td>8467</td>\n",
              "      <td>-</td>\n",
              "      <td>HONDA</td>\n",
              "      <td>FIT</td>\n",
              "      <td>2006</td>\n",
              "      <td>Hatchback</td>\n",
              "      <td>No</td>\n",
              "      <td>Petrol</td>\n",
              "      <td>1.3</td>\n",
              "      <td>200000 km</td>\n",
              "      <td>4.0</td>\n",
              "      <td>Variator</td>\n",
              "      <td>Front</td>\n",
              "      <td>04-May</td>\n",
              "      <td>Right-hand drive</td>\n",
              "      <td>Black</td>\n",
              "      <td>2</td>\n",
              "    </tr>\n",
              "    <tr>\n",
              "      <th>3</th>\n",
              "      <td>45769185</td>\n",
              "      <td>3607</td>\n",
              "      <td>862</td>\n",
              "      <td>FORD</td>\n",
              "      <td>Escape</td>\n",
              "      <td>2011</td>\n",
              "      <td>Jeep</td>\n",
              "      <td>Yes</td>\n",
              "      <td>Hybrid</td>\n",
              "      <td>2.5</td>\n",
              "      <td>168966 km</td>\n",
              "      <td>4.0</td>\n",
              "      <td>Automatic</td>\n",
              "      <td>4x4</td>\n",
              "      <td>04-May</td>\n",
              "      <td>Left wheel</td>\n",
              "      <td>White</td>\n",
              "      <td>0</td>\n",
              "    </tr>\n",
              "    <tr>\n",
              "      <th>4</th>\n",
              "      <td>45809263</td>\n",
              "      <td>11726</td>\n",
              "      <td>446</td>\n",
              "      <td>HONDA</td>\n",
              "      <td>FIT</td>\n",
              "      <td>2014</td>\n",
              "      <td>Hatchback</td>\n",
              "      <td>Yes</td>\n",
              "      <td>Petrol</td>\n",
              "      <td>1.3</td>\n",
              "      <td>91901 km</td>\n",
              "      <td>4.0</td>\n",
              "      <td>Automatic</td>\n",
              "      <td>Front</td>\n",
              "      <td>04-May</td>\n",
              "      <td>Left wheel</td>\n",
              "      <td>Silver</td>\n",
              "      <td>4</td>\n",
              "    </tr>\n",
              "  </tbody>\n",
              "</table>\n",
              "</div>\n",
              "      <button class=\"colab-df-convert\" onclick=\"convertToInteractive('df-c71e0a5a-c074-4b72-83c9-ebb047fd82e2')\"\n",
              "              title=\"Convert this dataframe to an interactive table.\"\n",
              "              style=\"display:none;\">\n",
              "        \n",
              "  <svg xmlns=\"http://www.w3.org/2000/svg\" height=\"24px\"viewBox=\"0 0 24 24\"\n",
              "       width=\"24px\">\n",
              "    <path d=\"M0 0h24v24H0V0z\" fill=\"none\"/>\n",
              "    <path d=\"M18.56 5.44l.94 2.06.94-2.06 2.06-.94-2.06-.94-.94-2.06-.94 2.06-2.06.94zm-11 1L8.5 8.5l.94-2.06 2.06-.94-2.06-.94L8.5 2.5l-.94 2.06-2.06.94zm10 10l.94 2.06.94-2.06 2.06-.94-2.06-.94-.94-2.06-.94 2.06-2.06.94z\"/><path d=\"M17.41 7.96l-1.37-1.37c-.4-.4-.92-.59-1.43-.59-.52 0-1.04.2-1.43.59L10.3 9.45l-7.72 7.72c-.78.78-.78 2.05 0 2.83L4 21.41c.39.39.9.59 1.41.59.51 0 1.02-.2 1.41-.59l7.78-7.78 2.81-2.81c.8-.78.8-2.07 0-2.86zM5.41 20L4 18.59l7.72-7.72 1.47 1.35L5.41 20z\"/>\n",
              "  </svg>\n",
              "      </button>\n",
              "      \n",
              "  <style>\n",
              "    .colab-df-container {\n",
              "      display:flex;\n",
              "      flex-wrap:wrap;\n",
              "      gap: 12px;\n",
              "    }\n",
              "\n",
              "    .colab-df-convert {\n",
              "      background-color: #E8F0FE;\n",
              "      border: none;\n",
              "      border-radius: 50%;\n",
              "      cursor: pointer;\n",
              "      display: none;\n",
              "      fill: #1967D2;\n",
              "      height: 32px;\n",
              "      padding: 0 0 0 0;\n",
              "      width: 32px;\n",
              "    }\n",
              "\n",
              "    .colab-df-convert:hover {\n",
              "      background-color: #E2EBFA;\n",
              "      box-shadow: 0px 1px 2px rgba(60, 64, 67, 0.3), 0px 1px 3px 1px rgba(60, 64, 67, 0.15);\n",
              "      fill: #174EA6;\n",
              "    }\n",
              "\n",
              "    [theme=dark] .colab-df-convert {\n",
              "      background-color: #3B4455;\n",
              "      fill: #D2E3FC;\n",
              "    }\n",
              "\n",
              "    [theme=dark] .colab-df-convert:hover {\n",
              "      background-color: #434B5C;\n",
              "      box-shadow: 0px 1px 3px 1px rgba(0, 0, 0, 0.15);\n",
              "      filter: drop-shadow(0px 1px 2px rgba(0, 0, 0, 0.3));\n",
              "      fill: #FFFFFF;\n",
              "    }\n",
              "  </style>\n",
              "\n",
              "      <script>\n",
              "        const buttonEl =\n",
              "          document.querySelector('#df-c71e0a5a-c074-4b72-83c9-ebb047fd82e2 button.colab-df-convert');\n",
              "        buttonEl.style.display =\n",
              "          google.colab.kernel.accessAllowed ? 'block' : 'none';\n",
              "\n",
              "        async function convertToInteractive(key) {\n",
              "          const element = document.querySelector('#df-c71e0a5a-c074-4b72-83c9-ebb047fd82e2');\n",
              "          const dataTable =\n",
              "            await google.colab.kernel.invokeFunction('convertToInteractive',\n",
              "                                                     [key], {});\n",
              "          if (!dataTable) return;\n",
              "\n",
              "          const docLinkHtml = 'Like what you see? Visit the ' +\n",
              "            '<a target=\"_blank\" href=https://colab.research.google.com/notebooks/data_table.ipynb>data table notebook</a>'\n",
              "            + ' to learn more about interactive tables.';\n",
              "          element.innerHTML = '';\n",
              "          dataTable['output_type'] = 'display_data';\n",
              "          await google.colab.output.renderOutput(dataTable, element);\n",
              "          const docLink = document.createElement('div');\n",
              "          docLink.innerHTML = docLinkHtml;\n",
              "          element.appendChild(docLink);\n",
              "        }\n",
              "      </script>\n",
              "    </div>\n",
              "  </div>\n",
              "  "
            ]
          },
          "metadata": {},
          "execution_count": 52
        }
      ]
    },
    {
      "cell_type": "markdown",
      "source": [
        "Comprobamos que se han importado correctamente, los 2000 datos con 21 características. "
      ],
      "metadata": {
        "id": "ZhYrtySvJEGQ"
      },
      "id": "ZhYrtySvJEGQ"
    },
    {
      "cell_type": "code",
      "source": [
        "datos.shape"
      ],
      "metadata": {
        "colab": {
          "base_uri": "https://localhost:8080/"
        },
        "id": "8sS4GX92G6J8",
        "outputId": "f03e0bc5-a78a-4b5c-af76-c6390ff10c05"
      },
      "id": "8sS4GX92G6J8",
      "execution_count": 53,
      "outputs": [
        {
          "output_type": "execute_result",
          "data": {
            "text/plain": [
              "(19237, 18)"
            ]
          },
          "metadata": {},
          "execution_count": 53
        }
      ]
    },
    {
      "cell_type": "code",
      "source": [
        "datos.dtypes"
      ],
      "metadata": {
        "id": "1bAlhE4d8mVo",
        "outputId": "5aee9ff4-b331-4862-874f-7798abc0a351",
        "colab": {
          "base_uri": "https://localhost:8080/"
        }
      },
      "id": "1bAlhE4d8mVo",
      "execution_count": 54,
      "outputs": [
        {
          "output_type": "execute_result",
          "data": {
            "text/plain": [
              "ID                    int64\n",
              "Price                 int64\n",
              "Levy                 object\n",
              "Manufacturer         object\n",
              "Model                object\n",
              "Prod. year            int64\n",
              "Category             object\n",
              "Leather interior     object\n",
              "Fuel type            object\n",
              "Engine volume        object\n",
              "Mileage              object\n",
              "Cylinders           float64\n",
              "Gear box type        object\n",
              "Drive wheels         object\n",
              "Doors                object\n",
              "Wheel                object\n",
              "Color                object\n",
              "Airbags               int64\n",
              "dtype: object"
            ]
          },
          "metadata": {},
          "execution_count": 54
        }
      ]
    },
    {
      "cell_type": "code",
      "source": [
        "datos=datos.dropna()"
      ],
      "metadata": {
        "id": "pywK9A1N6dDL"
      },
      "id": "pywK9A1N6dDL",
      "execution_count": 55,
      "outputs": []
    },
    {
      "cell_type": "code",
      "source": [
        "datos['Manufacturer'] = datos['Manufacturer'].astype('category').cat.codes\n",
        "datos['Category'] = datos['Category'].astype('category').cat.codes\n",
        "datos['Leather interior'] = datos['Leather interior'].astype('category').cat.codes\n",
        "datos['Fuel type'] = datos['Fuel type'].astype('category').cat.codes\n",
        "datos['Mileage'] = datos['Mileage'].astype('category').cat.codes\n",
        "datos['Gear box type'] = datos['Gear box type'].astype('category').cat.codes\n",
        "datos['Doors'] = datos['Doors'].astype('category').cat.codes\n",
        "datos['Wheel'] = datos['Wheel'].astype('category').cat.codes\n",
        "datos['Color'] = datos['Color'].astype('category').cat.codes\n",
        "datos['Drive wheels'] = datos['Drive wheels'].astype('category').cat.codes\n",
        "datos['Model'] = datos['Model'].astype('category').cat.codes"
      ],
      "metadata": {
        "id": "fcoQmcg26f6t"
      },
      "id": "fcoQmcg26f6t",
      "execution_count": 56,
      "outputs": []
    },
    {
      "cell_type": "code",
      "source": [
        "datos"
      ],
      "metadata": {
        "id": "IdKS-HNi79rp",
        "outputId": "ddbf4e80-d06d-4db4-eec4-2a040bf33b65",
        "colab": {
          "base_uri": "https://localhost:8080/",
          "height": 424
        }
      },
      "id": "IdKS-HNi79rp",
      "execution_count": 57,
      "outputs": [
        {
          "output_type": "execute_result",
          "data": {
            "text/plain": [
              "             ID  Price  Levy  Manufacturer  Model  Prod. year  Category  \\\n",
              "0      45654403  13328  1399            32   1242        2010         4   \n",
              "1      44731507  16621  1018             8    658        2011         4   \n",
              "2      45774419   8467     -            21    684        2006         3   \n",
              "3      45769185   3607   862            16    661        2011         4   \n",
              "4      45809263  11726   446            21    684        2014         3   \n",
              "...         ...    ...   ...           ...    ...         ...       ...   \n",
              "19232  45798355   8467     -            36    385        1999         1   \n",
              "19233  45778856  15681   831            23   1334        2011         9   \n",
              "19234  45804997  26108   836            23   1442        2010         4   \n",
              "19235  45793526   5331  1288             8    456        2007         4   \n",
              "19236  45813273    470   753            23   1334        2012         9   \n",
              "\n",
              "       Leather interior  Fuel type Engine volume  Mileage  Cylinders  \\\n",
              "0                     1          2           3.5     2838        6.0   \n",
              "1                     0          5             3     2960        6.0   \n",
              "2                     0          5           1.3     3140        4.0   \n",
              "3                     1          2           2.5     2413        4.0   \n",
              "4                     1          5           1.3     7396        4.0   \n",
              "...                 ...        ...           ...      ...        ...   \n",
              "19232                 1          0     2.0 Turbo     4394        4.0   \n",
              "19233                 1          5           2.4     2214        4.0   \n",
              "19234                 1          1             2      638        4.0   \n",
              "19235                 1          1             2     5612        4.0   \n",
              "19236                 1          2           2.4     2857        4.0   \n",
              "\n",
              "       Gear box type  Drive wheels  Doors  Wheel  Color  Airbags  \n",
              "0                  0             0      1      0     12       12  \n",
              "1                  2             0      1      0      1        8  \n",
              "2                  3             1      1      1      1        2  \n",
              "3                  0             0      1      0     14        0  \n",
              "4                  0             1      1      0     12        4  \n",
              "...              ...           ...    ...    ...    ...      ...  \n",
              "19232              1             2      0      0     12        5  \n",
              "19233              2             1      1      0     11        8  \n",
              "19234              0             1      1      0      7        4  \n",
              "19235              0             1      1      0      1        4  \n",
              "19236              0             1      1      0     14       12  \n",
              "\n",
              "[19237 rows x 18 columns]"
            ],
            "text/html": [
              "\n",
              "  <div id=\"df-55706538-894b-47be-b8bc-629e63773262\">\n",
              "    <div class=\"colab-df-container\">\n",
              "      <div>\n",
              "<style scoped>\n",
              "    .dataframe tbody tr th:only-of-type {\n",
              "        vertical-align: middle;\n",
              "    }\n",
              "\n",
              "    .dataframe tbody tr th {\n",
              "        vertical-align: top;\n",
              "    }\n",
              "\n",
              "    .dataframe thead th {\n",
              "        text-align: right;\n",
              "    }\n",
              "</style>\n",
              "<table border=\"1\" class=\"dataframe\">\n",
              "  <thead>\n",
              "    <tr style=\"text-align: right;\">\n",
              "      <th></th>\n",
              "      <th>ID</th>\n",
              "      <th>Price</th>\n",
              "      <th>Levy</th>\n",
              "      <th>Manufacturer</th>\n",
              "      <th>Model</th>\n",
              "      <th>Prod. year</th>\n",
              "      <th>Category</th>\n",
              "      <th>Leather interior</th>\n",
              "      <th>Fuel type</th>\n",
              "      <th>Engine volume</th>\n",
              "      <th>Mileage</th>\n",
              "      <th>Cylinders</th>\n",
              "      <th>Gear box type</th>\n",
              "      <th>Drive wheels</th>\n",
              "      <th>Doors</th>\n",
              "      <th>Wheel</th>\n",
              "      <th>Color</th>\n",
              "      <th>Airbags</th>\n",
              "    </tr>\n",
              "  </thead>\n",
              "  <tbody>\n",
              "    <tr>\n",
              "      <th>0</th>\n",
              "      <td>45654403</td>\n",
              "      <td>13328</td>\n",
              "      <td>1399</td>\n",
              "      <td>32</td>\n",
              "      <td>1242</td>\n",
              "      <td>2010</td>\n",
              "      <td>4</td>\n",
              "      <td>1</td>\n",
              "      <td>2</td>\n",
              "      <td>3.5</td>\n",
              "      <td>2838</td>\n",
              "      <td>6.0</td>\n",
              "      <td>0</td>\n",
              "      <td>0</td>\n",
              "      <td>1</td>\n",
              "      <td>0</td>\n",
              "      <td>12</td>\n",
              "      <td>12</td>\n",
              "    </tr>\n",
              "    <tr>\n",
              "      <th>1</th>\n",
              "      <td>44731507</td>\n",
              "      <td>16621</td>\n",
              "      <td>1018</td>\n",
              "      <td>8</td>\n",
              "      <td>658</td>\n",
              "      <td>2011</td>\n",
              "      <td>4</td>\n",
              "      <td>0</td>\n",
              "      <td>5</td>\n",
              "      <td>3</td>\n",
              "      <td>2960</td>\n",
              "      <td>6.0</td>\n",
              "      <td>2</td>\n",
              "      <td>0</td>\n",
              "      <td>1</td>\n",
              "      <td>0</td>\n",
              "      <td>1</td>\n",
              "      <td>8</td>\n",
              "    </tr>\n",
              "    <tr>\n",
              "      <th>2</th>\n",
              "      <td>45774419</td>\n",
              "      <td>8467</td>\n",
              "      <td>-</td>\n",
              "      <td>21</td>\n",
              "      <td>684</td>\n",
              "      <td>2006</td>\n",
              "      <td>3</td>\n",
              "      <td>0</td>\n",
              "      <td>5</td>\n",
              "      <td>1.3</td>\n",
              "      <td>3140</td>\n",
              "      <td>4.0</td>\n",
              "      <td>3</td>\n",
              "      <td>1</td>\n",
              "      <td>1</td>\n",
              "      <td>1</td>\n",
              "      <td>1</td>\n",
              "      <td>2</td>\n",
              "    </tr>\n",
              "    <tr>\n",
              "      <th>3</th>\n",
              "      <td>45769185</td>\n",
              "      <td>3607</td>\n",
              "      <td>862</td>\n",
              "      <td>16</td>\n",
              "      <td>661</td>\n",
              "      <td>2011</td>\n",
              "      <td>4</td>\n",
              "      <td>1</td>\n",
              "      <td>2</td>\n",
              "      <td>2.5</td>\n",
              "      <td>2413</td>\n",
              "      <td>4.0</td>\n",
              "      <td>0</td>\n",
              "      <td>0</td>\n",
              "      <td>1</td>\n",
              "      <td>0</td>\n",
              "      <td>14</td>\n",
              "      <td>0</td>\n",
              "    </tr>\n",
              "    <tr>\n",
              "      <th>4</th>\n",
              "      <td>45809263</td>\n",
              "      <td>11726</td>\n",
              "      <td>446</td>\n",
              "      <td>21</td>\n",
              "      <td>684</td>\n",
              "      <td>2014</td>\n",
              "      <td>3</td>\n",
              "      <td>1</td>\n",
              "      <td>5</td>\n",
              "      <td>1.3</td>\n",
              "      <td>7396</td>\n",
              "      <td>4.0</td>\n",
              "      <td>0</td>\n",
              "      <td>1</td>\n",
              "      <td>1</td>\n",
              "      <td>0</td>\n",
              "      <td>12</td>\n",
              "      <td>4</td>\n",
              "    </tr>\n",
              "    <tr>\n",
              "      <th>...</th>\n",
              "      <td>...</td>\n",
              "      <td>...</td>\n",
              "      <td>...</td>\n",
              "      <td>...</td>\n",
              "      <td>...</td>\n",
              "      <td>...</td>\n",
              "      <td>...</td>\n",
              "      <td>...</td>\n",
              "      <td>...</td>\n",
              "      <td>...</td>\n",
              "      <td>...</td>\n",
              "      <td>...</td>\n",
              "      <td>...</td>\n",
              "      <td>...</td>\n",
              "      <td>...</td>\n",
              "      <td>...</td>\n",
              "      <td>...</td>\n",
              "      <td>...</td>\n",
              "    </tr>\n",
              "    <tr>\n",
              "      <th>19232</th>\n",
              "      <td>45798355</td>\n",
              "      <td>8467</td>\n",
              "      <td>-</td>\n",
              "      <td>36</td>\n",
              "      <td>385</td>\n",
              "      <td>1999</td>\n",
              "      <td>1</td>\n",
              "      <td>1</td>\n",
              "      <td>0</td>\n",
              "      <td>2.0 Turbo</td>\n",
              "      <td>4394</td>\n",
              "      <td>4.0</td>\n",
              "      <td>1</td>\n",
              "      <td>2</td>\n",
              "      <td>0</td>\n",
              "      <td>0</td>\n",
              "      <td>12</td>\n",
              "      <td>5</td>\n",
              "    </tr>\n",
              "    <tr>\n",
              "      <th>19233</th>\n",
              "      <td>45778856</td>\n",
              "      <td>15681</td>\n",
              "      <td>831</td>\n",
              "      <td>23</td>\n",
              "      <td>1334</td>\n",
              "      <td>2011</td>\n",
              "      <td>9</td>\n",
              "      <td>1</td>\n",
              "      <td>5</td>\n",
              "      <td>2.4</td>\n",
              "      <td>2214</td>\n",
              "      <td>4.0</td>\n",
              "      <td>2</td>\n",
              "      <td>1</td>\n",
              "      <td>1</td>\n",
              "      <td>0</td>\n",
              "      <td>11</td>\n",
              "      <td>8</td>\n",
              "    </tr>\n",
              "    <tr>\n",
              "      <th>19234</th>\n",
              "      <td>45804997</td>\n",
              "      <td>26108</td>\n",
              "      <td>836</td>\n",
              "      <td>23</td>\n",
              "      <td>1442</td>\n",
              "      <td>2010</td>\n",
              "      <td>4</td>\n",
              "      <td>1</td>\n",
              "      <td>1</td>\n",
              "      <td>2</td>\n",
              "      <td>638</td>\n",
              "      <td>4.0</td>\n",
              "      <td>0</td>\n",
              "      <td>1</td>\n",
              "      <td>1</td>\n",
              "      <td>0</td>\n",
              "      <td>7</td>\n",
              "      <td>4</td>\n",
              "    </tr>\n",
              "    <tr>\n",
              "      <th>19235</th>\n",
              "      <td>45793526</td>\n",
              "      <td>5331</td>\n",
              "      <td>1288</td>\n",
              "      <td>8</td>\n",
              "      <td>456</td>\n",
              "      <td>2007</td>\n",
              "      <td>4</td>\n",
              "      <td>1</td>\n",
              "      <td>1</td>\n",
              "      <td>2</td>\n",
              "      <td>5612</td>\n",
              "      <td>4.0</td>\n",
              "      <td>0</td>\n",
              "      <td>1</td>\n",
              "      <td>1</td>\n",
              "      <td>0</td>\n",
              "      <td>1</td>\n",
              "      <td>4</td>\n",
              "    </tr>\n",
              "    <tr>\n",
              "      <th>19236</th>\n",
              "      <td>45813273</td>\n",
              "      <td>470</td>\n",
              "      <td>753</td>\n",
              "      <td>23</td>\n",
              "      <td>1334</td>\n",
              "      <td>2012</td>\n",
              "      <td>9</td>\n",
              "      <td>1</td>\n",
              "      <td>2</td>\n",
              "      <td>2.4</td>\n",
              "      <td>2857</td>\n",
              "      <td>4.0</td>\n",
              "      <td>0</td>\n",
              "      <td>1</td>\n",
              "      <td>1</td>\n",
              "      <td>0</td>\n",
              "      <td>14</td>\n",
              "      <td>12</td>\n",
              "    </tr>\n",
              "  </tbody>\n",
              "</table>\n",
              "<p>19237 rows × 18 columns</p>\n",
              "</div>\n",
              "      <button class=\"colab-df-convert\" onclick=\"convertToInteractive('df-55706538-894b-47be-b8bc-629e63773262')\"\n",
              "              title=\"Convert this dataframe to an interactive table.\"\n",
              "              style=\"display:none;\">\n",
              "        \n",
              "  <svg xmlns=\"http://www.w3.org/2000/svg\" height=\"24px\"viewBox=\"0 0 24 24\"\n",
              "       width=\"24px\">\n",
              "    <path d=\"M0 0h24v24H0V0z\" fill=\"none\"/>\n",
              "    <path d=\"M18.56 5.44l.94 2.06.94-2.06 2.06-.94-2.06-.94-.94-2.06-.94 2.06-2.06.94zm-11 1L8.5 8.5l.94-2.06 2.06-.94-2.06-.94L8.5 2.5l-.94 2.06-2.06.94zm10 10l.94 2.06.94-2.06 2.06-.94-2.06-.94-.94-2.06-.94 2.06-2.06.94z\"/><path d=\"M17.41 7.96l-1.37-1.37c-.4-.4-.92-.59-1.43-.59-.52 0-1.04.2-1.43.59L10.3 9.45l-7.72 7.72c-.78.78-.78 2.05 0 2.83L4 21.41c.39.39.9.59 1.41.59.51 0 1.02-.2 1.41-.59l7.78-7.78 2.81-2.81c.8-.78.8-2.07 0-2.86zM5.41 20L4 18.59l7.72-7.72 1.47 1.35L5.41 20z\"/>\n",
              "  </svg>\n",
              "      </button>\n",
              "      \n",
              "  <style>\n",
              "    .colab-df-container {\n",
              "      display:flex;\n",
              "      flex-wrap:wrap;\n",
              "      gap: 12px;\n",
              "    }\n",
              "\n",
              "    .colab-df-convert {\n",
              "      background-color: #E8F0FE;\n",
              "      border: none;\n",
              "      border-radius: 50%;\n",
              "      cursor: pointer;\n",
              "      display: none;\n",
              "      fill: #1967D2;\n",
              "      height: 32px;\n",
              "      padding: 0 0 0 0;\n",
              "      width: 32px;\n",
              "    }\n",
              "\n",
              "    .colab-df-convert:hover {\n",
              "      background-color: #E2EBFA;\n",
              "      box-shadow: 0px 1px 2px rgba(60, 64, 67, 0.3), 0px 1px 3px 1px rgba(60, 64, 67, 0.15);\n",
              "      fill: #174EA6;\n",
              "    }\n",
              "\n",
              "    [theme=dark] .colab-df-convert {\n",
              "      background-color: #3B4455;\n",
              "      fill: #D2E3FC;\n",
              "    }\n",
              "\n",
              "    [theme=dark] .colab-df-convert:hover {\n",
              "      background-color: #434B5C;\n",
              "      box-shadow: 0px 1px 3px 1px rgba(0, 0, 0, 0.15);\n",
              "      filter: drop-shadow(0px 1px 2px rgba(0, 0, 0, 0.3));\n",
              "      fill: #FFFFFF;\n",
              "    }\n",
              "  </style>\n",
              "\n",
              "      <script>\n",
              "        const buttonEl =\n",
              "          document.querySelector('#df-55706538-894b-47be-b8bc-629e63773262 button.colab-df-convert');\n",
              "        buttonEl.style.display =\n",
              "          google.colab.kernel.accessAllowed ? 'block' : 'none';\n",
              "\n",
              "        async function convertToInteractive(key) {\n",
              "          const element = document.querySelector('#df-55706538-894b-47be-b8bc-629e63773262');\n",
              "          const dataTable =\n",
              "            await google.colab.kernel.invokeFunction('convertToInteractive',\n",
              "                                                     [key], {});\n",
              "          if (!dataTable) return;\n",
              "\n",
              "          const docLinkHtml = 'Like what you see? Visit the ' +\n",
              "            '<a target=\"_blank\" href=https://colab.research.google.com/notebooks/data_table.ipynb>data table notebook</a>'\n",
              "            + ' to learn more about interactive tables.';\n",
              "          element.innerHTML = '';\n",
              "          dataTable['output_type'] = 'display_data';\n",
              "          await google.colab.output.renderOutput(dataTable, element);\n",
              "          const docLink = document.createElement('div');\n",
              "          docLink.innerHTML = docLinkHtml;\n",
              "          element.appendChild(docLink);\n",
              "        }\n",
              "      </script>\n",
              "    </div>\n",
              "  </div>\n",
              "  "
            ]
          },
          "metadata": {},
          "execution_count": 57
        }
      ]
    },
    {
      "cell_type": "code",
      "source": [
        "mean = train_datos.mean(axis=0)\n",
        "print(mean)"
      ],
      "metadata": {
        "id": "0R8niCBgE8LJ"
      },
      "id": "0R8niCBgE8LJ",
      "execution_count": null,
      "outputs": []
    },
    {
      "cell_type": "code",
      "source": [
        "for c in datos.columns:\n",
        "    print(\"Missing values [{0}]:\".format(c), datos[c].isna().sum())\n",
        "print()\n",
        "\n",
        "# Valores únicos    \n",
        "for c in datos.columns:\n",
        "    print(\"Unique values [{0}]:\".format(c), datos[c].unique().size)"
      ],
      "metadata": {
        "id": "zcuoF2dd_KyQ",
        "outputId": "44952811-aec5-4ff5-8ac1-70d72829edcd",
        "colab": {
          "base_uri": "https://localhost:8080/"
        }
      },
      "id": "zcuoF2dd_KyQ",
      "execution_count": 58,
      "outputs": [
        {
          "output_type": "stream",
          "name": "stdout",
          "text": [
            "Missing values [ID]: 0\n",
            "Missing values [Price]: 0\n",
            "Missing values [Levy]: 0\n",
            "Missing values [Manufacturer]: 0\n",
            "Missing values [Model]: 0\n",
            "Missing values [Prod. year]: 0\n",
            "Missing values [Category]: 0\n",
            "Missing values [Leather interior]: 0\n",
            "Missing values [Fuel type]: 0\n",
            "Missing values [Engine volume]: 0\n",
            "Missing values [Mileage]: 0\n",
            "Missing values [Cylinders]: 0\n",
            "Missing values [Gear box type]: 0\n",
            "Missing values [Drive wheels]: 0\n",
            "Missing values [Doors]: 0\n",
            "Missing values [Wheel]: 0\n",
            "Missing values [Color]: 0\n",
            "Missing values [Airbags]: 0\n",
            "\n",
            "Unique values [ID]: 18924\n",
            "Unique values [Price]: 2315\n",
            "Unique values [Levy]: 559\n",
            "Unique values [Manufacturer]: 65\n",
            "Unique values [Model]: 1590\n",
            "Unique values [Prod. year]: 54\n",
            "Unique values [Category]: 11\n",
            "Unique values [Leather interior]: 2\n",
            "Unique values [Fuel type]: 7\n",
            "Unique values [Engine volume]: 107\n",
            "Unique values [Mileage]: 7687\n",
            "Unique values [Cylinders]: 13\n",
            "Unique values [Gear box type]: 4\n",
            "Unique values [Drive wheels]: 3\n",
            "Unique values [Doors]: 3\n",
            "Unique values [Wheel]: 2\n",
            "Unique values [Color]: 16\n",
            "Unique values [Airbags]: 17\n"
          ]
        }
      ]
    },
    {
      "cell_type": "code",
      "source": [
        "datos.loc[2]"
      ],
      "metadata": {
        "colab": {
          "base_uri": "https://localhost:8080/"
        },
        "id": "oKoxaw8AjofP",
        "outputId": "254fa6da-914a-4a1d-c39f-2a42e1fee7d0"
      },
      "id": "oKoxaw8AjofP",
      "execution_count": 59,
      "outputs": [
        {
          "output_type": "execute_result",
          "data": {
            "text/plain": [
              "ID                  45774419\n",
              "Price                   8467\n",
              "Levy                       -\n",
              "Manufacturer              21\n",
              "Model                    684\n",
              "Prod. year              2006\n",
              "Category                   3\n",
              "Leather interior           0\n",
              "Fuel type                  5\n",
              "Engine volume            1.3\n",
              "Mileage                 3140\n",
              "Cylinders                4.0\n",
              "Gear box type              3\n",
              "Drive wheels               1\n",
              "Doors                      1\n",
              "Wheel                      1\n",
              "Color                      1\n",
              "Airbags                    2\n",
              "Name: 2, dtype: object"
            ]
          },
          "metadata": {},
          "execution_count": 59
        }
      ]
    },
    {
      "cell_type": "markdown",
      "source": [
        "Separamos los datos en entrenamiento y test y sus correspondientes soluciones, que serán la característica 17 (talk_time) que según explicaba la página donde hemos tomado la base, es el tiempo que dura el móvil desde su última carga. \n"
      ],
      "metadata": {
        "id": "DSpyZcdxLscV"
      },
      "id": "DSpyZcdxLscV"
    },
    {
      "cell_type": "code",
      "source": [
        "labels=datos.Price\n",
        "labels.shape\n"
      ],
      "metadata": {
        "colab": {
          "base_uri": "https://localhost:8080/"
        },
        "id": "ywGEcHJ5ML-g",
        "outputId": "6a0fc195-08dc-405b-8278-5977ca02c717"
      },
      "id": "ywGEcHJ5ML-g",
      "execution_count": 60,
      "outputs": [
        {
          "output_type": "execute_result",
          "data": {
            "text/plain": [
              "(19237,)"
            ]
          },
          "metadata": {},
          "execution_count": 60
        }
      ]
    },
    {
      "cell_type": "code",
      "source": [
        "datos=datos.drop(['Price'],axis=1)\n",
        "datos=datos.drop(['ID'],axis=1)\n",
        "datos=datos.drop(['Engine volume'],axis=1)\n",
        "datos=datos.drop(['Levy'],axis=1)"
      ],
      "metadata": {
        "id": "dfR2rNJ-M-tu"
      },
      "id": "dfR2rNJ-M-tu",
      "execution_count": 61,
      "outputs": []
    },
    {
      "cell_type": "code",
      "source": [
        "datos.shape"
      ],
      "metadata": {
        "id": "NIMEjd5AFToE",
        "outputId": "ee81c9f7-d7ab-440b-d99e-535e323f1f1e",
        "colab": {
          "base_uri": "https://localhost:8080/"
        }
      },
      "id": "NIMEjd5AFToE",
      "execution_count": 62,
      "outputs": [
        {
          "output_type": "execute_result",
          "data": {
            "text/plain": [
              "(19237, 14)"
            ]
          },
          "metadata": {},
          "execution_count": 62
        }
      ]
    },
    {
      "cell_type": "code",
      "source": [
        "datos"
      ],
      "metadata": {
        "id": "V-UfhJK1BH_4",
        "outputId": "2b1a70f0-a8f0-42dd-c078-e40b0f1799ef",
        "colab": {
          "base_uri": "https://localhost:8080/",
          "height": 424
        }
      },
      "id": "V-UfhJK1BH_4",
      "execution_count": 63,
      "outputs": [
        {
          "output_type": "execute_result",
          "data": {
            "text/plain": [
              "       Manufacturer  Model  Prod. year  Category  Leather interior  Fuel type  \\\n",
              "0                32   1242        2010         4                 1          2   \n",
              "1                 8    658        2011         4                 0          5   \n",
              "2                21    684        2006         3                 0          5   \n",
              "3                16    661        2011         4                 1          2   \n",
              "4                21    684        2014         3                 1          5   \n",
              "...             ...    ...         ...       ...               ...        ...   \n",
              "19232            36    385        1999         1                 1          0   \n",
              "19233            23   1334        2011         9                 1          5   \n",
              "19234            23   1442        2010         4                 1          1   \n",
              "19235             8    456        2007         4                 1          1   \n",
              "19236            23   1334        2012         9                 1          2   \n",
              "\n",
              "       Mileage  Cylinders  Gear box type  Drive wheels  Doors  Wheel  Color  \\\n",
              "0         2838        6.0              0             0      1      0     12   \n",
              "1         2960        6.0              2             0      1      0      1   \n",
              "2         3140        4.0              3             1      1      1      1   \n",
              "3         2413        4.0              0             0      1      0     14   \n",
              "4         7396        4.0              0             1      1      0     12   \n",
              "...        ...        ...            ...           ...    ...    ...    ...   \n",
              "19232     4394        4.0              1             2      0      0     12   \n",
              "19233     2214        4.0              2             1      1      0     11   \n",
              "19234      638        4.0              0             1      1      0      7   \n",
              "19235     5612        4.0              0             1      1      0      1   \n",
              "19236     2857        4.0              0             1      1      0     14   \n",
              "\n",
              "       Airbags  \n",
              "0           12  \n",
              "1            8  \n",
              "2            2  \n",
              "3            0  \n",
              "4            4  \n",
              "...        ...  \n",
              "19232        5  \n",
              "19233        8  \n",
              "19234        4  \n",
              "19235        4  \n",
              "19236       12  \n",
              "\n",
              "[19237 rows x 14 columns]"
            ],
            "text/html": [
              "\n",
              "  <div id=\"df-275b1c5d-e41a-4cfc-b31b-4f6d35513ce1\">\n",
              "    <div class=\"colab-df-container\">\n",
              "      <div>\n",
              "<style scoped>\n",
              "    .dataframe tbody tr th:only-of-type {\n",
              "        vertical-align: middle;\n",
              "    }\n",
              "\n",
              "    .dataframe tbody tr th {\n",
              "        vertical-align: top;\n",
              "    }\n",
              "\n",
              "    .dataframe thead th {\n",
              "        text-align: right;\n",
              "    }\n",
              "</style>\n",
              "<table border=\"1\" class=\"dataframe\">\n",
              "  <thead>\n",
              "    <tr style=\"text-align: right;\">\n",
              "      <th></th>\n",
              "      <th>Manufacturer</th>\n",
              "      <th>Model</th>\n",
              "      <th>Prod. year</th>\n",
              "      <th>Category</th>\n",
              "      <th>Leather interior</th>\n",
              "      <th>Fuel type</th>\n",
              "      <th>Mileage</th>\n",
              "      <th>Cylinders</th>\n",
              "      <th>Gear box type</th>\n",
              "      <th>Drive wheels</th>\n",
              "      <th>Doors</th>\n",
              "      <th>Wheel</th>\n",
              "      <th>Color</th>\n",
              "      <th>Airbags</th>\n",
              "    </tr>\n",
              "  </thead>\n",
              "  <tbody>\n",
              "    <tr>\n",
              "      <th>0</th>\n",
              "      <td>32</td>\n",
              "      <td>1242</td>\n",
              "      <td>2010</td>\n",
              "      <td>4</td>\n",
              "      <td>1</td>\n",
              "      <td>2</td>\n",
              "      <td>2838</td>\n",
              "      <td>6.0</td>\n",
              "      <td>0</td>\n",
              "      <td>0</td>\n",
              "      <td>1</td>\n",
              "      <td>0</td>\n",
              "      <td>12</td>\n",
              "      <td>12</td>\n",
              "    </tr>\n",
              "    <tr>\n",
              "      <th>1</th>\n",
              "      <td>8</td>\n",
              "      <td>658</td>\n",
              "      <td>2011</td>\n",
              "      <td>4</td>\n",
              "      <td>0</td>\n",
              "      <td>5</td>\n",
              "      <td>2960</td>\n",
              "      <td>6.0</td>\n",
              "      <td>2</td>\n",
              "      <td>0</td>\n",
              "      <td>1</td>\n",
              "      <td>0</td>\n",
              "      <td>1</td>\n",
              "      <td>8</td>\n",
              "    </tr>\n",
              "    <tr>\n",
              "      <th>2</th>\n",
              "      <td>21</td>\n",
              "      <td>684</td>\n",
              "      <td>2006</td>\n",
              "      <td>3</td>\n",
              "      <td>0</td>\n",
              "      <td>5</td>\n",
              "      <td>3140</td>\n",
              "      <td>4.0</td>\n",
              "      <td>3</td>\n",
              "      <td>1</td>\n",
              "      <td>1</td>\n",
              "      <td>1</td>\n",
              "      <td>1</td>\n",
              "      <td>2</td>\n",
              "    </tr>\n",
              "    <tr>\n",
              "      <th>3</th>\n",
              "      <td>16</td>\n",
              "      <td>661</td>\n",
              "      <td>2011</td>\n",
              "      <td>4</td>\n",
              "      <td>1</td>\n",
              "      <td>2</td>\n",
              "      <td>2413</td>\n",
              "      <td>4.0</td>\n",
              "      <td>0</td>\n",
              "      <td>0</td>\n",
              "      <td>1</td>\n",
              "      <td>0</td>\n",
              "      <td>14</td>\n",
              "      <td>0</td>\n",
              "    </tr>\n",
              "    <tr>\n",
              "      <th>4</th>\n",
              "      <td>21</td>\n",
              "      <td>684</td>\n",
              "      <td>2014</td>\n",
              "      <td>3</td>\n",
              "      <td>1</td>\n",
              "      <td>5</td>\n",
              "      <td>7396</td>\n",
              "      <td>4.0</td>\n",
              "      <td>0</td>\n",
              "      <td>1</td>\n",
              "      <td>1</td>\n",
              "      <td>0</td>\n",
              "      <td>12</td>\n",
              "      <td>4</td>\n",
              "    </tr>\n",
              "    <tr>\n",
              "      <th>...</th>\n",
              "      <td>...</td>\n",
              "      <td>...</td>\n",
              "      <td>...</td>\n",
              "      <td>...</td>\n",
              "      <td>...</td>\n",
              "      <td>...</td>\n",
              "      <td>...</td>\n",
              "      <td>...</td>\n",
              "      <td>...</td>\n",
              "      <td>...</td>\n",
              "      <td>...</td>\n",
              "      <td>...</td>\n",
              "      <td>...</td>\n",
              "      <td>...</td>\n",
              "    </tr>\n",
              "    <tr>\n",
              "      <th>19232</th>\n",
              "      <td>36</td>\n",
              "      <td>385</td>\n",
              "      <td>1999</td>\n",
              "      <td>1</td>\n",
              "      <td>1</td>\n",
              "      <td>0</td>\n",
              "      <td>4394</td>\n",
              "      <td>4.0</td>\n",
              "      <td>1</td>\n",
              "      <td>2</td>\n",
              "      <td>0</td>\n",
              "      <td>0</td>\n",
              "      <td>12</td>\n",
              "      <td>5</td>\n",
              "    </tr>\n",
              "    <tr>\n",
              "      <th>19233</th>\n",
              "      <td>23</td>\n",
              "      <td>1334</td>\n",
              "      <td>2011</td>\n",
              "      <td>9</td>\n",
              "      <td>1</td>\n",
              "      <td>5</td>\n",
              "      <td>2214</td>\n",
              "      <td>4.0</td>\n",
              "      <td>2</td>\n",
              "      <td>1</td>\n",
              "      <td>1</td>\n",
              "      <td>0</td>\n",
              "      <td>11</td>\n",
              "      <td>8</td>\n",
              "    </tr>\n",
              "    <tr>\n",
              "      <th>19234</th>\n",
              "      <td>23</td>\n",
              "      <td>1442</td>\n",
              "      <td>2010</td>\n",
              "      <td>4</td>\n",
              "      <td>1</td>\n",
              "      <td>1</td>\n",
              "      <td>638</td>\n",
              "      <td>4.0</td>\n",
              "      <td>0</td>\n",
              "      <td>1</td>\n",
              "      <td>1</td>\n",
              "      <td>0</td>\n",
              "      <td>7</td>\n",
              "      <td>4</td>\n",
              "    </tr>\n",
              "    <tr>\n",
              "      <th>19235</th>\n",
              "      <td>8</td>\n",
              "      <td>456</td>\n",
              "      <td>2007</td>\n",
              "      <td>4</td>\n",
              "      <td>1</td>\n",
              "      <td>1</td>\n",
              "      <td>5612</td>\n",
              "      <td>4.0</td>\n",
              "      <td>0</td>\n",
              "      <td>1</td>\n",
              "      <td>1</td>\n",
              "      <td>0</td>\n",
              "      <td>1</td>\n",
              "      <td>4</td>\n",
              "    </tr>\n",
              "    <tr>\n",
              "      <th>19236</th>\n",
              "      <td>23</td>\n",
              "      <td>1334</td>\n",
              "      <td>2012</td>\n",
              "      <td>9</td>\n",
              "      <td>1</td>\n",
              "      <td>2</td>\n",
              "      <td>2857</td>\n",
              "      <td>4.0</td>\n",
              "      <td>0</td>\n",
              "      <td>1</td>\n",
              "      <td>1</td>\n",
              "      <td>0</td>\n",
              "      <td>14</td>\n",
              "      <td>12</td>\n",
              "    </tr>\n",
              "  </tbody>\n",
              "</table>\n",
              "<p>19237 rows × 14 columns</p>\n",
              "</div>\n",
              "      <button class=\"colab-df-convert\" onclick=\"convertToInteractive('df-275b1c5d-e41a-4cfc-b31b-4f6d35513ce1')\"\n",
              "              title=\"Convert this dataframe to an interactive table.\"\n",
              "              style=\"display:none;\">\n",
              "        \n",
              "  <svg xmlns=\"http://www.w3.org/2000/svg\" height=\"24px\"viewBox=\"0 0 24 24\"\n",
              "       width=\"24px\">\n",
              "    <path d=\"M0 0h24v24H0V0z\" fill=\"none\"/>\n",
              "    <path d=\"M18.56 5.44l.94 2.06.94-2.06 2.06-.94-2.06-.94-.94-2.06-.94 2.06-2.06.94zm-11 1L8.5 8.5l.94-2.06 2.06-.94-2.06-.94L8.5 2.5l-.94 2.06-2.06.94zm10 10l.94 2.06.94-2.06 2.06-.94-2.06-.94-.94-2.06-.94 2.06-2.06.94z\"/><path d=\"M17.41 7.96l-1.37-1.37c-.4-.4-.92-.59-1.43-.59-.52 0-1.04.2-1.43.59L10.3 9.45l-7.72 7.72c-.78.78-.78 2.05 0 2.83L4 21.41c.39.39.9.59 1.41.59.51 0 1.02-.2 1.41-.59l7.78-7.78 2.81-2.81c.8-.78.8-2.07 0-2.86zM5.41 20L4 18.59l7.72-7.72 1.47 1.35L5.41 20z\"/>\n",
              "  </svg>\n",
              "      </button>\n",
              "      \n",
              "  <style>\n",
              "    .colab-df-container {\n",
              "      display:flex;\n",
              "      flex-wrap:wrap;\n",
              "      gap: 12px;\n",
              "    }\n",
              "\n",
              "    .colab-df-convert {\n",
              "      background-color: #E8F0FE;\n",
              "      border: none;\n",
              "      border-radius: 50%;\n",
              "      cursor: pointer;\n",
              "      display: none;\n",
              "      fill: #1967D2;\n",
              "      height: 32px;\n",
              "      padding: 0 0 0 0;\n",
              "      width: 32px;\n",
              "    }\n",
              "\n",
              "    .colab-df-convert:hover {\n",
              "      background-color: #E2EBFA;\n",
              "      box-shadow: 0px 1px 2px rgba(60, 64, 67, 0.3), 0px 1px 3px 1px rgba(60, 64, 67, 0.15);\n",
              "      fill: #174EA6;\n",
              "    }\n",
              "\n",
              "    [theme=dark] .colab-df-convert {\n",
              "      background-color: #3B4455;\n",
              "      fill: #D2E3FC;\n",
              "    }\n",
              "\n",
              "    [theme=dark] .colab-df-convert:hover {\n",
              "      background-color: #434B5C;\n",
              "      box-shadow: 0px 1px 3px 1px rgba(0, 0, 0, 0.15);\n",
              "      filter: drop-shadow(0px 1px 2px rgba(0, 0, 0, 0.3));\n",
              "      fill: #FFFFFF;\n",
              "    }\n",
              "  </style>\n",
              "\n",
              "      <script>\n",
              "        const buttonEl =\n",
              "          document.querySelector('#df-275b1c5d-e41a-4cfc-b31b-4f6d35513ce1 button.colab-df-convert');\n",
              "        buttonEl.style.display =\n",
              "          google.colab.kernel.accessAllowed ? 'block' : 'none';\n",
              "\n",
              "        async function convertToInteractive(key) {\n",
              "          const element = document.querySelector('#df-275b1c5d-e41a-4cfc-b31b-4f6d35513ce1');\n",
              "          const dataTable =\n",
              "            await google.colab.kernel.invokeFunction('convertToInteractive',\n",
              "                                                     [key], {});\n",
              "          if (!dataTable) return;\n",
              "\n",
              "          const docLinkHtml = 'Like what you see? Visit the ' +\n",
              "            '<a target=\"_blank\" href=https://colab.research.google.com/notebooks/data_table.ipynb>data table notebook</a>'\n",
              "            + ' to learn more about interactive tables.';\n",
              "          element.innerHTML = '';\n",
              "          dataTable['output_type'] = 'display_data';\n",
              "          await google.colab.output.renderOutput(dataTable, element);\n",
              "          const docLink = document.createElement('div');\n",
              "          docLink.innerHTML = docLinkHtml;\n",
              "          element.appendChild(docLink);\n",
              "        }\n",
              "      </script>\n",
              "    </div>\n",
              "  </div>\n",
              "  "
            ]
          },
          "metadata": {},
          "execution_count": 63
        }
      ]
    },
    {
      "cell_type": "code",
      "source": [
        "train_datos=datos[:15000]\n",
        "test_datos=datos[15001:]\n",
        "\n",
        "train_labels=labels[:15000]\n",
        "test_labels=labels[15001:]"
      ],
      "metadata": {
        "id": "GD_gBGXimN1C"
      },
      "id": "GD_gBGXimN1C",
      "execution_count": 64,
      "outputs": []
    },
    {
      "cell_type": "code",
      "source": [
        "train_labels[0]"
      ],
      "metadata": {
        "id": "AXtciJzCG9Er",
        "outputId": "75b617c7-508d-41d4-f61e-d112983189d0",
        "colab": {
          "base_uri": "https://localhost:8080/"
        }
      },
      "id": "AXtciJzCG9Er",
      "execution_count": 65,
      "outputs": [
        {
          "output_type": "execute_result",
          "data": {
            "text/plain": [
              "13328"
            ]
          },
          "metadata": {},
          "execution_count": 65
        }
      ]
    },
    {
      "cell_type": "code",
      "source": [
        "train_datos.shape"
      ],
      "metadata": {
        "id": "y77_ZG4PEOoM",
        "outputId": "f5cb34de-d6fb-4e38-fe32-422a9deb6c30",
        "colab": {
          "base_uri": "https://localhost:8080/"
        }
      },
      "id": "y77_ZG4PEOoM",
      "execution_count": 66,
      "outputs": [
        {
          "output_type": "execute_result",
          "data": {
            "text/plain": [
              "(15000, 14)"
            ]
          },
          "metadata": {},
          "execution_count": 66
        }
      ]
    },
    {
      "cell_type": "code",
      "source": [
        "test_datos"
      ],
      "metadata": {
        "colab": {
          "base_uri": "https://localhost:8080/",
          "height": 424
        },
        "id": "czGpBewmejE8",
        "outputId": "5fa10377-09c7-49dd-eaf5-6dd6b42fbf11"
      },
      "id": "czGpBewmejE8",
      "execution_count": 67,
      "outputs": [
        {
          "output_type": "execute_result",
          "data": {
            "text/plain": [
              "       Manufacturer  Model  Prod. year  Category  Leather interior  Fuel type  \\\n",
              "15001            41   1410        2007         9                 1          5   \n",
              "15002            58    435        2008         9                 0          5   \n",
              "15003            58    435        2012         9                 1          5   \n",
              "15004            23   1334        2015         9                 0          5   \n",
              "15005            36    334        2013         9                 1          5   \n",
              "...             ...    ...         ...       ...               ...        ...   \n",
              "19232            36    385        1999         1                 1          0   \n",
              "19233            23   1334        2011         9                 1          5   \n",
              "19234            23   1442        2010         4                 1          1   \n",
              "19235             8    456        2007         4                 1          1   \n",
              "19236            23   1334        2012         9                 1          2   \n",
              "\n",
              "       Mileage  Cylinders  Gear box type  Drive wheels  Doors  Wheel  Color  \\\n",
              "15001     2099        4.0              3             1      1      1      1   \n",
              "15002     2973        4.0              0             1      1      0     12   \n",
              "15003     1249        6.0              2             1      1      0     14   \n",
              "15004     6280        4.0              2             1      1      0      1   \n",
              "15005      975        6.0              2             2      1      0      2   \n",
              "...        ...        ...            ...           ...    ...    ...    ...   \n",
              "19232     4394        4.0              1             2      0      0     12   \n",
              "19233     2214        4.0              2             1      1      0     11   \n",
              "19234      638        4.0              0             1      1      0      7   \n",
              "19235     5612        4.0              0             1      1      0      1   \n",
              "19236     2857        4.0              0             1      1      0     14   \n",
              "\n",
              "       Airbags  \n",
              "15001        7  \n",
              "15002        2  \n",
              "15003       12  \n",
              "15004       12  \n",
              "15005       12  \n",
              "...        ...  \n",
              "19232        5  \n",
              "19233        8  \n",
              "19234        4  \n",
              "19235        4  \n",
              "19236       12  \n",
              "\n",
              "[4236 rows x 14 columns]"
            ],
            "text/html": [
              "\n",
              "  <div id=\"df-f7e6f8f6-8158-49a6-9ce8-9f1a261a43ad\">\n",
              "    <div class=\"colab-df-container\">\n",
              "      <div>\n",
              "<style scoped>\n",
              "    .dataframe tbody tr th:only-of-type {\n",
              "        vertical-align: middle;\n",
              "    }\n",
              "\n",
              "    .dataframe tbody tr th {\n",
              "        vertical-align: top;\n",
              "    }\n",
              "\n",
              "    .dataframe thead th {\n",
              "        text-align: right;\n",
              "    }\n",
              "</style>\n",
              "<table border=\"1\" class=\"dataframe\">\n",
              "  <thead>\n",
              "    <tr style=\"text-align: right;\">\n",
              "      <th></th>\n",
              "      <th>Manufacturer</th>\n",
              "      <th>Model</th>\n",
              "      <th>Prod. year</th>\n",
              "      <th>Category</th>\n",
              "      <th>Leather interior</th>\n",
              "      <th>Fuel type</th>\n",
              "      <th>Mileage</th>\n",
              "      <th>Cylinders</th>\n",
              "      <th>Gear box type</th>\n",
              "      <th>Drive wheels</th>\n",
              "      <th>Doors</th>\n",
              "      <th>Wheel</th>\n",
              "      <th>Color</th>\n",
              "      <th>Airbags</th>\n",
              "    </tr>\n",
              "  </thead>\n",
              "  <tbody>\n",
              "    <tr>\n",
              "      <th>15001</th>\n",
              "      <td>41</td>\n",
              "      <td>1410</td>\n",
              "      <td>2007</td>\n",
              "      <td>9</td>\n",
              "      <td>1</td>\n",
              "      <td>5</td>\n",
              "      <td>2099</td>\n",
              "      <td>4.0</td>\n",
              "      <td>3</td>\n",
              "      <td>1</td>\n",
              "      <td>1</td>\n",
              "      <td>1</td>\n",
              "      <td>1</td>\n",
              "      <td>7</td>\n",
              "    </tr>\n",
              "    <tr>\n",
              "      <th>15002</th>\n",
              "      <td>58</td>\n",
              "      <td>435</td>\n",
              "      <td>2008</td>\n",
              "      <td>9</td>\n",
              "      <td>0</td>\n",
              "      <td>5</td>\n",
              "      <td>2973</td>\n",
              "      <td>4.0</td>\n",
              "      <td>0</td>\n",
              "      <td>1</td>\n",
              "      <td>1</td>\n",
              "      <td>0</td>\n",
              "      <td>12</td>\n",
              "      <td>2</td>\n",
              "    </tr>\n",
              "    <tr>\n",
              "      <th>15003</th>\n",
              "      <td>58</td>\n",
              "      <td>435</td>\n",
              "      <td>2012</td>\n",
              "      <td>9</td>\n",
              "      <td>1</td>\n",
              "      <td>5</td>\n",
              "      <td>1249</td>\n",
              "      <td>6.0</td>\n",
              "      <td>2</td>\n",
              "      <td>1</td>\n",
              "      <td>1</td>\n",
              "      <td>0</td>\n",
              "      <td>14</td>\n",
              "      <td>12</td>\n",
              "    </tr>\n",
              "    <tr>\n",
              "      <th>15004</th>\n",
              "      <td>23</td>\n",
              "      <td>1334</td>\n",
              "      <td>2015</td>\n",
              "      <td>9</td>\n",
              "      <td>0</td>\n",
              "      <td>5</td>\n",
              "      <td>6280</td>\n",
              "      <td>4.0</td>\n",
              "      <td>2</td>\n",
              "      <td>1</td>\n",
              "      <td>1</td>\n",
              "      <td>0</td>\n",
              "      <td>1</td>\n",
              "      <td>12</td>\n",
              "    </tr>\n",
              "    <tr>\n",
              "      <th>15005</th>\n",
              "      <td>36</td>\n",
              "      <td>334</td>\n",
              "      <td>2013</td>\n",
              "      <td>9</td>\n",
              "      <td>1</td>\n",
              "      <td>5</td>\n",
              "      <td>975</td>\n",
              "      <td>6.0</td>\n",
              "      <td>2</td>\n",
              "      <td>2</td>\n",
              "      <td>1</td>\n",
              "      <td>0</td>\n",
              "      <td>2</td>\n",
              "      <td>12</td>\n",
              "    </tr>\n",
              "    <tr>\n",
              "      <th>...</th>\n",
              "      <td>...</td>\n",
              "      <td>...</td>\n",
              "      <td>...</td>\n",
              "      <td>...</td>\n",
              "      <td>...</td>\n",
              "      <td>...</td>\n",
              "      <td>...</td>\n",
              "      <td>...</td>\n",
              "      <td>...</td>\n",
              "      <td>...</td>\n",
              "      <td>...</td>\n",
              "      <td>...</td>\n",
              "      <td>...</td>\n",
              "      <td>...</td>\n",
              "    </tr>\n",
              "    <tr>\n",
              "      <th>19232</th>\n",
              "      <td>36</td>\n",
              "      <td>385</td>\n",
              "      <td>1999</td>\n",
              "      <td>1</td>\n",
              "      <td>1</td>\n",
              "      <td>0</td>\n",
              "      <td>4394</td>\n",
              "      <td>4.0</td>\n",
              "      <td>1</td>\n",
              "      <td>2</td>\n",
              "      <td>0</td>\n",
              "      <td>0</td>\n",
              "      <td>12</td>\n",
              "      <td>5</td>\n",
              "    </tr>\n",
              "    <tr>\n",
              "      <th>19233</th>\n",
              "      <td>23</td>\n",
              "      <td>1334</td>\n",
              "      <td>2011</td>\n",
              "      <td>9</td>\n",
              "      <td>1</td>\n",
              "      <td>5</td>\n",
              "      <td>2214</td>\n",
              "      <td>4.0</td>\n",
              "      <td>2</td>\n",
              "      <td>1</td>\n",
              "      <td>1</td>\n",
              "      <td>0</td>\n",
              "      <td>11</td>\n",
              "      <td>8</td>\n",
              "    </tr>\n",
              "    <tr>\n",
              "      <th>19234</th>\n",
              "      <td>23</td>\n",
              "      <td>1442</td>\n",
              "      <td>2010</td>\n",
              "      <td>4</td>\n",
              "      <td>1</td>\n",
              "      <td>1</td>\n",
              "      <td>638</td>\n",
              "      <td>4.0</td>\n",
              "      <td>0</td>\n",
              "      <td>1</td>\n",
              "      <td>1</td>\n",
              "      <td>0</td>\n",
              "      <td>7</td>\n",
              "      <td>4</td>\n",
              "    </tr>\n",
              "    <tr>\n",
              "      <th>19235</th>\n",
              "      <td>8</td>\n",
              "      <td>456</td>\n",
              "      <td>2007</td>\n",
              "      <td>4</td>\n",
              "      <td>1</td>\n",
              "      <td>1</td>\n",
              "      <td>5612</td>\n",
              "      <td>4.0</td>\n",
              "      <td>0</td>\n",
              "      <td>1</td>\n",
              "      <td>1</td>\n",
              "      <td>0</td>\n",
              "      <td>1</td>\n",
              "      <td>4</td>\n",
              "    </tr>\n",
              "    <tr>\n",
              "      <th>19236</th>\n",
              "      <td>23</td>\n",
              "      <td>1334</td>\n",
              "      <td>2012</td>\n",
              "      <td>9</td>\n",
              "      <td>1</td>\n",
              "      <td>2</td>\n",
              "      <td>2857</td>\n",
              "      <td>4.0</td>\n",
              "      <td>0</td>\n",
              "      <td>1</td>\n",
              "      <td>1</td>\n",
              "      <td>0</td>\n",
              "      <td>14</td>\n",
              "      <td>12</td>\n",
              "    </tr>\n",
              "  </tbody>\n",
              "</table>\n",
              "<p>4236 rows × 14 columns</p>\n",
              "</div>\n",
              "      <button class=\"colab-df-convert\" onclick=\"convertToInteractive('df-f7e6f8f6-8158-49a6-9ce8-9f1a261a43ad')\"\n",
              "              title=\"Convert this dataframe to an interactive table.\"\n",
              "              style=\"display:none;\">\n",
              "        \n",
              "  <svg xmlns=\"http://www.w3.org/2000/svg\" height=\"24px\"viewBox=\"0 0 24 24\"\n",
              "       width=\"24px\">\n",
              "    <path d=\"M0 0h24v24H0V0z\" fill=\"none\"/>\n",
              "    <path d=\"M18.56 5.44l.94 2.06.94-2.06 2.06-.94-2.06-.94-.94-2.06-.94 2.06-2.06.94zm-11 1L8.5 8.5l.94-2.06 2.06-.94-2.06-.94L8.5 2.5l-.94 2.06-2.06.94zm10 10l.94 2.06.94-2.06 2.06-.94-2.06-.94-.94-2.06-.94 2.06-2.06.94z\"/><path d=\"M17.41 7.96l-1.37-1.37c-.4-.4-.92-.59-1.43-.59-.52 0-1.04.2-1.43.59L10.3 9.45l-7.72 7.72c-.78.78-.78 2.05 0 2.83L4 21.41c.39.39.9.59 1.41.59.51 0 1.02-.2 1.41-.59l7.78-7.78 2.81-2.81c.8-.78.8-2.07 0-2.86zM5.41 20L4 18.59l7.72-7.72 1.47 1.35L5.41 20z\"/>\n",
              "  </svg>\n",
              "      </button>\n",
              "      \n",
              "  <style>\n",
              "    .colab-df-container {\n",
              "      display:flex;\n",
              "      flex-wrap:wrap;\n",
              "      gap: 12px;\n",
              "    }\n",
              "\n",
              "    .colab-df-convert {\n",
              "      background-color: #E8F0FE;\n",
              "      border: none;\n",
              "      border-radius: 50%;\n",
              "      cursor: pointer;\n",
              "      display: none;\n",
              "      fill: #1967D2;\n",
              "      height: 32px;\n",
              "      padding: 0 0 0 0;\n",
              "      width: 32px;\n",
              "    }\n",
              "\n",
              "    .colab-df-convert:hover {\n",
              "      background-color: #E2EBFA;\n",
              "      box-shadow: 0px 1px 2px rgba(60, 64, 67, 0.3), 0px 1px 3px 1px rgba(60, 64, 67, 0.15);\n",
              "      fill: #174EA6;\n",
              "    }\n",
              "\n",
              "    [theme=dark] .colab-df-convert {\n",
              "      background-color: #3B4455;\n",
              "      fill: #D2E3FC;\n",
              "    }\n",
              "\n",
              "    [theme=dark] .colab-df-convert:hover {\n",
              "      background-color: #434B5C;\n",
              "      box-shadow: 0px 1px 3px 1px rgba(0, 0, 0, 0.15);\n",
              "      filter: drop-shadow(0px 1px 2px rgba(0, 0, 0, 0.3));\n",
              "      fill: #FFFFFF;\n",
              "    }\n",
              "  </style>\n",
              "\n",
              "      <script>\n",
              "        const buttonEl =\n",
              "          document.querySelector('#df-f7e6f8f6-8158-49a6-9ce8-9f1a261a43ad button.colab-df-convert');\n",
              "        buttonEl.style.display =\n",
              "          google.colab.kernel.accessAllowed ? 'block' : 'none';\n",
              "\n",
              "        async function convertToInteractive(key) {\n",
              "          const element = document.querySelector('#df-f7e6f8f6-8158-49a6-9ce8-9f1a261a43ad');\n",
              "          const dataTable =\n",
              "            await google.colab.kernel.invokeFunction('convertToInteractive',\n",
              "                                                     [key], {});\n",
              "          if (!dataTable) return;\n",
              "\n",
              "          const docLinkHtml = 'Like what you see? Visit the ' +\n",
              "            '<a target=\"_blank\" href=https://colab.research.google.com/notebooks/data_table.ipynb>data table notebook</a>'\n",
              "            + ' to learn more about interactive tables.';\n",
              "          element.innerHTML = '';\n",
              "          dataTable['output_type'] = 'display_data';\n",
              "          await google.colab.output.renderOutput(dataTable, element);\n",
              "          const docLink = document.createElement('div');\n",
              "          docLink.innerHTML = docLinkHtml;\n",
              "          element.appendChild(docLink);\n",
              "        }\n",
              "      </script>\n",
              "    </div>\n",
              "  </div>\n",
              "  "
            ]
          },
          "metadata": {},
          "execution_count": 67
        }
      ]
    },
    {
      "cell_type": "markdown",
      "source": [
        "Una vez tenemos los datos separados, vamos a normalizarlos, puesto que cada uno tienen rangos distintos. "
      ],
      "metadata": {
        "id": "qglTtMQPm_9X"
      },
      "id": "qglTtMQPm_9X"
    },
    {
      "cell_type": "code",
      "source": [
        "# Normalizamos basándonos en la característica\n",
        "##############################################\n",
        "# Calculamos la media del primer eje de los datos de entrenamiento\n",
        "mean = train_datos.mean(axis=0)\n",
        "print(\"##### Media de las 14 características de los datos de entrenamiento ##### \")\n",
        "print(mean)\n",
        "# A los datos de entrenamiento le restamos la media\n",
        "train_datos -= mean\n",
        "\n",
        "# Calculamos la desviación estandar del primer eje de los datos de entrenamiento\n",
        "std = train_datos.std(axis=0)\n",
        "print(\"##### Desviación estandar de las 14 características de los datos de entrenamiento ##### \")\n",
        "print(std)\n",
        "# A los datos de entrenamiento los dividimos por la desviación estándar\n",
        "train_datos /= std\n",
        "\n",
        "# ¡¡IMPORTANTE!!: USAMOS LA MEDIA Y LA DESVIACIÓN ESTANDAR DE LOS DATOS DE \n",
        "# ENTRENAMIENTO PARA NORMALIZAR EL SET DE DATOS DE LOS DATOS DE TEST \n",
        "test_datos -= mean\n",
        "test_datos /= std"
      ],
      "metadata": {
        "colab": {
          "base_uri": "https://localhost:8080/"
        },
        "id": "XZTxyeq8nT_A",
        "outputId": "438fd506-1262-4f84-bfd3-e2c544ba9b5a"
      },
      "id": "XZTxyeq8nT_A",
      "execution_count": 68,
      "outputs": [
        {
          "output_type": "stream",
          "name": "stdout",
          "text": [
            "##### Media de las 14 características de los datos de entrenamiento ##### \n",
            "Manufacturer          33.211533\n",
            "Model                862.106533\n",
            "Prod. year          2010.897400\n",
            "Category               6.253933\n",
            "Leather interior       0.724733\n",
            "Fuel type              3.440533\n",
            "Mileage             3367.173200\n",
            "Cylinders              4.583000\n",
            "Gear box type          0.529000\n",
            "Drive wheels           0.905333\n",
            "Doors                  0.965867\n",
            "Wheel                  0.077067\n",
            "Color                  7.790800\n",
            "Airbags                6.577333\n",
            "dtype: float64\n",
            "##### Desviación estandar de las 14 características de los datos de entrenamiento ##### \n",
            "Manufacturer          17.788514\n",
            "Model                411.230896\n",
            "Prod. year             5.682508\n",
            "Category               2.793774\n",
            "Leather interior       0.446663\n",
            "Fuel type              1.805256\n",
            "Mileage             2247.974049\n",
            "Cylinders              1.205601\n",
            "Gear box type          0.892494\n",
            "Drive wheels           0.565915\n",
            "Doors                  0.214565\n",
            "Wheel                  0.266706\n",
            "Color                  5.366677\n",
            "Airbags                4.313969\n",
            "dtype: float64\n"
          ]
        }
      ]
    },
    {
      "cell_type": "code",
      "source": [
        "train_datos.shape[1]"
      ],
      "metadata": {
        "colab": {
          "base_uri": "https://localhost:8080/"
        },
        "id": "2RQzzHWekB7w",
        "outputId": "12458a84-c9e0-4dad-f940-2148828dc9dc"
      },
      "id": "2RQzzHWekB7w",
      "execution_count": 69,
      "outputs": [
        {
          "output_type": "execute_result",
          "data": {
            "text/plain": [
              "14"
            ]
          },
          "metadata": {},
          "execution_count": 69
        }
      ]
    },
    {
      "cell_type": "markdown",
      "source": [
        "## CREAMOS LA RED\n",
        "\n",
        "Como tenemos una base de datos tan pequeña, vamos a crear una base de datos muy pequeña con únicamente dos capas ocultas. \n",
        " En general, cuantos menos datos de entrenamiento tengamos, peor será el sobreajuste y el uso una red pequeña es una forma de reducir el sobreajuste."
      ],
      "metadata": {
        "id": "7T0MfDsToeWB"
      },
      "id": "7T0MfDsToeWB"
    },
    {
      "cell_type": "code",
      "source": [
        "import tensorflow as tf\n",
        "from keras import models\n",
        "from keras import layers\n",
        "\n",
        "def build_model():\n",
        "    # Porque necesitaremos instanciar el mismo modelo \n",
        "    # múltiples veces, usamos una función para construirlo\n",
        "    model = models.Sequential()\n",
        "    model.add(layers.Dense(128, activation='relu',\n",
        "                           input_shape=(train_datos.shape[1],)))\n",
        "    model.add(layers.Dense(128, activation='relu'))\n",
        "    model.add(layers.Dense(128, activation='relu'))\n",
        "    model.add(layers.Dense(1))\n",
        "    # MSE: Mean Squared Error\n",
        "    # MAE: Mean Absolute Error\n",
        "    model.compile(optimizer='rmsprop', loss='mse', \n",
        "                  metrics=[tf.keras.metrics.MeanAbsoluteError()]) # metrics = ['mae']\n",
        "    return model"
      ],
      "metadata": {
        "id": "i49WNYvoo2Rn"
      },
      "id": "i49WNYvoo2Rn",
      "execution_count": 76,
      "outputs": []
    },
    {
      "cell_type": "markdown",
      "source": [
        "Con estos datos, computamos el problema con las primeras 3/4 partes de los datos de entrenamiento para entrenar y el último 1/4 de los datos para validación"
      ],
      "metadata": {
        "id": "LZDlPLgXpCOu"
      },
      "id": "LZDlPLgXpCOu"
    },
    {
      "cell_type": "code",
      "source": [
        "partial_train_datos = train_datos[:12000]\n",
        "partial_eval_train_datos = train_datos[12001:]\n",
        "partial_train_labels = train_labels[:12000]\n",
        "partial_eval_train_labels= train_labels[12001:]"
      ],
      "metadata": {
        "id": "jp5gh3Bbo5Gv"
      },
      "id": "jp5gh3Bbo5Gv",
      "execution_count": 77,
      "outputs": []
    },
    {
      "cell_type": "code",
      "source": [
        "mymodel = build_model()"
      ],
      "metadata": {
        "id": "seYZCr1dpiPS"
      },
      "id": "seYZCr1dpiPS",
      "execution_count": 78,
      "outputs": []
    },
    {
      "cell_type": "code",
      "source": [
        "history = mymodel.fit(partial_train_datos, partial_train_labels,\n",
        "            validation_data=(partial_eval_train_datos, partial_eval_train_labels),\n",
        "                        epochs=100, batch_size=16)"
      ],
      "metadata": {
        "colab": {
          "base_uri": "https://localhost:8080/"
        },
        "id": "eI5UG6nVprSf",
        "outputId": "73f5537c-2eb2-41a5-a9a1-ac979a5d57f7"
      },
      "id": "eI5UG6nVprSf",
      "execution_count": 79,
      "outputs": [
        {
          "output_type": "stream",
          "name": "stdout",
          "text": [
            "Epoch 1/100\n",
            "750/750 [==============================] - 3s 3ms/step - loss: 446398784.0000 - mean_absolute_error: 12231.7803 - val_loss: 258423872.0000 - val_mean_absolute_error: 10323.2285\n",
            "Epoch 2/100\n",
            "750/750 [==============================] - 2s 2ms/step - loss: 333056960.0000 - mean_absolute_error: 10236.3955 - val_loss: 241222672.0000 - val_mean_absolute_error: 9970.1924\n",
            "Epoch 3/100\n",
            "750/750 [==============================] - 2s 2ms/step - loss: 320891712.0000 - mean_absolute_error: 9947.4160 - val_loss: 233201808.0000 - val_mean_absolute_error: 9646.6514\n",
            "Epoch 4/100\n",
            "750/750 [==============================] - 2s 2ms/step - loss: 313896896.0000 - mean_absolute_error: 9726.6318 - val_loss: 228049072.0000 - val_mean_absolute_error: 9513.7549\n",
            "Epoch 5/100\n",
            "750/750 [==============================] - 2s 2ms/step - loss: 308063296.0000 - mean_absolute_error: 9590.2744 - val_loss: 223326496.0000 - val_mean_absolute_error: 9397.7773\n",
            "Epoch 6/100\n",
            "750/750 [==============================] - 2s 2ms/step - loss: 302919328.0000 - mean_absolute_error: 9440.4111 - val_loss: 217650064.0000 - val_mean_absolute_error: 9267.4521\n",
            "Epoch 7/100\n",
            "750/750 [==============================] - 2s 2ms/step - loss: 297897600.0000 - mean_absolute_error: 9330.1709 - val_loss: 213392736.0000 - val_mean_absolute_error: 9188.3887\n",
            "Epoch 8/100\n",
            "750/750 [==============================] - 2s 2ms/step - loss: 292763552.0000 - mean_absolute_error: 9237.0244 - val_loss: 211215696.0000 - val_mean_absolute_error: 9068.8467\n",
            "Epoch 9/100\n",
            "750/750 [==============================] - 2s 2ms/step - loss: 289153280.0000 - mean_absolute_error: 9095.3730 - val_loss: 206099984.0000 - val_mean_absolute_error: 8939.8594\n",
            "Epoch 10/100\n",
            "750/750 [==============================] - 2s 2ms/step - loss: 284738400.0000 - mean_absolute_error: 8993.1992 - val_loss: 202861776.0000 - val_mean_absolute_error: 8865.7949\n",
            "Epoch 11/100\n",
            "750/750 [==============================] - 2s 2ms/step - loss: 279834080.0000 - mean_absolute_error: 8865.2803 - val_loss: 198676416.0000 - val_mean_absolute_error: 8789.2314\n",
            "Epoch 12/100\n",
            "750/750 [==============================] - 2s 2ms/step - loss: 275470144.0000 - mean_absolute_error: 8765.9502 - val_loss: 194925264.0000 - val_mean_absolute_error: 8637.3057\n",
            "Epoch 13/100\n",
            "750/750 [==============================] - 2s 2ms/step - loss: 272786144.0000 - mean_absolute_error: 8650.2139 - val_loss: 193210816.0000 - val_mean_absolute_error: 8510.2305\n",
            "Epoch 14/100\n",
            "750/750 [==============================] - 2s 2ms/step - loss: 269251584.0000 - mean_absolute_error: 8544.7188 - val_loss: 187398784.0000 - val_mean_absolute_error: 8466.2363\n",
            "Epoch 15/100\n",
            "750/750 [==============================] - 2s 2ms/step - loss: 264759824.0000 - mean_absolute_error: 8458.9346 - val_loss: 184927424.0000 - val_mean_absolute_error: 8511.1836\n",
            "Epoch 16/100\n",
            "750/750 [==============================] - 2s 2ms/step - loss: 260693056.0000 - mean_absolute_error: 8337.0742 - val_loss: 179089040.0000 - val_mean_absolute_error: 8218.8887\n",
            "Epoch 17/100\n",
            "750/750 [==============================] - 2s 2ms/step - loss: 257650880.0000 - mean_absolute_error: 8211.0420 - val_loss: 176478224.0000 - val_mean_absolute_error: 8156.3008\n",
            "Epoch 18/100\n",
            "750/750 [==============================] - 2s 2ms/step - loss: 253696512.0000 - mean_absolute_error: 8107.5249 - val_loss: 173256176.0000 - val_mean_absolute_error: 8037.9165\n",
            "Epoch 19/100\n",
            "750/750 [==============================] - 2s 2ms/step - loss: 248995120.0000 - mean_absolute_error: 7973.1899 - val_loss: 170702064.0000 - val_mean_absolute_error: 7986.1616\n",
            "Epoch 20/100\n",
            "750/750 [==============================] - 2s 2ms/step - loss: 245287216.0000 - mean_absolute_error: 7841.4185 - val_loss: 166529536.0000 - val_mean_absolute_error: 7727.4780\n",
            "Epoch 21/100\n",
            "750/750 [==============================] - 2s 2ms/step - loss: 241677872.0000 - mean_absolute_error: 7692.8262 - val_loss: 161429904.0000 - val_mean_absolute_error: 7582.2759\n",
            "Epoch 22/100\n",
            "750/750 [==============================] - 2s 2ms/step - loss: 237149856.0000 - mean_absolute_error: 7597.9141 - val_loss: 162103760.0000 - val_mean_absolute_error: 7434.2510\n",
            "Epoch 23/100\n",
            "750/750 [==============================] - 2s 2ms/step - loss: 234738656.0000 - mean_absolute_error: 7502.3271 - val_loss: 157420592.0000 - val_mean_absolute_error: 7319.4536\n",
            "Epoch 24/100\n",
            "750/750 [==============================] - 2s 2ms/step - loss: 231973712.0000 - mean_absolute_error: 7422.9946 - val_loss: 155478864.0000 - val_mean_absolute_error: 7347.4053\n",
            "Epoch 25/100\n",
            "750/750 [==============================] - 2s 2ms/step - loss: 230168512.0000 - mean_absolute_error: 7346.9722 - val_loss: 152027168.0000 - val_mean_absolute_error: 7176.3169\n",
            "Epoch 26/100\n",
            "750/750 [==============================] - 2s 2ms/step - loss: 227371056.0000 - mean_absolute_error: 7275.5093 - val_loss: 153167296.0000 - val_mean_absolute_error: 7048.1353\n",
            "Epoch 27/100\n",
            "750/750 [==============================] - 2s 2ms/step - loss: 224717520.0000 - mean_absolute_error: 7205.8320 - val_loss: 148713824.0000 - val_mean_absolute_error: 7115.6792\n",
            "Epoch 28/100\n",
            "750/750 [==============================] - 2s 2ms/step - loss: 223143152.0000 - mean_absolute_error: 7167.3706 - val_loss: 147854928.0000 - val_mean_absolute_error: 7115.5693\n",
            "Epoch 29/100\n",
            "750/750 [==============================] - 2s 2ms/step - loss: 222435984.0000 - mean_absolute_error: 7140.1279 - val_loss: 146003616.0000 - val_mean_absolute_error: 6985.0024\n",
            "Epoch 30/100\n",
            "750/750 [==============================] - 2s 2ms/step - loss: 220185600.0000 - mean_absolute_error: 7085.4185 - val_loss: 145518688.0000 - val_mean_absolute_error: 6878.5107\n",
            "Epoch 31/100\n",
            "750/750 [==============================] - 2s 2ms/step - loss: 217799136.0000 - mean_absolute_error: 7028.3379 - val_loss: 143509312.0000 - val_mean_absolute_error: 6927.5474\n",
            "Epoch 32/100\n",
            "750/750 [==============================] - 2s 2ms/step - loss: 215690832.0000 - mean_absolute_error: 7026.7739 - val_loss: 141413472.0000 - val_mean_absolute_error: 6951.8521\n",
            "Epoch 33/100\n",
            "750/750 [==============================] - 2s 2ms/step - loss: 214701136.0000 - mean_absolute_error: 6986.8911 - val_loss: 140898176.0000 - val_mean_absolute_error: 6843.4780\n",
            "Epoch 34/100\n",
            "750/750 [==============================] - 2s 2ms/step - loss: 212041776.0000 - mean_absolute_error: 6952.4282 - val_loss: 140060368.0000 - val_mean_absolute_error: 6759.0908\n",
            "Epoch 35/100\n",
            "750/750 [==============================] - 2s 2ms/step - loss: 211119856.0000 - mean_absolute_error: 6915.8994 - val_loss: 141340880.0000 - val_mean_absolute_error: 6749.0762\n",
            "Epoch 36/100\n",
            "750/750 [==============================] - 2s 2ms/step - loss: 208996928.0000 - mean_absolute_error: 6867.5693 - val_loss: 138676736.0000 - val_mean_absolute_error: 6934.7983\n",
            "Epoch 37/100\n",
            "750/750 [==============================] - 2s 2ms/step - loss: 206675248.0000 - mean_absolute_error: 6852.8516 - val_loss: 138668480.0000 - val_mean_absolute_error: 6719.1851\n",
            "Epoch 38/100\n",
            "750/750 [==============================] - 2s 2ms/step - loss: 205739136.0000 - mean_absolute_error: 6807.9038 - val_loss: 143378496.0000 - val_mean_absolute_error: 6663.6538\n",
            "Epoch 39/100\n",
            "750/750 [==============================] - 2s 2ms/step - loss: 203627760.0000 - mean_absolute_error: 6750.0952 - val_loss: 135555760.0000 - val_mean_absolute_error: 6780.3462\n",
            "Epoch 40/100\n",
            "750/750 [==============================] - 2s 2ms/step - loss: 204315056.0000 - mean_absolute_error: 6753.0771 - val_loss: 134233056.0000 - val_mean_absolute_error: 6689.7925\n",
            "Epoch 41/100\n",
            "750/750 [==============================] - 2s 2ms/step - loss: 201146656.0000 - mean_absolute_error: 6712.0088 - val_loss: 139963552.0000 - val_mean_absolute_error: 7029.2871\n",
            "Epoch 42/100\n",
            "750/750 [==============================] - 2s 2ms/step - loss: 202016096.0000 - mean_absolute_error: 6692.1191 - val_loss: 134662688.0000 - val_mean_absolute_error: 6758.2261\n",
            "Epoch 43/100\n",
            "750/750 [==============================] - 2s 2ms/step - loss: 198883712.0000 - mean_absolute_error: 6647.5874 - val_loss: 131735336.0000 - val_mean_absolute_error: 6595.5752\n",
            "Epoch 44/100\n",
            "750/750 [==============================] - 2s 2ms/step - loss: 194868208.0000 - mean_absolute_error: 6637.5288 - val_loss: 130594888.0000 - val_mean_absolute_error: 6613.5957\n",
            "Epoch 45/100\n",
            "750/750 [==============================] - 2s 2ms/step - loss: 196892048.0000 - mean_absolute_error: 6623.4741 - val_loss: 132588160.0000 - val_mean_absolute_error: 6730.0879\n",
            "Epoch 46/100\n",
            "750/750 [==============================] - 2s 2ms/step - loss: 193180160.0000 - mean_absolute_error: 6595.4556 - val_loss: 136690368.0000 - val_mean_absolute_error: 6588.1147\n",
            "Epoch 47/100\n",
            "750/750 [==============================] - 2s 2ms/step - loss: 192727184.0000 - mean_absolute_error: 6583.7505 - val_loss: 131181600.0000 - val_mean_absolute_error: 6547.0161\n",
            "Epoch 48/100\n",
            "750/750 [==============================] - 2s 2ms/step - loss: 189483248.0000 - mean_absolute_error: 6559.3828 - val_loss: 132215080.0000 - val_mean_absolute_error: 6547.9980\n",
            "Epoch 49/100\n",
            "750/750 [==============================] - 2s 2ms/step - loss: 187162272.0000 - mean_absolute_error: 6547.7822 - val_loss: 131043328.0000 - val_mean_absolute_error: 6464.2534\n",
            "Epoch 50/100\n",
            "750/750 [==============================] - 2s 2ms/step - loss: 183937616.0000 - mean_absolute_error: 6505.8018 - val_loss: 129576720.0000 - val_mean_absolute_error: 6521.8301\n",
            "Epoch 51/100\n",
            "750/750 [==============================] - 2s 2ms/step - loss: 186535552.0000 - mean_absolute_error: 6477.3833 - val_loss: 130350248.0000 - val_mean_absolute_error: 6611.6353\n",
            "Epoch 52/100\n",
            "750/750 [==============================] - 2s 2ms/step - loss: 181998064.0000 - mean_absolute_error: 6466.8965 - val_loss: 127218552.0000 - val_mean_absolute_error: 6392.1353\n",
            "Epoch 53/100\n",
            "750/750 [==============================] - 2s 2ms/step - loss: 179750240.0000 - mean_absolute_error: 6458.2788 - val_loss: 131337392.0000 - val_mean_absolute_error: 6569.4434\n",
            "Epoch 54/100\n",
            "750/750 [==============================] - 2s 2ms/step - loss: 178832720.0000 - mean_absolute_error: 6457.6060 - val_loss: 129431040.0000 - val_mean_absolute_error: 6416.5015\n",
            "Epoch 55/100\n",
            "750/750 [==============================] - 2s 2ms/step - loss: 175394240.0000 - mean_absolute_error: 6428.7339 - val_loss: 129930384.0000 - val_mean_absolute_error: 6526.3853\n",
            "Epoch 56/100\n",
            "750/750 [==============================] - 2s 2ms/step - loss: 176235568.0000 - mean_absolute_error: 6407.1987 - val_loss: 131584152.0000 - val_mean_absolute_error: 6486.9585\n",
            "Epoch 57/100\n",
            "750/750 [==============================] - 2s 2ms/step - loss: 177140768.0000 - mean_absolute_error: 6364.8115 - val_loss: 127148768.0000 - val_mean_absolute_error: 6388.7368\n",
            "Epoch 58/100\n",
            "750/750 [==============================] - 2s 2ms/step - loss: 174926240.0000 - mean_absolute_error: 6400.1294 - val_loss: 126271136.0000 - val_mean_absolute_error: 6369.9912\n",
            "Epoch 59/100\n",
            "750/750 [==============================] - 2s 2ms/step - loss: 171562864.0000 - mean_absolute_error: 6312.1953 - val_loss: 152493280.0000 - val_mean_absolute_error: 7000.7349\n",
            "Epoch 60/100\n",
            "750/750 [==============================] - 2s 2ms/step - loss: 174398832.0000 - mean_absolute_error: 6346.6318 - val_loss: 128777016.0000 - val_mean_absolute_error: 6447.4604\n",
            "Epoch 61/100\n",
            "750/750 [==============================] - 2s 2ms/step - loss: 168718784.0000 - mean_absolute_error: 6312.5396 - val_loss: 130020552.0000 - val_mean_absolute_error: 6528.6836\n",
            "Epoch 62/100\n",
            "750/750 [==============================] - 2s 2ms/step - loss: 167522704.0000 - mean_absolute_error: 6270.8228 - val_loss: 127616032.0000 - val_mean_absolute_error: 6275.9551\n",
            "Epoch 63/100\n",
            "750/750 [==============================] - 2s 2ms/step - loss: 166725952.0000 - mean_absolute_error: 6269.3535 - val_loss: 125167464.0000 - val_mean_absolute_error: 6415.1558\n",
            "Epoch 64/100\n",
            "750/750 [==============================] - 2s 2ms/step - loss: 162543856.0000 - mean_absolute_error: 6248.4639 - val_loss: 128509072.0000 - val_mean_absolute_error: 6245.8555\n",
            "Epoch 65/100\n",
            "750/750 [==============================] - 2s 2ms/step - loss: 163888528.0000 - mean_absolute_error: 6230.7451 - val_loss: 130486272.0000 - val_mean_absolute_error: 6451.7188\n",
            "Epoch 66/100\n",
            "750/750 [==============================] - 2s 2ms/step - loss: 163515200.0000 - mean_absolute_error: 6207.6958 - val_loss: 147291920.0000 - val_mean_absolute_error: 6922.0522\n",
            "Epoch 67/100\n",
            "750/750 [==============================] - 2s 2ms/step - loss: 162919344.0000 - mean_absolute_error: 6214.1333 - val_loss: 140236320.0000 - val_mean_absolute_error: 7064.6250\n",
            "Epoch 68/100\n",
            "750/750 [==============================] - 2s 2ms/step - loss: 159731184.0000 - mean_absolute_error: 6177.7241 - val_loss: 135289504.0000 - val_mean_absolute_error: 6338.2573\n",
            "Epoch 69/100\n",
            "750/750 [==============================] - 2s 2ms/step - loss: 155241968.0000 - mean_absolute_error: 6152.1782 - val_loss: 127638440.0000 - val_mean_absolute_error: 6438.3940\n",
            "Epoch 70/100\n",
            "750/750 [==============================] - 2s 2ms/step - loss: 159051712.0000 - mean_absolute_error: 6132.0332 - val_loss: 124902680.0000 - val_mean_absolute_error: 6198.6162\n",
            "Epoch 71/100\n",
            "750/750 [==============================] - 2s 2ms/step - loss: 153847136.0000 - mean_absolute_error: 6145.3179 - val_loss: 131059088.0000 - val_mean_absolute_error: 6341.6030\n",
            "Epoch 72/100\n",
            "750/750 [==============================] - 2s 3ms/step - loss: 154389056.0000 - mean_absolute_error: 6113.8286 - val_loss: 128151616.0000 - val_mean_absolute_error: 6287.1045\n",
            "Epoch 73/100\n",
            "750/750 [==============================] - 2s 2ms/step - loss: 151218496.0000 - mean_absolute_error: 6073.3862 - val_loss: 136116816.0000 - val_mean_absolute_error: 6532.8804\n",
            "Epoch 74/100\n",
            "750/750 [==============================] - 2s 2ms/step - loss: 151564416.0000 - mean_absolute_error: 6106.1445 - val_loss: 127219144.0000 - val_mean_absolute_error: 6266.0815\n",
            "Epoch 75/100\n",
            "750/750 [==============================] - 2s 2ms/step - loss: 148132080.0000 - mean_absolute_error: 6052.6807 - val_loss: 127755600.0000 - val_mean_absolute_error: 6348.9790\n",
            "Epoch 76/100\n",
            "750/750 [==============================] - 2s 2ms/step - loss: 150201024.0000 - mean_absolute_error: 6064.7451 - val_loss: 126742136.0000 - val_mean_absolute_error: 6305.2563\n",
            "Epoch 77/100\n",
            "750/750 [==============================] - 2s 2ms/step - loss: 144333888.0000 - mean_absolute_error: 6038.8721 - val_loss: 130142816.0000 - val_mean_absolute_error: 6409.7412\n",
            "Epoch 78/100\n",
            "750/750 [==============================] - 2s 3ms/step - loss: 146102928.0000 - mean_absolute_error: 6023.0132 - val_loss: 128314112.0000 - val_mean_absolute_error: 6347.2275\n",
            "Epoch 79/100\n",
            "750/750 [==============================] - 2s 2ms/step - loss: 145876816.0000 - mean_absolute_error: 6016.0459 - val_loss: 136042160.0000 - val_mean_absolute_error: 6340.3174\n",
            "Epoch 80/100\n",
            "750/750 [==============================] - 2s 2ms/step - loss: 142825920.0000 - mean_absolute_error: 5989.7251 - val_loss: 129039136.0000 - val_mean_absolute_error: 6446.6797\n",
            "Epoch 81/100\n",
            "750/750 [==============================] - 2s 2ms/step - loss: 139515552.0000 - mean_absolute_error: 6016.4121 - val_loss: 131515120.0000 - val_mean_absolute_error: 6364.2437\n",
            "Epoch 82/100\n",
            "750/750 [==============================] - 2s 2ms/step - loss: 144089904.0000 - mean_absolute_error: 5964.2759 - val_loss: 131302144.0000 - val_mean_absolute_error: 6295.8564\n",
            "Epoch 83/100\n",
            "750/750 [==============================] - 2s 3ms/step - loss: 140841456.0000 - mean_absolute_error: 5950.3447 - val_loss: 135148992.0000 - val_mean_absolute_error: 6381.0811\n",
            "Epoch 84/100\n",
            "750/750 [==============================] - 2s 2ms/step - loss: 138888016.0000 - mean_absolute_error: 5936.6274 - val_loss: 128735744.0000 - val_mean_absolute_error: 6290.3867\n",
            "Epoch 85/100\n",
            "750/750 [==============================] - 2s 2ms/step - loss: 138720016.0000 - mean_absolute_error: 5924.7666 - val_loss: 153463936.0000 - val_mean_absolute_error: 6955.1157\n",
            "Epoch 86/100\n",
            "750/750 [==============================] - 2s 2ms/step - loss: 135035088.0000 - mean_absolute_error: 5924.0718 - val_loss: 128692688.0000 - val_mean_absolute_error: 6223.1323\n",
            "Epoch 87/100\n",
            "750/750 [==============================] - 2s 2ms/step - loss: 136377152.0000 - mean_absolute_error: 5901.9932 - val_loss: 132438072.0000 - val_mean_absolute_error: 6319.5571\n",
            "Epoch 88/100\n",
            "750/750 [==============================] - 2s 2ms/step - loss: 137710592.0000 - mean_absolute_error: 5905.6973 - val_loss: 128004296.0000 - val_mean_absolute_error: 6255.3569\n",
            "Epoch 89/100\n",
            "750/750 [==============================] - 2s 2ms/step - loss: 128561264.0000 - mean_absolute_error: 5877.1338 - val_loss: 132933104.0000 - val_mean_absolute_error: 6303.6987\n",
            "Epoch 90/100\n",
            "750/750 [==============================] - 2s 2ms/step - loss: 137256832.0000 - mean_absolute_error: 5858.4487 - val_loss: 129418544.0000 - val_mean_absolute_error: 6273.1479\n",
            "Epoch 91/100\n",
            "750/750 [==============================] - 2s 2ms/step - loss: 136282064.0000 - mean_absolute_error: 5845.9111 - val_loss: 128161736.0000 - val_mean_absolute_error: 6233.0791\n",
            "Epoch 92/100\n",
            "750/750 [==============================] - 2s 2ms/step - loss: 135301776.0000 - mean_absolute_error: 5831.7085 - val_loss: 127076488.0000 - val_mean_absolute_error: 6294.5337\n",
            "Epoch 93/100\n",
            "750/750 [==============================] - 2s 2ms/step - loss: 128299824.0000 - mean_absolute_error: 5846.7861 - val_loss: 129744496.0000 - val_mean_absolute_error: 6469.8125\n",
            "Epoch 94/100\n",
            "750/750 [==============================] - 2s 2ms/step - loss: 130154408.0000 - mean_absolute_error: 5803.1787 - val_loss: 136459056.0000 - val_mean_absolute_error: 6310.1626\n",
            "Epoch 95/100\n",
            "750/750 [==============================] - 2s 2ms/step - loss: 129145264.0000 - mean_absolute_error: 5775.3965 - val_loss: 140076704.0000 - val_mean_absolute_error: 6393.8667\n",
            "Epoch 96/100\n",
            "750/750 [==============================] - 2s 2ms/step - loss: 130934408.0000 - mean_absolute_error: 5795.9209 - val_loss: 145204784.0000 - val_mean_absolute_error: 6715.1528\n",
            "Epoch 97/100\n",
            "750/750 [==============================] - 2s 2ms/step - loss: 131356200.0000 - mean_absolute_error: 5791.4419 - val_loss: 133999264.0000 - val_mean_absolute_error: 6462.7188\n",
            "Epoch 98/100\n",
            "750/750 [==============================] - 2s 2ms/step - loss: 128312632.0000 - mean_absolute_error: 5765.8071 - val_loss: 132517416.0000 - val_mean_absolute_error: 6430.5195\n",
            "Epoch 99/100\n",
            "750/750 [==============================] - 2s 2ms/step - loss: 126259968.0000 - mean_absolute_error: 5742.7871 - val_loss: 136736816.0000 - val_mean_absolute_error: 6425.1104\n",
            "Epoch 100/100\n",
            "750/750 [==============================] - 2s 2ms/step - loss: 125700920.0000 - mean_absolute_error: 5739.9980 - val_loss: 127112600.0000 - val_mean_absolute_error: 6161.2178\n"
          ]
        }
      ]
    },
    {
      "cell_type": "code",
      "source": [
        "mae_history = history.history['val_mean_absolute_error']"
      ],
      "metadata": {
        "id": "iGJBKsErp6hB"
      },
      "id": "iGJBKsErp6hB",
      "execution_count": 80,
      "outputs": []
    },
    {
      "cell_type": "code",
      "source": [
        "mse_history = history.history['val_loss']"
      ],
      "metadata": {
        "id": "0NM0QWErp98u"
      },
      "id": "0NM0QWErp98u",
      "execution_count": 81,
      "outputs": []
    },
    {
      "cell_type": "markdown",
      "source": [
        "Confrontamos en una gráfica las épocas frente a la pérdida pérdida (MSE)"
      ],
      "metadata": {
        "id": "W0kHJ443qE6p"
      },
      "id": "W0kHJ443qE6p"
    },
    {
      "cell_type": "code",
      "source": [
        "import matplotlib.pyplot as plt\n",
        "\n",
        "plt.plot(range(1, len(mse_history) + 1), mse_history)\n",
        "plt.xlabel('Epochs')\n",
        "plt.ylabel('Validación MSE')\n",
        "plt.show()"
      ],
      "metadata": {
        "id": "sNPBLN62qETp",
        "outputId": "c785ec6a-0f45-4a81-80f2-c26ee8ec2897",
        "colab": {
          "base_uri": "https://localhost:8080/",
          "height": 290
        }
      },
      "id": "sNPBLN62qETp",
      "execution_count": 82,
      "outputs": [
        {
          "output_type": "display_data",
          "data": {
            "text/plain": [
              "<Figure size 432x288 with 1 Axes>"
            ],
            "image/png": "[encoded data removed]"
          },
          "metadata": {
            "needs_background": "light"
          }
        }
      ]
    },
    {
      "cell_type": "code",
      "source": [
        "import matplotlib.pyplot as plt\n",
        "\n",
        "loss = history.history['loss']\n",
        "val_loss = history.history['val_loss']\n",
        "\n",
        "epochs = range(1, len(loss) + 1)\n",
        "\n",
        "plt.plot(epochs, loss, 'bo', label='Pérdida del entreno')\n",
        "plt.plot(epochs, val_loss, 'b', label='Pérdida de la validación')\n",
        "plt.title('Perdidas del entreno y la validación')\n",
        "plt.xlabel('Épocas')\n",
        "plt.ylabel('Pérdida')\n",
        "plt.legend()\n",
        "\n",
        "plt.show()"
      ],
      "metadata": {
        "id": "iysI43zEqVQb",
        "outputId": "23015acb-6249-49ea-8b93-9b7764025496",
        "colab": {
          "base_uri": "https://localhost:8080/",
          "height": 297
        }
      },
      "id": "iysI43zEqVQb",
      "execution_count": 83,
      "outputs": [
        {
          "output_type": "display_data",
          "data": {
            "text/plain": [
              "<Figure size 432x288 with 1 Axes>"
            ],
            "image/png": "[encoded data removed]"
          },
          "metadata": {
            "needs_background": "light"
          }
        }
      ]
    },
    {
      "cell_type": "markdown",
      "source": [
        "Confrontamos en una gráfica las épocas contra la métrica de error absoluto medio (MAE)"
      ],
      "metadata": {
        "id": "BZnSo8GiqXi7"
      },
      "id": "BZnSo8GiqXi7"
    },
    {
      "cell_type": "code",
      "source": [
        " import matplotlib.pyplot as plt\n",
        "\n",
        "plt.plot(range(1, len(mae_history) + 1), mae_history)\n",
        "plt.xlabel('Epochs')\n",
        "plt.ylabel('Validación MAE')\n",
        "plt.show()"
      ],
      "metadata": {
        "id": "d7OI2-P4qXy9",
        "outputId": "d69341d5-25eb-4f8f-bb62-05ae17786ef4",
        "colab": {
          "base_uri": "https://localhost:8080/",
          "height": 279
        }
      },
      "id": "d7OI2-P4qXy9",
      "execution_count": 84,
      "outputs": [
        {
          "output_type": "display_data",
          "data": {
            "text/plain": [
              "<Figure size 432x288 with 1 Axes>"
            ],
            "image/png": "[encoded data removed]"
          },
          "metadata": {
            "needs_background": "light"
          }
        }
      ]
    },
    {
      "cell_type": "code",
      "source": [
        "import matplotlib.pyplot as plt\n",
        "\n",
        "loss = history.history['mean_absolute_error']\n",
        "val_loss = history.history['val_mean_absolute_error']\n",
        "\n",
        "epochs = range(1, len(loss) + 1)\n",
        "\n",
        "plt.plot(epochs, loss, 'bo', label='Pérdida del entreno')\n",
        "plt.plot(epochs, val_loss, 'b', label='Pérdida de la validación')\n",
        "plt.title('Perdidas del entreno y la validación')\n",
        "plt.xlabel('Épocas')\n",
        "plt.ylabel('Pérdida')\n",
        "plt.legend()\n",
        "\n",
        "plt.show()"
      ],
      "metadata": {
        "id": "g0K_QQ4hqfJB",
        "outputId": "a587da20-969f-4278-81f7-440bef1c0c65",
        "colab": {
          "base_uri": "https://localhost:8080/",
          "height": 297
        }
      },
      "id": "g0K_QQ4hqfJB",
      "execution_count": 85,
      "outputs": [
        {
          "output_type": "display_data",
          "data": {
            "text/plain": [
              "<Figure size 432x288 with 1 Axes>"
            ],
            "image/png": "[encoded data removed]"
          },
          "metadata": {
            "needs_background": "light"
          }
        }
      ]
    },
    {
      "cell_type": "code",
      "source": [
        "mymodel2 = build_model()"
      ],
      "metadata": {
        "id": "GubxwyNGEYuP"
      },
      "id": "GubxwyNGEYuP",
      "execution_count": 91,
      "outputs": []
    },
    {
      "cell_type": "code",
      "source": [
        "history = mymodel2.fit(partial_train_datos, partial_train_labels,\n",
        "            validation_data=(partial_eval_train_datos, partial_eval_train_labels),\n",
        "                        epochs=60, batch_size=16)"
      ],
      "metadata": {
        "id": "DqhZ_1YMqiIO",
        "colab": {
          "base_uri": "https://localhost:8080/"
        },
        "outputId": "04d6e8fa-a6ef-417d-8a84-01819bf1e5fb"
      },
      "id": "DqhZ_1YMqiIO",
      "execution_count": 92,
      "outputs": [
        {
          "output_type": "stream",
          "name": "stdout",
          "text": [
            "Epoch 1/60\n",
            "750/750 [==============================] - 3s 3ms/step - loss: 449794400.0000 - mean_absolute_error: 12212.4736 - val_loss: 258194112.0000 - val_mean_absolute_error: 10262.0547\n",
            "Epoch 2/60\n",
            "750/750 [==============================] - 2s 2ms/step - loss: 334603104.0000 - mean_absolute_error: 10281.0215 - val_loss: 242899008.0000 - val_mean_absolute_error: 9968.9326\n",
            "Epoch 3/60\n",
            "750/750 [==============================] - 2s 2ms/step - loss: 324199936.0000 - mean_absolute_error: 9932.8691 - val_loss: 235636928.0000 - val_mean_absolute_error: 9728.6465\n",
            "Epoch 4/60\n",
            "750/750 [==============================] - 2s 2ms/step - loss: 314590112.0000 - mean_absolute_error: 9763.4824 - val_loss: 232893856.0000 - val_mean_absolute_error: 9519.4678\n",
            "Epoch 5/60\n",
            "750/750 [==============================] - 2s 2ms/step - loss: 309067616.0000 - mean_absolute_error: 9606.8643 - val_loss: 223170976.0000 - val_mean_absolute_error: 9598.1777\n",
            "Epoch 6/60\n",
            "750/750 [==============================] - 2s 2ms/step - loss: 303304864.0000 - mean_absolute_error: 9519.5889 - val_loss: 219030432.0000 - val_mean_absolute_error: 9385.3066\n",
            "Epoch 7/60\n",
            "750/750 [==============================] - 2s 2ms/step - loss: 298168192.0000 - mean_absolute_error: 9385.6777 - val_loss: 214581936.0000 - val_mean_absolute_error: 9264.2969\n",
            "Epoch 8/60\n",
            "750/750 [==============================] - 2s 2ms/step - loss: 294562784.0000 - mean_absolute_error: 9274.4102 - val_loss: 211547216.0000 - val_mean_absolute_error: 9167.0020\n",
            "Epoch 9/60\n",
            "750/750 [==============================] - 2s 2ms/step - loss: 290100032.0000 - mean_absolute_error: 9171.6562 - val_loss: 207513152.0000 - val_mean_absolute_error: 9078.2783\n",
            "Epoch 10/60\n",
            "750/750 [==============================] - 2s 2ms/step - loss: 286444000.0000 - mean_absolute_error: 9060.7031 - val_loss: 206048192.0000 - val_mean_absolute_error: 8951.0703\n",
            "Epoch 11/60\n",
            "750/750 [==============================] - 2s 2ms/step - loss: 282292640.0000 - mean_absolute_error: 8978.6914 - val_loss: 202611200.0000 - val_mean_absolute_error: 8942.3232\n",
            "Epoch 12/60\n",
            "750/750 [==============================] - 2s 2ms/step - loss: 280445664.0000 - mean_absolute_error: 8903.4258 - val_loss: 201207456.0000 - val_mean_absolute_error: 8798.6025\n",
            "Epoch 13/60\n",
            "750/750 [==============================] - 2s 2ms/step - loss: 278026752.0000 - mean_absolute_error: 8813.3477 - val_loss: 197954448.0000 - val_mean_absolute_error: 8732.0918\n",
            "Epoch 14/60\n",
            "750/750 [==============================] - 2s 2ms/step - loss: 275372864.0000 - mean_absolute_error: 8764.6953 - val_loss: 194709424.0000 - val_mean_absolute_error: 8639.1738\n",
            "Epoch 15/60\n",
            "750/750 [==============================] - 2s 2ms/step - loss: 271713984.0000 - mean_absolute_error: 8637.3369 - val_loss: 193291360.0000 - val_mean_absolute_error: 8572.1914\n",
            "Epoch 16/60\n",
            "750/750 [==============================] - 2s 2ms/step - loss: 270090816.0000 - mean_absolute_error: 8575.6104 - val_loss: 191389056.0000 - val_mean_absolute_error: 8510.9990\n",
            "Epoch 17/60\n",
            "750/750 [==============================] - 2s 2ms/step - loss: 265576816.0000 - mean_absolute_error: 8499.9336 - val_loss: 186691200.0000 - val_mean_absolute_error: 8355.3672\n",
            "Epoch 18/60\n",
            "750/750 [==============================] - 2s 2ms/step - loss: 262320208.0000 - mean_absolute_error: 8373.8584 - val_loss: 184282528.0000 - val_mean_absolute_error: 8332.7891\n",
            "Epoch 19/60\n",
            "750/750 [==============================] - 2s 2ms/step - loss: 259250032.0000 - mean_absolute_error: 8291.1582 - val_loss: 182797808.0000 - val_mean_absolute_error: 8100.0581\n",
            "Epoch 20/60\n",
            "750/750 [==============================] - 2s 2ms/step - loss: 255972336.0000 - mean_absolute_error: 8180.5815 - val_loss: 179048448.0000 - val_mean_absolute_error: 7993.3369\n",
            "Epoch 21/60\n",
            "750/750 [==============================] - 2s 2ms/step - loss: 254927520.0000 - mean_absolute_error: 8088.9072 - val_loss: 176353840.0000 - val_mean_absolute_error: 7948.1460\n",
            "Epoch 22/60\n",
            "750/750 [==============================] - 2s 2ms/step - loss: 251181856.0000 - mean_absolute_error: 8006.7026 - val_loss: 172299552.0000 - val_mean_absolute_error: 7953.1089\n",
            "Epoch 23/60\n",
            "750/750 [==============================] - 2s 2ms/step - loss: 248339584.0000 - mean_absolute_error: 7948.1953 - val_loss: 171828752.0000 - val_mean_absolute_error: 7905.0444\n",
            "Epoch 24/60\n",
            "750/750 [==============================] - 2s 2ms/step - loss: 246552304.0000 - mean_absolute_error: 7878.5645 - val_loss: 167879760.0000 - val_mean_absolute_error: 7867.3633\n",
            "Epoch 25/60\n",
            "750/750 [==============================] - 2s 2ms/step - loss: 242220496.0000 - mean_absolute_error: 7810.4468 - val_loss: 168408288.0000 - val_mean_absolute_error: 7991.6968\n",
            "Epoch 26/60\n",
            "750/750 [==============================] - 2s 2ms/step - loss: 242424848.0000 - mean_absolute_error: 7747.5908 - val_loss: 164097440.0000 - val_mean_absolute_error: 7654.8892\n",
            "Epoch 27/60\n",
            "750/750 [==============================] - 2s 2ms/step - loss: 237321408.0000 - mean_absolute_error: 7699.7266 - val_loss: 164016880.0000 - val_mean_absolute_error: 7616.8135\n",
            "Epoch 28/60\n",
            "750/750 [==============================] - 3s 4ms/step - loss: 236826656.0000 - mean_absolute_error: 7591.1987 - val_loss: 163484912.0000 - val_mean_absolute_error: 7801.9155\n",
            "Epoch 29/60\n",
            "750/750 [==============================] - 2s 2ms/step - loss: 235978704.0000 - mean_absolute_error: 7560.7407 - val_loss: 158029200.0000 - val_mean_absolute_error: 7443.9678\n",
            "Epoch 30/60\n",
            "750/750 [==============================] - 2s 2ms/step - loss: 233214800.0000 - mean_absolute_error: 7515.9126 - val_loss: 155810944.0000 - val_mean_absolute_error: 7353.5566\n",
            "Epoch 31/60\n",
            "750/750 [==============================] - 2s 2ms/step - loss: 233365216.0000 - mean_absolute_error: 7455.7896 - val_loss: 153971168.0000 - val_mean_absolute_error: 7301.5371\n",
            "Epoch 32/60\n",
            "750/750 [==============================] - 2s 2ms/step - loss: 229537920.0000 - mean_absolute_error: 7394.5732 - val_loss: 154072240.0000 - val_mean_absolute_error: 7416.3848\n",
            "Epoch 33/60\n",
            "750/750 [==============================] - 2s 2ms/step - loss: 225686128.0000 - mean_absolute_error: 7320.9502 - val_loss: 151164816.0000 - val_mean_absolute_error: 7320.5620\n",
            "Epoch 34/60\n",
            "750/750 [==============================] - 2s 2ms/step - loss: 225778336.0000 - mean_absolute_error: 7299.6768 - val_loss: 149957968.0000 - val_mean_absolute_error: 7200.5894\n",
            "Epoch 35/60\n",
            "750/750 [==============================] - 2s 2ms/step - loss: 224860336.0000 - mean_absolute_error: 7212.5273 - val_loss: 148505504.0000 - val_mean_absolute_error: 7304.4590\n",
            "Epoch 36/60\n",
            "750/750 [==============================] - 2s 2ms/step - loss: 222785024.0000 - mean_absolute_error: 7197.8101 - val_loss: 147456816.0000 - val_mean_absolute_error: 6935.4854\n",
            "Epoch 37/60\n",
            "750/750 [==============================] - 4s 5ms/step - loss: 218650688.0000 - mean_absolute_error: 7115.3760 - val_loss: 145667872.0000 - val_mean_absolute_error: 7020.8896\n",
            "Epoch 38/60\n",
            "750/750 [==============================] - 4s 5ms/step - loss: 215958144.0000 - mean_absolute_error: 7095.0098 - val_loss: 146885280.0000 - val_mean_absolute_error: 7156.6924\n",
            "Epoch 39/60\n",
            "750/750 [==============================] - 6s 7ms/step - loss: 216841696.0000 - mean_absolute_error: 7051.8481 - val_loss: 145390208.0000 - val_mean_absolute_error: 7079.0156\n",
            "Epoch 40/60\n",
            "750/750 [==============================] - 2s 3ms/step - loss: 215763184.0000 - mean_absolute_error: 6995.3560 - val_loss: 142399376.0000 - val_mean_absolute_error: 6920.0654\n",
            "Epoch 41/60\n",
            "750/750 [==============================] - 2s 3ms/step - loss: 213679312.0000 - mean_absolute_error: 6962.4209 - val_loss: 141695152.0000 - val_mean_absolute_error: 6793.1816\n",
            "Epoch 42/60\n",
            "750/750 [==============================] - 3s 4ms/step - loss: 211717648.0000 - mean_absolute_error: 6943.3398 - val_loss: 142911648.0000 - val_mean_absolute_error: 6921.0083\n",
            "Epoch 43/60\n",
            "750/750 [==============================] - 3s 4ms/step - loss: 208997632.0000 - mean_absolute_error: 6929.7974 - val_loss: 140054544.0000 - val_mean_absolute_error: 6944.7715\n",
            "Epoch 44/60\n",
            "750/750 [==============================] - 3s 4ms/step - loss: 208281296.0000 - mean_absolute_error: 6890.4531 - val_loss: 140474208.0000 - val_mean_absolute_error: 6801.7178\n",
            "Epoch 45/60\n",
            "750/750 [==============================] - 4s 5ms/step - loss: 207511568.0000 - mean_absolute_error: 6843.0474 - val_loss: 138960176.0000 - val_mean_absolute_error: 6859.4683\n",
            "Epoch 46/60\n",
            "750/750 [==============================] - 3s 5ms/step - loss: 205300368.0000 - mean_absolute_error: 6839.2358 - val_loss: 139273840.0000 - val_mean_absolute_error: 6722.8457\n",
            "Epoch 47/60\n",
            "750/750 [==============================] - 2s 2ms/step - loss: 205479744.0000 - mean_absolute_error: 6802.5259 - val_loss: 138669984.0000 - val_mean_absolute_error: 6751.2197\n",
            "Epoch 48/60\n",
            "750/750 [==============================] - 2s 2ms/step - loss: 201607632.0000 - mean_absolute_error: 6771.8193 - val_loss: 139742096.0000 - val_mean_absolute_error: 6706.0625\n",
            "Epoch 49/60\n",
            "750/750 [==============================] - 2s 2ms/step - loss: 203268336.0000 - mean_absolute_error: 6766.6147 - val_loss: 136937216.0000 - val_mean_absolute_error: 6653.6191\n",
            "Epoch 50/60\n",
            "750/750 [==============================] - 2s 2ms/step - loss: 202860272.0000 - mean_absolute_error: 6731.9673 - val_loss: 138716304.0000 - val_mean_absolute_error: 6616.0508\n",
            "Epoch 51/60\n",
            "750/750 [==============================] - 2s 2ms/step - loss: 199963840.0000 - mean_absolute_error: 6723.4380 - val_loss: 137232448.0000 - val_mean_absolute_error: 6761.1938\n",
            "Epoch 52/60\n",
            "750/750 [==============================] - 2s 2ms/step - loss: 195130992.0000 - mean_absolute_error: 6708.9507 - val_loss: 138300128.0000 - val_mean_absolute_error: 6629.7827\n",
            "Epoch 53/60\n",
            "750/750 [==============================] - 2s 2ms/step - loss: 198401792.0000 - mean_absolute_error: 6663.8462 - val_loss: 135827728.0000 - val_mean_absolute_error: 6544.2515\n",
            "Epoch 54/60\n",
            "750/750 [==============================] - 2s 2ms/step - loss: 197561328.0000 - mean_absolute_error: 6682.4219 - val_loss: 137086176.0000 - val_mean_absolute_error: 6540.8892\n",
            "Epoch 55/60\n",
            "750/750 [==============================] - 2s 2ms/step - loss: 196548608.0000 - mean_absolute_error: 6657.3320 - val_loss: 135608512.0000 - val_mean_absolute_error: 6640.3120\n",
            "Epoch 56/60\n",
            "750/750 [==============================] - 2s 2ms/step - loss: 195674336.0000 - mean_absolute_error: 6628.2686 - val_loss: 139522544.0000 - val_mean_absolute_error: 6916.7061\n",
            "Epoch 57/60\n",
            "750/750 [==============================] - 2s 2ms/step - loss: 192351168.0000 - mean_absolute_error: 6617.3745 - val_loss: 134102720.0000 - val_mean_absolute_error: 6618.0913\n",
            "Epoch 58/60\n",
            "750/750 [==============================] - 2s 2ms/step - loss: 191680080.0000 - mean_absolute_error: 6627.8545 - val_loss: 136321776.0000 - val_mean_absolute_error: 6664.4570\n",
            "Epoch 59/60\n",
            "750/750 [==============================] - 2s 2ms/step - loss: 190645520.0000 - mean_absolute_error: 6591.5298 - val_loss: 140952304.0000 - val_mean_absolute_error: 6632.3481\n",
            "Epoch 60/60\n",
            "750/750 [==============================] - 2s 2ms/step - loss: 190805424.0000 - mean_absolute_error: 6565.9712 - val_loss: 137368416.0000 - val_mean_absolute_error: 6696.8218\n"
          ]
        }
      ]
    },
    {
      "cell_type": "code",
      "source": [
        "mae_history = history.history['val_mean_absolute_error']\n",
        "mse_history = history.history['val_loss']"
      ],
      "metadata": {
        "id": "OzahxAlHD0e0"
      },
      "id": "OzahxAlHD0e0",
      "execution_count": 93,
      "outputs": []
    },
    {
      "cell_type": "code",
      "source": [
        "import matplotlib.pyplot as plt\n",
        "\n",
        "plt.plot(range(1, len(mse_history) + 1), mse_history)\n",
        "plt.xlabel('Epochs')\n",
        "plt.ylabel('Validación MSE')\n",
        "plt.show()"
      ],
      "metadata": {
        "id": "xnUNGmilD1ZI",
        "outputId": "5f085da0-494c-4bd2-be8f-d1f6521d2fb6",
        "colab": {
          "base_uri": "https://localhost:8080/",
          "height": 290
        }
      },
      "id": "xnUNGmilD1ZI",
      "execution_count": 94,
      "outputs": [
        {
          "output_type": "display_data",
          "data": {
            "text/plain": [
              "<Figure size 432x288 with 1 Axes>"
            ],
            "image/png": "[encoded data removed]"
          },
          "metadata": {
            "needs_background": "light"
          }
        }
      ]
    },
    {
      "cell_type": "code",
      "source": [
        "import matplotlib.pyplot as plt\n",
        "\n",
        "loss = history.history['loss']\n",
        "val_loss = history.history['val_loss']\n",
        "\n",
        "epochs = range(1, len(loss) + 1)\n",
        "\n",
        "plt.plot(epochs, loss, 'bo', label='Pérdida del entreno')\n",
        "plt.plot(epochs, val_loss, 'b', label='Pérdida de la validación')\n",
        "plt.title('Perdidas del entreno y la validación')\n",
        "plt.xlabel('Épocas')\n",
        "plt.ylabel('Pérdida')\n",
        "plt.legend()\n",
        "\n",
        "plt.show()"
      ],
      "metadata": {
        "id": "roWq86OeD1Nv",
        "outputId": "5cdd33d4-4ba2-4bfb-e19a-9752df72fdcc",
        "colab": {
          "base_uri": "https://localhost:8080/",
          "height": 297
        }
      },
      "id": "roWq86OeD1Nv",
      "execution_count": 95,
      "outputs": [
        {
          "output_type": "display_data",
          "data": {
            "text/plain": [
              "<Figure size 432x288 with 1 Axes>"
            ],
            "image/png": "[encoded data removed]"
          },
          "metadata": {
            "needs_background": "light"
          }
        }
      ]
    },
    {
      "cell_type": "code",
      "source": [
        "import matplotlib.pyplot as plt\n",
        "\n",
        "plt.plot(range(1, len(mae_history) + 1), mae_history)\n",
        "plt.xlabel('Epochs')\n",
        "plt.ylabel('Validación MAE')\n",
        "plt.show()"
      ],
      "metadata": {
        "id": "92roMX5PD0yo",
        "outputId": "83623fcd-ea7f-48bc-d4a2-69665cc4c16c",
        "colab": {
          "base_uri": "https://localhost:8080/",
          "height": 279
        }
      },
      "id": "92roMX5PD0yo",
      "execution_count": 96,
      "outputs": [
        {
          "output_type": "display_data",
          "data": {
            "text/plain": [
              "<Figure size 432x288 with 1 Axes>"
            ],
            "image/png": "[encoded data removed]"
          },
          "metadata": {
            "needs_background": "light"
          }
        }
      ]
    },
    {
      "cell_type": "code",
      "source": [
        "import matplotlib.pyplot as plt\n",
        "\n",
        "loss = history.history['mean_absolute_error']\n",
        "val_loss = history.history['val_mean_absolute_error']\n",
        "\n",
        "epochs = range(1, len(loss) + 1)\n",
        "\n",
        "plt.plot(epochs, loss, 'bo', label='Pérdida del entreno')\n",
        "plt.plot(epochs, val_loss, 'b', label='Pérdida de la validación')\n",
        "plt.title('Perdidas del entreno y la validación')\n",
        "plt.xlabel('Épocas')\n",
        "plt.ylabel('Pérdida')\n",
        "plt.legend()\n",
        "\n",
        "plt.show()"
      ],
      "metadata": {
        "id": "KrS5-O-ZEEW1",
        "outputId": "d839f2f9-7952-4d32-c459-f0b8392f3680",
        "colab": {
          "base_uri": "https://localhost:8080/",
          "height": 297
        }
      },
      "id": "KrS5-O-ZEEW1",
      "execution_count": 97,
      "outputs": [
        {
          "output_type": "display_data",
          "data": {
            "text/plain": [
              "<Figure size 432x288 with 1 Axes>"
            ],
            "image/png": "[encoded data removed]"
          },
          "metadata": {
            "needs_background": "light"
          }
        }
      ]
    },
    {
      "cell_type": "code",
      "source": [
        "import numpy as np\n",
        "\n",
        "# k= 4 particiones\n",
        "k = 4\n",
        "num_val_samples = len(partial_train_datos) // k # 404//4=101\n",
        "print(\"num_val_samples\", num_val_samples)\n",
        "num_epochs = 60\n",
        "all_scores = []\n",
        "for i in range(k):\n",
        "    print('processing fold #', i)\n",
        "    # Preparamos la validación de los datos: datos de la partición #k\n",
        "    print(\"Uso para validar el siguiente rango de datos de entrenamiento -> [\",(i * num_val_samples),\":\",((i + 1) * num_val_samples),\"]\")\n",
        "    val_data = partial_train_datos[i * num_val_samples: (i + 1) * num_val_samples]\n",
        "    val_targets = partial_train_labels[i * num_val_samples: (i + 1) * num_val_samples]\n",
        "\n",
        "    # Preparamos los datos de entrenamiento: Datos de las demás particiones\n",
        "    print(\"Uso para entrenar el siguiente rango de datos de entrenamiento -> [0:\",(i * num_val_samples),\"]U[\",(i + 1) * num_val_samples,\":\",len(partial_train_datos),\"]\")\n",
        "    partial_train_data = np.concatenate(\n",
        "        [partial_train_datos[:i * num_val_samples],\n",
        "         partial_train_datos[(i + 1) * num_val_samples:]],\n",
        "        axis=0)\n",
        "    partial_train_targets = np.concatenate(\n",
        "        [partial_train_labels[:i * num_val_samples],\n",
        "         partial_train_labels[(i + 1) * num_val_samples:]],\n",
        "        axis=0)\n",
        "\n",
        "    # Construcción del modelo Keras (ya compilado)\n",
        "    model = build_model()\n",
        "    # Entrenando el modelo (en modo silencioso, verbose=0)\n",
        "    model.fit(partial_train_data, partial_train_targets,\n",
        "              epochs=num_epochs, batch_size=16, verbose=0)\n",
        "    # Evalua el modelo sobre los datos de validación\n",
        "    val_mse, val_mae = model.evaluate(val_data, val_targets, verbose=0)\n",
        "    all_scores.append(val_mae)"
      ],
      "metadata": {
        "id": "EHP6j4iyFl0o",
        "outputId": "ad9b0868-0e32-455e-818f-2a34ffebab09",
        "colab": {
          "base_uri": "https://localhost:8080/"
        }
      },
      "id": "EHP6j4iyFl0o",
      "execution_count": 99,
      "outputs": [
        {
          "output_type": "stream",
          "name": "stdout",
          "text": [
            "num_val_samples 3000\n",
            "processing fold # 0\n",
            "Uso para validar el siguiente rango de datos de entrenamiento -> [ 0 : 3000 ]\n",
            "Uso para entrenar el siguiente rango de datos de entrenamiento -> [0: 0 ]U[ 3000 : 12000 ]\n",
            "processing fold # 1\n",
            "Uso para validar el siguiente rango de datos de entrenamiento -> [ 3000 : 6000 ]\n",
            "Uso para entrenar el siguiente rango de datos de entrenamiento -> [0: 3000 ]U[ 6000 : 12000 ]\n",
            "processing fold # 2\n",
            "Uso para validar el siguiente rango de datos de entrenamiento -> [ 6000 : 9000 ]\n",
            "Uso para entrenar el siguiente rango de datos de entrenamiento -> [0: 6000 ]U[ 9000 : 12000 ]\n",
            "processing fold # 3\n",
            "Uso para validar el siguiente rango de datos de entrenamiento -> [ 9000 : 12000 ]\n",
            "Uso para entrenar el siguiente rango de datos de entrenamiento -> [0: 9000 ]U[ 12000 : 12000 ]\n"
          ]
        }
      ]
    },
    {
      "cell_type": "code",
      "source": [
        "all_scores"
      ],
      "metadata": {
        "id": "endubuNzFvZx",
        "outputId": "e01d293c-67b7-4da2-9814-c94496024fb2",
        "colab": {
          "base_uri": "https://localhost:8080/"
        }
      },
      "id": "endubuNzFvZx",
      "execution_count": 100,
      "outputs": [
        {
          "output_type": "execute_result",
          "data": {
            "text/plain": [
              "[7318.7431640625, 7127.0908203125, 7196.99267578125, 6880.8955078125]"
            ]
          },
          "metadata": {},
          "execution_count": 100
        }
      ]
    },
    {
      "cell_type": "code",
      "source": [
        "np.mean(all_scores)"
      ],
      "metadata": {
        "id": "g3pAnq6aFvYF",
        "outputId": "e5697ace-dffa-448c-94b9-4509c3d14fcf",
        "colab": {
          "base_uri": "https://localhost:8080/"
        }
      },
      "id": "g3pAnq6aFvYF",
      "execution_count": 101,
      "outputs": [
        {
          "output_type": "execute_result",
          "data": {
            "text/plain": [
              "7130.9305419921875"
            ]
          },
          "metadata": {},
          "execution_count": 101
        }
      ]
    },
    {
      "cell_type": "code",
      "source": [
        "from keras import backend as K\n",
        "\n",
        "# Some memory clean-up\n",
        "K.clear_session()"
      ],
      "metadata": {
        "id": "uk1hA2cbFvU7"
      },
      "id": "uk1hA2cbFvU7",
      "execution_count": 102,
      "outputs": []
    },
    {
      "cell_type": "code",
      "source": [
        "num_epochs = 200\n",
        "all_mae_histories = []\n",
        "for i in range(k):\n",
        "    print('processing fold #', i)\n",
        "    # Preparamos la validación de los datos: datos de la partición # k\n",
        "    print(\"Uso para validar el siguiente rango de datos de entrenamiento -> [\",(i * num_val_samples),\":\",((i + 1) * num_val_samples),\"]\")\n",
        "    val_data = partial_train_datos[i * num_val_samples: (i + 1) * num_val_samples]\n",
        "    val_targets = partial_train_labels[i * num_val_samples: (i + 1) * num_val_samples]\n",
        "\n",
        "    # Preparamos los datos de entrenamiento: Datos de todas la demás particiones\n",
        "    print(\"Uso para entrenar el siguiente rango de datos de entrenamiento -> [0:\",(i * num_val_samples),\"]U[\",(i + 1) * num_val_samples,\":\",len(partial_train_datos),\"]\")\n",
        "    partial_train_data = np.concatenate(\n",
        "        [partial_train_datos[:i * num_val_samples],\n",
        "         partial_train_datos[(i + 1) * num_val_samples:]],\n",
        "        axis=0)\n",
        "    partial_train_targets = np.concatenate(\n",
        "        [partial_train_labels[:i * num_val_samples],\n",
        "         partial_train_labels[(i + 1) * num_val_samples:]],\n",
        "        axis=0)\n",
        "\n",
        "    # Construcción del modelo Keras (ya compilado)\n",
        "    model = build_model()\n",
        "    # Entrenando el modelo (en modo silencioso, verbose=0)\n",
        "    history = model.fit(partial_train_data, partial_train_targets,\n",
        "                        validation_data=(val_data, val_targets),\n",
        "                        epochs=num_epochs, batch_size=16, verbose=0)\n",
        "    mae_history = history.history['val_mean_absolute_error']\n",
        "    all_mae_histories.append(mae_history)"
      ],
      "metadata": {
        "id": "aJlIOP07FvTT",
        "outputId": "d4208afa-5a64-4875-b3bf-237f4f357471",
        "colab": {
          "base_uri": "https://localhost:8080/"
        }
      },
      "id": "aJlIOP07FvTT",
      "execution_count": 103,
      "outputs": [
        {
          "output_type": "stream",
          "name": "stdout",
          "text": [
            "processing fold # 0\n",
            "Uso para validar el siguiente rango de datos de entrenamiento -> [ 0 : 3000 ]\n",
            "Uso para entrenar el siguiente rango de datos de entrenamiento -> [0: 0 ]U[ 3000 : 12000 ]\n",
            "processing fold # 1\n",
            "Uso para validar el siguiente rango de datos de entrenamiento -> [ 3000 : 6000 ]\n",
            "Uso para entrenar el siguiente rango de datos de entrenamiento -> [0: 3000 ]U[ 6000 : 12000 ]\n",
            "processing fold # 2\n",
            "Uso para validar el siguiente rango de datos de entrenamiento -> [ 6000 : 9000 ]\n",
            "Uso para entrenar el siguiente rango de datos de entrenamiento -> [0: 6000 ]U[ 9000 : 12000 ]\n",
            "processing fold # 3\n",
            "Uso para validar el siguiente rango de datos de entrenamiento -> [ 9000 : 12000 ]\n",
            "Uso para entrenar el siguiente rango de datos de entrenamiento -> [0: 9000 ]U[ 12000 : 12000 ]\n"
          ]
        }
      ]
    },
    {
      "cell_type": "code",
      "source": [
        "average_mae_history = [\n",
        "    np.mean([x[i] for x in all_mae_histories]) for i in range(num_epochs)]"
      ],
      "metadata": {
        "id": "AxgQSQKyFu6w"
      },
      "id": "AxgQSQKyFu6w",
      "execution_count": 104,
      "outputs": []
    },
    {
      "cell_type": "code",
      "source": [
        "import matplotlib.pyplot as plt\n",
        "\n",
        "plt.plot(range(1, len(average_mae_history) + 1), average_mae_history)\n",
        "plt.xlabel('Epochs')\n",
        "plt.ylabel('Validación MAE')\n",
        "plt.show()"
      ],
      "metadata": {
        "id": "A5aVTkV1F9qh",
        "outputId": "cda1b989-b174-40e8-cc56-20a9e87c55e6",
        "colab": {
          "base_uri": "https://localhost:8080/",
          "height": 279
        }
      },
      "id": "A5aVTkV1F9qh",
      "execution_count": 105,
      "outputs": [
        {
          "output_type": "display_data",
          "data": {
            "text/plain": [
              "<Figure size 432x288 with 1 Axes>"
            ],
            "image/png": "[encoded data removed]"
          },
          "metadata": {
            "needs_background": "light"
          }
        }
      ]
    },
    {
      "cell_type": "code",
      "source": [
        "def smooth_curve(points, factor=0.9):\n",
        "  smoothed_points = []\n",
        "  for point in points:\n",
        "    if smoothed_points:\n",
        "      previous = smoothed_points[-1]\n",
        "      smoothed_points.append(previous * factor + point * (1 - factor))\n",
        "    else:\n",
        "      smoothed_points.append(point)\n",
        "  return smoothed_points\n",
        "\n",
        "smooth_mae_history = smooth_curve(average_mae_history[10:])\n",
        "\n",
        "plt.plot(range(1, len(smooth_mae_history) + 1), smooth_mae_history)\n",
        "plt.xlabel('Repeticiones')\n",
        "plt.ylabel('MAE de validación')\n",
        "plt.show()"
      ],
      "metadata": {
        "id": "O2b5E7LMGBwT",
        "outputId": "f93e4795-2c8d-47fe-e105-a18a7a36be3f",
        "colab": {
          "base_uri": "https://localhost:8080/",
          "height": 279
        }
      },
      "id": "O2b5E7LMGBwT",
      "execution_count": 106,
      "outputs": [
        {
          "output_type": "display_data",
          "data": {
            "text/plain": [
              "<Figure size 432x288 with 1 Axes>"
            ],
            "image/png": "[encoded data removed]"
          },
          "metadata": {
            "needs_background": "light"
          }
        }
      ]
    },
    {
      "cell_type": "code",
      "source": [
        "# Obtenemos un modelo compilado nuevo\n",
        "model = build_model()\n",
        "# Lo entrenamos en todos los datos.\n",
        "model.fit(train_datos, train_labels,\n",
        "          epochs=80, batch_size=16, verbose=0)\n",
        "test_mse_score, test_mae_score = model.evaluate(test_datos, test_labels )"
      ],
      "metadata": {
        "id": "BHMLgKEXGFgN",
        "outputId": "93b2d249-3db5-4c07-eea3-aec5e401e3c4",
        "colab": {
          "base_uri": "https://localhost:8080/"
        }
      },
      "id": "BHMLgKEXGFgN",
      "execution_count": 109,
      "outputs": [
        {
          "output_type": "stream",
          "name": "stdout",
          "text": [
            "133/133 [==============================] - 0s 1ms/step - loss: 163414458368.0000 - mean_absolute_error: 12651.3848\n"
          ]
        }
      ]
    },
    {
      "cell_type": "code",
      "source": [
        "test_mae_score"
      ],
      "metadata": {
        "id": "0aK6YiEAGHt8",
        "outputId": "3d3018a2-3d1f-4976-ef25-cec4f6d199b0",
        "colab": {
          "base_uri": "https://localhost:8080/"
        }
      },
      "id": "0aK6YiEAGHt8",
      "execution_count": 110,
      "outputs": [
        {
          "output_type": "execute_result",
          "data": {
            "text/plain": [
              "12651.384765625"
            ]
          },
          "metadata": {},
          "execution_count": 110
        }
      ]
    }
  ],
  "metadata": {
    "kernelspec": {
      "display_name": "Python 3 (ipykernel)",
      "language": "python",
      "name": "python3"
    },
    "language_info": {
      "codemirror_mode": {
        "name": "ipython",
        "version": 3
      },
      "file_extension": ".py",
      "mimetype": "text/x-python",
      "name": "python",
      "nbconvert_exporter": "python",
      "pygments_lexer": "ipython3",
      "version": "3.8.8"
    },
    "colab": {
      "provenance": []
    }
  },
  "nbformat": 4,
  "nbformat_minor": 5
}